{
 "cells": [
  {
   "cell_type": "markdown",
   "metadata": {},
   "source": [
    "# Foundations of Python\n",
    "\n",
    "1.   Data Types & Data Structures\n",
    "2.   Basic Operations\n",
    "3.   Functions & Packages"
   ]
  },
  {
   "cell_type": "markdown",
   "metadata": {},
   "source": [
    "## Agenda on Data Types & Data Structures:\n",
    "\n",
    "1.   Check the version of installed Python\n",
    "2.   Know the keywords of Python <br/>    2.1 Do not use keywords as variables, or function names, or module names\n",
    "3.   Data Types <br>\n",
    "  3.1 Numbers <br>\n",
    "  3.2 Strings <br>\n",
    "  3.3 Complex Numbers<br>\n",
    "  3.4 <br>\n",
    "4. Operations <br>\n",
    "  4.1 Arithmetic <br>\n",
    "  4.2 Assignment <br>\n",
    "  4.3 Comparison <br>\n",
    "  4.4 Logical <br>\n",
    "  4.5 Bitwise <br>\n",
    "  4.6 Identity <br>\n",
    "  4.7 Membership <br>\n",
    "5. Data Structures <br>\n",
    "  5.1 Lists <br>\n",
    "  5.2 Tuples <br>\n",
    "  5.3 Dictionaries <br>\n",
    "  5.4 Sets <br>"
   ]
  }
 ],
 "metadata": {
  "interpreter": {
   "hash": "6d46af94c2bbce495f1e668725902fa517c90b1782bcfe2fce0dd9868df553d3"
  },
  "kernelspec": {
   "display_name": "Python 3.8.8 64-bit ('base': conda)",
   "name": "python3"
  },
  "language_info": {
   "name": "python",
   "version": "3.8.8"
  },
  "orig_nbformat": 4
 },
 "nbformat": 4,
 "nbformat_minor": 2
}
