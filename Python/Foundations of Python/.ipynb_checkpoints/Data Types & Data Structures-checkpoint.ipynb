{
 "cells": [
  {
   "cell_type": "markdown",
   "id": "23b18f3f",
   "metadata": {},
   "source": [
    "# Foundations of Python\n",
    "\n",
    "1.   Data Types & Data Structures\n",
    "2.   Basic Operations\n",
    "3.   Functions & Packages"
   ]
  },
  {
   "cell_type": "markdown",
   "id": "91704512",
   "metadata": {},
   "source": [
    "## Agenda on Topic 1 Data Types & Data Structures:\n",
    "\n",
    "1.   Check the version of installed Python\n",
    "2.   Know the keywords of Python <br/>    2.1 Do not use keywords as variables, or function names, or module names\n",
    "3.   Data Types <br>\n",
    "  3.1 Numbers <br>\n",
    "  3.2 Strings <br>\n",
    "  3.3 Complex Numbers<br>\n",
    "  3.4 <br>\n",
    "4. Operations <br>\n",
    "  4.1 Arithmetic <br>\n",
    "  4.2 Assignment <br>\n",
    "  4.3 Comparison <br>\n",
    "  4.4 Logical <br>\n",
    "  4.5 Bitwise <br>\n",
    "  4.6 Identity <br>\n",
    "  4.7 Membership <br>\n",
    "5. Data Structures <br>\n",
    "  5.1 Lists <br>\n",
    "  5.2 Tuples <br>\n",
    "  5.3 Dictionaries <br>\n",
    "  5.4 Sets <br>"
   ]
  },
  {
   "cell_type": "code",
   "execution_count": 2,
   "id": "da2fd547",
   "metadata": {},
   "outputs": [
    {
     "name": "stdout",
     "output_type": "stream",
     "text": [
      "Python 3.8.8\n"
     ]
    }
   ],
   "source": [
    "#Check the python version\n",
    "!python --version"
   ]
  },
  {
   "cell_type": "code",
   "execution_count": 3,
   "id": "1ff91120",
   "metadata": {},
   "outputs": [
    {
     "name": "stdout",
     "output_type": "stream",
     "text": [
      "['False', 'None', 'True', 'and', 'as', 'assert', 'async', 'await', 'break', 'class', 'continue', 'def', 'del', 'elif', 'else', 'except', 'finally', 'for', 'from', 'global', 'if', 'import', 'in', 'is', 'lambda', 'nonlocal', 'not', 'or', 'pass', 'raise', 'return', 'try', 'while', 'with', 'yield']\n"
     ]
    }
   ],
   "source": [
    "# List of keywords are available from the keyword module\n",
    "import keyword\n",
    "print(keyword.kwlist)"
   ]
  },
  {
   "cell_type": "markdown",
   "id": "79582959",
   "metadata": {},
   "source": [
    "### Numbers and Arithmetic\n",
    "  * \"+\" for addition\n",
    "  * \"-\" for substraction\n",
    "  * \"*\" multiplication\n",
    "  * \"/\" division\n",
    "  * \"**\" or pow() for exponentiation\n",
    "  * \"%\" modulus to extract remainder\n",
    "  * \"//\" floor division to extract quotient\n"
   ]
  },
  {
   "cell_type": "code",
   "execution_count": 4,
   "id": "009a67ed",
   "metadata": {},
   "outputs": [
    {
     "data": {
      "text/plain": [
       "10"
      ]
     },
     "execution_count": 4,
     "metadata": {},
     "output_type": "execute_result"
    }
   ],
   "source": [
    "# addition using \"+\"\n",
    "3+7"
   ]
  },
  {
   "cell_type": "code",
   "execution_count": 5,
   "id": "ab925ae3",
   "metadata": {},
   "outputs": [
    {
     "data": {
      "text/plain": [
       "2"
      ]
     },
     "execution_count": 5,
     "metadata": {},
     "output_type": "execute_result"
    }
   ],
   "source": [
    "# subtraction using \"-\"\n",
    "9-7"
   ]
  },
  {
   "cell_type": "code",
   "execution_count": 6,
   "id": "0fb27db3",
   "metadata": {},
   "outputs": [
    {
     "data": {
      "text/plain": [
       "56"
      ]
     },
     "execution_count": 6,
     "metadata": {},
     "output_type": "execute_result"
    }
   ],
   "source": [
    "# multiplication using \"*\"\n",
    "7*8"
   ]
  },
  {
   "cell_type": "code",
   "execution_count": 7,
   "id": "77e6c75f",
   "metadata": {},
   "outputs": [
    {
     "data": {
      "text/plain": [
       "6.0"
      ]
     },
     "execution_count": 7,
     "metadata": {},
     "output_type": "execute_result"
    }
   ],
   "source": [
    "# division using \"/\"\n",
    "18/3"
   ]
  },
  {
   "cell_type": "code",
   "execution_count": 10,
   "id": "64409661",
   "metadata": {},
   "outputs": [
    {
     "data": {
      "text/plain": [
       "4"
      ]
     },
     "execution_count": 10,
     "metadata": {},
     "output_type": "execute_result"
    }
   ],
   "source": [
    "# integer division through double slash\n",
    "# results in quotient\n",
    "9//2"
   ]
  },
  {
   "cell_type": "code",
   "execution_count": 12,
   "id": "4c4369f0",
   "metadata": {},
   "outputs": [
    {
     "data": {
      "text/plain": [
       "6"
      ]
     },
     "execution_count": 12,
     "metadata": {},
     "output_type": "execute_result"
    }
   ],
   "source": [
    "# modulus results in remainder\n",
    "9%2\n",
    "13%7"
   ]
  },
  {
   "cell_type": "markdown",
   "id": "1dcca91c",
   "metadata": {},
   "source": [
    "#### Using multiple arithmetic operators\n",
    "$FV= (PV*(1+r/n)^{nt})$ <br>\n",
    "where: <br>\n",
    "* PV = present value of money (say 1000 rupees)\n",
    "* FV = future value of money (to be calculated)\n",
    "* r = interest rate (say 6.25%)\n",
    "* n = number of compounding periods (semi-anually)\n",
    "* t = number of years (5 years)"
   ]
  },
  {
   "cell_type": "code",
   "execution_count": 8,
   "id": "55723ca0",
   "metadata": {},
   "outputs": [
    {
     "data": {
      "text/plain": [
       "1360.3154027780997"
      ]
     },
     "execution_count": 8,
     "metadata": {},
     "output_type": "execute_result"
    }
   ],
   "source": [
    "# Calculation of future value using ** for exponentiation\n",
    "1000*(1+0.0625/2)**(2*5) "
   ]
  },
  {
   "cell_type": "code",
   "execution_count": 9,
   "id": "46909983",
   "metadata": {},
   "outputs": [
    {
     "data": {
      "text/plain": [
       "1360.3154027780997"
      ]
     },
     "execution_count": 9,
     "metadata": {},
     "output_type": "execute_result"
    }
   ],
   "source": [
    "# Calculation of future value using pow() for exponentiation\n",
    "1000*pow((1+0.0625/2), 2*5)"
   ]
  },
  {
   "cell_type": "code",
   "execution_count": null,
   "id": "4997e36f",
   "metadata": {},
   "outputs": [],
   "source": []
  }
 ],
 "metadata": {
  "kernelspec": {
   "display_name": "Python 3",
   "language": "python",
   "name": "python3"
  },
  "language_info": {
   "codemirror_mode": {
    "name": "ipython",
    "version": 3
   },
   "file_extension": ".py",
   "mimetype": "text/x-python",
   "name": "python",
   "nbconvert_exporter": "python",
   "pygments_lexer": "ipython3",
   "version": "3.8.8"
  }
 },
 "nbformat": 4,
 "nbformat_minor": 5
}
