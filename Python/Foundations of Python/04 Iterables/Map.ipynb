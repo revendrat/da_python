{
 "cells": [
  {
   "cell_type": "markdown",
   "metadata": {},
   "source": [
    "# Map Function in Python\n",
    "* map() combines a function and iterables to apply function on the iterables\n",
    "* map() is in-built in Python, and helps avoid writing loops"
   ]
  },
  {
   "cell_type": "code",
   "execution_count": 3,
   "metadata": {},
   "outputs": [
    {
     "name": "stdout",
     "output_type": "stream",
     "text": [
      "numers :  range(0, 10)\n"
     ]
    },
    {
     "data": {
      "text/plain": [
       "<map at 0x2323b45e940>"
      ]
     },
     "execution_count": 3,
     "metadata": {},
     "output_type": "execute_result"
    }
   ],
   "source": [
    "# Illustration of Map function\n",
    "nums = range(10)\n",
    "print(\"numers : \", nums)\n",
    "\n",
    "# find sum of nums using map()\n",
    "# the map() results in a map object which can be passed to iterable object such as list\n",
    "map(sum, nums)"
   ]
  },
  {
   "cell_type": "code",
   "execution_count": 13,
   "metadata": {},
   "outputs": [
    {
     "data": {
      "text/plain": [
       "[45]"
      ]
     },
     "execution_count": 13,
     "metadata": {},
     "output_type": "execute_result"
    }
   ],
   "source": [
    "# use list() function to access the result of map()\n",
    "sum_nums=map(sum, [nums])\n",
    "list(sum_nums)"
   ]
  },
  {
   "cell_type": "code",
   "execution_count": 14,
   "metadata": {},
   "outputs": [
    {
     "data": {
      "text/plain": [
       "[45]"
      ]
     },
     "execution_count": 14,
     "metadata": {},
     "output_type": "execute_result"
    }
   ],
   "source": [
    "# use list() function to access the result of map()\n",
    "list(map(sum, [nums]))"
   ]
  },
  {
   "cell_type": "code",
   "execution_count": 5,
   "metadata": {},
   "outputs": [
    {
     "data": {
      "text/plain": [
       "[0]"
      ]
     },
     "execution_count": 5,
     "metadata": {},
     "output_type": "execute_result"
    }
   ],
   "source": [
    "# find the minimum value in the list of numbers\n",
    "min_nums=map(min, [nums])\n",
    "list(min_nums)"
   ]
  },
  {
   "cell_type": "code",
   "execution_count": 8,
   "metadata": {},
   "outputs": [
    {
     "data": {
      "text/plain": [
       "[4.5]"
      ]
     },
     "execution_count": 8,
     "metadata": {},
     "output_type": "execute_result"
    }
   ],
   "source": [
    "# calculate mean of numbers\n",
    "import numpy as np\n",
    "y=map(np.mean, [nums])\n",
    "list(y)"
   ]
  },
  {
   "cell_type": "code",
   "execution_count": 11,
   "metadata": {},
   "outputs": [
    {
     "data": {
      "text/plain": [
       "[4.5]"
      ]
     },
     "execution_count": 11,
     "metadata": {},
     "output_type": "execute_result"
    }
   ],
   "source": [
    "# calculate median and standard deviation\n",
    "y=map(np.median, [nums])\n",
    "list(y)"
   ]
  },
  {
   "cell_type": "code",
   "execution_count": 17,
   "metadata": {},
   "outputs": [
    {
     "data": {
      "text/plain": [
       "[5.0, 50.0]"
      ]
     },
     "execution_count": 17,
     "metadata": {},
     "output_type": "execute_result"
    }
   ],
   "source": [
    "# Create two lists: one from 0 to 10 numbers, and another from 0 to 100 numbers\n",
    "\n",
    "# list of 0 to 10 numbers\n",
    "num_list_1 = list(range(11))\n",
    "\n",
    "# list of 0 to 100 numbers\n",
    "num_list_2 = list(range(101))\n",
    "\n",
    "# combine both the lists\n",
    "list_of_list = [num_list_1, num_list_2]\n",
    "\n",
    "# use map() to calculate the mean\n",
    "list(map(np.mean, list_of_list))\n"
   ]
  },
  {
   "cell_type": "code",
   "execution_count": 19,
   "metadata": {},
   "outputs": [
    {
     "data": {
      "text/plain": [
       "[1, 1.4142135623730951, 27, 0.25]"
      ]
     },
     "execution_count": 19,
     "metadata": {},
     "output_type": "execute_result"
    }
   ],
   "source": [
    "# function in map taking two inputs\n",
    "# say you want to create \n",
    "    # square of first number, \n",
    "    # square root of second number, \n",
    "    # cube of a third number\n",
    "    # reciprocal of fourth number\n",
    "\n",
    "# create a list of numbers\n",
    "\n",
    "nums_list = [1,2,3,4]\n",
    "powers_list = [2, 0.5, 3, -1]\n",
    "\n",
    "list(map(pow, nums_list, powers_list))"
   ]
  },
  {
   "cell_type": "code",
   "execution_count": 20,
   "metadata": {},
   "outputs": [
    {
     "data": {
      "text/plain": [
       "['Bits', 'Pilani', 'Rajasthan', 'Jhunjhunu']"
      ]
     },
     "execution_count": 20,
     "metadata": {},
     "output_type": "execute_result"
    }
   ],
   "source": [
    "# Create a list with strings, and capitalise the string \n",
    "str_list = ['bits', 'pilani', 'rajasthan', 'jhunjhunu']\n",
    "\n",
    "# to capitalise the string, that is first letter in the string use str.capitalise()\n",
    "list(map(str.capitalize, str_list))"
   ]
  },
  {
   "cell_type": "code",
   "execution_count": 21,
   "metadata": {},
   "outputs": [
    {
     "data": {
      "text/plain": [
       "['BITS', 'PILANI', 'RAJASTHAN', 'JHUNJHUNU']"
      ]
     },
     "execution_count": 21,
     "metadata": {},
     "output_type": "execute_result"
    }
   ],
   "source": [
    "# Create a list with strings, and make the string in upper cases\n",
    "str_list = ['bits', 'pilani', 'rajasthan', 'jhunjhunu']\n",
    "\n",
    "# to make the string in upper case, use str.upper()\n",
    "list(map(str.upper, str_list))"
   ]
  },
  {
   "cell_type": "code",
   "execution_count": 30,
   "metadata": {},
   "outputs": [
    {
     "name": "stdout",
     "output_type": "stream",
     "text": [
      "Add : [-9, -8, -7, -6, -5]\n",
      "Subtract : [11, 12, 13, 14, 15]\n",
      "Multiply : [10, 20, 30, 40, 50]\n",
      "Divide : [0.1, 0.2, 0.3, 0.4, 0.5]\n"
     ]
    }
   ],
   "source": [
    "# use lambda function within map\n",
    "nums_list= [1,2,3,4,5]\n",
    "constant_list = [10,10,10,10,10]\n",
    "\n",
    "print(\"Add :\", list(map(lambda x, y: x-y, nums_list, constant_list)))\n",
    "print(\"Subtract :\", list(map(lambda x, y: x+y, nums_list, constant_list)))\n",
    "print(\"Multiply :\" , list(map(lambda x, y: x*y, nums_list, constant_list)))\n",
    "print(\"Divide :\", list(map(lambda x, y: x/y, nums_list, constant_list)))"
   ]
  },
  {
   "cell_type": "code",
   "execution_count": 31,
   "metadata": {},
   "outputs": [
    {
     "name": "stdout",
     "output_type": "stream",
     "text": [
      "Add, Subtract, Multiply & Divide : [50, 55, 60, 65, 70]\n"
     ]
    }
   ],
   "source": [
    "# use lambda function within map\n",
    "nums_list= [1,2,3,4,5]\n",
    "constant_list = [10,10,10,10,10]\n",
    "third_list = [1,1,1,1,1]\n",
    "fourth_list = [5,5,5,5,5,]\n",
    "\n",
    "print(\"Add, Subtract, Multiply & Divide :\", list(map(lambda w, x, y, z: ((w+x)-y)*z, nums_list, constant_list, third_list, fourth_list)))"
   ]
  }
 ],
 "metadata": {
  "interpreter": {
   "hash": "6d46af94c2bbce495f1e668725902fa517c90b1782bcfe2fce0dd9868df553d3"
  },
  "kernelspec": {
   "display_name": "Python 3.8.12 64-bit ('base': conda)",
   "language": "python",
   "name": "python3"
  },
  "language_info": {
   "codemirror_mode": {
    "name": "ipython",
    "version": 3
   },
   "file_extension": ".py",
   "mimetype": "text/x-python",
   "name": "python",
   "nbconvert_exporter": "python",
   "pygments_lexer": "ipython3",
   "version": "3.8.12"
  },
  "orig_nbformat": 4
 },
 "nbformat": 4,
 "nbformat_minor": 2
}
