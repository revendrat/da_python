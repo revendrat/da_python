{
 "cells": [
  {
   "cell_type": "markdown",
   "metadata": {},
   "source": [
    "## Iterations\n",
    "1. While loops\n",
    "2. For loops\n",
    "3. Comprehensions <br>\n",
    "    3.1 List Comprehensions <br> \n",
    "    3.2 Dictionary Comprehensions "
   ]
  },
  {
   "cell_type": "markdown",
   "metadata": {},
   "source": [
    "## While Loop\n",
    "* While-loop is otherwise considered as indefinite loop\n",
    "* Repeats a code block as long as a defined logic stands true\n",
    "\n",
    "### While Loop Construction\n",
    "while logical_expression: <br>\n",
    "&nbsp;&nbsp;&nbsp;&nbsp; code block"
   ]
  },
  {
   "cell_type": "code",
   "execution_count": 6,
   "metadata": {},
   "outputs": [
    {
     "name": "stdout",
     "output_type": "stream",
     "text": [
      "10\n",
      "9\n",
      "8\n",
      "7\n",
      "6\n",
      "5\n",
      "4\n",
      "3\n",
      "2\n",
      "1\n"
     ]
    }
   ],
   "source": [
    "# Illustration of while-loop\n",
    "# Given a number, print numbers in descending order (positive numbers only)\n",
    "\n",
    "n = 10 # assign number 10\n",
    "while n > 0:\n",
    "    print(n)\n",
    "    n = n-1\n",
    "\n"
   ]
  },
  {
   "cell_type": "markdown",
   "metadata": {},
   "source": [
    "## For Loops\n",
    "* for-loop is similar to while-loop in Python\n",
    "* The logic to define for-loop differs\n",
    "* the beginning and ending of for-loop is bounded by a given sequence\n",
    "* the code block in for-loop repeats within this sequence\n",
    "* for loop is iterated over every value in a sequence\n",
    "\n",
    "### Construction of for-loop\n",
    "\n",
    "for temporary_loop_variable in given_sequence: <br>\n",
    "&nbsp;&nbsp;&nbsp;&nbsp; code block\n",
    "\n",
    "### Useful functions while writing for-loop\n",
    "* range(start, stop, step)\n",
    "* range function generates a sequence of numbers beginning at *start*, ending at *stop*, and increments by a *step*\n",
    "* to generate values of 1 to 10 with an increment of 1, use range(1,10,1) in for-loop"
   ]
  },
  {
   "cell_type": "code",
   "execution_count": 2,
   "metadata": {},
   "outputs": [
    {
     "name": "stdout",
     "output_type": "stream",
     "text": [
      "0\n",
      "1\n",
      "2\n",
      "3\n",
      "4\n",
      "5\n",
      "6\n",
      "7\n",
      "8\n",
      "9\n",
      "10\n"
     ]
    }
   ],
   "source": [
    "# Illustration of range(start, stop, step) function\n",
    "# to generate values of 1 to 10 with an increment of 1, use range(1,10,1)\n",
    "for i in range(0,10+1,1):\n",
    "    print(i)"
   ]
  },
  {
   "cell_type": "code",
   "execution_count": 3,
   "metadata": {},
   "outputs": [
    {
     "name": "stdout",
     "output_type": "stream",
     "text": [
      "10\n",
      "9\n",
      "8\n",
      "7\n",
      "6\n",
      "5\n",
      "4\n",
      "3\n",
      "2\n",
      "1\n"
     ]
    }
   ],
   "source": [
    "# Illustration of for-loop\n",
    "# Given a number, print numbers in descending order (positive numbers only)\n",
    "\n",
    "n=10 # given number\n",
    "for i in range(0, n):\n",
    "    print(n)\n",
    "    n = n-1"
   ]
  },
  {
   "cell_type": "code",
   "execution_count": 9,
   "metadata": {},
   "outputs": [
    {
     "name": "stdout",
     "output_type": "stream",
     "text": [
      "B\n",
      "I\n",
      "T\n",
      "S\n",
      " \n",
      "P\n",
      "i\n",
      "l\n",
      "a\n",
      "n\n",
      "i\n"
     ]
    }
   ],
   "source": [
    "# Illustration of for-loop\n",
    "# print all characters in the string \"BITS Pilani\"\n",
    "for i in \"BITS Pilani\":\n",
    "    print(i)"
   ]
  },
  {
   "cell_type": "code",
   "execution_count": 10,
   "metadata": {},
   "outputs": [
    {
     "name": "stdout",
     "output_type": "stream",
     "text": [
      "B\n",
      "I\n",
      "T\n",
      "S\n",
      " \n",
      "P\n",
      "i\n",
      "l\n",
      "a\n",
      "n\n",
      "i\n"
     ]
    }
   ],
   "source": [
    "# Illustration of for-loop\n",
    "# print all characters in the string \"BITS Pilani\"\n",
    "# Alternative logic\n",
    "name = \"BITS Pilani CP\"\n",
    "for i in range(len(name)):\n",
    "    print(name[i])"
   ]
  },
  {
   "cell_type": "code",
   "execution_count": 5,
   "metadata": {},
   "outputs": [
    {
     "name": "stdout",
     "output_type": "stream",
     "text": [
      "Sum of values : 55\n",
      "Mean of values : 5.5\n",
      "Mean of values :  5.5\n"
     ]
    }
   ],
   "source": [
    "# Given a list of values, find their sum, and mean \n",
    "\n",
    "values = [1,2,3,4,5,6,7,8,9,10]\n",
    "sum_values = 0\n",
    "for i in values:\n",
    "    #print(values[i-1])   \n",
    "    sum_values = sum_values + values[i-1]\n",
    "\n",
    "print(\"Sum of values : \" + str(sum_values))\n",
    "print(\"Mean of values : \" + str(sum_values/len(values)))\n",
    "print(\"Mean of values : \" , sum_values/len(values))\n",
    "#print(\"Mean of values : \" + sum_values/len(values))"
   ]
  },
  {
   "cell_type": "code",
   "execution_count": 21,
   "metadata": {},
   "outputs": [
    {
     "name": "stdout",
     "output_type": "stream",
     "text": [
      "P1 Group has a batch size of 31 students.\n",
      "P2 Group has a batch size of 30 students.\n"
     ]
    }
   ],
   "source": [
    "## Loop through data dictionary\n",
    "\n",
    "groups = {\"P1 Group\":31, \"P2 Group\":30}\n",
    "\n",
    "for i_key in groups.keys():\n",
    "    print(i_key +\" has a batch size of \" + str(groups[i_key]) + \" students.\")"
   ]
  },
  {
   "cell_type": "markdown",
   "metadata": {},
   "source": [
    "## Comprehensions\n",
    "* Comprehensions are another method to perform iternations in Python\n",
    "* Comprehensions enable to crease sequences from other sequences\n",
    "* Common comprehensions in Python are list, dictionary and set comprehensions \n",
    "\n",
    "### Construction of list comprehensions\n",
    "[output input_sequence conditions]"
   ]
  },
  {
   "cell_type": "code",
   "execution_count": 29,
   "metadata": {},
   "outputs": [
    {
     "name": "stdout",
     "output_type": "stream",
     "text": [
      "[1, 4, 9, 16, 25]\n",
      "[1, 4, 9, 16, 25]\n"
     ]
    }
   ],
   "source": [
    "## List comprehension illustration\n",
    "\n",
    "# Suppose you want to create a list of square of n numbers\n",
    "# Illustration using for-loops\n",
    "\n",
    "n = 5\n",
    "sq_list = []\n",
    "for i in range(1,n+1):\n",
    "    #print(i)\n",
    "    sq_list.append(i**2)\n",
    "print(sq_list)\n",
    "\n",
    "# using list comprehension\n",
    "\n",
    "sq_list_comp = [(i+1)**2 for i in range(n)]\n",
    "print(sq_list_comp)"
   ]
  },
  {
   "cell_type": "code",
   "execution_count": 6,
   "metadata": {},
   "outputs": [
    {
     "data": {
      "text/plain": [
       "{'P1 Group': 41, 'P2 Group': 40, 'P3 Group': 39}"
      ]
     },
     "execution_count": 6,
     "metadata": {},
     "output_type": "execute_result"
    }
   ],
   "source": [
    "## Dictionary Comprehension\n",
    "groups = {\"P1 Group\":31, \"P2 Group\":30, \"P3 Group\": 29}\n",
    "\n",
    "{i_key:x+10 for (i_key, x) in groups.items()}"
   ]
  }
 ],
 "metadata": {
  "interpreter": {
   "hash": "6d46af94c2bbce495f1e668725902fa517c90b1782bcfe2fce0dd9868df553d3"
  },
  "kernelspec": {
   "display_name": "Python 3.8.8 64-bit ('base': conda)",
   "language": "python",
   "name": "python3"
  },
  "language_info": {
   "codemirror_mode": {
    "name": "ipython",
    "version": 3
   },
   "file_extension": ".py",
   "mimetype": "text/x-python",
   "name": "python",
   "nbconvert_exporter": "python",
   "pygments_lexer": "ipython3",
   "version": "3.8.12"
  },
  "orig_nbformat": 4
 },
 "nbformat": 4,
 "nbformat_minor": 2
}
