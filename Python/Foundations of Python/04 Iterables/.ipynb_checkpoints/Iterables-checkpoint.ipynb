{
 "cells": [
  {
   "cell_type": "markdown",
   "metadata": {},
   "source": [
    "## Iterations\n",
    "1. While loops\n",
    "2. For loops\n",
    "3. Comprehensions <br>\n",
    "    3.1 List Comprehensions <br> \n",
    "    3.2 Dictionary Comprehensions "
   ]
  },
  {
   "cell_type": "markdown",
   "metadata": {},
   "source": [
    "## While Loop\n",
    "* While-loop is otherwise considered as indefinite loop\n",
    "* Repeats a code block as long as a defined logic stands true\n",
    "\n",
    "### While Loop Construction\n",
    "while logical_expression: <br>\n",
    "&nbsp;&nbsp;&nbsp;&nbsp; code block"
   ]
  },
  {
   "cell_type": "code",
   "execution_count": 3,
   "metadata": {},
   "outputs": [
    {
     "name": "stdout",
     "output_type": "stream",
     "text": [
      "10\n",
      "Inside While Loop\n",
      "9\n",
      "Inside While Loop\n",
      "8\n",
      "Inside While Loop\n",
      "7\n",
      "Inside While Loop\n",
      "6\n",
      "Inside While Loop\n",
      "5\n",
      "Inside While Loop\n",
      "4\n",
      "Inside While Loop\n",
      "3\n",
      "Inside While Loop\n",
      "2\n",
      "Inside While Loop\n",
      "1\n",
      "Inside While Loop\n",
      "Outside While loop\n"
     ]
    }
   ],
   "source": [
    "# Illustration of while-loop\n",
    "# Given a number, print numbers in descending order (positive numbers only)\n",
    "\n",
    "n = 10 # assign number 10\n",
    "while n > 0:\n",
    "    print(n)\n",
    "    print(\"Inside While Loop\")\n",
    "    n = n-1\n",
    "print(\"Outside While loop\")"
   ]
  },
  {
   "cell_type": "code",
   "execution_count": null,
   "metadata": {},
   "outputs": [],
   "source": [
    "# Do not use this logic as it leads to indefinite loop\n",
    "n = 10\n",
    "#while n < 11:\n",
    "while n > 0:\n",
    "    print(n)\n",
    "    print(\"Inside While Loop\")\n",
    "    n = n-1\n",
    "print(\"Outside While loop\")"
   ]
  },
  {
   "cell_type": "markdown",
   "metadata": {},
   "source": [
    "## For Loops\n",
    "* for-loop is similar to while-loop in Python\n",
    "* The logic to define for-loop differs\n",
    "* the beginning and ending of for-loop is bounded by a given sequence\n",
    "* the code block in for-loop repeats within this sequence\n",
    "* for loop is iterated over every value in a sequence\n",
    "\n",
    "### Construction of for-loop\n",
    "\n",
    "for temporary_loop_variable in given_sequence: <br>\n",
    "&nbsp;&nbsp;&nbsp;&nbsp; code block\n",
    "\n",
    "### Useful functions while writing for-loop\n",
    "* range(start, stop, step)\n",
    "* range function generates a sequence of numbers beginning at *start*, ending at *stop*, and increments by a *step*\n",
    "* to generate values of 1 to 10 with an increment of 1, use range(1,10,1) in for-loop"
   ]
  },
  {
   "cell_type": "code",
   "execution_count": 1,
   "metadata": {},
   "outputs": [
    {
     "data": {
      "text/plain": [
       "range"
      ]
     },
     "execution_count": 1,
     "metadata": {},
     "output_type": "execute_result"
    }
   ],
   "source": [
    "#range(start, stop, step)\n",
    "x=range(1,10,2)\n",
    "1\n",
    "1+2\n",
    "1+2+2\n",
    "1+2+2+2\n",
    "1+2+2+2+2\n",
    "1+2+2+2+2+2 > 10 # stops\n",
    "type(x)"
   ]
  },
  {
   "cell_type": "code",
   "execution_count": 2,
   "metadata": {},
   "outputs": [
    {
     "name": "stdout",
     "output_type": "stream",
     "text": [
      "1\n",
      "3\n",
      "5\n",
      "7\n",
      "9\n"
     ]
    }
   ],
   "source": [
    "for i in x:\n",
    "    print(i)"
   ]
  },
  {
   "cell_type": "code",
   "execution_count": 7,
   "metadata": {},
   "outputs": [
    {
     "name": "stdout",
     "output_type": "stream",
     "text": [
      "1\n",
      "3\n",
      "5\n",
      "7\n",
      "9\n"
     ]
    }
   ],
   "source": [
    "for i in range(1,10,2):\n",
    "    print(i)"
   ]
  },
  {
   "cell_type": "code",
   "execution_count": 8,
   "metadata": {},
   "outputs": [
    {
     "name": "stdout",
     "output_type": "stream",
     "text": [
      "0\n",
      "1\n",
      "2\n",
      "3\n",
      "4\n",
      "5\n",
      "6\n",
      "7\n",
      "8\n",
      "9\n",
      "10\n"
     ]
    }
   ],
   "source": [
    "# Illustration of range(start, stop, step) function\n",
    "# to generate values of 1 to 10 with an increment of 1, use range(1,10,1)\n",
    "for i in range(0,10+1,1):\n",
    "    print(i)"
   ]
  },
  {
   "cell_type": "code",
   "execution_count": 13,
   "metadata": {},
   "outputs": [
    {
     "name": "stdout",
     "output_type": "stream",
     "text": [
      "1\n",
      "2\n",
      "3\n",
      "4\n",
      "5\n",
      "6\n",
      "6\n"
     ]
    }
   ],
   "source": [
    "#range(start, stop, step) function\n",
    "#print(student_var)\n",
    "for student_var in range(1,6+1,1):\n",
    "    print(student_var)\n",
    "    \n",
    "print(student_var)"
   ]
  },
  {
   "cell_type": "code",
   "execution_count": 14,
   "metadata": {},
   "outputs": [
    {
     "name": "stdout",
     "output_type": "stream",
     "text": [
      "10\n",
      "9\n",
      "8\n",
      "7\n",
      "6\n",
      "5\n",
      "4\n",
      "3\n",
      "2\n",
      "1\n"
     ]
    }
   ],
   "source": [
    "# Illustration of for-loop\n",
    "# Given a number, print numbers in descending order (positive numbers only)\n",
    "\n",
    "n=10 # given number\n",
    "for i in range(0, n):\n",
    "    print(n)\n",
    "    n = n-1"
   ]
  },
  {
   "cell_type": "code",
   "execution_count": 15,
   "metadata": {},
   "outputs": [
    {
     "name": "stdout",
     "output_type": "stream",
     "text": [
      "i : 0\n",
      "n : 10\n",
      "i : 1\n",
      "n : 9\n",
      "i : 2\n",
      "n : 8\n",
      "i : 3\n",
      "n : 7\n",
      "i : 4\n",
      "n : 6\n",
      "i : 5\n",
      "n : 5\n",
      "i : 6\n",
      "n : 4\n",
      "i : 7\n",
      "n : 3\n",
      "i : 8\n",
      "n : 2\n",
      "i : 9\n",
      "n : 1\n"
     ]
    }
   ],
   "source": [
    "n=10 # given number\n",
    "for i in range(0, n):\n",
    "    print(\"i :\", i)\n",
    "    print(\"n :\",n)\n",
    "    n = n-1"
   ]
  },
  {
   "cell_type": "code",
   "execution_count": 15,
   "metadata": {},
   "outputs": [
    {
     "name": "stdout",
     "output_type": "stream",
     "text": [
      "N\n",
      "e\n",
      "w\n",
      " \n",
      "Y\n",
      "o\n",
      "r\n",
      "k\n"
     ]
    }
   ],
   "source": [
    "# Illustration of for-loop\n",
    "# print all characters in the string \"New York\"\n",
    "for i in \"New York\":\n",
    "    print(i)"
   ]
  },
  {
   "cell_type": "code",
   "execution_count": 17,
   "metadata": {},
   "outputs": [
    {
     "name": "stdout",
     "output_type": "stream",
     "text": [
      "U\n",
      "S\n",
      "A\n"
     ]
    }
   ],
   "source": [
    "for i in 'USA':\n",
    "    print(i)"
   ]
  },
  {
   "cell_type": "code",
   "execution_count": 19,
   "metadata": {},
   "outputs": [
    {
     "name": "stdout",
     "output_type": "stream",
     "text": [
      "before for loop\n",
      "U\n",
      "S\n",
      "A\n",
      "lenght of x string 3\n",
      "Inside for loop\n",
      "U\n",
      "S\n",
      "A\n"
     ]
    }
   ],
   "source": [
    "x = \"USA\"\n",
    "print(\"before for loop\")\n",
    "print(x[0])\n",
    "print(x[1])\n",
    "print(x[2])\n",
    "\n",
    "print(\"lenght of x string\", len(x))\n",
    "\n",
    "print(\"Inside for loop\")\n",
    "for i in range(len(x)):\n",
    "    print(x[i])"
   ]
  },
  {
   "cell_type": "code",
   "execution_count": 3,
   "metadata": {},
   "outputs": [
    {
     "name": "stdout",
     "output_type": "stream",
     "text": [
      "C\n",
      "e\n",
      "n\n",
      "t\n",
      "r\n",
      "a\n",
      "l\n",
      " \n",
      "P\n",
      "a\n",
      "r\n",
      "k\n",
      " \n",
      "N\n",
      "Y\n"
     ]
    }
   ],
   "source": [
    "# Illustration of for-loop\n",
    "# print all characters in the string \"Central Park NY\"\n",
    "# Alternative logic\n",
    "name = \"Central Park NY\"\n",
    "for i in range(len(name)):\n",
    "    print(name[i])"
   ]
  },
  {
   "cell_type": "code",
   "execution_count": 4,
   "metadata": {},
   "outputs": [
    {
     "name": "stdout",
     "output_type": "stream",
     "text": [
      "9\n",
      "3\n",
      "4\n",
      "5\n",
      "6\n",
      "2\n",
      "8\n",
      "1\n"
     ]
    }
   ],
   "source": [
    "#values = [1,2,3,4,5,6,7,8,9,10]\n",
    "\n",
    "random_values = [9,3,4,5,6,2,8,1]\n",
    "for i in random_values:\n",
    "    #print(random_values[])\n",
    "    print(i)"
   ]
  },
  {
   "cell_type": "code",
   "execution_count": 5,
   "metadata": {
    "scrolled": true
   },
   "outputs": [
    {
     "name": "stdout",
     "output_type": "stream",
     "text": [
      "Sum of values : 55\n",
      "Mean of values : 5.5\n",
      "Mean of values :  5.5\n"
     ]
    }
   ],
   "source": [
    "# Given a list of values, find their sum, and mean \n",
    "values = [1,2,3,4,5,6,7,8,9,10]\n",
    "#values = [4,3,8,9,10,1,5,6,7,2] #checck \n",
    "\n",
    "sum_values = 0\n",
    "for i in values:\n",
    "    #print(values[i-1])   \n",
    "    sum_values = sum_values + values[i-1]\n",
    "    #sum_values         =  0         + values[1-1] = 1\n",
    "    #sum_values         = 1 + values[2-1]   = 3\n",
    "\n",
    "print(\"Sum of values : \" + str(sum_values))\n",
    "print(\"Mean of values : \" + str(sum_values/len(values)))\n",
    "print(\"Mean of values : \" , sum_values/len(values))\n",
    "#print(\"Mean of values : \" + sum_values/len(values))"
   ]
  },
  {
   "cell_type": "code",
   "execution_count": 7,
   "metadata": {},
   "outputs": [
    {
     "data": {
      "text/plain": [
       "dict"
      ]
     },
     "execution_count": 7,
     "metadata": {},
     "output_type": "execute_result"
    }
   ],
   "source": [
    "city_code = {\"NY\": \"New York\", \"NJ\": \"New Jersey\", \"DC\": \"Washington DC\"}\n",
    "type(city_code)"
   ]
  },
  {
   "cell_type": "code",
   "execution_count": 9,
   "metadata": {},
   "outputs": [
    {
     "data": {
      "text/plain": [
       "'New Jersey'"
      ]
     },
     "execution_count": 9,
     "metadata": {},
     "output_type": "execute_result"
    }
   ],
   "source": [
    "city_code[\"NJ\"]"
   ]
  },
  {
   "cell_type": "code",
   "execution_count": 10,
   "metadata": {
    "scrolled": true
   },
   "outputs": [
    {
     "data": {
      "text/plain": [
       "dict_keys(['NY', 'NJ', 'DC'])"
      ]
     },
     "execution_count": 10,
     "metadata": {},
     "output_type": "execute_result"
    }
   ],
   "source": [
    "city_code.keys()"
   ]
  },
  {
   "cell_type": "code",
   "execution_count": 11,
   "metadata": {},
   "outputs": [
    {
     "data": {
      "text/plain": [
       "dict_values(['New York', 'New Jersey', 'Washington DC'])"
      ]
     },
     "execution_count": 11,
     "metadata": {},
     "output_type": "execute_result"
    }
   ],
   "source": [
    "city_code.values()"
   ]
  },
  {
   "cell_type": "code",
   "execution_count": 12,
   "metadata": {},
   "outputs": [
    {
     "data": {
      "text/plain": [
       "dict_items([('NY', 'New York'), ('NJ', 'New Jersey'), ('DC', 'Washington DC')])"
      ]
     },
     "execution_count": 12,
     "metadata": {},
     "output_type": "execute_result"
    }
   ],
   "source": [
    "city_code.items()"
   ]
  },
  {
   "cell_type": "code",
   "execution_count": 14,
   "metadata": {},
   "outputs": [
    {
     "name": "stdout",
     "output_type": "stream",
     "text": [
      "p :  NY  q:  New York\n",
      "p :  NJ  q:  New Jersey\n",
      "p :  DC  q:  Washington DC\n"
     ]
    }
   ],
   "source": [
    "for p, q in city_code.items():\n",
    "    print(\"p : \", p, \" q: \", q)"
   ]
  },
  {
   "cell_type": "code",
   "execution_count": 6,
   "metadata": {},
   "outputs": [
    {
     "name": "stdout",
     "output_type": "stream",
     "text": [
      "keys :  4  values:  3\n",
      "keys :  8  values:  9\n",
      "keys :  10  values:  1\n",
      "keys :  5  values:  6\n",
      "keys :  7  values:  2\n"
     ]
    }
   ],
   "source": [
    "for keys, values in random_values.items():\n",
    "    print(\"keys : \", keys, \" values: \", values)"
   ]
  },
  {
   "cell_type": "code",
   "execution_count": 22,
   "metadata": {},
   "outputs": [
    {
     "name": "stdout",
     "output_type": "stream",
     "text": [
      "Key :  P1 Group\n",
      "P1 Group has a batch size of 31 students.\n",
      "Key :  P2 Group\n",
      "P2 Group has a batch size of 30 students.\n",
      "Key :  P3 Group\n",
      "P3 Group has a batch size of 32 students.\n"
     ]
    }
   ],
   "source": [
    "## Loop through data dictionary\n",
    "\n",
    "groups = {\"P1 Group\":31, \"P2 Group\":30, \"P3 Group\": 32}\n",
    "\n",
    "for i_key in groups.keys():\n",
    "    print(\"Key : \", i_key)\n",
    "    print(i_key +\" has a batch size of \" + str(groups[i_key]) + \" students.\")"
   ]
  },
  {
   "cell_type": "markdown",
   "metadata": {},
   "source": [
    "## Comprehensions\n",
    "* Comprehensions are another method to perform iternations in Python\n",
    "* Comprehensions enable to crease sequences from other sequences\n",
    "* Common comprehensions in Python are list, dictionary and set comprehensions \n",
    "\n",
    "### Construction of list comprehensions\n",
    "[output input_sequence conditions]"
   ]
  },
  {
   "cell_type": "code",
   "execution_count": 27,
   "metadata": {},
   "outputs": [
    {
     "name": "stdout",
     "output_type": "stream",
     "text": [
      "1\n",
      "2\n",
      "3\n",
      "4\n",
      "5\n",
      "[1, 4, 9, 16, 25]\n"
     ]
    }
   ],
   "source": [
    "## List comprehension illustration\n",
    "\n",
    "# Suppose you want to create a list of square of n numbers\n",
    "# Illustration using for-loops\n",
    "\n",
    "n = 5\n",
    "sq_list = []\n",
    "        #range(start, stop, step)\n",
    "for i in range(1,n+1,1):\n",
    "    print(i)\n",
    "    sq_list.append(i**2)\n",
    "    \n",
    "print(sq_list)"
   ]
  },
  {
   "cell_type": "code",
   "execution_count": 32,
   "metadata": {},
   "outputs": [
    {
     "name": "stdout",
     "output_type": "stream",
     "text": [
      "[1, 4, 9, 16, 25]\n"
     ]
    }
   ],
   "source": [
    "# using list comprehension\n",
    "n=5\n",
    "sq_list_comp = [(i)**2 for i in range(1,n+1,1)]\n",
    "print(sq_list_comp)"
   ]
  },
  {
   "cell_type": "code",
   "execution_count": 34,
   "metadata": {},
   "outputs": [
    {
     "data": {
      "text/plain": [
       "dict_items([('P1 Group', 31), ('P2 Group', 30), ('P3 Group', 29)])"
      ]
     },
     "execution_count": 34,
     "metadata": {},
     "output_type": "execute_result"
    }
   ],
   "source": [
    "## Dictionary \n",
    "groups = {\"P1 Group\":31, \"P2 Group\":30, \"P3 Group\": 29}\n",
    "groups.items()"
   ]
  },
  {
   "cell_type": "code",
   "execution_count": 35,
   "metadata": {},
   "outputs": [
    {
     "data": {
      "text/plain": [
       "{'P1 Group': 41, 'P2 Group': 40, 'P3 Group': 39}"
      ]
     },
     "execution_count": 35,
     "metadata": {},
     "output_type": "execute_result"
    }
   ],
   "source": [
    "### Dictionary Comprehension\n",
    "{i_key:i_value+10 for (i_key, i_value) in groups.items()}"
   ]
  },
  {
   "cell_type": "code",
   "execution_count": 36,
   "metadata": {},
   "outputs": [
    {
     "data": {
      "text/plain": [
       "{'P1 GroupA': 41, 'P2 GroupA': 40, 'P3 GroupA': 39}"
      ]
     },
     "execution_count": 36,
     "metadata": {},
     "output_type": "execute_result"
    }
   ],
   "source": [
    "### Dictionary Comprehension\n",
    "{i_key+'A':i_value+10 for (i_key, i_value) in groups.items()}"
   ]
  }
 ],
 "metadata": {
  "interpreter": {
   "hash": "6d46af94c2bbce495f1e668725902fa517c90b1782bcfe2fce0dd9868df553d3"
  },
  "kernelspec": {
   "display_name": "Python 3 (ipykernel)",
   "language": "python",
   "name": "python3"
  },
  "language_info": {
   "codemirror_mode": {
    "name": "ipython",
    "version": 3
   },
   "file_extension": ".py",
   "mimetype": "text/x-python",
   "name": "python",
   "nbconvert_exporter": "python",
   "pygments_lexer": "ipython3",
   "version": "3.10.6"
  }
 },
 "nbformat": 4,
 "nbformat_minor": 2
}
