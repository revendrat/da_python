{
 "cells": [
  {
   "cell_type": "markdown",
   "metadata": {},
   "source": [
    "# Map Function in Python\n",
    "* map() combines a function and iterables to apply function on the iterables\n",
    "* map() is in-built in Python, and helps avoid writing loops"
   ]
  },
  {
   "cell_type": "code",
   "execution_count": 1,
   "metadata": {},
   "outputs": [
    {
     "name": "stdout",
     "output_type": "stream",
     "text": [
      "numbers :  range(0, 5)\n",
      "0\n",
      "1\n",
      "2\n",
      "3\n",
      "4\n"
     ]
    }
   ],
   "source": [
    "# Illustration of Map function\n",
    "nums = range(5)\n",
    "print(\"numbers : \", nums)\n",
    "\n",
    "for i in nums:\n",
    "    print(i)"
   ]
  },
  {
   "cell_type": "code",
   "execution_count": 2,
   "metadata": {
    "scrolled": true
   },
   "outputs": [
    {
     "name": "stdout",
     "output_type": "stream",
     "text": [
      "i  0\n",
      "sum_nums : 0\n",
      "i  1\n",
      "sum_nums : 1\n",
      "i  2\n",
      "sum_nums : 3\n",
      "i  3\n",
      "sum_nums : 6\n",
      "i  4\n",
      "sum_nums : 10\n"
     ]
    }
   ],
   "source": [
    "#print numbers\n",
    "sum_nums = 0\n",
    "for i in nums:\n",
    "    sum_nums = sum_nums + i\n",
    "    print(\"i \" , i)\n",
    "    print(\"sum_nums :\", sum_nums)"
   ]
  },
  {
   "cell_type": "code",
   "execution_count": 7,
   "metadata": {},
   "outputs": [
    {
     "name": "stdout",
     "output_type": "stream",
     "text": [
      "i  3\n",
      "sum_nums : 3\n",
      "i  5\n",
      "sum_nums : 8\n",
      "i  7\n",
      "sum_nums : 15\n",
      "i  9\n",
      "sum_nums : 24\n",
      "i  2\n",
      "sum_nums : 26\n"
     ]
    }
   ],
   "source": [
    "list_nums = [3,5,7,9, 2]\n",
    "#print numbers\n",
    "sum_nums = 0\n",
    "for i in list_nums:\n",
    "    sum_nums = sum_nums + i\n",
    "    print(\"i \" , i)\n",
    "    print(\"sum_nums :\", sum_nums)"
   ]
  },
  {
   "cell_type": "code",
   "execution_count": 3,
   "metadata": {},
   "outputs": [
    {
     "data": {
      "text/plain": [
       "<map at 0x10dcde6b0>"
      ]
     },
     "execution_count": 3,
     "metadata": {},
     "output_type": "execute_result"
    }
   ],
   "source": [
    "# find sum of nums using map()\n",
    "# the map() results in a map object which can be passed to iterable object such as list\n",
    "map(sum, nums)"
   ]
  },
  {
   "cell_type": "code",
   "execution_count": 8,
   "metadata": {},
   "outputs": [
    {
     "data": {
      "text/plain": [
       "<map at 0x10dcde860>"
      ]
     },
     "execution_count": 8,
     "metadata": {},
     "output_type": "execute_result"
    }
   ],
   "source": [
    "# gives map object, not final sum result\n",
    "map(sum, [nums])"
   ]
  },
  {
   "cell_type": "code",
   "execution_count": 9,
   "metadata": {},
   "outputs": [
    {
     "data": {
      "text/plain": [
       "[10]"
      ]
     },
     "execution_count": 9,
     "metadata": {},
     "output_type": "execute_result"
    }
   ],
   "source": [
    "# use list() function to access the result of map()\n",
    "sum_nums=map(sum, [nums])\n",
    "list(sum_nums)"
   ]
  },
  {
   "cell_type": "code",
   "execution_count": 10,
   "metadata": {},
   "outputs": [
    {
     "data": {
      "text/plain": [
       "[10]"
      ]
     },
     "execution_count": 10,
     "metadata": {},
     "output_type": "execute_result"
    }
   ],
   "source": [
    "# use list() function to access the result of map()\n",
    "list(map(sum, [nums]))"
   ]
  },
  {
   "cell_type": "code",
   "execution_count": 5,
   "metadata": {},
   "outputs": [
    {
     "data": {
      "text/plain": [
       "[24]"
      ]
     },
     "execution_count": 5,
     "metadata": {},
     "output_type": "execute_result"
    }
   ],
   "source": [
    "list(map(sum,[list_nums]))"
   ]
  },
  {
   "cell_type": "code",
   "execution_count": 11,
   "metadata": {},
   "outputs": [
    {
     "data": {
      "text/plain": [
       "[0]"
      ]
     },
     "execution_count": 11,
     "metadata": {},
     "output_type": "execute_result"
    }
   ],
   "source": [
    "# find the minimum value in the list of numbers\n",
    "min_nums=map(min, [nums])\n",
    "list(min_nums)"
   ]
  },
  {
   "cell_type": "code",
   "execution_count": 8,
   "metadata": {},
   "outputs": [
    {
     "data": {
      "text/plain": [
       "[2]"
      ]
     },
     "execution_count": 8,
     "metadata": {},
     "output_type": "execute_result"
    }
   ],
   "source": [
    "list(map(min, [list_nums]))"
   ]
  },
  {
   "cell_type": "code",
   "execution_count": 12,
   "metadata": {},
   "outputs": [
    {
     "data": {
      "text/plain": [
       "[2.0]"
      ]
     },
     "execution_count": 12,
     "metadata": {},
     "output_type": "execute_result"
    }
   ],
   "source": [
    "# calculate mean of numbers\n",
    "import numpy as np\n",
    "y=map(np.mean, [nums])\n",
    "list(y)"
   ]
  },
  {
   "cell_type": "code",
   "execution_count": 11,
   "metadata": {},
   "outputs": [
    {
     "data": {
      "text/plain": [
       "[4.5]"
      ]
     },
     "execution_count": 11,
     "metadata": {},
     "output_type": "execute_result"
    }
   ],
   "source": [
    "# calculate median and standard deviation\n",
    "y=map(np.median, [nums])\n",
    "list(y)"
   ]
  },
  {
   "cell_type": "code",
   "execution_count": 13,
   "metadata": {},
   "outputs": [
    {
     "data": {
      "text/plain": [
       "[5.0, 50.0]"
      ]
     },
     "execution_count": 13,
     "metadata": {},
     "output_type": "execute_result"
    }
   ],
   "source": [
    "# Create two lists: one from 0 to 10 numbers, and another from 0 to 100 numbers\n",
    "\n",
    "# list of 0 to 10 numbers\n",
    "num_list_1 = list(range(11))\n",
    "\n",
    "# list of 0 to 100 numbers\n",
    "num_list_2 = list(range(101))\n",
    "\n",
    "# combine both the lists\n",
    "list_of_list = [num_list_1, num_list_2]\n",
    "\n",
    "# use map() to calculate the mean\n",
    "list(map(np.mean, list_of_list))\n"
   ]
  },
  {
   "cell_type": "code",
   "execution_count": 9,
   "metadata": {},
   "outputs": [
    {
     "data": {
      "text/plain": [
       "16"
      ]
     },
     "execution_count": 9,
     "metadata": {},
     "output_type": "execute_result"
    }
   ],
   "source": [
    "4**2"
   ]
  },
  {
   "cell_type": "code",
   "execution_count": 10,
   "metadata": {},
   "outputs": [
    {
     "data": {
      "text/plain": [
       "16"
      ]
     },
     "execution_count": 10,
     "metadata": {},
     "output_type": "execute_result"
    }
   ],
   "source": [
    "pow(4,2)"
   ]
  },
  {
   "cell_type": "code",
   "execution_count": 11,
   "metadata": {},
   "outputs": [
    {
     "name": "stdout",
     "output_type": "stream",
     "text": [
      "16\n",
      "1.4142135623730951\n",
      "27\n",
      "0.25\n"
     ]
    }
   ],
   "source": [
    "print(pow(4,2))\n",
    "print(pow(2,0.5))\n",
    "print(pow(3,3))\n",
    "print(pow(4,-1))"
   ]
  },
  {
   "cell_type": "code",
   "execution_count": 13,
   "metadata": {
    "scrolled": true
   },
   "outputs": [
    {
     "name": "stdout",
     "output_type": "stream",
     "text": [
      "16\n",
      "1.4142135623730951\n",
      "27\n",
      "0.25\n"
     ]
    }
   ],
   "source": [
    "nums_list = [4,2,3,4]\n",
    "powers_list = [2, 0.5, 3, -1]\n",
    "\n",
    "for i,j in zip(nums_list, powers_list):\n",
    "    print(pow(i,j))\n"
   ]
  },
  {
   "cell_type": "code",
   "execution_count": 18,
   "metadata": {},
   "outputs": [
    {
     "name": "stdout",
     "output_type": "stream",
     "text": [
      "<map object at 0x10b27b280>\n"
     ]
    }
   ],
   "source": [
    "pow_obj = map(pow, nums_list, powers_list)\n",
    "print(pow_obj)"
   ]
  },
  {
   "cell_type": "code",
   "execution_count": 17,
   "metadata": {},
   "outputs": [
    {
     "data": {
      "text/plain": [
       "[16, 1.4142135623730951, 27, 0.25]"
      ]
     },
     "execution_count": 17,
     "metadata": {},
     "output_type": "execute_result"
    }
   ],
   "source": [
    "list(pow_obj)"
   ]
  },
  {
   "cell_type": "code",
   "execution_count": 14,
   "metadata": {},
   "outputs": [
    {
     "data": {
      "text/plain": [
       "[1, 1.4142135623730951, 27, 0.25]"
      ]
     },
     "execution_count": 14,
     "metadata": {},
     "output_type": "execute_result"
    }
   ],
   "source": [
    "# function in map taking two inputs\n",
    "# say you want to create \n",
    "    # square of first number, \n",
    "    # square root of second number, \n",
    "    # cube of a third number\n",
    "    # reciprocal of fourth number\n",
    "\n",
    "# create a list of numbers\n",
    "\n",
    "nums_list = [4,2,3,4]\n",
    "powers_list = [2, 0.5, 3, -1]\n",
    "\n",
    "list(map(pow, nums_list, powers_list))"
   ]
  },
  {
   "cell_type": "code",
   "execution_count": 22,
   "metadata": {},
   "outputs": [
    {
     "name": "stdout",
     "output_type": "stream",
     "text": [
      "4 2\n",
      "2 0.5\n",
      "3 3\n",
      "4 -1\n"
     ]
    },
    {
     "data": {
      "text/plain": [
       "[None, None, None, None]"
      ]
     },
     "execution_count": 22,
     "metadata": {},
     "output_type": "execute_result"
    }
   ],
   "source": [
    "list(map(print, nums_list, powers_list))"
   ]
  },
  {
   "cell_type": "code",
   "execution_count": 23,
   "metadata": {},
   "outputs": [
    {
     "data": {
      "text/plain": [
       "[6, 11, 18, 27, 38]"
      ]
     },
     "execution_count": 23,
     "metadata": {},
     "output_type": "execute_result"
    }
   ],
   "source": [
    "#f(x)=2*x+x**2+3\n",
    "x = [1,2,3,4,5]\n",
    "\n",
    "def f_x(x):\n",
    "    return 2*x+pow(x,2)+3\n",
    "\n",
    "list(map(f_x, x))"
   ]
  },
  {
   "cell_type": "code",
   "execution_count": 24,
   "metadata": {},
   "outputs": [
    {
     "name": "stdout",
     "output_type": "stream",
     "text": [
      "Python\n"
     ]
    }
   ],
   "source": [
    "print(str.capitalize(\"python\"))"
   ]
  },
  {
   "cell_type": "code",
   "execution_count": 25,
   "metadata": {
    "tags": []
   },
   "outputs": [
    {
     "data": {
      "text/plain": [
       "['Madison', 'Square', 'Street', 'Newyork']"
      ]
     },
     "execution_count": 25,
     "metadata": {},
     "output_type": "execute_result"
    }
   ],
   "source": [
    "# Create a list with strings, and capitalise the string \n",
    "str_list = ['madison', 'square', 'street', 'newyork']\n",
    "\n",
    "# to capitalise the string, that is first letter in the string use str.capitalise()\n",
    "list(map(str.capitalize, str_list))"
   ]
  },
  {
   "cell_type": "code",
   "execution_count": 26,
   "metadata": {},
   "outputs": [
    {
     "name": "stdout",
     "output_type": "stream",
     "text": [
      "PYTHON\n"
     ]
    }
   ],
   "source": [
    "print(str.upper(\"python\"))"
   ]
  },
  {
   "cell_type": "code",
   "execution_count": 2,
   "metadata": {
    "tags": []
   },
   "outputs": [
    {
     "data": {
      "text/plain": [
       "['MADISON', 'SQUARE', 'STREET', 'NEWYORK']"
      ]
     },
     "execution_count": 2,
     "metadata": {},
     "output_type": "execute_result"
    }
   ],
   "source": [
    "# Create a list with strings, and make the string in upper cases\n",
    "str_list = ['madison', 'square', 'street', 'newyork']\n",
    "\n",
    "# to make the string in upper case, use str.upper()\n",
    "list(map(str.upper, str_list))"
   ]
  },
  {
   "cell_type": "code",
   "execution_count": 16,
   "metadata": {},
   "outputs": [
    {
     "name": "stdout",
     "output_type": "stream",
     "text": [
      "Add : [11, 12, 13, 14, 15]\n",
      "Subtract : [-9, -8, -7, -6, -5]\n",
      "Multiply : [10, 20, 30, 40, 50]\n",
      "Divide : [0.1, 0.2, 0.3, 0.4, 0.5]\n",
      "f(x) = 2x+x**2+3  [6, 11, 18, 27, 38]\n"
     ]
    }
   ],
   "source": [
    "# use lambda function within map\n",
    "nums_list= [1,2,3,4,5]\n",
    "constant_list = [10,10,10,10,10]\n",
    "\n",
    "print(\"Add :\", list(map(lambda x, y: x+y, nums_list, constant_list)))\n",
    "print(\"Subtract :\", list(map(lambda x, y: x-y, nums_list, constant_list)))\n",
    "print(\"Multiply :\" , list(map(lambda x, y: x*y, nums_list, constant_list)))\n",
    "print(\"Divide :\", list(map(lambda x, y: x/y, nums_list, constant_list)))\n",
    "\n",
    "print(\"f(x) = 2x+x**2+3 \", list(map(lambda x_var: 2*x_var+x_var**2+3, x)))"
   ]
  },
  {
   "cell_type": "code",
   "execution_count": 18,
   "metadata": {},
   "outputs": [
    {
     "name": "stdout",
     "output_type": "stream",
     "text": [
      "Add, Subtract, Multiply, & Divide  : [0.0, 0.5, 1.0, 1.5, 2.0]\n"
     ]
    }
   ],
   "source": [
    "# use lambda function within map\n",
    "nums_list= [1,2,3,4,5]\n",
    "constant_list = [2,2,2,2,2]\n",
    "third_list = [3,3,3,3,3]\n",
    "fourth_list = [5,5,5,5,5]\n",
    "fifth_list = [10,10,10,10,10]\n",
    "\n",
    "print(\"Add, Subtract, Multiply, & Divide  :\", list(map(lambda v, w, x, y, z: ((v+w-x)*y)/z, nums_list, constant_list, third_list, fourth_list, fifth_list)))"
   ]
  }
 ],
 "metadata": {
  "interpreter": {
   "hash": "6d46af94c2bbce495f1e668725902fa517c90b1782bcfe2fce0dd9868df553d3"
  },
  "kernelspec": {
   "display_name": "Python 3 (ipykernel)",
   "language": "python",
   "name": "python3"
  },
  "language_info": {
   "codemirror_mode": {
    "name": "ipython",
    "version": 3
   },
   "file_extension": ".py",
   "mimetype": "text/x-python",
   "name": "python",
   "nbconvert_exporter": "python",
   "pygments_lexer": "ipython3",
   "version": "3.10.6"
  }
 },
 "nbformat": 4,
 "nbformat_minor": 4
}
