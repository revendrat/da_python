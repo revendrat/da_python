{
 "cells": [
  {
   "cell_type": "markdown",
   "metadata": {},
   "source": [
    "## enumerate, zip & map in python\n",
    "\n",
    "### Enumerate\n",
    "* Enumerate method adds counting feature to the iterables\n",
    "* Say you have a list or tuple of elements, and you would like to add counter to the list or tuple. In that case `enumerate` method comes handy.\n",
    "* enumerate method takes two arguments: (1) any data structure object supporting iterations, and (2) value at which counting must begin (default is zero)\n",
    "\n",
    "### Zip\n",
    "* zip() method is applicable only for iterable elements\n",
    "* zip() method takes one or more iterable elements and combines them to a zip object\n",
    "* unzipping does the reverse of zipping"
   ]
  },
  {
   "cell_type": "code",
   "execution_count": 1,
   "metadata": {},
   "outputs": [
    {
     "name": "stdout",
     "output_type": "stream",
     "text": [
      " some_numbers_tuple:  (9, 8, 6, 5, 1, 2, 10, 7)\n"
     ]
    }
   ],
   "source": [
    "# enumerate illustration using tuple\n",
    "some_numbers_tuple = (9,8,6,5,1,2,10,7)\n",
    "print(\" some_numbers_tuple: \", some_numbers_tuple)"
   ]
  },
  {
   "cell_type": "code",
   "execution_count": 2,
   "metadata": {},
   "outputs": [
    {
     "name": "stdout",
     "output_type": "stream",
     "text": [
      "sn_tuple_enum_obj :  <enumerate object at 0x10e7a9180>\n"
     ]
    }
   ],
   "source": [
    "sn_tuple_enum_obj = enumerate(some_numbers_tuple)\n",
    "print(\"sn_tuple_enum_obj : \", sn_tuple_enum_obj)"
   ]
  },
  {
   "cell_type": "code",
   "execution_count": 3,
   "metadata": {},
   "outputs": [
    {
     "data": {
      "text/plain": [
       "((0, 9), (1, 8), (2, 6), (3, 5), (4, 1), (5, 2), (6, 10), (7, 7))"
      ]
     },
     "execution_count": 3,
     "metadata": {},
     "output_type": "execute_result"
    }
   ],
   "source": [
    "tuple(sn_tuple_enum_obj)"
   ]
  },
  {
   "cell_type": "code",
   "execution_count": 4,
   "metadata": {},
   "outputs": [
    {
     "data": {
      "text/plain": [
       "((0, 9), (1, 8), (2, 6), (3, 5), (4, 1), (5, 2), (6, 10), (7, 7))"
      ]
     },
     "execution_count": 4,
     "metadata": {},
     "output_type": "execute_result"
    }
   ],
   "source": [
    "tuple(enumerate(some_numbers_tuple))"
   ]
  },
  {
   "cell_type": "code",
   "execution_count": 5,
   "metadata": {},
   "outputs": [
    {
     "data": {
      "text/plain": [
       "((0, 'D'),\n",
       " (1, 'e'),\n",
       " (2, 'e'),\n",
       " (3, 'p'),\n",
       " (4, ' '),\n",
       " (5, 'L'),\n",
       " (6, 'e'),\n",
       " (7, 'a'),\n",
       " (8, 'n'),\n",
       " (9, 'r'),\n",
       " (10, 'i'),\n",
       " (11, 'n'),\n",
       " (12, 'g'),\n",
       " (13, ' '),\n",
       " (14, 'a'),\n",
       " (15, 'n'),\n",
       " (16, 'd'),\n",
       " (17, ' '),\n",
       " (18, 'T'),\n",
       " (19, 'e'),\n",
       " (20, 'n'),\n",
       " (21, 's'),\n",
       " (22, 'o'),\n",
       " (23, 'r'),\n",
       " (24, 'f'),\n",
       " (25, 'l'),\n",
       " (26, 'o'),\n",
       " (27, 'w'))"
      ]
     },
     "execution_count": 5,
     "metadata": {},
     "output_type": "execute_result"
    }
   ],
   "source": [
    "# enumerate works for string object\n",
    "name_str = \"Deep Leanring and Tensorflow\"\n",
    "tuple(enumerate(name_str))"
   ]
  },
  {
   "cell_type": "code",
   "execution_count": 6,
   "metadata": {},
   "outputs": [
    {
     "name": "stdout",
     "output_type": "stream",
     "text": [
      "position_value:  0 element_value:  9\n",
      "position_value:  1 element_value:  8\n",
      "position_value:  2 element_value:  6\n",
      "position_value:  3 element_value:  5\n",
      "position_value:  4 element_value:  1\n",
      "position_value:  5 element_value:  2\n",
      "position_value:  6 element_value:  10\n",
      "position_value:  7 element_value:  7\n"
     ]
    }
   ],
   "source": [
    "for position_value, element_value in enumerate(some_numbers_tuple):\n",
    "    print(\"position_value: \", position_value, \n",
    "          \"element_value: \", element_value)"
   ]
  },
  {
   "cell_type": "code",
   "execution_count": 7,
   "metadata": {},
   "outputs": [
    {
     "name": "stdout",
     "output_type": "stream",
     "text": [
      "position_value:  0 element_value:  9\n",
      "position_value:  1 element_value:  8\n",
      "position_value:  2 element_value:  6\n",
      "position_value:  3 element_value:  5\n",
      "position_value:  4 element_value:  1\n",
      "position_value:  5 element_value:  2\n",
      "position_value:  6 element_value:  10\n",
      "position_value:  7 element_value:  7\n"
     ]
    }
   ],
   "source": [
    "for position_value, element_value in tuple(enumerate(some_numbers_tuple)):\n",
    "    print(\"position_value: \", position_value, \n",
    "          \"element_value: \", element_value)"
   ]
  },
  {
   "cell_type": "code",
   "execution_count": 8,
   "metadata": {},
   "outputs": [
    {
     "name": "stdout",
     "output_type": "stream",
     "text": [
      "sn_list_enum_obj :  <enumerate object at 0x10e837f00>\n"
     ]
    },
    {
     "data": {
      "text/plain": [
       "[(0, 9), (1, 8), (2, 6), (3, 5), (4, 1), (5, 2), (6, 10)]"
      ]
     },
     "execution_count": 8,
     "metadata": {},
     "output_type": "execute_result"
    }
   ],
   "source": [
    "# enumerate illustration using list\n",
    "some_numbers_list = [9,8,6,5,1,2,10]\n",
    "sn_list_enum_obj = enumerate(some_numbers_list)\n",
    "print(\"sn_list_enum_obj : \", sn_list_enum_obj)\n",
    "list(sn_list_enum_obj)"
   ]
  },
  {
   "cell_type": "code",
   "execution_count": 9,
   "metadata": {},
   "outputs": [
    {
     "data": {
      "text/plain": [
       "[(0, 9), (1, 8), (2, 6), (3, 5), (4, 1), (5, 2), (6, 10)]"
      ]
     },
     "execution_count": 9,
     "metadata": {},
     "output_type": "execute_result"
    }
   ],
   "source": [
    "# enumerate illustration using list\n",
    "some_numbers_list = [9,8,6,5,1,2,10]\n",
    "list(enumerate(some_numbers_list))"
   ]
  },
  {
   "cell_type": "code",
   "execution_count": 10,
   "metadata": {},
   "outputs": [
    {
     "data": {
      "text/plain": [
       "[(0, 9), (1, 8), (2, 6), (3, 5), (4, 1), (5, 2), (6, 10), (7, 7)]"
      ]
     },
     "execution_count": 10,
     "metadata": {},
     "output_type": "execute_result"
    }
   ],
   "source": [
    "some_numbers_list.append(7)\n",
    "list(enumerate(some_numbers_list))"
   ]
  },
  {
   "cell_type": "code",
   "execution_count": 11,
   "metadata": {},
   "outputs": [
    {
     "name": "stdout",
     "output_type": "stream",
     "text": [
      "position_value:  0  element_value:  9\n",
      "position_value:  1  element_value:  8\n",
      "position_value:  2  element_value:  6\n",
      "position_value:  3  element_value:  5\n",
      "position_value:  4  element_value:  1\n",
      "position_value:  5  element_value:  2\n",
      "position_value:  6  element_value:  10\n",
      "position_value:  7  element_value:  7\n"
     ]
    }
   ],
   "source": [
    "for position_value, element_value in enumerate(some_numbers_list):\n",
    "    print(\"position_value: \", position_value, \" element_value: \", element_value)"
   ]
  },
  {
   "cell_type": "code",
   "execution_count": 12,
   "metadata": {},
   "outputs": [
    {
     "name": "stdout",
     "output_type": "stream",
     "text": [
      "sn_dict_enum_obj :  <enumerate object at 0x10e8118c0>\n"
     ]
    },
    {
     "data": {
      "text/plain": [
       "{0: 'x', 1: 'y'}"
      ]
     },
     "execution_count": 12,
     "metadata": {},
     "output_type": "execute_result"
    }
   ],
   "source": [
    "some_numbers_dict = { \"x\" : [9,8,7,6,5], \"y\": [1,2,10]}\n",
    "\n",
    "sn_dict_enum_obj = enumerate(some_numbers_dict)\n",
    "\n",
    "print(\"sn_dict_enum_obj : \", sn_dict_enum_obj)\n",
    "dict(sn_dict_enum_obj)"
   ]
  },
  {
   "cell_type": "code",
   "execution_count": 13,
   "metadata": {},
   "outputs": [
    {
     "name": "stdout",
     "output_type": "stream",
     "text": [
      "position_value:  0 element_value:  x\n",
      "position_value:  1 element_value:  y\n"
     ]
    }
   ],
   "source": [
    "for position_value, element_value in enumerate(some_numbers_dict):\n",
    "    print(\"position_value: \", position_value, \n",
    "          \"element_value: \", element_value)"
   ]
  },
  {
   "cell_type": "code",
   "execution_count": 14,
   "metadata": {},
   "outputs": [
    {
     "data": {
      "text/plain": [
       "[9, 8, 7, 6, 5]"
      ]
     },
     "execution_count": 14,
     "metadata": {},
     "output_type": "execute_result"
    }
   ],
   "source": [
    "some_numbers_dict[\"x\"]"
   ]
  },
  {
   "cell_type": "code",
   "execution_count": 15,
   "metadata": {},
   "outputs": [
    {
     "name": "stdout",
     "output_type": "stream",
     "text": [
      "position_details:  0  key_details:  x dict details:  [9, 8, 7, 6, 5]\n",
      "position_details:  1  key_details:  y dict details:  [1, 2, 10]\n"
     ]
    }
   ],
   "source": [
    "for position_details, key_details in enumerate(some_numbers_dict):\n",
    "    print(\"position_details: \", position_details, \n",
    "          \" key_details: \", key_details, \n",
    "          \"dict details: \", some_numbers_dict[key_details] )"
   ]
  },
  {
   "cell_type": "code",
   "execution_count": 16,
   "metadata": {},
   "outputs": [
    {
     "data": {
      "text/plain": [
       "<zip at 0x10e880900>"
      ]
     },
     "execution_count": 16,
     "metadata": {},
     "output_type": "execute_result"
    }
   ],
   "source": [
    "# zip illustration\n",
    "# create list person with column names\n",
    "# create list of values for person, and\n",
    "# zip both the lists\n",
    "\n",
    "car_category = [\"Brand\", \"ID\", \"Model\", \"Year\"]\n",
    "car1 = [\"Kia\", 1, \"Carnival\", 2023]\n",
    "car2 = [\"Honda\", 2, \"HRV\", 2022]\n",
    "# create a zip object\n",
    "cars = zip(car_category, car1, car2)\n",
    "cars"
   ]
  },
  {
   "cell_type": "code",
   "execution_count": 17,
   "metadata": {},
   "outputs": [
    {
     "name": "stdout",
     "output_type": "stream",
     "text": [
      "<class 'tuple'>\n",
      "('Brand', 'Kia', 'Honda')\n",
      "<class 'tuple'>\n",
      "('ID', 1, 2)\n",
      "<class 'tuple'>\n",
      "('Model', 'Carnival', 'HRV')\n",
      "<class 'tuple'>\n",
      "('Year', 2023, 2022)\n"
     ]
    }
   ],
   "source": [
    "for temp_var in cars:\n",
    "    print(type(temp_var))\n",
    "    print(temp_var)"
   ]
  },
  {
   "cell_type": "code",
   "execution_count": 18,
   "metadata": {},
   "outputs": [
    {
     "name": "stdout",
     "output_type": "stream",
     "text": [
      "('Brand', 'Kia', 'Honda')\n",
      "('ID', 1, 2)\n",
      "('Model', 'Carnival', 'HRV')\n",
      "('Year', 2023, 2022)\n"
     ]
    }
   ],
   "source": [
    "car_category = [\"Brand\", \"ID\", \"Model\", \"Year\"]\n",
    "car1 = [\"Kia\", 1, \"Carnival\", 2023]\n",
    "car2 = [\"Honda\", 2, \"HRV\", 2022]\n",
    "\n",
    "cars = zip(car_category, car1, car2)\n",
    "\n",
    "for i in cars:\n",
    "    print(i)"
   ]
  },
  {
   "cell_type": "code",
   "execution_count": 19,
   "metadata": {},
   "outputs": [
    {
     "data": {
      "text/plain": [
       "<zip at 0x10e8ad180>"
      ]
     },
     "execution_count": 19,
     "metadata": {},
     "output_type": "execute_result"
    }
   ],
   "source": [
    "# What if more than two student iterations?\n",
    "person = [\"Name\", \"ID\", \"Degree\", \"Year\"]\n",
    "st1 = [\"Rohit\", 1, \"MBA BA\", \"I Year\"]\n",
    "st2 = [\"Vaibhav\", 60, \"MBA BA\", \"I Year\"]\n",
    "st3 = [\"Rev\", 61, \"MBA BA\", \"II Year\"]\n",
    "\n",
    "# create a zip object\n",
    "students = zip(person, st1, st2, st3)\n",
    "students"
   ]
  },
  {
   "cell_type": "code",
   "execution_count": 20,
   "metadata": {},
   "outputs": [
    {
     "name": "stdout",
     "output_type": "stream",
     "text": [
      "('Name', 'Rohit', 'Vaibhav', 'Rev')\n",
      "('ID', 1, 60, 61)\n",
      "('Degree', 'MBA BA', 'MBA BA', 'MBA BA')\n",
      "('Year', 'I Year', 'I Year', 'II Year')\n"
     ]
    }
   ],
   "source": [
    "for temp_var in students:\n",
    "    print(temp_var)"
   ]
  },
  {
   "cell_type": "code",
   "execution_count": 21,
   "metadata": {},
   "outputs": [
    {
     "name": "stdout",
     "output_type": "stream",
     "text": [
      "('a', 1)\n",
      "('b', 2)\n",
      "('c', 3)\n"
     ]
    }
   ],
   "source": [
    "# What if the iterables in zip are of different length?\n",
    "letters = ['a', 'b', 'c', 'd', 'e']\n",
    "nums = [1,2,3]\n",
    "\n",
    "nl = zip(letters, nums)\n",
    "\n",
    "# check that zip object does not print d & e\n",
    "for temp_var in nl:\n",
    "    print(temp_var)"
   ]
  },
  {
   "cell_type": "code",
   "execution_count": 22,
   "metadata": {},
   "outputs": [
    {
     "name": "stdout",
     "output_type": "stream",
     "text": [
      "('a', 1)\n",
      "('b', 2)\n",
      "('c', 3)\n",
      "('d', None)\n",
      "('e', None)\n"
     ]
    }
   ],
   "source": [
    "# What if the iterables in zip are of different length?\n",
    "# use zip_longest() from itertools\n",
    "\n",
    "from itertools import zip_longest\n",
    "\n",
    "letters = ['a', 'b', 'c', 'd', 'e']\n",
    "nums = [1,2,3]\n",
    "\n",
    "nl = zip_longest(letters, nums)\n",
    "\n",
    "# check that zip object does not print d & e\n",
    "for temp_var in nl:\n",
    "    print(temp_var)"
   ]
  },
  {
   "cell_type": "code",
   "execution_count": 23,
   "metadata": {},
   "outputs": [
    {
     "data": {
      "text/plain": [
       "[(0, 50), (1, 60), (2, 70), (3, 80)]"
      ]
     },
     "execution_count": 23,
     "metadata": {},
     "output_type": "execute_result"
    }
   ],
   "source": [
    "nums = [50,60,70,80]\n",
    "nums_enum_obj = enumerate(nums)\n",
    "list(nums_enum_obj)"
   ]
  },
  {
   "cell_type": "code",
   "execution_count": 24,
   "metadata": {
    "scrolled": true
   },
   "outputs": [
    {
     "name": "stdout",
     "output_type": "stream",
     "text": [
      "(0, 50)\n",
      "(1, 60)\n",
      "(2, 70)\n",
      "(3, 80)\n"
     ]
    }
   ],
   "source": [
    "positions_nums = (0,1,2,3)\n",
    "elements_nums  = (50,60,70,80)\n",
    "zip_pos_ele = zip(positions_nums, elements_nums)\n",
    "\n",
    "for i in zip_pos_ele:\n",
    "    print(i)"
   ]
  },
  {
   "cell_type": "code",
   "execution_count": 25,
   "metadata": {},
   "outputs": [
    {
     "name": "stdout",
     "output_type": "stream",
     "text": [
      "unzipped even : (2, 4, 6, 8, 0)\n",
      "unzipped odd:  (1, 3, 5, 7, 9)\n"
     ]
    }
   ],
   "source": [
    "# Unzipping\n",
    "list_of_tuples = [(1,2), (3,4), (5,6), (7,8), (9,0)]\n",
    "\n",
    "odd, even = zip(*list_of_tuples)\n",
    "\n",
    "print(\"unzipped even :\", even)\n",
    "\n",
    "print(\"unzipped odd: \", odd)"
   ]
  },
  {
   "cell_type": "code",
   "execution_count": 26,
   "metadata": {},
   "outputs": [
    {
     "name": "stdout",
     "output_type": "stream",
     "text": [
      "('Rev', 'Joe', 'Kim')\n",
      "(0, 1, 3)\n"
     ]
    }
   ],
   "source": [
    "student = [(\"Rev\", 0), (\"Joe\", 1), (\"Kim\", 3)]\n",
    "name, position = zip(*student)\n",
    "\n",
    "print(name)\n",
    "print(position)"
   ]
  },
  {
   "cell_type": "code",
   "execution_count": 27,
   "metadata": {},
   "outputs": [
    {
     "name": "stdout",
     "output_type": "stream",
     "text": [
      "positive : 10\n",
      "zero:  0\n",
      "negative:  [-10, -9]\n"
     ]
    }
   ],
   "source": [
    "positive, zero, *negative = 10, 0, -10, -9\n",
    "print(\"positive :\",positive)\n",
    "print(\"zero: \", zero)\n",
    "print(\"negative: \", negative)"
   ]
  },
  {
   "cell_type": "code",
   "execution_count": 28,
   "metadata": {},
   "outputs": [
    {
     "name": "stdout",
     "output_type": "stream",
     "text": [
      "students \n",
      " <zip object at 0x10e8730c0>\n"
     ]
    }
   ],
   "source": [
    "# use enumerate with zip to get index of combined values\n",
    "person = [\"Name\", \"ID\", \"Degree\", \"Year\"]\n",
    "st1 = [\"Rohit\", 1, \"MBA BA\", \"I Year\"]\n",
    "st2 = [\"Vaibhav\", 60, \"MBA BA\", \"I Year\"]\n",
    "# create a zip object\n",
    "students = zip(person, st1, st2)\n",
    "print(\"students \\n\", students)"
   ]
  },
  {
   "cell_type": "code",
   "execution_count": 29,
   "metadata": {},
   "outputs": [
    {
     "name": "stdout",
     "output_type": "stream",
     "text": [
      "('Name', 'Rohit', 'Vaibhav')\n",
      "('ID', 1, 60)\n",
      "('Degree', 'MBA BA', 'MBA BA')\n",
      "('Year', 'I Year', 'I Year')\n"
     ]
    }
   ],
   "source": [
    "for temp_var in students:\n",
    "    print(temp_var)"
   ]
  },
  {
   "cell_type": "code",
   "execution_count": 33,
   "metadata": {},
   "outputs": [],
   "source": [
    "for position, element in enumerate(students):\n",
    "    print(position, \" : \", element)"
   ]
  },
  {
   "cell_type": "code",
   "execution_count": 34,
   "metadata": {},
   "outputs": [
    {
     "name": "stdout",
     "output_type": "stream",
     "text": [
      "students \n",
      " <zip object at 0x10e872200>\n",
      "0  :  ('Name', 'Rohit', 'Vaibhav')\n",
      "1  :  ('ID', 1, 60)\n",
      "2  :  ('Degree', 'MBA BA', 'MBA BA')\n",
      "3  :  ('Year', 'I Year', 'I Year')\n"
     ]
    }
   ],
   "source": [
    "# use enumerate with zip to get index of combined values\n",
    "person = [\"Name\", \"ID\", \"Degree\", \"Year\"]\n",
    "st1 = [\"Rohit\", 1, \"MBA BA\", \"I Year\"]\n",
    "st2 = [\"Vaibhav\", 60, \"MBA BA\", \"I Year\"]\n",
    "# create a zip object\n",
    "students = zip(person, st1, st2)\n",
    "print(\"students \\n\", students)\n",
    "\n",
    "for position, element in enumerate(students):\n",
    "    print(position, \" : \", element)"
   ]
  }
 ],
 "metadata": {
  "interpreter": {
   "hash": "6d46af94c2bbce495f1e668725902fa517c90b1782bcfe2fce0dd9868df553d3"
  },
  "kernelspec": {
   "display_name": "Python 3 (ipykernel)",
   "language": "python",
   "name": "python3"
  },
  "language_info": {
   "codemirror_mode": {
    "name": "ipython",
    "version": 3
   },
   "file_extension": ".py",
   "mimetype": "text/x-python",
   "name": "python",
   "nbconvert_exporter": "python",
   "pygments_lexer": "ipython3",
   "version": "3.10.6"
  }
 },
 "nbformat": 4,
 "nbformat_minor": 4
}
