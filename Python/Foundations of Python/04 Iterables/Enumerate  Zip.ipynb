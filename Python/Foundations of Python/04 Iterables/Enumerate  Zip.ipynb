{
 "cells": [
  {
   "cell_type": "markdown",
   "metadata": {},
   "source": [
    "## enumerate, zip & map in python\n",
    "\n",
    "### Enumerate\n",
    "* Enumerate method adds counting feature to the iterables\n",
    "* Say you have a list or tuple of elements, and you would like to add counter to the list or tuple. In that case `enumerate` method comes handy.\n",
    "* enumerate method takes two arguments: (1) any data structure object supporting iterations, and (2) value at which counting must begin (default is zero)\n",
    "\n",
    "### Zip\n",
    "* zip() method is applicable only for iterable elements\n",
    "* zip() method takes one or more iterable elements and combines them to a zip object\n",
    "* unzipping does the reverse of zipping"
   ]
  },
  {
   "cell_type": "code",
   "execution_count": 9,
   "metadata": {},
   "outputs": [
    {
     "name": "stdout",
     "output_type": "stream",
     "text": [
      "sn_tuple_enum_obj :  <enumerate object at 0x000001F758D86700>\n"
     ]
    },
    {
     "data": {
      "text/plain": [
       "((0, 9), (1, 8), (2, 6), (3, 5), (4, 1), (5, 2), (6, 10))"
      ]
     },
     "execution_count": 9,
     "metadata": {},
     "output_type": "execute_result"
    }
   ],
   "source": [
    "# enumerate illustration using tuple\n",
    "some_numbers_tuple = (9,8,6,5,1,2,10)\n",
    "sn_tuple_enum_obj = enumerate(some_numbers_tuple)\n",
    "print(\"sn_tuple_enum_obj : \", sn_tuple_enum_obj)\n",
    "tuple(sn_tuple_enum_obj)"
   ]
  },
  {
   "cell_type": "code",
   "execution_count": 14,
   "metadata": {},
   "outputs": [
    {
     "name": "stdout",
     "output_type": "stream",
     "text": [
      "count_value:  0 element_value:  9\n",
      "count_value:  1 element_value:  8\n",
      "count_value:  2 element_value:  6\n",
      "count_value:  3 element_value:  5\n",
      "count_value:  4 element_value:  1\n",
      "count_value:  5 element_value:  2\n",
      "count_value:  6 element_value:  10\n"
     ]
    }
   ],
   "source": [
    "for count_value, element_value in enumerate(some_numbers_tuple):\n",
    "    print(\"count_value: \", count_value, \"element_value: \", element_value)"
   ]
  },
  {
   "cell_type": "code",
   "execution_count": 11,
   "metadata": {},
   "outputs": [
    {
     "name": "stdout",
     "output_type": "stream",
     "text": [
      "sn_list_enum_obj :  <enumerate object at 0x000001F758D98F00>\n"
     ]
    },
    {
     "data": {
      "text/plain": [
       "[(0, 9), (1, 8), (2, 6), (3, 5), (4, 1), (5, 2), (6, 10)]"
      ]
     },
     "execution_count": 11,
     "metadata": {},
     "output_type": "execute_result"
    }
   ],
   "source": [
    "# enumerate illustration using list\n",
    "some_numbers_list = [9,8,6,5,1,2,10]\n",
    "sn_list_enum_obj = enumerate(some_numbers_list)\n",
    "print(\"sn_list_enum_obj : \", sn_list_enum_obj)\n",
    "list(sn_list_enum_obj)"
   ]
  },
  {
   "cell_type": "code",
   "execution_count": 13,
   "metadata": {},
   "outputs": [
    {
     "name": "stdout",
     "output_type": "stream",
     "text": [
      "count_value:  0  element_value:  9\n",
      "count_value:  1  element_value:  8\n",
      "count_value:  2  element_value:  6\n",
      "count_value:  3  element_value:  5\n",
      "count_value:  4  element_value:  1\n",
      "count_value:  5  element_value:  2\n",
      "count_value:  6  element_value:  10\n"
     ]
    }
   ],
   "source": [
    "for count_value, element_value in enumerate(some_numbers_list):\n",
    "    print(\"count_value: \", count_value, \" element_value: \", element_value)"
   ]
  },
  {
   "cell_type": "code",
   "execution_count": 15,
   "metadata": {},
   "outputs": [
    {
     "name": "stdout",
     "output_type": "stream",
     "text": [
      "sn_dict_enum_obj :  <enumerate object at 0x000001F758D95200>\n"
     ]
    },
    {
     "data": {
      "text/plain": [
       "{0: 'x', 1: 'y'}"
      ]
     },
     "execution_count": 15,
     "metadata": {},
     "output_type": "execute_result"
    }
   ],
   "source": [
    "some_numbers_dict = { \"x\" : [9,8,7,6,5], \"y\": [1,2,10]}\n",
    "\n",
    "sn_dict_enum_obj = enumerate(some_numbers_dict)\n",
    "\n",
    "print(\"sn_dict_enum_obj : \", sn_dict_enum_obj)\n",
    "dict(sn_dict_enum_obj)"
   ]
  },
  {
   "cell_type": "code",
   "execution_count": 16,
   "metadata": {},
   "outputs": [
    {
     "name": "stdout",
     "output_type": "stream",
     "text": [
      "count_value:  0  element_value:  x\n",
      "count_value:  1  element_value:  y\n"
     ]
    }
   ],
   "source": [
    "for count_value, element_value in enumerate(some_numbers_dict):\n",
    "    print(\"count_value: \", count_value, \" element_value: \", element_value)"
   ]
  },
  {
   "cell_type": "code",
   "execution_count": 1,
   "metadata": {},
   "outputs": [
    {
     "data": {
      "text/plain": [
       "<zip at 0x21799319f40>"
      ]
     },
     "execution_count": 1,
     "metadata": {},
     "output_type": "execute_result"
    }
   ],
   "source": [
    "# zip illustration\n",
    "# create list person with column names\n",
    "# create list of values for person, and\n",
    "# zip both the lists\n",
    "\n",
    "person = [\"Name\", \"ID\", \"Degree\", \"Year\"]\n",
    "st1 = [\"Rohit\", 1, \"MBA BA\", \"I Year\"]\n",
    "\n",
    "# create a zip object\n",
    "students = zip(person, st1)\n",
    "students"
   ]
  },
  {
   "cell_type": "code",
   "execution_count": 3,
   "metadata": {},
   "outputs": [
    {
     "name": "stdout",
     "output_type": "stream",
     "text": [
      "('Name', 'Rohit')\n",
      "('ID', 1)\n",
      "('Degree', 'MBA BA')\n",
      "('Year', 'I Year')\n"
     ]
    }
   ],
   "source": [
    "for temp_var in students:\n",
    "    print(temp_var)"
   ]
  },
  {
   "cell_type": "code",
   "execution_count": 4,
   "metadata": {},
   "outputs": [
    {
     "data": {
      "text/plain": [
       "<zip at 0x217993d5bc0>"
      ]
     },
     "execution_count": 4,
     "metadata": {},
     "output_type": "execute_result"
    }
   ],
   "source": [
    "# What if more than two iterations?\n",
    "person = [\"Name\", \"ID\", \"Degree\", \"Year\"]\n",
    "st1 = [\"Rohit\", 1, \"MBA BA\", \"I Year\"]\n",
    "st2 = [\"Vaibhav\", 60, \"MBA BA\", \"I Year\"]\n",
    "# create a zip object\n",
    "students = zip(person, st1, st2)\n",
    "students"
   ]
  },
  {
   "cell_type": "code",
   "execution_count": 5,
   "metadata": {},
   "outputs": [
    {
     "name": "stdout",
     "output_type": "stream",
     "text": [
      "('Name', 'Rohit', 'Vaibhav')\n",
      "('ID', 1, 60)\n",
      "('Degree', 'MBA BA', 'MBA BA')\n",
      "('Year', 'I Year', 'I Year')\n"
     ]
    }
   ],
   "source": [
    "for temp_var in students:\n",
    "    print(temp_var)"
   ]
  },
  {
   "cell_type": "code",
   "execution_count": 6,
   "metadata": {},
   "outputs": [
    {
     "name": "stdout",
     "output_type": "stream",
     "text": [
      "('a', 1)\n",
      "('b', 2)\n",
      "('c', 3)\n"
     ]
    }
   ],
   "source": [
    "# What if the iterables in zip are of different length?\n",
    "letters = ['a', 'b', 'c', 'd', 'e']\n",
    "nums = [1,2,3]\n",
    "\n",
    "nl = zip(letters, nums)\n",
    "\n",
    "# check that zip object does not print d & e\n",
    "for temp_var in nl:\n",
    "    print(temp_var)"
   ]
  },
  {
   "cell_type": "code",
   "execution_count": 8,
   "metadata": {},
   "outputs": [
    {
     "name": "stdout",
     "output_type": "stream",
     "text": [
      "('a', 1)\n",
      "('b', 2)\n",
      "('c', 3)\n",
      "('d', None)\n",
      "('e', None)\n"
     ]
    }
   ],
   "source": [
    "# What if the iterables in zip are of different length?\n",
    "# use zip_longest() from itertools\n",
    "\n",
    "from itertools import zip_longest\n",
    "\n",
    "letters = ['a', 'b', 'c', 'd', 'e']\n",
    "nums = [1,2,3]\n",
    "\n",
    "nl = zip_longest(letters, nums)\n",
    "\n",
    "# check that zip object does not print d & e\n",
    "for temp_var in nl:\n",
    "    print(temp_var)"
   ]
  },
  {
   "cell_type": "code",
   "execution_count": 10,
   "metadata": {},
   "outputs": [
    {
     "name": "stdout",
     "output_type": "stream",
     "text": [
      "unzipped even : (2, 4, 6, 8, 0)\n",
      "unzipped odd:  (1, 3, 5, 7, 9)\n"
     ]
    }
   ],
   "source": [
    "# Unzipping\n",
    "list_of_typles = [(1,2), (3,4), (5,6), (7,8), (9,0)]\n",
    "\n",
    "odd, even = zip(*list_of_typles)\n",
    "\n",
    "print(\"unzipped even :\", even)\n",
    "\n",
    "print(\"unzipped odd: \", odd)"
   ]
  },
  {
   "cell_type": "code",
   "execution_count": 11,
   "metadata": {},
   "outputs": [
    {
     "name": "stdout",
     "output_type": "stream",
     "text": [
      "students \n",
      " <zip object at 0x000002179932E080>\n",
      "(0, ('Name', 'Rohit', 'Vaibhav'))\n",
      "(1, ('ID', 1, 60))\n",
      "(2, ('Degree', 'MBA BA', 'MBA BA'))\n",
      "(3, ('Year', 'I Year', 'I Year'))\n"
     ]
    }
   ],
   "source": [
    "# use enumerate with zip to get index of combined values\n",
    "person = [\"Name\", \"ID\", \"Degree\", \"Year\"]\n",
    "st1 = [\"Rohit\", 1, \"MBA BA\", \"I Year\"]\n",
    "st2 = [\"Vaibhav\", 60, \"MBA BA\", \"I Year\"]\n",
    "# create a zip object\n",
    "students = zip(person, st1, st2)\n",
    "print(\"students \\n\", students)\n",
    "\n",
    "for temp_var in enumerate(students):\n",
    "    print(temp_var)"
   ]
  }
 ],
 "metadata": {
  "interpreter": {
   "hash": "6d46af94c2bbce495f1e668725902fa517c90b1782bcfe2fce0dd9868df553d3"
  },
  "kernelspec": {
   "display_name": "Python 3.8.12 64-bit ('base': conda)",
   "language": "python",
   "name": "python3"
  },
  "language_info": {
   "codemirror_mode": {
    "name": "ipython",
    "version": 3
   },
   "file_extension": ".py",
   "mimetype": "text/x-python",
   "name": "python",
   "nbconvert_exporter": "python",
   "pygments_lexer": "ipython3",
   "version": "3.8.12"
  },
  "orig_nbformat": 4
 },
 "nbformat": 4,
 "nbformat_minor": 2
}
