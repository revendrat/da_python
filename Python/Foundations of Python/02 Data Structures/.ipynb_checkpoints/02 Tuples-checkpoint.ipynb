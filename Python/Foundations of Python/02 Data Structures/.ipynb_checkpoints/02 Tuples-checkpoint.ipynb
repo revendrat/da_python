{
 "cells": [
  {
   "cell_type": "markdown",
   "metadata": {},
   "source": [
    "## Tuples Data Structures\n",
    "* Tuples are similar to lists in Python\n",
    "* Tuples are immutable, whereas lists are mutable in Python\n",
    "* Tuples are used to create immutable sequences in Python\n",
    "* To create tuples separate elements by comma\n",
    "* To create tuple consisting of grouped elements, use paranthesis\n",
    "* Tuple eases memory management in Python\n",
    "\n",
    "Follow the Illustrations on Tuples to learn more\n"
   ]
  },
  {
   "cell_type": "code",
   "execution_count": 1,
   "metadata": {},
   "outputs": [
    {
     "data": {
      "text/plain": [
       "(0, 1, 2, 3, 4, 5, 6, 7, 8, 9)"
      ]
     },
     "execution_count": 1,
     "metadata": {},
     "output_type": "execute_result"
    }
   ],
   "source": [
    "# Create a tuple of digits is created\n",
    "python_tuple = 0, 1,2,3,4,5,6,7,8,9\n",
    "\n",
    "# Verify if tuple of digits is created\n",
    "python_tuple"
   ]
  },
  {
   "cell_type": "code",
   "execution_count": 2,
   "metadata": {},
   "outputs": [
    {
     "data": {
      "text/plain": [
       "tuple"
      ]
     },
     "execution_count": 2,
     "metadata": {},
     "output_type": "execute_result"
    }
   ],
   "source": [
    "# verify if the created data structure is tuple or not\n",
    "type(python_tuple)"
   ]
  },
  {
   "cell_type": "code",
   "execution_count": 1,
   "metadata": {},
   "outputs": [
    {
     "data": {
      "text/plain": [
       "('APPL', 'MSFT', 'BRK', 'CVS')"
      ]
     },
     "execution_count": 1,
     "metadata": {},
     "output_type": "execute_result"
    }
   ],
   "source": [
    "# Create a immutable group of tuple\n",
    "stocks = ('APPL', 'MSFT', 'BRK', 'CVS') # declare tuple with paranthesis\n",
    "\n",
    "# Verify if it_stocks tuple is created\n",
    "stocks"
   ]
  },
  {
   "cell_type": "code",
   "execution_count": 2,
   "metadata": {},
   "outputs": [
    {
     "data": {
      "text/plain": [
       "tuple"
      ]
     },
     "execution_count": 2,
     "metadata": {},
     "output_type": "execute_result"
    }
   ],
   "source": [
    "type(stocks)"
   ]
  },
  {
   "cell_type": "markdown",
   "metadata": {},
   "source": [
    "### To verify the immutable nature of tuples\n",
    "* Try to add one more value to tuple\n",
    "* Try to update a value in tuple\n",
    "* Try to remove a value in tuple\n"
   ]
  },
  {
   "cell_type": "code",
   "execution_count": 3,
   "metadata": {},
   "outputs": [
    {
     "ename": "AttributeError",
     "evalue": "'tuple' object has no attribute 'append'",
     "output_type": "error",
     "traceback": [
      "\u001b[0;31m---------------------------------------------------------------------------\u001b[0m",
      "\u001b[0;31mAttributeError\u001b[0m                            Traceback (most recent call last)",
      "Cell \u001b[0;32mIn[3], line 4\u001b[0m\n\u001b[1;32m      1\u001b[0m \u001b[38;5;66;03m# Try to add value in tuple\u001b[39;00m\n\u001b[1;32m      2\u001b[0m \u001b[38;5;66;03m# Append/insert 'IBM' to the it_stocks tuple\u001b[39;00m\n\u001b[1;32m      3\u001b[0m \u001b[38;5;66;03m# Expect to throw an error\u001b[39;00m\n\u001b[0;32m----> 4\u001b[0m \u001b[43mstocks\u001b[49m\u001b[38;5;241;43m.\u001b[39;49m\u001b[43mappend\u001b[49m(\u001b[38;5;124m'\u001b[39m\u001b[38;5;124mIBM\u001b[39m\u001b[38;5;124m'\u001b[39m)\n",
      "\u001b[0;31mAttributeError\u001b[0m: 'tuple' object has no attribute 'append'"
     ]
    }
   ],
   "source": [
    "# Try to add value in tuple\n",
    "# Append/insert 'IBM' to the it_stocks tuple\n",
    "# Expect to throw an error\n",
    "stocks.append('IBM')"
   ]
  },
  {
   "cell_type": "code",
   "execution_count": 5,
   "metadata": {},
   "outputs": [
    {
     "ename": "AttributeError",
     "evalue": "'tuple' object has no attribute 'insert'",
     "output_type": "error",
     "traceback": [
      "\u001b[0;31m---------------------------------------------------------------------------\u001b[0m",
      "\u001b[0;31mAttributeError\u001b[0m                            Traceback (most recent call last)",
      "Cell \u001b[0;32mIn[5], line 4\u001b[0m\n\u001b[1;32m      1\u001b[0m \u001b[38;5;66;03m# Try to add value in tuple\u001b[39;00m\n\u001b[1;32m      2\u001b[0m \u001b[38;5;66;03m# Append/insert 'IBM' to the it_stocks tuple\u001b[39;00m\n\u001b[1;32m      3\u001b[0m \u001b[38;5;66;03m# Expect to throw an error\u001b[39;00m\n\u001b[0;32m----> 4\u001b[0m \u001b[43mstocks\u001b[49m\u001b[38;5;241;43m.\u001b[39;49m\u001b[43minsert\u001b[49m(\u001b[38;5;241m4\u001b[39m, \u001b[38;5;124m'\u001b[39m\u001b[38;5;124mIBM\u001b[39m\u001b[38;5;124m'\u001b[39m)\n",
      "\u001b[0;31mAttributeError\u001b[0m: 'tuple' object has no attribute 'insert'"
     ]
    }
   ],
   "source": [
    "# Try to add value in tuple\n",
    "# Append/insert 'IBM' to the it_stocks tuple\n",
    "# Expect to throw an error\n",
    "stocks.insert(4, 'IBM')"
   ]
  },
  {
   "cell_type": "code",
   "execution_count": 6,
   "metadata": {},
   "outputs": [
    {
     "ename": "TypeError",
     "evalue": "'tuple' object does not support item assignment",
     "output_type": "error",
     "traceback": [
      "\u001b[0;31m---------------------------------------------------------------------------\u001b[0m",
      "\u001b[0;31mTypeError\u001b[0m                                 Traceback (most recent call last)",
      "Cell \u001b[0;32mIn[6], line 4\u001b[0m\n\u001b[1;32m      1\u001b[0m \u001b[38;5;66;03m# Try to update value in tuple\u001b[39;00m\n\u001b[1;32m      2\u001b[0m \u001b[38;5;66;03m# change 'APPL' to 'APPLE'\u001b[39;00m\n\u001b[1;32m      3\u001b[0m \u001b[38;5;66;03m# Expect to throw an error\u001b[39;00m\n\u001b[0;32m----> 4\u001b[0m \u001b[43mstocks\u001b[49m\u001b[43m[\u001b[49m\u001b[38;5;241;43m0\u001b[39;49m\u001b[43m]\u001b[49m \u001b[38;5;241m=\u001b[39m \u001b[38;5;124m'\u001b[39m\u001b[38;5;124mAPPLE\u001b[39m\u001b[38;5;124m'\u001b[39m\n",
      "\u001b[0;31mTypeError\u001b[0m: 'tuple' object does not support item assignment"
     ]
    }
   ],
   "source": [
    "# Try to update value in tuple\n",
    "# change 'APPL' to 'APPLE'\n",
    "# Expect to throw an error\n",
    "stocks[0] = 'APPLE'"
   ]
  },
  {
   "cell_type": "code",
   "execution_count": 7,
   "metadata": {
    "scrolled": true
   },
   "outputs": [
    {
     "ename": "AttributeError",
     "evalue": "'tuple' object has no attribute 'remove'",
     "output_type": "error",
     "traceback": [
      "\u001b[0;31m---------------------------------------------------------------------------\u001b[0m",
      "\u001b[0;31mAttributeError\u001b[0m                            Traceback (most recent call last)",
      "Cell \u001b[0;32mIn[7], line 4\u001b[0m\n\u001b[1;32m      1\u001b[0m \u001b[38;5;66;03m# Try to remove value in tuple\u001b[39;00m\n\u001b[1;32m      2\u001b[0m \u001b[38;5;66;03m# Remove 'APPL' in the it_stocks tuple\u001b[39;00m\n\u001b[1;32m      3\u001b[0m \u001b[38;5;66;03m# Expect to throw an error\u001b[39;00m\n\u001b[0;32m----> 4\u001b[0m \u001b[43mstocks\u001b[49m\u001b[38;5;241;43m.\u001b[39;49m\u001b[43mremove\u001b[49m(\u001b[38;5;124m'\u001b[39m\u001b[38;5;124mAPPL\u001b[39m\u001b[38;5;124m'\u001b[39m)\n",
      "\u001b[0;31mAttributeError\u001b[0m: 'tuple' object has no attribute 'remove'"
     ]
    }
   ],
   "source": [
    "# Try to remove value in tuple\n",
    "# Remove 'APPL' in the it_stocks tuple\n",
    "# Expect to throw an error\n",
    "stocks.remove('APPL')"
   ]
  },
  {
   "cell_type": "code",
   "execution_count": 8,
   "metadata": {},
   "outputs": [],
   "source": [
    "a=1\n",
    "b=2\n",
    "c=3"
   ]
  },
  {
   "cell_type": "code",
   "execution_count": 9,
   "metadata": {},
   "outputs": [],
   "source": [
    "x,y,z = 1,2,3"
   ]
  },
  {
   "cell_type": "code",
   "execution_count": 10,
   "metadata": {},
   "outputs": [
    {
     "name": "stdout",
     "output_type": "stream",
     "text": [
      "1\n",
      "2\n",
      "3\n"
     ]
    }
   ],
   "source": [
    "print(x)\n",
    "print(y)\n",
    "print(z)"
   ]
  },
  {
   "cell_type": "markdown",
   "metadata": {},
   "source": [
    "### Tuples Unpacking \n",
    "* Unpack ungrouped tuples\n",
    "* Unpack grouped tuples\n",
    "* Unpacking is also called \"splat\" or \"de-structuring\""
   ]
  },
  {
   "cell_type": "code",
   "execution_count": 11,
   "metadata": {},
   "outputs": [
    {
     "name": "stdout",
     "output_type": "stream",
     "text": [
      "positive_number: 1\n",
      "negative_number: -1\n",
      "zero: 0\n"
     ]
    }
   ],
   "source": [
    "# Declare the tuples unpack\n",
    "positive_number, negative_number, zero = 1,-1,0\n",
    "\n",
    "# Display each of the tuples unpack\n",
    "print(\"positive_number: \" +str(positive_number))\n",
    "print(\"negative_number: \" +str(negative_number))\n",
    "print(\"zero: \" +str(zero))"
   ]
  },
  {
   "cell_type": "code",
   "execution_count": 12,
   "metadata": {},
   "outputs": [
    {
     "data": {
      "text/plain": [
       "int"
      ]
     },
     "execution_count": 12,
     "metadata": {},
     "output_type": "execute_result"
    }
   ],
   "source": [
    "type(positive_number)"
   ]
  },
  {
   "cell_type": "code",
   "execution_count": 13,
   "metadata": {},
   "outputs": [
    {
     "name": "stdout",
     "output_type": "stream",
     "text": [
      "positive_number: 1\n",
      "negative_numbers: [-1, -2, -3, -4, -5, -6, -7]\n",
      "zero: 0\n"
     ]
    }
   ],
   "source": [
    "# Declare unpack tuples in chunks using the * operator\n",
    "positive_number, *negative_numbers, zero = 1, -1,-2,-3,-4, -5, -6,-7, 0\n",
    "\n",
    "# Display each of the tuples unpack\n",
    "print(\"positive_number: \" +str(positive_number))\n",
    "print(\"negative_numbers: \" +str(negative_numbers))\n",
    "print(\"zero: \" +str(zero))"
   ]
  },
  {
   "cell_type": "code",
   "execution_count": 14,
   "metadata": {},
   "outputs": [
    {
     "name": "stdout",
     "output_type": "stream",
     "text": [
      "negative_numbers: [-9, -19, -1, -2, -3, -4, -5]\n",
      "zero: 0\n",
      "positive_number: 1\n"
     ]
    }
   ],
   "source": [
    "# Change the order of the chunks in tuples unpack\n",
    "# Declare unpack tuples in chunks using the * operator\n",
    "*negative_numbers, zero, positive_number = -9, -19, -1,-2,-3,-4, -5, 0, 1\n",
    "\n",
    "# Display each of the tuples unpack\n",
    "print(\"negative_numbers: \" +str(negative_numbers))\n",
    "print(\"zero: \" +str(zero))\n",
    "print(\"positive_number: \" +str(positive_number))"
   ]
  }
 ],
 "metadata": {
  "interpreter": {
   "hash": "6d46af94c2bbce495f1e668725902fa517c90b1782bcfe2fce0dd9868df553d3"
  },
  "kernelspec": {
   "display_name": "Python 3 (ipykernel)",
   "language": "python",
   "name": "python3"
  },
  "language_info": {
   "codemirror_mode": {
    "name": "ipython",
    "version": 3
   },
   "file_extension": ".py",
   "mimetype": "text/x-python",
   "name": "python",
   "nbconvert_exporter": "python",
   "pygments_lexer": "ipython3",
   "version": "3.10.6"
  }
 },
 "nbformat": 4,
 "nbformat_minor": 2
}
