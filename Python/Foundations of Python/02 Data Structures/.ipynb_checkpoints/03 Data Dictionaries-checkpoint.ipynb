{
 "cells": [
  {
   "cell_type": "markdown",
   "metadata": {},
   "source": [
    "## Data Dictionaries\n",
    "* Data dictionaries contain pairs of elements commonly known as key-value pairs\n",
    "* Keys and values are mapped against each other in data dictionaries\n",
    "* Data dictionaries are equivalent to associative arrays or hash tables\n",
    "* Funtions and classe are built around data dictionaries in Python"
   ]
  },
  {
   "cell_type": "code",
   "execution_count": 1,
   "metadata": {},
   "outputs": [
    {
     "data": {
      "text/plain": [
       "{'NY': 'New York', 'NJ': 'New Jeresy', 'LA': 'Los Angeles'}"
      ]
     },
     "execution_count": 1,
     "metadata": {},
     "output_type": "execute_result"
    }
   ],
   "source": [
    "## Illustration of data dictionaries in Python\n",
    "\n",
    "city_codes = {\n",
    "    \"NY\": \"New York\",\n",
    "    \"NJ\": \"New Jeresy\",\n",
    "    \"LA\": \"Los Angeles\"\n",
    "}\n",
    "\n",
    "# Verify if city_codes data dictionary is propery assigned\n",
    "city_codes"
   ]
  },
  {
   "cell_type": "code",
   "execution_count": 2,
   "metadata": {},
   "outputs": [
    {
     "data": {
      "text/plain": [
       "{'NY': 'New York', 'NJ': 'New Jeresy', 'LA': 'Los Angeles'}"
      ]
     },
     "execution_count": 2,
     "metadata": {},
     "output_type": "execute_result"
    }
   ],
   "source": [
    "## Another way of declaring dictionary\n",
    "city_codes_1 = dict(NY= 'New York',\n",
    "                     NJ = 'New Jeresy',\n",
    "                     LA = 'Los Angeles'\n",
    ")\n",
    "\n",
    "# Verify if city_codes_1 data dictionary is propery assigned\n",
    "city_codes_1"
   ]
  },
  {
   "cell_type": "code",
   "execution_count": 3,
   "metadata": {},
   "outputs": [
    {
     "name": "stdout",
     "output_type": "stream",
     "text": [
      "<class 'dict'>\n",
      "<class 'dict'>\n"
     ]
    }
   ],
   "source": [
    "## Check the type of data structure of city_codes and city_codes_1\n",
    "print(type(city_codes))\n",
    "\n",
    "print(type(city_codes_1))"
   ]
  },
  {
   "cell_type": "code",
   "execution_count": 4,
   "metadata": {},
   "outputs": [
    {
     "name": "stdout",
     "output_type": "stream",
     "text": [
      "3\n",
      "3\n"
     ]
    }
   ],
   "source": [
    "# Get the length of data dictionary\n",
    "print(len(city_codes))\n",
    "print(len(city_codes_1))"
   ]
  },
  {
   "cell_type": "code",
   "execution_count": 5,
   "metadata": {},
   "outputs": [
    {
     "name": "stdout",
     "output_type": "stream",
     "text": [
      "New York\n",
      "New York\n"
     ]
    }
   ],
   "source": [
    "# Retrieve values from keys\n",
    "# Retrieve value of city_codes code 'PIL' (Note: Here PIL is key to value of City Pilani)\n",
    "print(city_codes['NY'])\n",
    "print(city_codes_1['NY'])"
   ]
  },
  {
   "cell_type": "code",
   "execution_count": 6,
   "metadata": {},
   "outputs": [
    {
     "data": {
      "text/plain": [
       "{'FINANCIAL': ['BRK', 'JPM', 'BAC', 'WFC'],\n",
       " 'TECHNOLOGY': ['APPL', 'MSFT', 'CSCO', 'INTC'],\n",
       " 'CONSUMER': ['WMT', 'UNVR', 'CL']}"
      ]
     },
     "execution_count": 6,
     "metadata": {},
     "output_type": "execute_result"
    }
   ],
   "source": [
    "## Illustration of mutliple values for same key in data dictionaries\n",
    "stocks = {\n",
    "    \"FINANCIAL\" : [\"BRK\", \"JPM\", \"BAC\", \"WFC\"],\n",
    "    \"TECHNOLOGY\" : [\"APPL\", \"MSFT\", \"CSCO\", \"INTC\"],\n",
    "    \"CONSUMER\" : [\"WMT\", \"UNVR\", \"CL\"] \n",
    "\n",
    "}\n",
    "\n",
    "# Verify if stocks data dictionary is properly assigned\n",
    "stocks"
   ]
  },
  {
   "cell_type": "code",
   "execution_count": 7,
   "metadata": {},
   "outputs": [
    {
     "name": "stdout",
     "output_type": "stream",
     "text": [
      "<class 'dict'>\n",
      "3\n"
     ]
    }
   ],
   "source": [
    "# Verify the type of data structure and length of data structure \"stocks\"\n",
    "\n",
    "print(type(stocks))\n",
    "print(len(stocks))"
   ]
  },
  {
   "cell_type": "code",
   "execution_count": 8,
   "metadata": {},
   "outputs": [
    {
     "data": {
      "text/plain": [
       "['WMT', 'UNVR', 'CL']"
      ]
     },
     "execution_count": 8,
     "metadata": {},
     "output_type": "execute_result"
    }
   ],
   "source": [
    "# Retrieve CONSUMER stocks using key \n",
    "stocks['CONSUMER']"
   ]
  },
  {
   "cell_type": "code",
   "execution_count": 9,
   "metadata": {},
   "outputs": [
    {
     "name": "stdout",
     "output_type": "stream",
     "text": [
      "dict_keys(['NY', 'NJ', 'LA'])\n",
      "dict_keys(['FINANCIAL', 'TECHNOLOGY', 'CONSUMER'])\n"
     ]
    }
   ],
   "source": [
    "# use keys() function to retrieve keys in data dictionary\n",
    "\n",
    "print(city_codes.keys())\n",
    "print(stocks.keys())"
   ]
  },
  {
   "cell_type": "code",
   "execution_count": 10,
   "metadata": {},
   "outputs": [
    {
     "name": "stdout",
     "output_type": "stream",
     "text": [
      "dict_values(['New York', 'New Jeresy', 'Los Angeles'])\n",
      "dict_values([['BRK', 'JPM', 'BAC', 'WFC'], ['APPL', 'MSFT', 'CSCO', 'INTC'], ['WMT', 'UNVR', 'CL']])\n"
     ]
    }
   ],
   "source": [
    "# use values() function to retrieve values in data dictionary\n",
    "print(city_codes.values())\n",
    "print(stocks.values())"
   ]
  },
  {
   "cell_type": "code",
   "execution_count": 12,
   "metadata": {},
   "outputs": [
    {
     "data": {
      "text/plain": [
       "{'FINANCIAL': ['BRK', 'JPM', 'BAC', 'WFC', 'GS'],\n",
       " 'TECHNOLOGY': ['APPL', 'MSFT', 'CSCO', 'INTC'],\n",
       " 'CONSUMER': ['WMT', 'UNVR', 'CL']}"
      ]
     },
     "execution_count": 12,
     "metadata": {},
     "output_type": "execute_result"
    }
   ],
   "source": [
    "# update data dictionary using updates() function\n",
    "# Add GOLDMAN SACHS in stocks\n",
    "stocks.update({\"FINANCIAL\" : [\"BRK\", \"JPM\", \"BAC\", \"WFC\", \"GS\"]})\n",
    "\n",
    "# Verify if stocks data dictionary is properly updated\n",
    "stocks"
   ]
  },
  {
   "cell_type": "markdown",
   "metadata": {},
   "source": [
    "### Remove items from data dictionaries using\n",
    "* pop() function to remove items with specified key names\n",
    "* popitem() function to remove the last inserted item\n",
    "* del keyword : similar to pop() function\n",
    "\n",
    "Illustrations provided below"
   ]
  },
  {
   "cell_type": "code",
   "execution_count": 13,
   "metadata": {},
   "outputs": [
    {
     "name": "stdout",
     "output_type": "stream",
     "text": [
      "{'NY': 'New York', 'NJ': 'New Jeresy', 'LA': 'Los Angeles'}\n",
      "Los Angeles\n",
      "{'NY': 'New York', 'NJ': 'New Jeresy'}\n"
     ]
    }
   ],
   "source": [
    "# pop() function to remove items with specified key names\n",
    "\n",
    "#check city_codes before using pop() function\n",
    "print(city_codes)\n",
    "\n",
    "# use pop() function\n",
    "print(city_codes.pop('LA'))\n",
    "\n",
    "#check city_codes after using pop() function\n",
    "print(city_codes)\n"
   ]
  },
  {
   "cell_type": "code",
   "execution_count": 14,
   "metadata": {},
   "outputs": [
    {
     "name": "stdout",
     "output_type": "stream",
     "text": [
      "{'NY': 'New York', 'NJ': 'New Jeresy'}\n"
     ]
    }
   ],
   "source": [
    "print(city_codes)"
   ]
  },
  {
   "cell_type": "code",
   "execution_count": 15,
   "metadata": {},
   "outputs": [
    {
     "name": "stdout",
     "output_type": "stream",
     "text": [
      "{'NY': 'New York', 'NJ': 'New Jeresy'}\n",
      "('NJ', 'New Jeresy')\n",
      "{'NY': 'New York'}\n"
     ]
    }
   ],
   "source": [
    "# use popitem() function to remove the last inserted item\n",
    "# check city_codes before using popitem() function\n",
    "print(city_codes)\n",
    "\n",
    "# use pop() function\n",
    "print(city_codes.popitem())\n",
    "\n",
    "# check city_codes after using popitem() function\n",
    "print(city_codes)"
   ]
  },
  {
   "cell_type": "code",
   "execution_count": 16,
   "metadata": {},
   "outputs": [
    {
     "name": "stdout",
     "output_type": "stream",
     "text": [
      "{'FINANCIAL': ['BRK', 'JPM', 'BAC', 'WFC', 'GS'], 'TECHNOLOGY': ['APPL', 'MSFT', 'CSCO', 'INTC'], 'CONSUMER': ['WMT', 'UNVR', 'CL']}\n",
      "{'TECHNOLOGY': ['APPL', 'MSFT', 'CSCO', 'INTC'], 'CONSUMER': ['WMT', 'UNVR', 'CL']}\n"
     ]
    }
   ],
   "source": [
    "# Use del keyword to delete item based on key: similar to pop() function\n",
    "\n",
    "# check stocks before using del keyword\n",
    "print(stocks)\n",
    "\n",
    "# use del key work=d\n",
    "del stocks[\"FINANCIAL\"]\n",
    "\n",
    "# check stocks after using del keyword\n",
    "print(stocks)\n"
   ]
  }
 ],
 "metadata": {
  "interpreter": {
   "hash": "6d46af94c2bbce495f1e668725902fa517c90b1782bcfe2fce0dd9868df553d3"
  },
  "kernelspec": {
   "display_name": "Python 3 (ipykernel)",
   "language": "python",
   "name": "python3"
  },
  "language_info": {
   "codemirror_mode": {
    "name": "ipython",
    "version": 3
   },
   "file_extension": ".py",
   "mimetype": "text/x-python",
   "name": "python",
   "nbconvert_exporter": "python",
   "pygments_lexer": "ipython3",
   "version": "3.10.6"
  }
 },
 "nbformat": 4,
 "nbformat_minor": 2
}
