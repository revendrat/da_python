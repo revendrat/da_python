{
 "cells": [
  {
   "cell_type": "markdown",
   "metadata": {},
   "source": [
    "## Data Dictionaries\n",
    "* Data dictionaries contain pairs of elements commonly known as key-value pairs\n",
    "* Keys and values are mapped against each other in data dictionaries\n",
    "* Data dictionaries are equivalent to associative arrays or hash tables\n",
    "* Funtions and classe are built around data dictionaries in Python"
   ]
  },
  {
   "cell_type": "code",
   "execution_count": 40,
   "metadata": {},
   "outputs": [
    {
     "data": {
      "text/plain": [
       "{'PIL': 'Pilani', 'HYD': 'Hyderabad', 'PAN': 'Panaji'}"
      ]
     },
     "execution_count": 40,
     "metadata": {},
     "output_type": "execute_result"
    }
   ],
   "source": [
    "## Illustration of data dictionaries in Python\n",
    "\n",
    "city_codes = {\n",
    "    \"PIL\": \"Pilani\",\n",
    "    \"HYD\": \"Hyderabad\",\n",
    "    \"PAN\": \"Panaji\"\n",
    "}\n",
    "\n",
    "# Verify if city_codes data dictionary is propery assigned\n",
    "city_codes"
   ]
  },
  {
   "cell_type": "code",
   "execution_count": 9,
   "metadata": {},
   "outputs": [
    {
     "data": {
      "text/plain": [
       "{'PIL': 'Pilani', 'HYD': 'Hyderabad', 'PAN': 'Panaji'}"
      ]
     },
     "execution_count": 9,
     "metadata": {},
     "output_type": "execute_result"
    }
   ],
   "source": [
    "## Another way of declaring dictionary\n",
    "city_codes_1 = dict(PIL= 'Pilani',\n",
    "                     HYD = 'Hyderabad',\n",
    "                     PAN = 'Panaji'\n",
    ")\n",
    "\n",
    "# Verify if city_codes_1 data dictionary is propery assigned\n",
    "city_codes_1"
   ]
  },
  {
   "cell_type": "code",
   "execution_count": 10,
   "metadata": {},
   "outputs": [
    {
     "name": "stdout",
     "output_type": "stream",
     "text": [
      "<class 'dict'>\n",
      "<class 'dict'>\n"
     ]
    }
   ],
   "source": [
    "## Check the type of data structure of city_codes and city_codes_1\n",
    "print(type(city_codes))\n",
    "\n",
    "print(type(city_codes_1))"
   ]
  },
  {
   "cell_type": "code",
   "execution_count": 11,
   "metadata": {},
   "outputs": [
    {
     "name": "stdout",
     "output_type": "stream",
     "text": [
      "3\n",
      "3\n"
     ]
    }
   ],
   "source": [
    "# Get the length of data dictionary\n",
    "print(len(city_codes))\n",
    "print(len(city_codes_1))"
   ]
  },
  {
   "cell_type": "code",
   "execution_count": 12,
   "metadata": {},
   "outputs": [
    {
     "name": "stdout",
     "output_type": "stream",
     "text": [
      "Pilani\n",
      "Pilani\n"
     ]
    }
   ],
   "source": [
    "# Retrieve values from keys\n",
    "# Retrieve value of city_codes code 'PIL' (Note: Here PIL is key to value of City Pilani)\n",
    "print(city_codes['PIL'])\n",
    "print(city_codes_1['PIL'])"
   ]
  },
  {
   "cell_type": "code",
   "execution_count": 13,
   "metadata": {},
   "outputs": [
    {
     "data": {
      "text/plain": [
       "{'IT': ['HCL', 'INFY', 'TCS', 'WIPRO'],\n",
       " 'BANKING': ['AXIS', 'HDFC', 'INDUS IND', 'KOTAK'],\n",
       " 'CEMENT': ['SHREE CHEM', 'ULTRATECH', 'DALMIA']}"
      ]
     },
     "execution_count": 13,
     "metadata": {},
     "output_type": "execute_result"
    }
   ],
   "source": [
    "## Illustration of mutliple values for same key in data dictionaries\n",
    "stocks = {\n",
    "    \"IT\" : [\"HCL\", \"INFY\", \"TCS\", \"WIPRO\"],\n",
    "    \"BANKING\" : [\"AXIS\", \"HDFC\", \"INDUS IND\", \"KOTAK\"],\n",
    "    \"CEMENT\" : [\"SHREE CHEM\", \"ULTRATECH\", \"DALMIA\"] \n",
    "\n",
    "}\n",
    "\n",
    "# Verify if stocks data dictionary is properly assigned\n",
    "stocks"
   ]
  },
  {
   "cell_type": "code",
   "execution_count": 14,
   "metadata": {},
   "outputs": [
    {
     "name": "stdout",
     "output_type": "stream",
     "text": [
      "<class 'dict'>\n",
      "3\n"
     ]
    }
   ],
   "source": [
    "# Verify the type of data structure and length of data structure \"stocks\"\n",
    "\n",
    "print(type(stocks))\n",
    "print(len(stocks))"
   ]
  },
  {
   "cell_type": "code",
   "execution_count": 17,
   "metadata": {},
   "outputs": [
    {
     "data": {
      "text/plain": [
       "['SHREE CHEM', 'ULTRATECH', 'DALMIA']"
      ]
     },
     "execution_count": 17,
     "metadata": {},
     "output_type": "execute_result"
    }
   ],
   "source": [
    "# Retrieve CEMENT stocks using key \n",
    "stocks['CEMENT']"
   ]
  },
  {
   "cell_type": "code",
   "execution_count": 18,
   "metadata": {},
   "outputs": [
    {
     "name": "stdout",
     "output_type": "stream",
     "text": [
      "dict_keys(['PIL', 'HYD', 'PAN'])\n",
      "dict_keys(['IT', 'BANKING', 'CEMENT'])\n"
     ]
    }
   ],
   "source": [
    "# use keys() function to retrieve keys in data dictionary\n",
    "\n",
    "print(city_codes.keys())\n",
    "print(stocks.keys())"
   ]
  },
  {
   "cell_type": "code",
   "execution_count": 19,
   "metadata": {},
   "outputs": [
    {
     "name": "stdout",
     "output_type": "stream",
     "text": [
      "dict_values(['Pilani', 'Hyderabad', 'Panaji'])\n",
      "dict_values([['HCL', 'INFY', 'TCS', 'WIPRO'], ['AXIS', 'HDFC', 'INDUS IND', 'KOTAK'], ['SHREE CHEM', 'ULTRATECH', 'DALMIA']])\n"
     ]
    }
   ],
   "source": [
    "# use values() function to retrieve values in data dictionary\n",
    "print(city_codes.values())\n",
    "print(stocks.values())"
   ]
  },
  {
   "cell_type": "code",
   "execution_count": 37,
   "metadata": {},
   "outputs": [
    {
     "data": {
      "text/plain": [
       "{'IT': ['HCL', 'INFY', 'TCS', 'WIPRO'],\n",
       " 'BANKING': ['AXIS', 'HDFC', 'INDUS IND', 'KOTAK', 'BANK OF BARODA'],\n",
       " 'CEMENT': ['SHREE CHEM', 'ULTRATECH', 'DALMIA']}"
      ]
     },
     "execution_count": 37,
     "metadata": {},
     "output_type": "execute_result"
    }
   ],
   "source": [
    "# update data dictionary using updates() function\n",
    "# Add Bank of Baroda in stocks\n",
    "stocks.update({\"BANKING\" : [\"AXIS\", \"HDFC\", \"INDUS IND\", \"KOTAK\", \"BANK OF BARODA\"]})\n",
    "\n",
    "# Verify if stocks data dictionary is properly updated\n",
    "stocks"
   ]
  },
  {
   "cell_type": "markdown",
   "metadata": {},
   "source": [
    "### Remove items from data dictionaries using\n",
    "* pop() function to remove items with specified key names\n",
    "* popitem() function to remove the last inserted item\n",
    "* del keyword : similar to pop() function\n",
    "\n",
    "Illustrations provided below"
   ]
  },
  {
   "cell_type": "code",
   "execution_count": 41,
   "metadata": {},
   "outputs": [
    {
     "name": "stdout",
     "output_type": "stream",
     "text": [
      "{'PIL': 'Pilani', 'HYD': 'Hyderabad', 'PAN': 'Panaji'}\n",
      "Pilani\n",
      "{'HYD': 'Hyderabad', 'PAN': 'Panaji'}\n"
     ]
    }
   ],
   "source": [
    "# pop() function to remove items with specified key names\n",
    "\n",
    "#check city_codes before using pop() function\n",
    "print(city_codes)\n",
    "\n",
    "# use pop() function\n",
    "print(city_codes.pop('PIL'))\n",
    "\n",
    "#check city_codes after using pop() function\n",
    "print(city_codes)\n"
   ]
  },
  {
   "cell_type": "code",
   "execution_count": 39,
   "metadata": {},
   "outputs": [
    {
     "name": "stdout",
     "output_type": "stream",
     "text": [
      "{'HYD': 'Hyderabad', 'PAN': 'Panaji'}\n"
     ]
    }
   ],
   "source": [
    "print(city_codes)"
   ]
  },
  {
   "cell_type": "code",
   "execution_count": 43,
   "metadata": {},
   "outputs": [
    {
     "name": "stdout",
     "output_type": "stream",
     "text": [
      "{'HYD': 'Hyderabad', 'PAN': 'Panaji'}\n",
      "('PAN', 'Panaji')\n",
      "{'HYD': 'Hyderabad'}\n"
     ]
    }
   ],
   "source": [
    "# use popitem() function to remove the last inserted item\n",
    "# check city_codes before using popitem() function\n",
    "print(city_codes)\n",
    "\n",
    "# use pop() function\n",
    "print(city_codes.popitem())\n",
    "\n",
    "# check city_codes after using popitem() function\n",
    "print(city_codes)"
   ]
  },
  {
   "cell_type": "code",
   "execution_count": 45,
   "metadata": {},
   "outputs": [
    {
     "name": "stdout",
     "output_type": "stream",
     "text": [
      "{'IT': ['HCL', 'INFY', 'TCS', 'WIPRO'], 'BANKING': ['AXIS', 'HDFC', 'INDUS IND', 'KOTAK', 'BANK OF BARODA'], 'CEMENT': ['SHREE CHEM', 'ULTRATECH', 'DALMIA']}\n",
      "{'IT': ['HCL', 'INFY', 'TCS', 'WIPRO'], 'CEMENT': ['SHREE CHEM', 'ULTRATECH', 'DALMIA']}\n"
     ]
    }
   ],
   "source": [
    "# Use del keyword to delete item based on key: similar to pop() function\n",
    "\n",
    "# check stocks before using del keyword\n",
    "print(stocks)\n",
    "\n",
    "# use del key work=d\n",
    "del stocks[\"BANKING\"]\n",
    "\n",
    "# check stocks after using del keyword\n",
    "print(stocks)\n"
   ]
  }
 ],
 "metadata": {
  "interpreter": {
   "hash": "6d46af94c2bbce495f1e668725902fa517c90b1782bcfe2fce0dd9868df553d3"
  },
  "kernelspec": {
   "display_name": "Python 3.8.8 64-bit ('base': conda)",
   "name": "python3"
  },
  "language_info": {
   "codemirror_mode": {
    "name": "ipython",
    "version": 3
   },
   "file_extension": ".py",
   "mimetype": "text/x-python",
   "name": "python",
   "nbconvert_exporter": "python",
   "pygments_lexer": "ipython3",
   "version": "3.8.8"
  },
  "orig_nbformat": 4
 },
 "nbformat": 4,
 "nbformat_minor": 2
}
