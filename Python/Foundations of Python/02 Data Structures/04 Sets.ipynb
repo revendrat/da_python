{
 "cells": [
  {
   "cell_type": "markdown",
   "metadata": {},
   "source": [
    "## In Python, mathematical set operations are provided using set() data structures"
   ]
  },
  {
   "cell_type": "code",
   "execution_count": 19,
   "metadata": {},
   "outputs": [],
   "source": [
    "# Declare digits, even digits and odd digits using set() function mentioned below\n",
    "set_D = set([1, 2, 3, 4,  5, 6, 7, 8, 9, 0])\n",
    "set_E = set([2, 4, 6, 8, 0])\n",
    "set_O = set([1, 3, 5, 7, 9])"
   ]
  },
  {
   "cell_type": "code",
   "execution_count": 16,
   "metadata": {},
   "outputs": [
    {
     "data": {
      "text/plain": [
       "{0, 1, 2, 3, 4, 5, 6, 7, 8, 9}"
      ]
     },
     "execution_count": 16,
     "metadata": {},
     "output_type": "execute_result"
    }
   ],
   "source": [
    "# Union operation or join two sets\n",
    "# use union() function as mentioned below to perform union operations in sets\n",
    "# Create a union of odd and even numbers\n",
    "set_E.union(set_O)"
   ]
  },
  {
   "cell_type": "code",
   "execution_count": 20,
   "metadata": {},
   "outputs": [
    {
     "data": {
      "text/plain": [
       "{1, 3, 5, 7, 9}"
      ]
     },
     "execution_count": 20,
     "metadata": {},
     "output_type": "execute_result"
    }
   ],
   "source": [
    "# Intersection operation or preserving duplicates\n",
    "# use intersectio() funtion for intersection operation\n",
    "# Extract odd numbers from odd set and digits set\n",
    "set_O.intersection(set_D)"
   ]
  },
  {
   "cell_type": "code",
   "execution_count": 21,
   "metadata": {},
   "outputs": [
    {
     "data": {
      "text/plain": [
       "{0, 2, 4, 6, 8}"
      ]
     },
     "execution_count": 21,
     "metadata": {},
     "output_type": "execute_result"
    }
   ],
   "source": [
    "# Intersection and compliment\n",
    "# Use symmetric_difference() function to get compliment of intesection of two sets\n",
    "# Extract even digits from intesection with all digits without using even numbers\n",
    "\n",
    "set_O.symmetric_difference(set_D)"
   ]
  },
  {
   "cell_type": "code",
   "execution_count": 27,
   "metadata": {},
   "outputs": [
    {
     "name": "stdout",
     "output_type": "stream",
     "text": [
      "True\n",
      "True\n"
     ]
    }
   ],
   "source": [
    "# Verify if subset using issubset() function\n",
    "print(set_O.issubset(set_D))\n",
    "print(set_E.issubset(set_D))"
   ]
  },
  {
   "cell_type": "code",
   "execution_count": 28,
   "metadata": {},
   "outputs": [
    {
     "name": "stdout",
     "output_type": "stream",
     "text": [
      "True\n",
      "True\n"
     ]
    }
   ],
   "source": [
    "# Verify if superset using issuperset() function\n",
    "print(set_D.issuperset(set_O))\n",
    "print(set_D.issuperset(set_O))"
   ]
  },
  {
   "cell_type": "code",
   "execution_count": 29,
   "metadata": {},
   "outputs": [
    {
     "name": "stdout",
     "output_type": "stream",
     "text": [
      "True\n",
      "False\n"
     ]
    }
   ],
   "source": [
    "# Verify if disjoint using isdisjoint() function\n",
    "print(set_E.isdisjoint(set_O))\n",
    "print(set_E.isdisjoint(set_D))"
   ]
  }
 ],
 "metadata": {
  "interpreter": {
   "hash": "6d46af94c2bbce495f1e668725902fa517c90b1782bcfe2fce0dd9868df553d3"
  },
  "kernelspec": {
   "display_name": "Python 3.8.8 64-bit ('base': conda)",
   "name": "python3"
  },
  "language_info": {
   "codemirror_mode": {
    "name": "ipython",
    "version": 3
   },
   "file_extension": ".py",
   "mimetype": "text/x-python",
   "name": "python",
   "nbconvert_exporter": "python",
   "pygments_lexer": "ipython3",
   "version": "3.8.8"
  },
  "orig_nbformat": 4
 },
 "nbformat": 4,
 "nbformat_minor": 2
}
