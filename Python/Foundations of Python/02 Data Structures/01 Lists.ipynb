{
 "cells": [
  {
   "cell_type": "markdown",
   "metadata": {},
   "source": [
    "## Lists\n",
    "* Used when sequential order of elements is preferred\n",
    "* List data structure in Python preserves order\n"
   ]
  },
  {
   "cell_type": "code",
   "execution_count": 12,
   "metadata": {},
   "outputs": [],
   "source": [
    "# Illustration of a list\n",
    "# One may create list without using the keyword \"list\"\n",
    "# Here, creating a list by name python_list\n",
    "python_list = [2021, 'BITS', ['Pilani', 'Goa', 'Hyderabad', 'Dubai'], [1, 10, 99]]"
   ]
  },
  {
   "cell_type": "code",
   "execution_count": 31,
   "metadata": {},
   "outputs": [
    {
     "data": {
      "text/plain": [
       "[2021, 'BITS', ['Pilani', 'Goa', 'Hyderabad', 'Dubai'], [1, 10, 99]]"
      ]
     },
     "execution_count": 31,
     "metadata": {},
     "output_type": "execute_result"
    }
   ],
   "source": [
    "# Check the contents of the created list python_list\n",
    "python_list"
   ]
  },
  {
   "cell_type": "code",
   "execution_count": 32,
   "metadata": {},
   "outputs": [
    {
     "data": {
      "text/plain": [
       "list"
      ]
     },
     "execution_count": 32,
     "metadata": {},
     "output_type": "execute_result"
    }
   ],
   "source": [
    "# Verify the data structure type of the python_list\n",
    "type(python_list)"
   ]
  },
  {
   "cell_type": "code",
   "execution_count": 13,
   "metadata": {},
   "outputs": [
    {
     "data": {
      "text/plain": [
       "4"
      ]
     },
     "execution_count": 13,
     "metadata": {},
     "output_type": "execute_result"
    }
   ],
   "source": [
    "# use len() function to verify the size of the list\n",
    "len(python_list)"
   ]
  },
  {
   "cell_type": "markdown",
   "metadata": {},
   "source": [
    "### Subsetting the list"
   ]
  },
  {
   "cell_type": "code",
   "execution_count": 34,
   "metadata": {},
   "outputs": [
    {
     "data": {
      "text/plain": [
       "2021"
      ]
     },
     "execution_count": 34,
     "metadata": {},
     "output_type": "execute_result"
    }
   ],
   "source": [
    "# Access the first element of list using index-0\n",
    "python_list[0]"
   ]
  },
  {
   "cell_type": "code",
   "execution_count": 35,
   "metadata": {},
   "outputs": [
    {
     "data": {
      "text/plain": [
       "['Pilani', 'Goa', 'Hyderabad', 'Dubai']"
      ]
     },
     "execution_count": 35,
     "metadata": {},
     "output_type": "execute_result"
    }
   ],
   "source": [
    "# Access the third element of list using index-2\n",
    "python_list[2]"
   ]
  },
  {
   "cell_type": "code",
   "execution_count": 36,
   "metadata": {},
   "outputs": [
    {
     "data": {
      "text/plain": [
       "'Pilani'"
      ]
     },
     "execution_count": 36,
     "metadata": {},
     "output_type": "execute_result"
    }
   ],
   "source": [
    "# The third element of list is a vector\n",
    "# Access the first value in third element of list using index-2 and index-0\n",
    "python_list[2][0]"
   ]
  },
  {
   "cell_type": "code",
   "execution_count": 3,
   "metadata": {},
   "outputs": [],
   "source": [
    "# Python lists are mutable\n",
    "# The first element a.k.ak zeroth-index of python_list is 2021\n",
    "# The first element is changed to value as shown below\n",
    "python_list[0] = '25-10-2021'"
   ]
  },
  {
   "cell_type": "code",
   "execution_count": 9,
   "metadata": {},
   "outputs": [
    {
     "data": {
      "text/plain": [
       "[2021, 'BITS', ['Pilani', 'Goa', 'Hyderabad', 'Dubai'], [1, 10, 99]]"
      ]
     },
     "execution_count": 9,
     "metadata": {},
     "output_type": "execute_result"
    }
   ],
   "source": [
    "# Verify the changes below\n",
    "python_list"
   ]
  },
  {
   "cell_type": "code",
   "execution_count": 5,
   "metadata": {},
   "outputs": [
    {
     "data": {
      "text/plain": [
       "['25-10-2021', 'BITS']"
      ]
     },
     "execution_count": 5,
     "metadata": {},
     "output_type": "execute_result"
    }
   ],
   "source": [
    "# access first two elements in list as shown below\n",
    "python_list[:2]"
   ]
  },
  {
   "cell_type": "code",
   "execution_count": 10,
   "metadata": {},
   "outputs": [
    {
     "data": {
      "text/plain": [
       "['BITS', ['Pilani', 'Goa', 'Hyderabad', 'Dubai']]"
      ]
     },
     "execution_count": 10,
     "metadata": {},
     "output_type": "execute_result"
    }
   ],
   "source": [
    "# Get the second and third values in a list\n",
    "python_list[1:3]"
   ]
  },
  {
   "cell_type": "code",
   "execution_count": 11,
   "metadata": {},
   "outputs": [
    {
     "data": {
      "text/plain": [
       "[2021,\n",
       " 'BITS States',\n",
       " ['Rajasthan', 'Goa', 'Telangana', 'UAE'],\n",
       " 50000,\n",
       " [1, 10, 99]]"
      ]
     },
     "execution_count": 11,
     "metadata": {},
     "output_type": "execute_result"
    }
   ],
   "source": [
    "# Replace the second and third values in a list\n",
    "python_list[1:3] = ['BITS States', ['Rajasthan', 'Goa', 'Telangana', 'UAE'], 50000]\n",
    "\n",
    "# Verify if the above changes are made\n",
    "python_list"
   ]
  },
  {
   "cell_type": "markdown",
   "metadata": {},
   "source": [
    "### Expanding the list i.e., adding one mor element to the list\n",
    "* Add an element at the end using + operator\n",
    "* Add an element at the end using append() function\n",
    "* Add an element any where, say nth position using insert(n, 'inserted element at n') function"
   ]
  },
  {
   "cell_type": "code",
   "execution_count": 42,
   "metadata": {},
   "outputs": [
    {
     "ename": "IndexError",
     "evalue": "list assignment index out of range",
     "output_type": "error",
     "traceback": [
      "\u001b[1;31m---------------------------------------------------------------------------\u001b[0m",
      "\u001b[1;31mIndexError\u001b[0m                                Traceback (most recent call last)",
      "\u001b[1;32m<ipython-input-42-3ef1ee36f2c9>\u001b[0m in \u001b[0;36m<module>\u001b[1;34m\u001b[0m\n\u001b[0;32m      1\u001b[0m \u001b[1;31m# Following throws an error\u001b[0m\u001b[1;33m\u001b[0m\u001b[1;33m\u001b[0m\u001b[1;33m\u001b[0m\u001b[0m\n\u001b[1;32m----> 2\u001b[1;33m \u001b[0mpython_list\u001b[0m\u001b[1;33m[\u001b[0m\u001b[1;36m5\u001b[0m\u001b[1;33m]\u001b[0m \u001b[1;33m=\u001b[0m \u001b[1;33m[\u001b[0m\u001b[1;34m'ELement 5'\u001b[0m\u001b[1;33m]\u001b[0m\u001b[1;33m\u001b[0m\u001b[1;33m\u001b[0m\u001b[0m\n\u001b[0m",
      "\u001b[1;31mIndexError\u001b[0m: list assignment index out of range"
     ]
    }
   ],
   "source": [
    "# Following throws an error\n",
    "python_list[5] = ['ELement 5']"
   ]
  },
  {
   "cell_type": "code",
   "execution_count": 14,
   "metadata": {},
   "outputs": [
    {
     "data": {
      "text/plain": [
       "[2021,\n",
       " 'BITS',\n",
       " ['Pilani', 'Goa', 'Hyderabad', 'Dubai'],\n",
       " [1, 10, 99],\n",
       " 'Element 5']"
      ]
     },
     "execution_count": 14,
     "metadata": {},
     "output_type": "execute_result"
    }
   ],
   "source": [
    "# In order to add one more element to list, use \"+\" operator\n",
    "python_list = python_list + ['Element 5']\n",
    "\n",
    " #Verify if the above changes are made\n",
    "python_list"
   ]
  },
  {
   "cell_type": "code",
   "execution_count": 15,
   "metadata": {},
   "outputs": [
    {
     "data": {
      "text/plain": [
       "[2021,\n",
       " 'BITS',\n",
       " ['Pilani', 'Goa', 'Hyderabad', 'Dubai'],\n",
       " [1, 10, 99],\n",
       " 'Element 5',\n",
       " 'Element 6']"
      ]
     },
     "execution_count": 15,
     "metadata": {},
     "output_type": "execute_result"
    }
   ],
   "source": [
    "# Another method to add one more element to list: use append() function\n",
    "python_list.append('Element 6')\n",
    "\n",
    " #Verify if the above changes are made\n",
    "python_list"
   ]
  },
  {
   "cell_type": "code",
   "execution_count": 16,
   "metadata": {},
   "outputs": [
    {
     "data": {
      "text/plain": [
       "['Inserted Element',\n",
       " 2021,\n",
       " 'BITS',\n",
       " ['Pilani', 'Goa', 'Hyderabad', 'Dubai'],\n",
       " [1, 10, 99],\n",
       " 'Element 5',\n",
       " 'Element 6']"
      ]
     },
     "execution_count": 16,
     "metadata": {},
     "output_type": "execute_result"
    }
   ],
   "source": [
    "# In case, a new element is to be added at the beginning: use insert(0, 'Element') function\n",
    "python_list.insert(0,'Inserted Element')\n",
    "\n",
    "#Verify if the above changes are made\n",
    "python_list"
   ]
  },
  {
   "cell_type": "code",
   "execution_count": 17,
   "metadata": {},
   "outputs": [
    {
     "data": {
      "text/plain": [
       "['Inserted Element',\n",
       " 2021,\n",
       " 'BITS',\n",
       " 'Inserted Element 4',\n",
       " ['Pilani', 'Goa', 'Hyderabad', 'Dubai'],\n",
       " [1, 10, 99],\n",
       " 'Element 5',\n",
       " 'Element 6']"
      ]
     },
     "execution_count": 17,
     "metadata": {},
     "output_type": "execute_result"
    }
   ],
   "source": [
    "# In case, a new element is to be added at the 4th position: use insert(4, 'Element 4') function\n",
    "python_list.insert(3,'Inserted Element 4')\n",
    "\n",
    "#Verify if the above changes are made\n",
    "python_list"
   ]
  },
  {
   "cell_type": "markdown",
   "metadata": {},
   "source": [
    "### Remove the element from a list\n",
    "* use remove() function to remove a particular element\n",
    "* use del function to delete particular element or elements from a list\n",
    "* use pop() function to remove particula element from a list"
   ]
  },
  {
   "cell_type": "code",
   "execution_count": 18,
   "metadata": {},
   "outputs": [
    {
     "data": {
      "text/plain": [
       "[2021,\n",
       " 'BITS',\n",
       " 'Inserted Element 4',\n",
       " ['Pilani', 'Goa', 'Hyderabad', 'Dubai'],\n",
       " [1, 10, 99],\n",
       " 'Element 5',\n",
       " 'Element 6']"
      ]
     },
     "execution_count": 18,
     "metadata": {},
     "output_type": "execute_result"
    }
   ],
   "source": [
    "# delete the first element using del\n",
    "del python_list[0]\n",
    "\n",
    "#Verify if the above changes are made\n",
    "python_list"
   ]
  },
  {
   "cell_type": "code",
   "execution_count": 19,
   "metadata": {},
   "outputs": [
    {
     "data": {
      "text/plain": [
       "[2021,\n",
       " 'BITS',\n",
       " ['Pilani', 'Goa', 'Hyderabad', 'Dubai'],\n",
       " [1, 10, 99],\n",
       " 'Element 5',\n",
       " 'Element 6']"
      ]
     },
     "execution_count": 19,
     "metadata": {},
     "output_type": "execute_result"
    }
   ],
   "source": [
    "# remove the  element using remove() function, and specify the value to be removed\n",
    "# Following removes 'Inserted Element 4' positioned at index-2\n",
    "python_list.remove('Inserted Element 4')\n",
    "\n",
    "#Verify if the above changes are made\n",
    "python_list"
   ]
  },
  {
   "cell_type": "code",
   "execution_count": 20,
   "metadata": {},
   "outputs": [
    {
     "data": {
      "text/plain": [
       "[2021, 'BITS', ['Pilani', 'Goa', 'Hyderabad', 'Dubai'], [1, 10, 99]]"
      ]
     },
     "execution_count": 20,
     "metadata": {},
     "output_type": "execute_result"
    }
   ],
   "source": [
    "# In case more than one element to be removed positioned between n and m indexes, use del list_name(n-1,m)\n",
    "# Delete values positioned at between 5 and 6, including 5 and 6\n",
    "del python_list[4:6]\n",
    "\n",
    "#Verify if the above changes are made\n",
    "python_list"
   ]
  },
  {
   "cell_type": "code",
   "execution_count": 21,
   "metadata": {},
   "outputs": [
    {
     "data": {
      "text/plain": [
       "'BITS'"
      ]
     },
     "execution_count": 21,
     "metadata": {},
     "output_type": "execute_result"
    }
   ],
   "source": [
    "# Use pop() function to delete an element from the list\n",
    "# delete the 2nd element from the list as illustrated below\n",
    "python_list.pop(1)"
   ]
  },
  {
   "cell_type": "code",
   "execution_count": 22,
   "metadata": {},
   "outputs": [
    {
     "data": {
      "text/plain": [
       "[2021, ['Pilani', 'Goa', 'Hyderabad', 'Dubai'], [1, 10, 99]]"
      ]
     },
     "execution_count": 22,
     "metadata": {},
     "output_type": "execute_result"
    }
   ],
   "source": [
    "#Verify if the 2nd element is removed through pop() function\n",
    "python_list"
   ]
  },
  {
   "cell_type": "markdown",
   "metadata": {},
   "source": [
    "## Sort elements in a list\n",
    "* use function sorted()\n",
    "* use function sort()\n",
    "* Both use Timsort algorithm\n",
    "* Read more on Timsort algorithm here: https://en.wikipedia.org/wiki/Timsort\n",
    "* Both the sorting functions cannot sort a mix of data types such as numeric and strings data types"
   ]
  },
  {
   "cell_type": "code",
   "execution_count": 43,
   "metadata": {},
   "outputs": [
    {
     "ename": "TypeError",
     "evalue": "'<' not supported between instances of 'list' and 'str'",
     "output_type": "error",
     "traceback": [
      "\u001b[1;31m---------------------------------------------------------------------------\u001b[0m",
      "\u001b[1;31mTypeError\u001b[0m                                 Traceback (most recent call last)",
      "\u001b[1;32m<ipython-input-43-b8fd2ba868e7>\u001b[0m in \u001b[0;36m<module>\u001b[1;34m\u001b[0m\n\u001b[0;32m      1\u001b[0m \u001b[1;31m# Sort using sorted() function\u001b[0m\u001b[1;33m\u001b[0m\u001b[1;33m\u001b[0m\u001b[1;33m\u001b[0m\u001b[0m\n\u001b[1;32m----> 2\u001b[1;33m \u001b[0msorted\u001b[0m\u001b[1;33m(\u001b[0m\u001b[0mpython_list\u001b[0m\u001b[1;33m)\u001b[0m\u001b[1;33m\u001b[0m\u001b[1;33m\u001b[0m\u001b[0m\n\u001b[0m",
      "\u001b[1;31mTypeError\u001b[0m: '<' not supported between instances of 'list' and 'str'"
     ]
    }
   ],
   "source": [
    "# Sort using sorted() function on list with mixed data types\n",
    "# Expect that it throws an error\n",
    "sorted(python_list)"
   ]
  },
  {
   "cell_type": "code",
   "execution_count": 44,
   "metadata": {},
   "outputs": [
    {
     "ename": "TypeError",
     "evalue": "'<' not supported between instances of 'list' and 'str'",
     "output_type": "error",
     "traceback": [
      "\u001b[1;31m---------------------------------------------------------------------------\u001b[0m",
      "\u001b[1;31mTypeError\u001b[0m                                 Traceback (most recent call last)",
      "\u001b[1;32m<ipython-input-44-ba19b0f32711>\u001b[0m in \u001b[0;36m<module>\u001b[1;34m\u001b[0m\n\u001b[0;32m      1\u001b[0m \u001b[1;31m# Sort using sort() function\u001b[0m\u001b[1;33m\u001b[0m\u001b[1;33m\u001b[0m\u001b[1;33m\u001b[0m\u001b[0m\n\u001b[1;32m----> 2\u001b[1;33m \u001b[0mpython_list\u001b[0m\u001b[1;33m.\u001b[0m\u001b[0msort\u001b[0m\u001b[1;33m(\u001b[0m\u001b[1;33m)\u001b[0m\u001b[1;33m\u001b[0m\u001b[1;33m\u001b[0m\u001b[0m\n\u001b[0m",
      "\u001b[1;31mTypeError\u001b[0m: '<' not supported between instances of 'list' and 'str'"
     ]
    }
   ],
   "source": [
    "# Sort using sort() function on list with mixed data types\n",
    "# Expect that it throws an error\n",
    "python_list.sort()"
   ]
  },
  {
   "cell_type": "code",
   "execution_count": 24,
   "metadata": {},
   "outputs": [],
   "source": [
    "# Create a new list (numeric_list_1 & numeric_list_2 are same)\n",
    "numeric_list_1 = [99, 87, 104, 22, 76, 54, 93]\n",
    "numeric_list_2 = [99, 87, 104, 22, 76, 54, 93]"
   ]
  },
  {
   "cell_type": "code",
   "execution_count": 25,
   "metadata": {},
   "outputs": [
    {
     "data": {
      "text/plain": [
       "[22, 54, 76, 87, 93, 99, 104]"
      ]
     },
     "execution_count": 25,
     "metadata": {},
     "output_type": "execute_result"
    }
   ],
   "source": [
    "# Sort using sorted() function on list with numeric data types\n",
    "sorted(numeric_list_1)"
   ]
  },
  {
   "cell_type": "code",
   "execution_count": 27,
   "metadata": {},
   "outputs": [
    {
     "data": {
      "text/plain": [
       "[22, 54, 76, 87, 93, 99, 104]"
      ]
     },
     "execution_count": 27,
     "metadata": {},
     "output_type": "execute_result"
    }
   ],
   "source": [
    "# Sort using sort() function on list with numeric data types\n",
    "numeric_list_2.sort()\n",
    "\n",
    "# Verify if the list is sorted\n",
    "numeric_list_2"
   ]
  },
  {
   "cell_type": "code",
   "execution_count": null,
   "metadata": {},
   "outputs": [],
   "source": []
  }
 ],
 "metadata": {
  "interpreter": {
   "hash": "6d46af94c2bbce495f1e668725902fa517c90b1782bcfe2fce0dd9868df553d3"
  },
  "kernelspec": {
   "display_name": "Python 3",
   "language": "python",
   "name": "python3"
  },
  "language_info": {
   "codemirror_mode": {
    "name": "ipython",
    "version": 3
   },
   "file_extension": ".py",
   "mimetype": "text/x-python",
   "name": "python",
   "nbconvert_exporter": "python",
   "pygments_lexer": "ipython3",
   "version": "3.8.8"
  }
 },
 "nbformat": 4,
 "nbformat_minor": 2
}
