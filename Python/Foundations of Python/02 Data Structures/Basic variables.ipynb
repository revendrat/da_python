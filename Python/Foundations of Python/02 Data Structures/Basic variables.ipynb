{
 "cells": [
  {
   "cell_type": "code",
   "execution_count": 1,
   "id": "eb68aaa9",
   "metadata": {},
   "outputs": [],
   "source": [
    "student1_gpa = 7.5"
   ]
  },
  {
   "cell_type": "code",
   "execution_count": 5,
   "id": "bc6c6b0f",
   "metadata": {},
   "outputs": [],
   "source": [
    "student1_name='Tom'"
   ]
  },
  {
   "cell_type": "code",
   "execution_count": 6,
   "id": "09aaa1be",
   "metadata": {},
   "outputs": [],
   "source": [
    "student1_id = 1001"
   ]
  },
  {
   "cell_type": "code",
   "execution_count": 2,
   "id": "e2b93f3f",
   "metadata": {},
   "outputs": [
    {
     "data": {
      "text/plain": [
       "float"
      ]
     },
     "execution_count": 2,
     "metadata": {},
     "output_type": "execute_result"
    }
   ],
   "source": [
    "type(student1_gpa)"
   ]
  },
  {
   "cell_type": "code",
   "execution_count": 3,
   "id": "965992c0",
   "metadata": {},
   "outputs": [],
   "source": [
    "student2_gpa = 7.5"
   ]
  },
  {
   "cell_type": "code",
   "execution_count": 4,
   "id": "7e181f60",
   "metadata": {},
   "outputs": [],
   "source": [
    "student3_gpa = 7.5"
   ]
  },
  {
   "cell_type": "code",
   "execution_count": null,
   "id": "367eac2b",
   "metadata": {},
   "outputs": [],
   "source": []
  }
 ],
 "metadata": {
  "kernelspec": {
   "display_name": "Python 3 (ipykernel)",
   "language": "python",
   "name": "python3"
  },
  "language_info": {
   "codemirror_mode": {
    "name": "ipython",
    "version": 3
   },
   "file_extension": ".py",
   "mimetype": "text/x-python",
   "name": "python",
   "nbconvert_exporter": "python",
   "pygments_lexer": "ipython3",
   "version": "3.10.6"
  }
 },
 "nbformat": 4,
 "nbformat_minor": 5
}
