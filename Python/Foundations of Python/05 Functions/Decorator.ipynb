{
 "cells": [
  {
   "cell_type": "markdown",
   "id": "2265ea96",
   "metadata": {},
   "source": [
    "### Arguments\n",
    "* Positional arguments\n",
    "* Keyword arguments\n",
    "\n",
    "#### Positional arguments:\n",
    "*  are passed to a function in the order in which they are defined in the function definition. \n",
    "* the position of the arguments is important, as the function will match the arguments based on their position in the argument list.\n",
    "\n",
    "#### Keyword arguments\n",
    "* are passed to a function with their names, i.e., they are identified by the parameter name in the function definition. \n",
    "* The order of keyword arguments does not matter, as the function will match the arguments based on their names.\n",
    "\n"
   ]
  },
  {
   "cell_type": "markdown",
   "id": "7f193f46",
   "metadata": {},
   "source": [
    "#### Positional arguments illustration\n",
    "* say you want to square a number and add it to another number"
   ]
  },
  {
   "cell_type": "code",
   "execution_count": 16,
   "id": "33bc4b10",
   "metadata": {},
   "outputs": [],
   "source": [
    "def sq_add(a,b):\n",
    "    return pow(a,2)+b"
   ]
  },
  {
   "cell_type": "markdown",
   "id": "b2e32cb3",
   "metadata": {},
   "source": [
    "* You need to pass positional arguments to sq_add\n",
    "* When you want to square 2, add then add 3 to it, then you need to pass 2 in the first position and 3 in the second position"
   ]
  },
  {
   "cell_type": "code",
   "execution_count": 17,
   "id": "6e8600a1",
   "metadata": {},
   "outputs": [
    {
     "data": {
      "text/plain": [
       "7"
      ]
     },
     "execution_count": 17,
     "metadata": {},
     "output_type": "execute_result"
    }
   ],
   "source": [
    "sq_add(2,3)"
   ]
  },
  {
   "cell_type": "markdown",
   "id": "3dc78a4a",
   "metadata": {},
   "source": [
    "* In case you pass 3 in first position and 2 in second position \n",
    "* sq_add function will provide wrong result"
   ]
  },
  {
   "cell_type": "code",
   "execution_count": 18,
   "id": "ab251c9a",
   "metadata": {},
   "outputs": [
    {
     "data": {
      "text/plain": [
       "11"
      ]
     },
     "execution_count": 18,
     "metadata": {},
     "output_type": "execute_result"
    }
   ],
   "source": [
    "sq_add(3,2)"
   ]
  },
  {
   "cell_type": "markdown",
   "id": "f9aac82b",
   "metadata": {},
   "source": [
    "##### Keyword arguments avoid such challenges\n",
    "* Need to provide arguments differently as defined in the function\n",
    "* Provide values with the keyword arguments\n",
    "* sq_add(a=2, b=3) gives same result at sq_add(b=3, a=2)"
   ]
  },
  {
   "cell_type": "code",
   "execution_count": 20,
   "id": "ec8bfba5",
   "metadata": {},
   "outputs": [
    {
     "data": {
      "text/plain": [
       "7"
      ]
     },
     "execution_count": 20,
     "metadata": {},
     "output_type": "execute_result"
    }
   ],
   "source": [
    "sq_add(a=2, b=3)"
   ]
  },
  {
   "cell_type": "code",
   "execution_count": 21,
   "id": "1085da3f",
   "metadata": {},
   "outputs": [
    {
     "data": {
      "text/plain": [
       "7"
      ]
     },
     "execution_count": 21,
     "metadata": {},
     "output_type": "execute_result"
    }
   ],
   "source": [
    "sq_add(b=3, a=2)"
   ]
  },
  {
   "cell_type": "markdown",
   "id": "6b4bff91",
   "metadata": {},
   "source": [
    "### *args and *kwargs in Python\n",
    "*  *args and **kwargs are special syntax used to pass a variable number of arguments to a function.\n",
    "\n",
    "#### *args\n",
    "* *args is used to pass a variable number of non-keyword arguments to a function. \n",
    "* *args allows you to pass any number of positional arguments to the function. \n",
    "* When *args is used in a function definition, it collects any number of arguments passed to the function and packs them into a tuple. \n",
    "\n",
    "* The *args syntax is used to indicate that the function can take an arbitrary number of arguments."
   ]
  },
  {
   "cell_type": "code",
   "execution_count": 9,
   "id": "b979fde0",
   "metadata": {},
   "outputs": [
    {
     "data": {
      "text/plain": [
       "9"
      ]
     },
     "execution_count": 9,
     "metadata": {},
     "output_type": "execute_result"
    }
   ],
   "source": [
    "## Illustration of *args\n",
    "# Say you want to add two numbers\n",
    "# you pass two numbers to add_two() function below:\n",
    "def add_two(a,b):\n",
    "    return a+b\n",
    "\n",
    "add_two(4,5)"
   ]
  },
  {
   "cell_type": "code",
   "execution_count": 13,
   "id": "8d22f0f2",
   "metadata": {},
   "outputs": [
    {
     "name": "stdout",
     "output_type": "stream",
     "text": [
      "<class 'tuple'>\n",
      "add 4,5:  9\n",
      "<class 'tuple'>\n",
      "add 1,2,3:  6\n",
      "<class 'tuple'>\n",
      "add 9,8,7,3,4, 1,2,3:  37\n"
     ]
    }
   ],
   "source": [
    "# What if you need to pass five numbers and get their sum \n",
    "# use *args which takes variable number of positional arguments\n",
    "def add_nums(*args):\n",
    "    sum_result = 0\n",
    "    print(type(args))\n",
    "    for i in args:\n",
    "        sum_result = sum_result + i\n",
    "    return sum_result\n",
    "\n",
    "print(\"add 4,5: \", add_nums(4,5))\n",
    "print(\"add 1,2,3: \", add_nums(1,2,3))\n",
    "print(\"add 9,8,7,3,4, 1,2,3: \", add_nums(9,8,7,3,4, 1,2,3))"
   ]
  },
  {
   "cell_type": "markdown",
   "id": "61a3b6ef",
   "metadata": {},
   "source": [
    "### Decorators in Python"
   ]
  },
  {
   "cell_type": "markdown",
   "id": "b5573fde",
   "metadata": {},
   "source": [
    "* A decorator is a design pattern that allows to modify the behavior of a function or class without changing its source code. \n",
    "* A decorator is essentially a function that takes another function as an argument and returns a modified version of that function.\n",
    "* The primary purpose of a decorator is to add or modify some additional functionality to an existing function or class.\n",
    "\n",
    "### Applications of Decorators\n",
    "1. Adding logging or profiling code to a function.\n",
    "2. Implementing authentication and authorization checks for a function.\n",
    "3. Caching the results of a function to improve performance.\n",
    "4. Adding input validation checks to a function.\n",
    "5. Implementing error handling or retry logic for a function.\n",
    "6. Modifying the behavior of a function based on some runtime condition."
   ]
  },
  {
   "cell_type": "code",
   "execution_count": 22,
   "id": "f0bbbdcf",
   "metadata": {},
   "outputs": [
    {
     "name": "stdout",
     "output_type": "stream",
     "text": [
      "Before the  print_hello  function is called.\n",
      "Hello There!\n",
      "After the  print_hello  function is called.\n"
     ]
    }
   ],
   "source": [
    "def greet_decorator(func):\n",
    "    def wrapper():\n",
    "        print(\"Before the \", func.__name__ ,\" function is called.\")\n",
    "        func()\n",
    "        print(\"After the \", func.__name__,\" function is called.\")\n",
    "    return wrapper\n",
    "\n",
    "@greet_decorator\n",
    "def print_hello():\n",
    "    print(\"Hello There!\")\n",
    "\n",
    "print_hello()"
   ]
  },
  {
   "cell_type": "code",
   "execution_count": 28,
   "id": "e1d71420",
   "metadata": {
    "scrolled": true
   },
   "outputs": [
    {
     "name": "stdout",
     "output_type": "stream",
     "text": [
      "Before the  add_sub_two_nums  function is called.\n",
      "Addition of two numbers:  5\n",
      "Subtraction of two numbers:  -1\n",
      "After the  add_sub_two_nums  function is called.\n"
     ]
    }
   ],
   "source": [
    "def passing_arguments_decorator(func):\n",
    "    def wrapper(*args,**kwargs):\n",
    "        print(\"Before the \", func.__name__ ,\" function is called.\")\n",
    "        func(*args,**kwargs)\n",
    "        print(\"After the \", func.__name__,\" function is called.\")\n",
    "    return wrapper\n",
    "        \n",
    "@passing_arguments_decorator\n",
    "def add_sub_two_nums(x,y, a, b):\n",
    "    print(\"Addition of two numbers: \", x+y)\n",
    "    print(\"Subtraction of two numbers: \", a-b)\n",
    "\n",
    "add_sub_two_nums(1,4, a=1,b=2)"
   ]
  },
  {
   "cell_type": "code",
   "execution_count": 30,
   "id": "3d99dcfa",
   "metadata": {
    "scrolled": true
   },
   "outputs": [
    {
     "name": "stdout",
     "output_type": "stream",
     "text": [
      "Before the  add_sub_two_nums  function is called.\n",
      "Addition of two numbers:  3\n",
      "Subtraction of two numbers:  -1\n",
      "After the  add_sub_two_nums  function is called.\n"
     ]
    }
   ],
   "source": [
    "add_sub_two_nums(x=1,y=2, a=3, b=4)"
   ]
  },
  {
   "cell_type": "code",
   "execution_count": 32,
   "id": "8cba399f",
   "metadata": {},
   "outputs": [
    {
     "name": "stdout",
     "output_type": "stream",
     "text": [
      "Before the  add_sub_two_nums  function is called.\n",
      "Addition of two numbers:  3\n",
      "Subtraction of two numbers:  -1\n",
      "After the  add_sub_two_nums  function is called.\n"
     ]
    }
   ],
   "source": [
    "add_sub_two_nums(1,y=2, a=3, b=4)"
   ]
  },
  {
   "cell_type": "code",
   "execution_count": 33,
   "id": "87bd5418",
   "metadata": {},
   "outputs": [
    {
     "name": "stdout",
     "output_type": "stream",
     "text": [
      "Before the  add_sub_two_nums  function is called.\n",
      "Addition of two numbers:  3\n",
      "Subtraction of two numbers:  -1\n",
      "After the  add_sub_two_nums  function is called.\n"
     ]
    }
   ],
   "source": [
    "add_sub_two_nums(a=3, b=4,x=1,y=2)"
   ]
  },
  {
   "cell_type": "markdown",
   "id": "4c483f34",
   "metadata": {},
   "source": [
    "#### Illustration of Decorators\n",
    "* Log the function using @logger_decorator\n",
    "* Know the time of execution of each function using @timing_decorator"
   ]
  },
  {
   "cell_type": "code",
   "execution_count": 23,
   "id": "e419ae39",
   "metadata": {},
   "outputs": [],
   "source": [
    "def logger(func):\n",
    "    def wrapper(*args, **kwargs):\n",
    "        print('Logging execution of', func.__name__)\n",
    "        return func(*args, **kwargs)\n",
    "    return wrapper\n",
    "\n",
    "@logger\n",
    "def add(x, y):\n",
    "    return x + y\n",
    "\n",
    "@logger\n",
    "def multiply(x,y):\n",
    "    return x*y\n",
    "\n",
    "@logger\n",
    "def subtract(x,y):\n",
    "    return x-y\n"
   ]
  },
  {
   "cell_type": "code",
   "execution_count": 25,
   "id": "997414bb",
   "metadata": {},
   "outputs": [
    {
     "name": "stdout",
     "output_type": "stream",
     "text": [
      "Logging execution of add\n"
     ]
    },
    {
     "data": {
      "text/plain": [
       "7"
      ]
     },
     "execution_count": 25,
     "metadata": {},
     "output_type": "execute_result"
    }
   ],
   "source": [
    "add(3, 4)"
   ]
  },
  {
   "cell_type": "code",
   "execution_count": 26,
   "id": "706c8f3f",
   "metadata": {},
   "outputs": [
    {
     "name": "stdout",
     "output_type": "stream",
     "text": [
      "Logging execution of multiply\n"
     ]
    },
    {
     "data": {
      "text/plain": [
       "12"
      ]
     },
     "execution_count": 26,
     "metadata": {},
     "output_type": "execute_result"
    }
   ],
   "source": [
    "multiply(3,4)"
   ]
  },
  {
   "cell_type": "code",
   "execution_count": 27,
   "id": "5f7b8035",
   "metadata": {},
   "outputs": [
    {
     "name": "stdout",
     "output_type": "stream",
     "text": [
      "Logging execution of subtract\n"
     ]
    },
    {
     "data": {
      "text/plain": [
       "-1"
      ]
     },
     "execution_count": 27,
     "metadata": {},
     "output_type": "execute_result"
    }
   ],
   "source": [
    "subtract(3,4)"
   ]
  },
  {
   "cell_type": "code",
   "execution_count": 28,
   "id": "136e570e",
   "metadata": {},
   "outputs": [
    {
     "name": "stdout",
     "output_type": "stream",
     "text": [
      "Execution time: 3.001810312271118 seconds\n"
     ]
    },
    {
     "data": {
      "text/plain": [
       "'Done'"
      ]
     },
     "execution_count": 28,
     "metadata": {},
     "output_type": "execute_result"
    }
   ],
   "source": [
    "import time\n",
    "\n",
    "def timing_decorator(func):\n",
    "    def wrapper(*args, **kwargs):\n",
    "        start_time = time.time()\n",
    "        result = func(*args, **kwargs)\n",
    "        end_time = time.time()\n",
    "        print(f\"Execution time: {end_time - start_time} seconds\")\n",
    "        return result\n",
    "    return wrapper\n",
    "\n",
    "@timing_decorator\n",
    "def long_running_function():\n",
    "    # some long running operation\n",
    "    time.sleep(3)\n",
    "    return \"Done\"\n",
    "\n",
    "long_running_function()"
   ]
  },
  {
   "cell_type": "code",
   "execution_count": 29,
   "id": "5e6110f5",
   "metadata": {},
   "outputs": [],
   "source": [
    "@timing_decorator\n",
    "def add_nums(*args):\n",
    "    sum_result = 0\n",
    "    for i in args:\n",
    "        sum_result = sum_result + i\n",
    "    return sum_result"
   ]
  },
  {
   "cell_type": "code",
   "execution_count": 31,
   "id": "3d5a6b3c",
   "metadata": {},
   "outputs": [
    {
     "name": "stdout",
     "output_type": "stream",
     "text": [
      "Execution time: 4.0531158447265625e-06 seconds\n"
     ]
    },
    {
     "data": {
      "text/plain": [
       "21"
      ]
     },
     "execution_count": 31,
     "metadata": {},
     "output_type": "execute_result"
    }
   ],
   "source": [
    "add_nums(1,2,3,4,5,6)"
   ]
  },
  {
   "cell_type": "code",
   "execution_count": 36,
   "id": "54cf1063",
   "metadata": {},
   "outputs": [
    {
     "name": "stdout",
     "output_type": "stream",
     "text": [
      "Execution time: 3.814697265625e-06 seconds\n"
     ]
    },
    {
     "data": {
      "text/plain": [
       "195"
      ]
     },
     "execution_count": 36,
     "metadata": {},
     "output_type": "execute_result"
    }
   ],
   "source": [
    "add_nums(1,2,3,4,5,6,9,10,11,12,13,14,15,16,17,18,19,20)"
   ]
  }
 ],
 "metadata": {
  "kernelspec": {
   "display_name": "Python 3 (ipykernel)",
   "language": "python",
   "name": "python3"
  },
  "language_info": {
   "codemirror_mode": {
    "name": "ipython",
    "version": 3
   },
   "file_extension": ".py",
   "mimetype": "text/x-python",
   "name": "python",
   "nbconvert_exporter": "python",
   "pygments_lexer": "ipython3",
   "version": "3.10.6"
  }
 },
 "nbformat": 4,
 "nbformat_minor": 5
}
