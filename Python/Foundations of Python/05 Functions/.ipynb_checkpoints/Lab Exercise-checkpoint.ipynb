{
 "cells": [
  {
   "cell_type": "markdown",
   "metadata": {},
   "source": [
    "Write the following functions: <br>\n",
    "1) Write a function introduction that takes name, degree, and hobbies as arguments, and displays the following introduction message  \"Hello, I am <name>, pursuing <degree>, and my hobbies are <hobbies>.\"  <br>\n",
    "\n",
    "2) Write a function hyperbolic that takes two arguments. First argument is hyperbolic function name i.e., $sinhx, coshx, tanhx, cothx, cosechx, cothx $, and second argument is value of x. <br> Refer to Hyperbolic functions definitions here: https://en.wikipedia.org/wiki/Hyperbolic_functions#Exponential_definitions <br>\n",
    "\n",
    "3) Say you opened a restaurant at CP. For every party organised by students at your restaurant you provide 12% discount on food, 9% discount on drinks, and waive the service charge if bill amount is more than Rs. 10000/-.\n",
    "If the bill amount is less than Rs.10000/- the service charge is 5% of overall bill. If the same students group organised any party at your restaurant, you provide an additional discount of 5%. Write a function to calculate the final bill with above details. <br>\n",
    "\n",
    "4) As a student of BITS Pilani, you wanted to ensure good hostel stay experience for everyone. You came up with a solution to instal thermostats in all hostel rooms to control room temperature. You can adjust heat or cold room temperatures from centralised systems. Write a function that takes current temperature and desired temperature as inputs and returns a string \"Heat\" if the current temperature is less than desired temperature minus 5 degrees, \"AC\" if temperature is more than the desired temperature plus 5, and \"off\" otherwise. <br>\n",
    "\n",
    "5) Write a function n_max that takes one argument as a list (one dimensional) of values (numbers), and number \"n\", the nth largest number from list of number. Hint: Use max function in Python. \n"
   ]
  },
  {
   "cell_type": "markdown",
   "metadata": {},
   "source": []
  }
 ],
 "metadata": {
  "interpreter": {
   "hash": "6d46af94c2bbce495f1e668725902fa517c90b1782bcfe2fce0dd9868df553d3"
  },
  "kernelspec": {
   "display_name": "Python 3 (ipykernel)",
   "language": "python",
   "name": "python3"
  },
  "language_info": {
   "codemirror_mode": {
    "name": "ipython",
    "version": 3
   },
   "file_extension": ".py",
   "mimetype": "text/x-python",
   "name": "python",
   "nbconvert_exporter": "python",
   "pygments_lexer": "ipython3",
   "version": "3.10.6"
  }
 },
 "nbformat": 4,
 "nbformat_minor": 2
}
