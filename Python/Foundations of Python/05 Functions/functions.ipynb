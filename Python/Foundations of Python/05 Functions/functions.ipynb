{
 "cells": [
  {
   "cell_type": "markdown",
   "metadata": {},
   "source": [
    "## Functions\n",
    "* In-built\n",
    "* User defined\n",
    "\n",
    "## Components of functions\n",
    "* function header\n",
    "    * begins with keyword *def* and ends with *:*\n",
    "    * function body\n",
    "        * each line is indented by four white spaces\n",
    "        * Descrptive string constitutes documentation\n",
    "        * function code logic statements\n",
    "        * return statement to return objects\n",
    "\n",
    "### Construction of user-defined function\n",
    "\n",
    "def function_name(argument_1, argument_1, ...): <br>\n",
    "&nbsp;&nbsp;&nbsp;&nbsp; code block of function <br>\n",
    "&nbsp;&nbsp;&nbsp;&nbsp; return any_ouput_results # This is optional <br>"
   ]
  },
  {
   "cell_type": "code",
   "execution_count": 1,
   "metadata": {},
   "outputs": [],
   "source": [
    "## Illustration of function\n",
    "## Write a function to add two numbers\n",
    "\n",
    "def add_two_nums(a=0, b=0):\n",
    "    add_two = a+b\n",
    "    return add_two"
   ]
  },
  {
   "cell_type": "code",
   "execution_count": 7,
   "metadata": {},
   "outputs": [
    {
     "data": {
      "text/plain": [
       "9"
      ]
     },
     "execution_count": 7,
     "metadata": {},
     "output_type": "execute_result"
    }
   ],
   "source": [
    "# What is the output of the following?\n",
    "add_two_nums(4,5)"
   ]
  },
  {
   "cell_type": "code",
   "execution_count": 3,
   "metadata": {},
   "outputs": [
    {
     "data": {
      "text/plain": [
       "4"
      ]
     },
     "execution_count": 3,
     "metadata": {},
     "output_type": "execute_result"
    }
   ],
   "source": [
    "# What is the output of the following?\n",
    "add_two_nums(4)"
   ]
  },
  {
   "cell_type": "code",
   "execution_count": 2,
   "metadata": {},
   "outputs": [],
   "source": [
    "def sub_two_nums(a, b):\n",
    "    sub_two = a-b\n",
    "    return sub_two"
   ]
  },
  {
   "cell_type": "code",
   "execution_count": 5,
   "metadata": {},
   "outputs": [
    {
     "data": {
      "text/plain": [
       "-5"
      ]
     },
     "execution_count": 5,
     "metadata": {},
     "output_type": "execute_result"
    }
   ],
   "source": [
    "# What is the output of the following?\n",
    "sub_two_nums(4, 9)"
   ]
  },
  {
   "cell_type": "code",
   "execution_count": 3,
   "metadata": {},
   "outputs": [
    {
     "ename": "TypeError",
     "evalue": "sub_two_nums() missing 1 required positional argument: 'b'",
     "output_type": "error",
     "traceback": [
      "\u001b[1;31m---------------------------------------------------------------------------\u001b[0m",
      "\u001b[1;31mTypeError\u001b[0m                                 Traceback (most recent call last)",
      "\u001b[1;32m~\\AppData\\Local\\Temp/ipykernel_7644/2631831732.py\u001b[0m in \u001b[0;36m<module>\u001b[1;34m\u001b[0m\n\u001b[0;32m      1\u001b[0m \u001b[1;31m# What is the output of the following?\u001b[0m\u001b[1;33m\u001b[0m\u001b[1;33m\u001b[0m\u001b[1;33m\u001b[0m\u001b[0m\n\u001b[1;32m----> 2\u001b[1;33m \u001b[0msub_two_nums\u001b[0m\u001b[1;33m(\u001b[0m\u001b[1;36m4\u001b[0m\u001b[1;33m)\u001b[0m\u001b[1;33m\u001b[0m\u001b[1;33m\u001b[0m\u001b[0m\n\u001b[0m",
      "\u001b[1;31mTypeError\u001b[0m: sub_two_nums() missing 1 required positional argument: 'b'"
     ]
    }
   ],
   "source": [
    "# What is the output of the following?\n",
    "sub_two_nums(4)"
   ]
  },
  {
   "cell_type": "markdown",
   "metadata": {},
   "source": [
    "### Documentation for function\n",
    "* Use three single quotes between the documentation\n",
    "* Example: ''' this function takes three numbers as inputs and returns their sum '''\n",
    "* use help() function to get the documentation of a given function"
   ]
  },
  {
   "cell_type": "code",
   "execution_count": 4,
   "metadata": {},
   "outputs": [],
   "source": [
    "# Illustration of documentation\n",
    "def add_three_nums(a, b, c):\n",
    "    '''add_three_nums() function takes three numbers as inputs and returns their sum\n",
    "       arguments a, b, c are numbers\n",
    "       returns a+b+c\n",
    "    '''\n",
    "    return a+b+c"
   ]
  },
  {
   "cell_type": "code",
   "execution_count": 5,
   "metadata": {},
   "outputs": [
    {
     "name": "stdout",
     "output_type": "stream",
     "text": [
      "Help on function add_three_nums in module __main__:\n",
      "\n",
      "add_three_nums(a, b, c)\n",
      "    add_three_nums() function takes three numbers as inputs and returns their sum\n",
      "    arguments a, b, c are numbers\n",
      "    returns a+b+c\n",
      "\n"
     ]
    }
   ],
   "source": [
    "# Use help() function to get documentation on function\n",
    "help(add_three_nums)"
   ]
  },
  {
   "cell_type": "markdown",
   "metadata": {},
   "source": [
    "## Inline or anonymous functions\n",
    "* use lambda keyword to write inline or anyonymus functions \n",
    "* does not require using *def* keyword to create function\n",
    "\n",
    "### Construction of Lambda function\n",
    "lambda arguments: expressions"
   ]
  },
  {
   "cell_type": "code",
   "execution_count": 14,
   "metadata": {},
   "outputs": [],
   "source": [
    "# Write an inline function to create a cube of a number\n",
    "f_cube = lambda x: x**3"
   ]
  },
  {
   "cell_type": "code",
   "execution_count": 15,
   "metadata": {},
   "outputs": [
    {
     "name": "stdout",
     "output_type": "stream",
     "text": [
      "cube of 2 is:  8\n",
      "cube of 3 is:  27\n"
     ]
    }
   ],
   "source": [
    "print(\"cube of 2 is: \", f_cube(2))\n",
    "print(\"cube of 3 is: \", f_cube(3))"
   ]
  },
  {
   "cell_type": "code",
   "execution_count": 17,
   "metadata": {},
   "outputs": [],
   "source": [
    "# Write an inline function to add two numbers\n",
    "f_add_two = lambda x,y: x+y"
   ]
  },
  {
   "cell_type": "code",
   "execution_count": 18,
   "metadata": {},
   "outputs": [
    {
     "name": "stdout",
     "output_type": "stream",
     "text": [
      "Sum of 4 & 5 is:  9\n",
      "Sum of 101 & 98 is:  199\n"
     ]
    }
   ],
   "source": [
    "print(\"Sum of 4 & 5 is: \", f_add_two(4,5))\n",
    "print(\"Sum of 101 & 98 is: \", f_add_two(101,98))"
   ]
  },
  {
   "cell_type": "markdown",
   "metadata": {},
   "source": [
    "## Nested Functions\n",
    "* A function within a function (parent function)"
   ]
  },
  {
   "cell_type": "code",
   "execution_count": 23,
   "metadata": {},
   "outputs": [],
   "source": [
    "# Illustration of nested function\n",
    "def add_three_nums_nested(a,b,c):\n",
    "    def add_two_nums_nested(a, b):\n",
    "        print(a+b)\n",
    "        return a+b\n",
    "    return add_two_nums_nested(a, b)+c "
   ]
  },
  {
   "cell_type": "code",
   "execution_count": 24,
   "metadata": {},
   "outputs": [
    {
     "name": "stdout",
     "output_type": "stream",
     "text": [
      "3\n"
     ]
    },
    {
     "data": {
      "text/plain": [
       "6"
      ]
     },
     "execution_count": 24,
     "metadata": {},
     "output_type": "execute_result"
    }
   ],
   "source": [
    "add_three_nums_nested(1,2,3)"
   ]
  },
  {
   "cell_type": "markdown",
   "metadata": {},
   "source": [
    "## Function as an argument to a function\n",
    "* pass a function as an argument to another function\n",
    "* In the illustration, a function adds three numbers, and an other function adding two numbers is passed"
   ]
  },
  {
   "cell_type": "code",
   "execution_count": 34,
   "metadata": {},
   "outputs": [],
   "source": [
    "# Function to add two numbers\n",
    "def add_three_nums_ff(a, b, c, add_two_nums ):\n",
    "    return (a + add_two_nums(b,c))"
   ]
  },
  {
   "cell_type": "code",
   "execution_count": 36,
   "metadata": {},
   "outputs": [
    {
     "data": {
      "text/plain": [
       "6"
      ]
     },
     "execution_count": 36,
     "metadata": {},
     "output_type": "execute_result"
    }
   ],
   "source": [
    "# add three numbers 1,2,3\n",
    "add_three_nums_ff(1,2,3, add_two_nums)"
   ]
  },
  {
   "cell_type": "markdown",
   "metadata": {},
   "source": [
    "## Recursive function\n",
    "* Calling a function within that same function\n",
    "* Illustration with factorial of a number\n"
   ]
  },
  {
   "cell_type": "code",
   "execution_count": 39,
   "metadata": {},
   "outputs": [],
   "source": [
    "def fact(n):\n",
    "    '''Factorial of a number n using concept of recursive function'''\n",
    "    if n == 1:\n",
    "        return 1\n",
    "    else:\n",
    "        return n*fact(n-1)"
   ]
  },
  {
   "cell_type": "code",
   "execution_count": 40,
   "metadata": {},
   "outputs": [
    {
     "data": {
      "text/plain": [
       "120"
      ]
     },
     "execution_count": 40,
     "metadata": {},
     "output_type": "execute_result"
    }
   ],
   "source": [
    "fact(5)"
   ]
  },
  {
   "cell_type": "code",
   "execution_count": 43,
   "metadata": {},
   "outputs": [],
   "source": [
    "def fact_1(n):\n",
    "    '''factorial using recursive concept and in-line if else'''\n",
    "    return 1  if n==1 else n*fact_1(n-1)"
   ]
  },
  {
   "cell_type": "code",
   "execution_count": 42,
   "metadata": {},
   "outputs": [
    {
     "data": {
      "text/plain": [
       "120"
      ]
     },
     "execution_count": 42,
     "metadata": {},
     "output_type": "execute_result"
    }
   ],
   "source": [
    "fact_1(5)"
   ]
  },
  {
   "cell_type": "code",
   "execution_count": null,
   "metadata": {},
   "outputs": [],
   "source": []
  }
 ],
 "metadata": {
  "interpreter": {
   "hash": "6d46af94c2bbce495f1e668725902fa517c90b1782bcfe2fce0dd9868df553d3"
  },
  "kernelspec": {
   "display_name": "Python 3.8.8 64-bit ('base': conda)",
   "language": "python",
   "name": "python3"
  },
  "language_info": {
   "codemirror_mode": {
    "name": "ipython",
    "version": 3
   },
   "file_extension": ".py",
   "mimetype": "text/x-python",
   "name": "python",
   "nbconvert_exporter": "python",
   "pygments_lexer": "ipython3",
   "version": "3.8.12"
  },
  "orig_nbformat": 4
 },
 "nbformat": 4,
 "nbformat_minor": 2
}
