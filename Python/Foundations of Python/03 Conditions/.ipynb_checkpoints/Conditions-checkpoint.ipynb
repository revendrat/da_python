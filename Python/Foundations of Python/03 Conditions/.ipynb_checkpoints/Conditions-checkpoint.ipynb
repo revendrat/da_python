{
 "cells": [
  {
   "cell_type": "markdown",
   "metadata": {},
   "source": [
    "Python is a *truthy* language that considers everything as true except the following:\n",
    "1. None\n",
    "2. False\n",
    "3. Any \n",
    "    3.1 numeric zero such as 0, 0.0, 0L, 0j <br>\n",
    "    3.2 empty data structure <br>\n",
    "    3.3 empty mapping\n",
    "4. Instances of user defined classes returning zeros or false\n",
    "\n",
    "The foundations of conditional statements are based on understanding boolean data types and boolean expressions."
   ]
  },
  {
   "cell_type": "markdown",
   "metadata": {},
   "source": [
    "## Conditional Statements\n",
    "Use the following jeywords for expressing different types of conditional statements:\n",
    "* if\n",
    "* if else\n",
    "* if elif else"
   ]
  },
  {
   "cell_type": "markdown",
   "metadata": {},
   "source": [
    "## Construction of syntax Conditional Statements\n",
    "* if statement \n",
    "* if-else statement\n",
    "* extended if-else statement\n",
    "\n",
    "### Construction of if statement syntax\n",
    "if logical expression:\n",
    "    code bloc\n",
    "\n",
    "### Construction of if-else statement syntax\n",
    "if logical expression 1:\n",
    "    code bloc 1\n",
    "else :\n",
    "    code bloc 2\n",
    "\n",
    "### Construction of extended if-else statement syntax\n",
    "if logical expression 1:\n",
    "    code bloc 1\n",
    "elif logical expression 2:\n",
    "    code bloc 2\n",
    "else :\n",
    "    code bloc 3"
   ]
  },
  {
   "cell_type": "code",
   "execution_count": 2,
   "metadata": {},
   "outputs": [
    {
     "name": "stdout",
     "output_type": "stream",
     "text": [
      "Stock price of Microsoft is higher than stock price of Apple\n",
      "Sell Apple Stocks\n"
     ]
    }
   ],
   "source": [
    "stock_appl = 151\n",
    "stock_msft = 275\n",
    "if stock_msft > stock_appl:\n",
    "    print(\"Stock price of Microsoft is higher than stock price of Apple\")\n",
    "    print(\"Sell Apple Stocks\")"
   ]
  },
  {
   "cell_type": "code",
   "execution_count": 3,
   "metadata": {},
   "outputs": [],
   "source": [
    "stock_appl = 151\n",
    "stock_msft = 275\n",
    "if stock_appl < stock_msft:\n",
    "    print(\"Stock price of Microsoft is higher than stock price of Apple\")\n",
    "    print(\"Sell Apple Stocks\")"
   ]
  },
  {
   "cell_type": "code",
   "execution_count": 9,
   "metadata": {},
   "outputs": [
    {
     "name": "stdout",
     "output_type": "stream",
     "text": [
      "Stock price of Microsoft is higher than stock price of Apple\n",
      "Buy Apple & Microsoft stocks\n",
      "This is else logic inside else block\n",
      "This is after else logic outside else block\n"
     ]
    }
   ],
   "source": [
    "stock_appl = 151\n",
    "stock_msft = 270\n",
    "if stock_appl > stock_msft:\n",
    "    print(\"This is if logic\")\n",
    "    print(\"Stock price of Apple is higher than stock price of Microsoft\")\n",
    "    print(\"Sell Microsoft stocks\")\n",
    "#print(\"This is after else logic outside else block\") # throws an error\n",
    "else: \n",
    "    print(\"Stock price of Microsoft is higher than stock price of Apple\")\n",
    "    print(\"Buy Apple & Microsoft stocks\")\n",
    "    print(\"This is else logic inside else block\")\n",
    "\n",
    "print(\"This is after else logic outside else block\")"
   ]
  },
  {
   "cell_type": "code",
   "execution_count": 8,
   "metadata": {},
   "outputs": [
    {
     "name": "stdout",
     "output_type": "stream",
     "text": [
      "Stock price of Apple is lower than stock price of Microsoft & stock price of Tesla\n"
     ]
    }
   ],
   "source": [
    "stock_appl = 151\n",
    "stock_msft = 275\n",
    "stock_tesla = 200\n",
    "if stock_appl > stock_msft:\n",
    "    print(\"Stock price of Apple is higher than stock price of Microsoft\")\n",
    "elif stock_appl > stock_tesla: \n",
    "    print(\"Stock price of Apple is lower than stock price of Microsoft & higher stock price of Tesla\")\n",
    "        #print(\"Hello Apple\")\n",
    "else: \n",
    "    print(\"Stock price of Apple is lower than stock price of Microsoft & stock price of Tesla\")"
   ]
  },
  {
   "cell_type": "code",
   "execution_count": 16,
   "metadata": {},
   "outputs": [],
   "source": [
    "# Practice:\n",
    "# 1) Identify the lowest stock using conditional statements and print the same\n",
    "# 2) Identify the second lowest stock using conditional statements and print the same\n",
    "stock_infy = 1743\n",
    "stock_tcs = 3505\n",
    "stock_hcl = 1207 # second lowest\n",
    "stock_wipro = 610 # lowest"
   ]
  },
  {
   "cell_type": "code",
   "execution_count": 17,
   "metadata": {},
   "outputs": [
    {
     "name": "stdout",
     "output_type": "stream",
     "text": [
      "Wipro is the lowest\n"
     ]
    }
   ],
   "source": [
    "if stock_wipro > stock_tcs:\n",
    "    print(\"Wipro > TCS\")\n",
    "elif stock_wipro > stock_infy:\n",
    "    print(\"Wipro > Infy\")\n",
    "elif stock_wipro > stock_hcl:\n",
    "    print(\"Wipro > HCL\")\n",
    "else:\n",
    "    print(\"Wipro is the lowest\")"
   ]
  },
  {
   "cell_type": "code",
   "execution_count": null,
   "metadata": {},
   "outputs": [],
   "source": [
    "if stock_wipro > stock_tcs:\n",
    "    print(\"Wipro > TCS\")\n",
    "elif stock_wipro > stock_infy:\n",
    "    print(\"Wipro > Infy\")\n",
    "elif stock_wipro > stock_hcl:\n",
    "    print(\"Wipro > HCL\")\n",
    "else:\n",
    "    print(\"Wipro is the lowest\")"
   ]
  },
  {
   "cell_type": "code",
   "execution_count": 22,
   "metadata": {},
   "outputs": [
    {
     "data": {
      "text/plain": [
       "[610, 1000, 1207, 3505]"
      ]
     },
     "execution_count": 22,
     "metadata": {},
     "output_type": "execute_result"
    }
   ],
   "source": [
    "stocks = {\"Infy\":1000, \"TCS\": 3505, \"HCL\": 1207, \"Wipro\": 610} \n",
    "sorted(stocks.values())"
   ]
  },
  {
   "cell_type": "code",
   "execution_count": 23,
   "metadata": {},
   "outputs": [
    {
     "name": "stdout",
     "output_type": "stream",
     "text": [
      "HCL > Infy\n",
      "HCL is the higest stock\n"
     ]
    }
   ],
   "source": [
    "if stocks[\"HCL\"] > stocks[\"Infy\"]:\n",
    "    print(\"HCL > Infy\")\n",
    "    print(\"HCL is the higest stock\")\n",
    "elif stocks[\"HCL\"] > stocks[\"TCS\"]:\n",
    "    print(\"HCL > TCS\")\n",
    "    print(\"HCL is third lowest \")\n",
    "elif stocks[\"HCL\"] > stocks[\"Wipro\"]:\n",
    "    print(\"HCL > Wipro\")\n",
    "    print(\"HCL is the second lowest\")\n",
    "else :\n",
    "    print(\"HCL is the lowest\")"
   ]
  },
  {
   "cell_type": "markdown",
   "metadata": {},
   "source": [
    "## Ternary Operators\n",
    "* Inline or one-line code to wrie conditional expressions\n",
    "\n",
    "### Construction of ternary operator in Python\n",
    "expression if conditional_expression_true else conditional_expression_false"
   ]
  },
  {
   "cell_type": "code",
   "execution_count": 11,
   "metadata": {},
   "outputs": [
    {
     "name": "stdout",
     "output_type": "stream",
     "text": [
      "Not Infosys\n"
     ]
    }
   ],
   "source": [
    "stock_name = \"AInfosys\"\n",
    "if stock_name ==\"Infosys\":\n",
    "    print(\"Infosys\")\n",
    "else:\n",
    "    print(\"Not Infosys\")"
   ]
  },
  {
   "cell_type": "code",
   "execution_count": 12,
   "metadata": {},
   "outputs": [
    {
     "name": "stdout",
     "output_type": "stream",
     "text": [
      "Stock Name is Infosys\n"
     ]
    }
   ],
   "source": [
    "# Illustration of Ternary Operator\n",
    "stock_is_infy = True\n",
    "if stock_is_infy:\n",
    "    stock_name = \"Infosys\"\n",
    "else:\n",
    "    stock_name = \"Not Infosys\"\n",
    "\n",
    "print(\"Stock Name is \" + stock_name)"
   ]
  },
  {
   "cell_type": "code",
   "execution_count": 1,
   "metadata": {},
   "outputs": [
    {
     "name": "stdout",
     "output_type": "stream",
     "text": [
      "Stock Name is Infosys\n"
     ]
    }
   ],
   "source": [
    "# Illustration of Ternary Operator\n",
    "stock_is_infy = True\n",
    "stock_name = \"Infosys\" if stock_is_infy else \"Not Infosys\"\n",
    "print(\"Stock Name is \" + stock_name)"
   ]
  },
  {
   "cell_type": "code",
   "execution_count": 13,
   "metadata": {},
   "outputs": [
    {
     "name": "stdout",
     "output_type": "stream",
     "text": [
      "Stock Name is Not Infosys\n"
     ]
    }
   ],
   "source": [
    "# Illustration of Ternary Operator\n",
    "stock_is_infy = False\n",
    "stock_name = \"Infosys\" if stock_is_infy else \"Not Infosys\"\n",
    "print(\"Stock Name is \" + stock_name)"
   ]
  },
  {
   "cell_type": "code",
   "execution_count": 15,
   "metadata": {},
   "outputs": [
    {
     "name": "stdout",
     "output_type": "stream",
     "text": [
      "Infosys > TCS\n"
     ]
    }
   ],
   "source": [
    "stock_infy = 17430\n",
    "stock_tcs = 3505\n",
    "print(\"Infosys > TCS\") if stock_infy > stock_tcs else print(\"Sell TCS Stocks\")"
   ]
  },
  {
   "cell_type": "code",
   "execution_count": null,
   "metadata": {},
   "outputs": [],
   "source": [
    "if stock_is_infy:\n",
    "    stock_name = \"Infosys\"\n",
    "else:\n",
    "    stock_name = \"Not Infosys\"\n",
    "print(\"Stock Name is \" + stock_name)"
   ]
  }
 ],
 "metadata": {
  "interpreter": {
   "hash": "6d46af94c2bbce495f1e668725902fa517c90b1782bcfe2fce0dd9868df553d3"
  },
  "kernelspec": {
   "display_name": "Python 3 (ipykernel)",
   "language": "python",
   "name": "python3"
  },
  "language_info": {
   "codemirror_mode": {
    "name": "ipython",
    "version": 3
   },
   "file_extension": ".py",
   "mimetype": "text/x-python",
   "name": "python",
   "nbconvert_exporter": "python",
   "pygments_lexer": "ipython3",
   "version": "3.10.6"
  }
 },
 "nbformat": 4,
 "nbformat_minor": 2
}
