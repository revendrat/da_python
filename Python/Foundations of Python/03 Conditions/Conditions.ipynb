{
 "cells": [
  {
   "cell_type": "markdown",
   "metadata": {},
   "source": [
    "Python is a *truthy* language that considers everything as true except the following:\n",
    "1. None\n",
    "2. False\n",
    "3. Any \n",
    "    3.1 numeric zero such as 0, 0.0, 0L, 0j <br>\n",
    "    3.2 empty data structure <br>\n",
    "    3.3 empty mapping\n",
    "4. Instances of user defined classes returning zeros or false\n",
    "\n",
    "The foundations of conditional statements are based on understanding boolean data types and boolean expressions."
   ]
  },
  {
   "cell_type": "markdown",
   "metadata": {},
   "source": [
    "## Conditional Statements\n",
    "Use the following jeywords for expressing different types of conditional statements:\n",
    "* if\n",
    "* if else\n",
    "* if elif else"
   ]
  },
  {
   "cell_type": "markdown",
   "metadata": {},
   "source": [
    "## Construction of syntax Conditional Statements\n",
    "* if statement \n",
    "* if-else statement\n",
    "* extended if-else statement\n",
    "\n",
    "### Construction of if statement syntax\n",
    "if logical expression:\n",
    "    code bloc\n",
    "\n",
    "### Construction of if-else statement syntax\n",
    "if logical expression 1:\n",
    "    code bloc 1\n",
    "else :\n",
    "    code bloc 2\n",
    "\n",
    "### Construction of extended if-else statement syntax\n",
    "if logical expression 1:\n",
    "    code bloc 1\n",
    "elif logical expression 2:\n",
    "    code bloc 2\n",
    "else :\n",
    "    code bloc 3"
   ]
  },
  {
   "cell_type": "code",
   "execution_count": 2,
   "metadata": {},
   "outputs": [],
   "source": [
    "stock_infy = 1743\n",
    "stock_tcs = 3505\n",
    "if stock_infy > stock_tcs:\n",
    "    print(\"Stock price of Infosys is higher than stock price of TCS\")\n",
    "    print(\"Sell TCS Stocks\")"
   ]
  },
  {
   "cell_type": "code",
   "execution_count": 3,
   "metadata": {},
   "outputs": [
    {
     "name": "stdout",
     "output_type": "stream",
     "text": [
      "Stock price of TCS is higher than stock price of Infosys\n",
      "Buy TCS & INFY stocks\n"
     ]
    }
   ],
   "source": [
    "stock_infy = 1743\n",
    "stock_tcs = 3505\n",
    "if stock_infy > stock_tcs:\n",
    "    print(\"Stock price of Infosys is higher than stock price of TCS\")\n",
    "    print(\"Sell TCS stocks\")\n",
    "else: \n",
    "    print(\"Stock price of TCS is higher than stock price of Infosys\")\n",
    "    print(\"Buy TCS & INFY stocks\")"
   ]
  },
  {
   "cell_type": "code",
   "execution_count": 6,
   "metadata": {},
   "outputs": [
    {
     "name": "stdout",
     "output_type": "stream",
     "text": [
      "Stock price of Infosys is lower than stock price of TCS & higher stock price of HCL\n"
     ]
    }
   ],
   "source": [
    "stock_infy = 1743\n",
    "stock_tcs = 3505\n",
    "stock_hcl = 1207\n",
    "if stock_infy > stock_tcs:\n",
    "    print(\"Stock price of Infosys is higher than stock price of TCS\")\n",
    "elif stock_infy > stock_hcl: \n",
    "    print(\"Stock price of Infosys is lower than stock price of TCS & higher stock price of HCL\")\n",
    "else: \n",
    "    print(\"Stock price of Infosys is lower than stock price of TCS & stock price of HCL\")"
   ]
  },
  {
   "cell_type": "code",
   "execution_count": 4,
   "metadata": {},
   "outputs": [],
   "source": [
    "# Practice:\n",
    "# 1) Identify the lowest stock using conditional statements and print the same\n",
    "# 2) Identify the second lowest stock using conditional statements and print the same\n",
    "stock_infy = 1743\n",
    "stock_tcs = 3505\n",
    "stock_hcl = 1207\n",
    "stock_wipro = 610"
   ]
  },
  {
   "cell_type": "markdown",
   "metadata": {},
   "source": [
    "## Ternary Operators\n",
    "* Inline or one-line code to wrie conditional expressions\n",
    "\n",
    "### Construction of ternary operator in Python\n",
    "expression if conditional_expression_true else conditional_expression_false"
   ]
  },
  {
   "cell_type": "code",
   "execution_count": 1,
   "metadata": {},
   "outputs": [
    {
     "name": "stdout",
     "output_type": "stream",
     "text": [
      "Stock Name is Infosys\n"
     ]
    }
   ],
   "source": [
    "# Illustration of Ternary Operator\n",
    "stock_is_infy = True\n",
    "stock_name = \"Infosys\" if stock_is_infy else \"Not Infosys\"\n",
    "print(\"Stock Name is \" + stock_name)"
   ]
  },
  {
   "cell_type": "code",
   "execution_count": null,
   "metadata": {},
   "outputs": [],
   "source": [
    "stock_infy = 1743\n",
    "stock_tcs = 3505\n",
    "print(\"Infosys > TCS\") if stock_infy > stock_tcs else print(\"Sell TCS Stocks\")"
   ]
  },
  {
   "cell_type": "code",
   "execution_count": null,
   "metadata": {},
   "outputs": [],
   "source": [
    "if stock_is_infy:\n",
    "    stock_name = \"Infosys\"\n",
    "else:\n",
    "    stock_name = \"Not Infosys\"\n",
    "print(\"Stock Name is \" + stock_name)"
   ]
  }
 ],
 "metadata": {
  "interpreter": {
   "hash": "6d46af94c2bbce495f1e668725902fa517c90b1782bcfe2fce0dd9868df553d3"
  },
  "kernelspec": {
   "display_name": "Python 3.8.8 64-bit ('base': conda)",
   "name": "python3"
  },
  "language_info": {
   "codemirror_mode": {
    "name": "ipython",
    "version": 3
   },
   "file_extension": ".py",
   "mimetype": "text/x-python",
   "name": "python",
   "nbconvert_exporter": "python",
   "pygments_lexer": "ipython3",
   "version": "3.8.12"
  },
  "orig_nbformat": 4
 },
 "nbformat": 4,
 "nbformat_minor": 2
}
