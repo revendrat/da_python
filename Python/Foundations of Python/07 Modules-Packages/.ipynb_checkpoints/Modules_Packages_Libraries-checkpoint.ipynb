{
 "cells": [
  {
   "cell_type": "markdown",
   "metadata": {},
   "source": [
    "### Modules, Packages & Libraries\n",
    "* Organise reusable python functions in different files, and directories using modules, packages & libraries\n",
    "* Four key benefits\n",
    "    * Simplicity\n",
    "    * Maintainability\n",
    "    * Reusability\n",
    "    * Scoping\n",
    "* use *import* to access the modules, packages & libraries\n",
    "* Example *import package_name as pn*\n",
    "\n",
    "### Modules \n",
    "* Python files with some python code in it are considered as modules\n",
    "* To modularise code, and when you have different functions\n",
    "\n",
    "### Packages\n",
    "* Contains modules in a folder, and additionally contains `__init__`.py file\n",
    "* Package folder structure:\n",
    "* package_name folder\n",
    "    * `__init__`.py\n",
    "    * module1.py\n",
    "    * module2.py\n",
    "* `__init__`.py \n",
    "    * need not contain any code\n",
    "    * useful for Python to identify package_name folder as a package\n",
    "\n",
    "### Libraries\n",
    "* A collection of modules & packages organised in different files & folders"
   ]
  },
  {
   "cell_type": "code",
   "execution_count": 1,
   "metadata": {},
   "outputs": [
    {
     "data": {
      "text/plain": [
       "11"
      ]
     },
     "execution_count": 1,
     "metadata": {},
     "output_type": "execute_result"
    }
   ],
   "source": [
    "# Illustration to access demo_module.py\n",
    "# Method 1\n",
    "import demo_module\n",
    "demo_module.add_two(5,6)"
   ]
  },
  {
   "cell_type": "code",
   "execution_count": 3,
   "metadata": {},
   "outputs": [],
   "source": [
    "import demo_module"
   ]
  },
  {
   "cell_type": "code",
   "execution_count": 4,
   "metadata": {},
   "outputs": [
    {
     "data": {
      "text/plain": [
       "-1"
      ]
     },
     "execution_count": 4,
     "metadata": {},
     "output_type": "execute_result"
    }
   ],
   "source": [
    "demo_module.add_two(9,10)\n",
    "demo_module.sub_two(9,10)"
   ]
  },
  {
   "cell_type": "code",
   "execution_count": 5,
   "metadata": {},
   "outputs": [
    {
     "data": {
      "text/plain": [
       "11"
      ]
     },
     "execution_count": 5,
     "metadata": {},
     "output_type": "execute_result"
    }
   ],
   "source": [
    "# Illustration to access demo_module.py\n",
    "# Method 2\n",
    "import demo_module as dm\n",
    "dm.add_two(5,6)"
   ]
  },
  {
   "cell_type": "code",
   "execution_count": 6,
   "metadata": {},
   "outputs": [],
   "source": [
    "import demo_module as dm"
   ]
  },
  {
   "cell_type": "code",
   "execution_count": 7,
   "metadata": {},
   "outputs": [
    {
     "name": "stdout",
     "output_type": "stream",
     "text": [
      "-1\n",
      "30\n",
      "16\n"
     ]
    }
   ],
   "source": [
    "print(dm.sub_two(5,6))\n",
    "print(dm.mul_two(5,6))\n",
    "print(dm.pow_two(2,4))"
   ]
  },
  {
   "cell_type": "code",
   "execution_count": 8,
   "metadata": {},
   "outputs": [
    {
     "data": {
      "text/plain": [
       "11"
      ]
     },
     "execution_count": 8,
     "metadata": {},
     "output_type": "execute_result"
    }
   ],
   "source": [
    "# Illustration to access demo_module.py\n",
    "# Method 3\n",
    "from demo_module import add_two\n",
    "add_two(5,6)"
   ]
  },
  {
   "cell_type": "code",
   "execution_count": 9,
   "metadata": {},
   "outputs": [
    {
     "data": {
      "text/plain": [
       "-1"
      ]
     },
     "execution_count": 9,
     "metadata": {},
     "output_type": "execute_result"
    }
   ],
   "source": [
    "# Illustration to access demo_module.py\n",
    "# Method 1\n",
    "import demo_module\n",
    "demo_module.sub_two(5,6)"
   ]
  },
  {
   "cell_type": "code",
   "execution_count": 10,
   "metadata": {},
   "outputs": [
    {
     "data": {
      "text/plain": [
       "-1"
      ]
     },
     "execution_count": 10,
     "metadata": {},
     "output_type": "execute_result"
    }
   ],
   "source": [
    "# Illustration to access demo_module.py\n",
    "# Method 2\n",
    "import demo_module as dm\n",
    "dm.sub_two(5,6)"
   ]
  },
  {
   "cell_type": "code",
   "execution_count": 11,
   "metadata": {},
   "outputs": [
    {
     "data": {
      "text/plain": [
       "-1"
      ]
     },
     "execution_count": 11,
     "metadata": {},
     "output_type": "execute_result"
    }
   ],
   "source": [
    "# Illustration to access demo_module.py\n",
    "# Method 3\n",
    "from demo_module import sub_two\n",
    "sub_two(5,6)"
   ]
  },
  {
   "cell_type": "markdown",
   "metadata": {},
   "source": [
    "## Python Packages Demo\n",
    "* Two directories:\n",
    "    * demo_package\n",
    "    * demo_package/sub_demo_package/\n",
    "* Each directory has a python file(s)\n",
    "    * demo_package has addition and subtraction of two numbers\n",
    "    * sub_demo_package has addition and subtraction of three numbers"
   ]
  },
  {
   "cell_type": "code",
   "execution_count": 12,
   "metadata": {},
   "outputs": [
    {
     "name": "stdout",
     "output_type": "stream",
     "text": [
      "11\n",
      "18\n"
     ]
    }
   ],
   "source": [
    "# Add two numbers and then three numbers\n",
    "from demo_package.demo_module_two_add_sub import demo_add_two\n",
    "from demo_package.sub_demo_package.sub_demo_three_add_sub import demo_add_three\n",
    "\n",
    "print(demo_add_two(5,6))\n",
    "print(demo_add_three(5,6,7))\n",
    "\n"
   ]
  },
  {
   "cell_type": "code",
   "execution_count": 2,
   "metadata": {},
   "outputs": [
    {
     "data": {
      "text/plain": [
       "11"
      ]
     },
     "execution_count": 2,
     "metadata": {},
     "output_type": "execute_result"
    }
   ],
   "source": [
    "import demo_package.demo_module_two_add_sub as dmtas \n",
    "\n",
    "dmtas.demo_add_two(5,6)\n"
   ]
  },
  {
   "cell_type": "code",
   "execution_count": 3,
   "metadata": {},
   "outputs": [
    {
     "data": {
      "text/plain": [
       "18"
      ]
     },
     "execution_count": 3,
     "metadata": {},
     "output_type": "execute_result"
    }
   ],
   "source": [
    "import demo_package.sub_demo_package.sub_demo_three_add_sub as sdtas\n",
    "sdtas.demo_add_three(5,6,7)"
   ]
  },
  {
   "cell_type": "markdown",
   "metadata": {},
   "source": [
    "## Install python packages\n",
    "### Install pip\n",
    "* First install pip using: *python3 pip install --latest_version* \n",
    "\n",
    "### Upgrade pip\n",
    "* upgrade to latest pip version using: *python3 pip install --upgrade pip*\n",
    "\n",
    "### List all installed python packages\n",
    "* *python3 -m pip list*\n",
    "\n",
    "## Install python packages\n",
    "* *python3 -m pip install package_name*\n",
    "* *python3 -m pip install numpy*\n",
    "\n",
    "### On Jupyter Notebook environments\n",
    "* use \"!\"\n",
    "* *!pip install numpy*\n",
    "\n"
   ]
  },
  {
   "cell_type": "code",
   "execution_count": 13,
   "metadata": {},
   "outputs": [
    {
     "name": "stdout",
     "output_type": "stream",
     "text": [
      "Requirement already satisfied: pip in /Users/revendrat/rev_venv/lib/python3.10/site-packages (23.0.1)\r\n"
     ]
    }
   ],
   "source": [
    "!pip install --upgrade pip"
   ]
  },
  {
   "cell_type": "code",
   "execution_count": 14,
   "metadata": {},
   "outputs": [
    {
     "name": "stdout",
     "output_type": "stream",
     "text": [
      "Package                  Version\r\n",
      "------------------------ -----------\r\n",
      "aiofiles                 22.1.0\r\n",
      "aiosqlite                0.18.0\r\n",
      "altair                   4.2.2\r\n",
      "anyio                    3.6.2\r\n",
      "appnope                  0.1.3\r\n",
      "argon2-cffi              21.3.0\r\n",
      "argon2-cffi-bindings     21.2.0\r\n",
      "arrow                    1.2.3\r\n",
      "asttokens                2.2.1\r\n",
      "attrs                    22.2.0\r\n",
      "Babel                    2.12.1\r\n",
      "backcall                 0.2.0\r\n",
      "beautifulsoup4           4.11.2\r\n",
      "bleach                   6.0.0\r\n",
      "blinker                  1.5\r\n",
      "cachetools               5.3.0\r\n",
      "certifi                  2022.12.7\r\n",
      "cffi                     1.15.1\r\n",
      "charset-normalizer       3.0.1\r\n",
      "click                    8.1.3\r\n",
      "comm                     0.1.2\r\n",
      "debugpy                  1.6.6\r\n",
      "decorator                5.1.1\r\n",
      "defusedxml               0.7.1\r\n",
      "entrypoints              0.4\r\n",
      "executing                1.2.0\r\n",
      "fastjsonschema           2.16.2\r\n",
      "fqdn                     1.5.1\r\n",
      "gitdb                    4.0.10\r\n",
      "GitPython                3.1.30\r\n",
      "idna                     3.4\r\n",
      "importlib-metadata       6.0.0\r\n",
      "ipykernel                6.21.1\r\n",
      "ipython                  8.9.0\r\n",
      "ipython-genutils         0.2.0\r\n",
      "ipywidgets               8.0.4\r\n",
      "isoduration              20.11.0\r\n",
      "jedi                     0.18.2\r\n",
      "Jinja2                   3.1.2\r\n",
      "json5                    0.9.11\r\n",
      "jsonpointer              2.3\r\n",
      "jsonschema               4.17.3\r\n",
      "jupyter                  1.0.0\r\n",
      "jupyter_client           8.0.2\r\n",
      "jupyter-console          6.4.4\r\n",
      "jupyter_core             5.2.0\r\n",
      "jupyter-events           0.6.3\r\n",
      "jupyter_server           2.2.1\r\n",
      "jupyter_server_fileid    0.8.0\r\n",
      "jupyter_server_terminals 0.4.4\r\n",
      "jupyter_server_ydoc      0.6.1\r\n",
      "jupyter-ydoc             0.2.3\r\n",
      "jupyterlab               3.6.1\r\n",
      "jupyterlab-pygments      0.2.2\r\n",
      "jupyterlab_server        2.20.0\r\n",
      "jupyterlab-widgets       3.0.5\r\n",
      "markdown-it-py           2.1.0\r\n",
      "MarkupSafe               2.1.2\r\n",
      "matplotlib-inline        0.1.6\r\n",
      "mdurl                    0.1.2\r\n",
      "mistune                  2.0.4\r\n",
      "nbclassic                0.5.1\r\n",
      "nbclient                 0.7.2\r\n",
      "nbconvert                7.2.9\r\n",
      "nbformat                 5.7.3\r\n",
      "nest-asyncio             1.5.6\r\n",
      "notebook                 6.5.2\r\n",
      "notebook_shim            0.2.2\r\n",
      "numpy                    1.24.1\r\n",
      "packaging                23.0\r\n",
      "pandas                   1.5.3\r\n",
      "pandocfilters            1.5.0\r\n",
      "parso                    0.8.3\r\n",
      "pexpect                  4.8.0\r\n",
      "pickleshare              0.7.5\r\n",
      "Pillow                   9.4.0\r\n",
      "pip                      23.0.1\r\n",
      "platformdirs             2.6.2\r\n",
      "prometheus-client        0.16.0\r\n",
      "prompt-toolkit           3.0.36\r\n",
      "protobuf                 3.20.3\r\n",
      "psutil                   5.9.4\r\n",
      "ptyprocess               0.7.0\r\n",
      "pure-eval                0.2.2\r\n",
      "pyarrow                  11.0.0\r\n",
      "pycparser                2.21\r\n",
      "pydeck                   0.8.0\r\n",
      "Pygments                 2.14.0\r\n",
      "Pympler                  1.0.1\r\n",
      "pyrsistent               0.19.3\r\n",
      "python-dateutil          2.8.2\r\n",
      "python-json-logger       2.0.4\r\n",
      "pytz                     2022.7.1\r\n",
      "pytz-deprecation-shim    0.1.0.post0\r\n",
      "PyYAML                   6.0\r\n",
      "pyzmq                    25.0.0\r\n",
      "qtconsole                5.4.0\r\n",
      "QtPy                     2.3.0\r\n",
      "requests                 2.28.2\r\n",
      "rfc3339-validator        0.1.4\r\n",
      "rfc3986-validator        0.1.1\r\n",
      "rich                     13.3.1\r\n",
      "semver                   2.13.0\r\n",
      "Send2Trash               1.8.0\r\n",
      "setuptools               63.2.0\r\n",
      "six                      1.16.0\r\n",
      "smmap                    5.0.0\r\n",
      "sniffio                  1.3.0\r\n",
      "soupsieve                2.3.2.post1\r\n",
      "stack-data               0.6.2\r\n",
      "streamlit                1.17.0\r\n",
      "terminado                0.17.1\r\n",
      "tinycss2                 1.2.1\r\n",
      "toml                     0.10.2\r\n",
      "tomli                    2.0.1\r\n",
      "toolz                    0.12.0\r\n",
      "tornado                  6.2\r\n",
      "traitlets                5.9.0\r\n",
      "typing_extensions        4.4.0\r\n",
      "tzdata                   2022.7\r\n",
      "tzlocal                  4.2\r\n",
      "uri-template             1.2.0\r\n",
      "urllib3                  1.26.14\r\n",
      "validators               0.20.0\r\n",
      "wcwidth                  0.2.6\r\n",
      "webcolors                1.12\r\n",
      "webencodings             0.5.1\r\n",
      "websocket-client         1.5.1\r\n",
      "widgetsnbextension       4.0.5\r\n",
      "y-py                     0.5.9\r\n",
      "ypy-websocket            0.8.2\r\n",
      "zipp                     3.12.1\r\n"
     ]
    }
   ],
   "source": [
    "!pip list"
   ]
  },
  {
   "cell_type": "code",
   "execution_count": 15,
   "metadata": {},
   "outputs": [
    {
     "name": "stdout",
     "output_type": "stream",
     "text": [
      "Collecting cryptocompare\n",
      "  Downloading cryptocompare-0.7.6.tar.gz (6.0 kB)\n",
      "  Preparing metadata (setup.py) ... \u001b[?25ldone\n",
      "\u001b[?25hRequirement already satisfied: requests in /Users/revendrat/rev_venv/lib/python3.10/site-packages (from cryptocompare) (2.28.2)\n",
      "Requirement already satisfied: urllib3<1.27,>=1.21.1 in /Users/revendrat/rev_venv/lib/python3.10/site-packages (from requests->cryptocompare) (1.26.14)\n",
      "Requirement already satisfied: certifi>=2017.4.17 in /Users/revendrat/rev_venv/lib/python3.10/site-packages (from requests->cryptocompare) (2022.12.7)\n",
      "Requirement already satisfied: charset-normalizer<4,>=2 in /Users/revendrat/rev_venv/lib/python3.10/site-packages (from requests->cryptocompare) (3.0.1)\n",
      "Requirement already satisfied: idna<4,>=2.5 in /Users/revendrat/rev_venv/lib/python3.10/site-packages (from requests->cryptocompare) (3.4)\n",
      "Installing collected packages: cryptocompare\n",
      "\u001b[33m  DEPRECATION: cryptocompare is being installed using the legacy 'setup.py install' method, because it does not have a 'pyproject.toml' and the 'wheel' package is not installed. pip 23.1 will enforce this behaviour change. A possible replacement is to enable the '--use-pep517' option. Discussion can be found at https://github.com/pypa/pip/issues/8559\u001b[0m\u001b[33m\n",
      "\u001b[0m  Running setup.py install for cryptocompare ... \u001b[?25ldone\n",
      "\u001b[?25hSuccessfully installed cryptocompare-0.7.6\n"
     ]
    }
   ],
   "source": [
    "!pip install cryptocompare"
   ]
  },
  {
   "cell_type": "code",
   "execution_count": 16,
   "metadata": {},
   "outputs": [
    {
     "name": "stdout",
     "output_type": "stream",
     "text": [
      "Collecting cryptocompare-python\n",
      "  Downloading cryptocompare_python-0.0.2-py3-none-any.whl (1.8 kB)\n",
      "Installing collected packages: cryptocompare-python\n",
      "Successfully installed cryptocompare-python-0.0.2\n"
     ]
    }
   ],
   "source": [
    "!pip install cryptocompare-python"
   ]
  },
  {
   "cell_type": "code",
   "execution_count": 17,
   "metadata": {},
   "outputs": [
    {
     "ename": "SyntaxError",
     "evalue": "invalid syntax (2767819286.py, line 2)",
     "output_type": "error",
     "traceback": [
      "\u001b[0;36m  Cell \u001b[0;32mIn[17], line 2\u001b[0;36m\u001b[0m\n\u001b[0;31m    cc.\u001b[0m\n\u001b[0m       ^\u001b[0m\n\u001b[0;31mSyntaxError\u001b[0m\u001b[0;31m:\u001b[0m invalid syntax\n"
     ]
    }
   ],
   "source": [
    "import cryptocompare as cc\n",
    "cc."
   ]
  },
  {
   "cell_type": "code",
   "execution_count": null,
   "metadata": {},
   "outputs": [],
   "source": [
    "!pip install cricNotifier"
   ]
  },
  {
   "cell_type": "code",
   "execution_count": null,
   "metadata": {},
   "outputs": [],
   "source": [
    "import cricNotifier as cn\n",
    "cn."
   ]
  }
 ],
 "metadata": {
  "interpreter": {
   "hash": "6d46af94c2bbce495f1e668725902fa517c90b1782bcfe2fce0dd9868df553d3"
  },
  "kernelspec": {
   "display_name": "Python 3 (ipykernel)",
   "language": "python",
   "name": "python3"
  },
  "language_info": {
   "codemirror_mode": {
    "name": "ipython",
    "version": 3
   },
   "file_extension": ".py",
   "mimetype": "text/x-python",
   "name": "python",
   "nbconvert_exporter": "python",
   "pygments_lexer": "ipython3",
   "version": "3.10.6"
  }
 },
 "nbformat": 4,
 "nbformat_minor": 2
}
