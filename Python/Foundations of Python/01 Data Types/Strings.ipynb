{
 "cells": [
  {
   "cell_type": "markdown",
   "id": "17fda208",
   "metadata": {},
   "source": [
    "## Strings Data Type\n",
    "* Python handles strings with sophistication\n",
    "* Single or doble quotes define a string\n",
    "* Backslash \\ is considered as an escape character for strings in Python"
   ]
  },
  {
   "cell_type": "code",
   "execution_count": 1,
   "id": "8fc2b4b6",
   "metadata": {},
   "outputs": [
    {
     "data": {
      "text/plain": [
       "'hello'"
      ]
     },
     "execution_count": 1,
     "metadata": {},
     "output_type": "execute_result"
    }
   ],
   "source": [
    "'Hello'\n",
    "# the above line declares a string which is equivalent to declaration in the below line\n",
    "\"hello\""
   ]
  },
  {
   "cell_type": "code",
   "execution_count": 2,
   "id": "f519622e",
   "metadata": {},
   "outputs": [
    {
     "data": {
      "text/plain": [
       "'hello'"
      ]
     },
     "execution_count": 2,
     "metadata": {},
     "output_type": "execute_result"
    }
   ],
   "source": [
    "\"hello\""
   ]
  },
  {
   "cell_type": "code",
   "execution_count": 3,
   "id": "aa52eed0",
   "metadata": {},
   "outputs": [
    {
     "data": {
      "text/plain": [
       "'Insert \"double quote\" between two single quotes'"
      ]
     },
     "execution_count": 3,
     "metadata": {},
     "output_type": "execute_result"
    }
   ],
   "source": [
    "'Insert \"double quote\" between two single quotes'"
   ]
  },
  {
   "cell_type": "code",
   "execution_count": 4,
   "id": "88e41b58",
   "metadata": {},
   "outputs": [
    {
     "data": {
      "text/plain": [
       "'Insert \"double quote\" between two double quotes using an escape character'"
      ]
     },
     "execution_count": 4,
     "metadata": {},
     "output_type": "execute_result"
    }
   ],
   "source": [
    "\"Insert \\\"double quote\\\" between two double quotes using an escape character\""
   ]
  },
  {
   "cell_type": "code",
   "execution_count": 5,
   "id": "7917b7ea",
   "metadata": {},
   "outputs": [
    {
     "data": {
      "text/plain": [
       "\"How's it?\""
      ]
     },
     "execution_count": 5,
     "metadata": {},
     "output_type": "execute_result"
    }
   ],
   "source": [
    "# Use double quotes to inlcude single quote within a string\n",
    "\"How's it?\""
   ]
  },
  {
   "cell_type": "code",
   "execution_count": 6,
   "id": "e87a5997",
   "metadata": {},
   "outputs": [
    {
     "data": {
      "text/plain": [
       "\"How's it?\""
      ]
     },
     "execution_count": 6,
     "metadata": {},
     "output_type": "execute_result"
    }
   ],
   "source": [
    "# Use escape character to inlcude single quote within a string\n",
    "'How\\'s it?'"
   ]
  },
  {
   "cell_type": "code",
   "execution_count": 7,
   "id": "362d284a",
   "metadata": {},
   "outputs": [
    {
     "data": {
      "text/plain": [
       "'It\\'s, \"out!\"'"
      ]
     },
     "execution_count": 7,
     "metadata": {},
     "output_type": "execute_result"
    }
   ],
   "source": [
    "# Use the following format to include single quote as well as double quotes in a string.\n",
    "# Use escape character for a single quote, and leave double quotes as such\n",
    "'It\\'s, \"out!\"'"
   ]
  },
  {
   "cell_type": "markdown",
   "id": "abf7452a",
   "metadata": {
    "pycharm": {
     "name": "#%% md\n"
    }
   },
   "source": [
    "## Strings are immutable\n",
    "Immutable implies cannot be modified or updated"
   ]
  },
  {
   "cell_type": "code",
   "execution_count": 8,
   "id": "535f3a60",
   "metadata": {
    "pycharm": {
     "name": "#%%\n"
    }
   },
   "outputs": [
    {
     "name": "stdout",
     "output_type": "stream",
     "text": [
      "Python\n"
     ]
    }
   ],
   "source": [
    "# Illustration of Strings Immutability\n",
    "string1 = \"Python\"\n",
    "print(string1)"
   ]
  },
  {
   "cell_type": "code",
   "execution_count": 11,
   "id": "ce65e39e",
   "metadata": {},
   "outputs": [
    {
     "data": {
      "text/plain": [
       "'o'"
      ]
     },
     "execution_count": 11,
     "metadata": {},
     "output_type": "execute_result"
    }
   ],
   "source": [
    "string1[5-1]"
   ]
  },
  {
   "cell_type": "code",
   "execution_count": 9,
   "id": "c3b8cc89",
   "metadata": {
    "pycharm": {
     "name": "#%%\n"
    }
   },
   "outputs": [
    {
     "ename": "TypeError",
     "evalue": "'str' object does not support item assignment",
     "output_type": "error",
     "traceback": [
      "\u001b[1;31m---------------------------------------------------------------------------\u001b[0m",
      "\u001b[1;31mTypeError\u001b[0m                                 Traceback (most recent call last)",
      "\u001b[1;32m<ipython-input-9-299d6df847fc>\u001b[0m in \u001b[0;36m<module>\u001b[1;34m\u001b[0m\n\u001b[1;32m----> 1\u001b[1;33m \u001b[0mstring1\u001b[0m\u001b[1;33m[\u001b[0m\u001b[1;36m1\u001b[0m\u001b[1;33m]\u001b[0m \u001b[1;33m=\u001b[0m \u001b[1;34m\"i\"\u001b[0m\u001b[1;33m\u001b[0m\u001b[1;33m\u001b[0m\u001b[0m\n\u001b[0m",
      "\u001b[1;31mTypeError\u001b[0m: 'str' object does not support item assignment"
     ]
    }
   ],
   "source": [
    "string1[1] = \"i\""
   ]
  },
  {
   "cell_type": "markdown",
   "id": "e08a86ac",
   "metadata": {
    "pycharm": {
     "name": "#%% md\n"
    }
   },
   "source": [
    "## Strings are encoded as UTF-8\n",
    "* Python does not detect string literals as bytes.\n",
    "* Assume you declared x variable with a string, then x is considered as string literal\n",
    "* x = \"Hello Python!\"\n",
    "* x is a string literal in Python\n",
    "* x defined as string literal can be converted into bytes format using encode() function\n",
    "* Likewise, any string literal in byte format cane be converted to string format using decode() function\n",
    "\n",
    "Illustration in the following cells:"
   ]
  },
  {
   "cell_type": "code",
   "execution_count": 12,
   "id": "063d390d",
   "metadata": {
    "pycharm": {
     "name": "#%%\n"
    }
   },
   "outputs": [
    {
     "data": {
      "text/plain": [
       "1"
      ]
     },
     "execution_count": 12,
     "metadata": {},
     "output_type": "execute_result"
    }
   ],
   "source": [
    "# Assign x to mu\n",
    "x = \"μ\"\n",
    "#Check the length of the string x\n",
    "len(x)"
   ]
  },
  {
   "cell_type": "code",
   "execution_count": 14,
   "id": "3f9486b9",
   "metadata": {
    "pycharm": {
     "name": "#%%\n"
    }
   },
   "outputs": [
    {
     "data": {
      "text/plain": [
       "True"
      ]
     },
     "execution_count": 14,
     "metadata": {},
     "output_type": "execute_result"
    }
   ],
   "source": [
    "# Verify if x is string literal format\n",
    "isinstance(x, str)"
   ]
  },
  {
   "cell_type": "code",
   "execution_count": 13,
   "id": "91b82a24",
   "metadata": {
    "pycharm": {
     "name": "#%%\n"
    }
   },
   "outputs": [
    {
     "data": {
      "text/plain": [
       "False"
      ]
     },
     "execution_count": 13,
     "metadata": {},
     "output_type": "execute_result"
    }
   ],
   "source": [
    "# Verify if x is in bytes format\n",
    "isinstance(x, bytes)"
   ]
  },
  {
   "cell_type": "code",
   "execution_count": 15,
   "id": "da2014e3",
   "metadata": {
    "pycharm": {
     "name": "#%%\n"
    }
   },
   "outputs": [
    {
     "name": "stdout",
     "output_type": "stream",
     "text": [
      "b'\\xce\\xbc'\n"
     ]
    }
   ],
   "source": [
    "# Convert string literal x to bytes format using encode() function\n",
    "x.encode('utf8')\n",
    "y = x.encode('utf8')\n",
    "print(y)"
   ]
  },
  {
   "cell_type": "code",
   "execution_count": 16,
   "id": "5cf5d462",
   "metadata": {
    "pycharm": {
     "name": "#%%\n"
    }
   },
   "outputs": [
    {
     "data": {
      "text/plain": [
       "False"
      ]
     },
     "execution_count": 16,
     "metadata": {},
     "output_type": "execute_result"
    }
   ],
   "source": [
    "# Verify if y is string literal format\n",
    "isinstance(y,str)"
   ]
  },
  {
   "cell_type": "code",
   "execution_count": 17,
   "id": "b569d5cb",
   "metadata": {
    "pycharm": {
     "name": "#%%\n"
    }
   },
   "outputs": [
    {
     "data": {
      "text/plain": [
       "True"
      ]
     },
     "execution_count": 17,
     "metadata": {},
     "output_type": "execute_result"
    }
   ],
   "source": [
    "# Verify if x is bytes format\n",
    "isinstance(y, bytes)"
   ]
  },
  {
   "cell_type": "code",
   "execution_count": 18,
   "id": "da391bf1",
   "metadata": {
    "pycharm": {
     "name": "#%%\n"
    }
   },
   "outputs": [
    {
     "data": {
      "text/plain": [
       "'μ'"
      ]
     },
     "execution_count": 18,
     "metadata": {},
     "output_type": "execute_result"
    }
   ],
   "source": [
    "# Convert y to string using decode() function\n",
    "y.decode('utf8')"
   ]
  },
  {
   "cell_type": "markdown",
   "id": "6f414dbe",
   "metadata": {
    "pycharm": {
     "name": "#%% md\n"
    }
   },
   "source": [
    "## Operations on strings\n",
    "Using re module, i.e., regular expressions module, powerful operations in strings may be performed\n",
    "A few common operations:\n",
    "* Slicing strings\n",
    "* Concatenate strings\n",
    "* Duplication of strings\n",
    "* Strings substitution\n",
    "* Formatting Strings"
   ]
  },
  {
   "cell_type": "markdown",
   "id": "a3234f26",
   "metadata": {
    "pycharm": {
     "name": "#%% md\n"
    }
   },
   "source": [
    "### Slicing Strings\n",
    "Say a string contains employee ID in this format\n",
    "* Year of joining (four digits)\n",
    "* Department (three characters)\n",
    "* Six digit unique code (Six digits)\n",
    "* Examples:\n",
    "    * 2009HRM9842\n",
    "    * 2017ITO8901\n",
    "* Say you want to extract year, department or unique empolyee code\n",
    "* You would use strings slicing operations"
   ]
  },
  {
   "cell_type": "code",
   "execution_count": 19,
   "id": "2e0e809a",
   "metadata": {
    "pycharm": {
     "name": "#%%\n"
    }
   },
   "outputs": [],
   "source": [
    "# Assign employee ID 1 and Employee ID 2\n",
    "empID1 = \"2009HRM9842\"\n",
    "empID2 = \"2017ITO8901\""
   ]
  },
  {
   "cell_type": "markdown",
   "id": "e1cbfd4e",
   "metadata": {
    "pycharm": {
     "name": "#%% md\n"
    }
   },
   "source": [
    "* Python is zero indexed\n",
    "* Value in the first position begins at position 0\n",
    "* Value in the last position is identified at n-1\n",
    "* Values between 0 and n-1 may be accordingly found\n",
    "* When slicing, between two positions (m and n), begin the slicing at m-1 and end at n\n",
    "\n",
    "Illustrations provided below:"
   ]
  },
  {
   "cell_type": "code",
   "execution_count": 22,
   "id": "5ab43f07",
   "metadata": {
    "pycharm": {
     "name": "#%%\n"
    },
    "scrolled": true
   },
   "outputs": [
    {
     "name": "stdout",
     "output_type": "stream",
     "text": [
      "2\n",
      "2\n",
      "R\n"
     ]
    }
   ],
   "source": [
    "## Extract first element in empID1\n",
    "print(empID1[0])\n",
    "## Extract last element in empID1\n",
    "print(empID1[10]) #orempID1[-1]\n",
    "\n",
    "# extract R\n",
    "print(empID1[6-1]) "
   ]
  },
  {
   "cell_type": "code",
   "execution_count": 23,
   "id": "b3f7c557",
   "metadata": {},
   "outputs": [
    {
     "name": "stdout",
     "output_type": "stream",
     "text": [
      "2\n",
      "0\n",
      "0\n",
      "9\n",
      "H\n"
     ]
    }
   ],
   "source": [
    "empID1 = \"2009HRM9842\"\n",
    "print(empID1[0])\n",
    "print(empID1[1])\n",
    "print(empID1[2])\n",
    "print(empID1[3])\n",
    "print(empID1[4])"
   ]
  },
  {
   "cell_type": "code",
   "execution_count": 24,
   "id": "b31452ea",
   "metadata": {
    "pycharm": {
     "name": "#%%\n"
    }
   },
   "outputs": [
    {
     "name": "stdout",
     "output_type": "stream",
     "text": [
      "2009\n",
      "2017\n"
     ]
    }
   ],
   "source": [
    "# Extract year from Employee ID 1 and Employee ID 2\n",
    "print(empID1[0:4])\n",
    "print(empID2[0:4])"
   ]
  },
  {
   "cell_type": "code",
   "execution_count": 25,
   "id": "8a599dac",
   "metadata": {
    "pycharm": {
     "name": "#%%\n"
    }
   },
   "outputs": [
    {
     "data": {
      "text/plain": [
       "'HRM'"
      ]
     },
     "execution_count": 25,
     "metadata": {},
     "output_type": "execute_result"
    }
   ],
   "source": [
    "# Extract Department\n",
    "empID1[4:7]"
   ]
  },
  {
   "cell_type": "code",
   "execution_count": 26,
   "id": "dc92e705",
   "metadata": {
    "pycharm": {
     "name": "#%%\n"
    }
   },
   "outputs": [
    {
     "data": {
      "text/plain": [
       "'ITO'"
      ]
     },
     "execution_count": 26,
     "metadata": {},
     "output_type": "execute_result"
    }
   ],
   "source": [
    "empID2[4:7]"
   ]
  },
  {
   "cell_type": "code",
   "execution_count": 28,
   "id": "def903f1",
   "metadata": {},
   "outputs": [
    {
     "ename": "IndexError",
     "evalue": "string index out of range",
     "output_type": "error",
     "traceback": [
      "\u001b[1;31m---------------------------------------------------------------------------\u001b[0m",
      "\u001b[1;31mIndexError\u001b[0m                                Traceback (most recent call last)",
      "\u001b[1;32m<ipython-input-28-93a2008f1f4c>\u001b[0m in \u001b[0;36m<module>\u001b[1;34m\u001b[0m\n\u001b[1;32m----> 1\u001b[1;33m \u001b[0mempID1\u001b[0m\u001b[1;33m[\u001b[0m\u001b[1;36m11\u001b[0m\u001b[1;33m]\u001b[0m\u001b[1;33m\u001b[0m\u001b[1;33m\u001b[0m\u001b[0m\n\u001b[0m",
      "\u001b[1;31mIndexError\u001b[0m: string index out of range"
     ]
    }
   ],
   "source": [
    "empID1[11]"
   ]
  },
  {
   "cell_type": "code",
   "execution_count": null,
   "id": "cd858314",
   "metadata": {
    "pycharm": {
     "name": "#%%\n"
    }
   },
   "outputs": [],
   "source": [
    "# Extract Unique Code\n",
    "empID1[7:11]"
   ]
  },
  {
   "cell_type": "code",
   "execution_count": null,
   "id": "9870f6b6",
   "metadata": {
    "pycharm": {
     "name": "#%%\n"
    }
   },
   "outputs": [],
   "source": [
    "empID2[7:11]"
   ]
  },
  {
   "cell_type": "code",
   "execution_count": 29,
   "id": "a1bbd36f",
   "metadata": {
    "pycharm": {
     "name": "#%%\n"
    }
   },
   "outputs": [
    {
     "data": {
      "text/plain": [
       "'09HRM9842'"
      ]
     },
     "execution_count": 29,
     "metadata": {},
     "output_type": "execute_result"
    }
   ],
   "source": [
    "# Select all values from 2nd position to the last position\n",
    "empID1[2:]"
   ]
  },
  {
   "cell_type": "code",
   "execution_count": 30,
   "id": "9fb8f2f6",
   "metadata": {
    "pycharm": {
     "name": "#%%\n"
    }
   },
   "outputs": [
    {
     "data": {
      "text/plain": [
       "'20'"
      ]
     },
     "execution_count": 30,
     "metadata": {},
     "output_type": "execute_result"
    }
   ],
   "source": [
    "# Select all values from 0'th position to 2nd position\n",
    "empID1[:2]"
   ]
  },
  {
   "cell_type": "markdown",
   "id": "1960a4c9",
   "metadata": {
    "pycharm": {
     "name": "#%% md\n"
    }
   },
   "source": [
    "## Concatenate Strings\n",
    "* use \"+\" operator to concatenate strings. or\n",
    "* use both strings with parantheses and without comma (Note: Do not assign strings to variables)"
   ]
  },
  {
   "cell_type": "code",
   "execution_count": 32,
   "id": "90824ba2",
   "metadata": {
    "pycharm": {
     "name": "#%%\n"
    }
   },
   "outputs": [
    {
     "name": "stdout",
     "output_type": "stream",
     "text": [
      "BITS\n",
      "Pilani\n",
      "BITSPilani\n",
      "BITS Pilani!\n"
     ]
    }
   ],
   "source": [
    "# Concatenate strings with \"+\" operator\n",
    "string1 = \"BITS\"\n",
    "string2 = \"Pilani\"\n",
    "print(string1)\n",
    "print(string2)\n",
    "print(string1 + string2) #concatenate two strings\n",
    "print(string1 + \" \" + string2 +\"!\") #concatenate two strings with space and exclamation"
   ]
  },
  {
   "cell_type": "code",
   "execution_count": 31,
   "id": "36645477",
   "metadata": {
    "pycharm": {
     "name": "#%%\n"
    }
   },
   "outputs": [
    {
     "data": {
      "text/plain": [
       "'BITSPilani'"
      ]
     },
     "execution_count": 31,
     "metadata": {},
     "output_type": "execute_result"
    }
   ],
   "source": [
    "(\"BITS\" \"Pilani\")"
   ]
  },
  {
   "cell_type": "code",
   "execution_count": 33,
   "id": "d3abdd8d",
   "metadata": {
    "pycharm": {
     "name": "#%%\n"
    }
   },
   "outputs": [
    {
     "name": "stdout",
     "output_type": "stream",
     "text": [
      "BITSPilani\n",
      "BITS Pilani!\n"
     ]
    }
   ],
   "source": [
    "# Concatenate strings with parantheses\n",
    "print((\"BITS\" \"Pilani\")) #concatenate two strings\n",
    "print((\"BITS\" \" \" \"Pilani\" \"!\")) #concatenate two strings with space and exclamation"
   ]
  },
  {
   "cell_type": "markdown",
   "id": "8deeeffc",
   "metadata": {
    "pycharm": {
     "name": "#%% md\n"
    }
   },
   "source": [
    "## Duplication of strings\n",
    "* use \"*\" operator to duplicate strings"
   ]
  },
  {
   "cell_type": "code",
   "execution_count": 34,
   "id": "6e318c63",
   "metadata": {
    "pycharm": {
     "name": "#%%\n"
    }
   },
   "outputs": [
    {
     "data": {
      "text/plain": [
       "'BITSBITSBITSBITSBITS'"
      ]
     },
     "execution_count": 34,
     "metadata": {},
     "output_type": "execute_result"
    }
   ],
   "source": [
    "# Duplicate string1 for five times\n",
    "string1 = \"BITS\"\n",
    "string1 * 5"
   ]
  },
  {
   "cell_type": "code",
   "execution_count": 35,
   "id": "2ceabfa4",
   "metadata": {
    "pycharm": {
     "name": "#%%\n"
    }
   },
   "outputs": [
    {
     "data": {
      "text/plain": [
       "'PilaniPilaniPilani'"
      ]
     },
     "execution_count": 35,
     "metadata": {},
     "output_type": "execute_result"
    }
   ],
   "source": [
    "# Duplicate string \"Pilani\" thrice\n",
    "'Pilani'*3 #or \"Pilani\"*3"
   ]
  },
  {
   "cell_type": "code",
   "execution_count": 36,
   "id": "746b9167",
   "metadata": {
    "pycharm": {
     "name": "#%%\n"
    }
   },
   "outputs": [
    {
     "data": {
      "text/plain": [
       "'PilaniPilaniPilani'"
      ]
     },
     "execution_count": 36,
     "metadata": {},
     "output_type": "execute_result"
    }
   ],
   "source": [
    "\"Pilani\"*3"
   ]
  },
  {
   "cell_type": "markdown",
   "id": "580bc4d2",
   "metadata": {
    "pycharm": {
     "name": "#%% md\n"
    }
   },
   "source": [
    "* use replace() function from re module (regular expressions module)"
   ]
  },
  {
   "cell_type": "code",
   "execution_count": 37,
   "id": "61fe41e0",
   "metadata": {
    "pycharm": {
     "name": "#%%\n"
    }
   },
   "outputs": [
    {
     "data": {
      "text/plain": [
       "'BITS Goa'"
      ]
     },
     "execution_count": 37,
     "metadata": {},
     "output_type": "execute_result"
    }
   ],
   "source": [
    "string1 = \"BITS Pilani\"\n",
    "string2 = \"Goa\"\n",
    "\n",
    "#substitute Pilani with Goa in string1\n",
    "string1\n",
    "string1.replace('Pilani', 'Goa')"
   ]
  },
  {
   "cell_type": "markdown",
   "id": "a025c89e",
   "metadata": {
    "pycharm": {
     "name": "#%% md\n"
    }
   },
   "source": [
    "## Formatting Strings\n",
    "Several methods to format strings in Python. A few techniques discussed below:\n",
    "* Append type followed by value (in paranthesis)\n",
    "* use \"+\" operator to combine string and value\n",
    "\n",
    "Note:\n",
    "* use %d for integer data types\n",
    "* use %f for float data types\n",
    "* use 5s for string data types\n",
    "\n",
    "Illustrations shown below:"
   ]
  },
  {
   "cell_type": "code",
   "execution_count": 38,
   "id": "dab6a60f",
   "metadata": {
    "pycharm": {
     "name": "#%%\n"
    }
   },
   "outputs": [
    {
     "data": {
      "text/plain": [
       "'The result of 5x3 = 15'"
      ]
     },
     "execution_count": 38,
     "metadata": {},
     "output_type": "execute_result"
    }
   ],
   "source": [
    "# Append type followed by value (in paranthesis)\n",
    "\"The result of 5x3 = %d\" %(15)"
   ]
  },
  {
   "cell_type": "code",
   "execution_count": null,
   "id": "4550b69a",
   "metadata": {
    "pycharm": {
     "name": "#%%\n"
    }
   },
   "outputs": [],
   "source": [
    "# Append type followed by value (in paranthesis): integer data type\n",
    "\"The result of 5x3.5 = %d\" %(17.5)"
   ]
  },
  {
   "cell_type": "code",
   "execution_count": 39,
   "id": "8b0a601d",
   "metadata": {
    "pycharm": {
     "name": "#%%\n"
    }
   },
   "outputs": [
    {
     "data": {
      "text/plain": [
       "'The result of 10/4 = 2.500000'"
      ]
     },
     "execution_count": 39,
     "metadata": {},
     "output_type": "execute_result"
    }
   ],
   "source": [
    "# Append type followed by value (in paranthesis) : float data type\n",
    "\"The result of 10/4 = %f\" %(2.5)"
   ]
  },
  {
   "cell_type": "code",
   "execution_count": 40,
   "id": "2d155c09",
   "metadata": {
    "pycharm": {
     "name": "#%%\n"
    }
   },
   "outputs": [
    {
     "data": {
      "text/plain": [
       "'You are programming in Python'"
      ]
     },
     "execution_count": 40,
     "metadata": {},
     "output_type": "execute_result"
    }
   ],
   "source": [
    "# Append type followed by value (in paranthesis) : string data type\n",
    "\"You are programming in %s\" %(\"Python\")"
   ]
  },
  {
   "cell_type": "code",
   "execution_count": 41,
   "id": "a55f703b",
   "metadata": {
    "pycharm": {
     "name": "#%%\n"
    }
   },
   "outputs": [
    {
     "data": {
      "text/plain": [
       "'The result of 5x3 = 15'"
      ]
     },
     "execution_count": 41,
     "metadata": {},
     "output_type": "execute_result"
    }
   ],
   "source": [
    "# Append using + operator: integer data type\n",
    "\"The result of 5x3 = \" +str(15)"
   ]
  },
  {
   "cell_type": "code",
   "execution_count": 42,
   "id": "7d541276",
   "metadata": {
    "pycharm": {
     "name": "#%%\n"
    }
   },
   "outputs": [
    {
     "data": {
      "text/plain": [
       "'The result of 10/4 = 2.5'"
      ]
     },
     "execution_count": 42,
     "metadata": {},
     "output_type": "execute_result"
    }
   ],
   "source": [
    "# Append using + operator : float data type\n",
    "\"The result of 10/4 = \" +str(10/4)"
   ]
  },
  {
   "cell_type": "code",
   "execution_count": 43,
   "id": "9342ee5b",
   "metadata": {
    "pycharm": {
     "name": "#%%\n"
    }
   },
   "outputs": [
    {
     "data": {
      "text/plain": [
       "'You are programming in Python'"
      ]
     },
     "execution_count": 43,
     "metadata": {},
     "output_type": "execute_result"
    }
   ],
   "source": [
    "# Append using + operator : string data type\n",
    "\"You are programming in \" +str(\"Python\")"
   ]
  },
  {
   "cell_type": "code",
   "execution_count": null,
   "id": "83eb7fbc",
   "metadata": {},
   "outputs": [],
   "source": []
  }
 ],
 "metadata": {
  "kernelspec": {
   "display_name": "Python 3",
   "language": "python",
   "name": "python3"
  },
  "language_info": {
   "codemirror_mode": {
    "name": "ipython",
    "version": 3
   },
   "file_extension": ".py",
   "mimetype": "text/x-python",
   "name": "python",
   "nbconvert_exporter": "python",
   "pygments_lexer": "ipython3",
   "version": "3.8.8"
  }
 },
 "nbformat": 4,
 "nbformat_minor": 5
}
