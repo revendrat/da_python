{
 "cells": [
  {
   "cell_type": "markdown",
   "id": "190db4bb",
   "metadata": {},
   "source": [
    "## Numeric Data Types\n",
    "* Integers\n",
    "* Real numbers"
   ]
  },
  {
   "cell_type": "code",
   "execution_count": 1,
   "id": "7b3067d9",
   "metadata": {},
   "outputs": [
    {
     "name": "stdout",
     "output_type": "stream",
     "text": [
      "66\n",
      "67.0\n",
      "<class 'int'>\n",
      "<class 'float'>\n"
     ]
    }
   ],
   "source": [
    "#Converts a real number (float) to an integer\n",
    "print(int(66.6666666666))\n",
    "\n",
    "#Converts an integer to a real number (float)\n",
    "print(float(67))\n",
    "\n",
    "# Check the data type using \"type\" function\n",
    "## Results in integer data type\n",
    "print(type(66))\n",
    "\n",
    "## Results in a real number (float) data type\n",
    "print(type(float(67)))\n"
   ]
  },
  {
   "cell_type": "markdown",
   "id": "8ae59ad0",
   "metadata": {},
   "source": [
    "### Numbers and Arithmetic\n",
    "  * \"+\" for addition\n",
    "  * \"-\" for substraction\n",
    "  * \"*\" multiplication\n",
    "  * \"/\" division\n",
    "  * \"**\" or pow() for exponentiation\n",
    "  * \"%\" modulus to extract remainder\n",
    "  * \"//\" floor division to extract quotient\n"
   ]
  },
  {
   "cell_type": "code",
   "execution_count": null,
   "id": "f17b8bd5",
   "metadata": {},
   "outputs": [],
   "source": [
    "# addition using \"+\"\n",
    "3+7"
   ]
  },
  {
   "cell_type": "code",
   "execution_count": null,
   "id": "e1c660dd",
   "metadata": {},
   "outputs": [],
   "source": [
    "# subtraction using \"-\"\n",
    "9-7"
   ]
  },
  {
   "cell_type": "code",
   "execution_count": null,
   "id": "ba1374e3",
   "metadata": {},
   "outputs": [],
   "source": [
    "# multiplication using \"*\"\n",
    "7*8"
   ]
  },
  {
   "cell_type": "code",
   "execution_count": null,
   "id": "86cc8ae2",
   "metadata": {},
   "outputs": [],
   "source": [
    "# division using \"/\"\n",
    "18/3"
   ]
  },
  {
   "cell_type": "code",
   "execution_count": null,
   "id": "a3c126e6",
   "metadata": {},
   "outputs": [],
   "source": [
    "# integer division through double slash\n",
    "# results in quotient\n",
    "9//2"
   ]
  },
  {
   "cell_type": "code",
   "execution_count": null,
   "id": "52983197",
   "metadata": {},
   "outputs": [],
   "source": [
    "# modulus results in remainder\n",
    "9%2\n",
    "13%7"
   ]
  },
  {
   "cell_type": "markdown",
   "id": "b9f70cb6",
   "metadata": {},
   "source": [
    "#### Using multiple arithmetic operators\n",
    "$FV= (PV*(1+r/n)^{nt})$ <br>\n",
    "where: <br>\n",
    "* PV = present value of money (say 1000 rupees)\n",
    "* FV = future value of money (to be calculated)\n",
    "* r = interest rate (say 6.25%)\n",
    "* n = number of compounding periods (semi-anually)\n",
    "* t = number of years (5 years)"
   ]
  },
  {
   "cell_type": "code",
   "execution_count": 2,
   "id": "22ef8172",
   "metadata": {},
   "outputs": [
    {
     "data": {
      "text/plain": [
       "1360.3154027780997"
      ]
     },
     "execution_count": 2,
     "metadata": {},
     "output_type": "execute_result"
    }
   ],
   "source": [
    "# Calculation of future value using ** for exponentiation\n",
    "1000*(1+0.0625/2)**(2*5) "
   ]
  },
  {
   "cell_type": "code",
   "execution_count": 3,
   "id": "02220214",
   "metadata": {},
   "outputs": [
    {
     "data": {
      "text/plain": [
       "1360.3154027780997"
      ]
     },
     "execution_count": 3,
     "metadata": {},
     "output_type": "execute_result"
    }
   ],
   "source": [
    "# Calculation of future value using pow() for exponentiation\n",
    "1000*pow((1+0.0625/2), 2*5)"
   ]
  },
  {
   "cell_type": "code",
   "execution_count": null,
   "metadata": {},
   "outputs": [],
   "source": []
  }
 ],
 "metadata": {
  "kernelspec": {
   "display_name": "Python 3",
   "language": "python",
   "name": "python3"
  },
  "language_info": {
   "codemirror_mode": {
    "name": "ipython",
    "version": 3
   },
   "file_extension": ".py",
   "mimetype": "text/x-python",
   "name": "python",
   "nbconvert_exporter": "python",
   "pygments_lexer": "ipython3",
   "version": "3.8.8"
  }
 },
 "nbformat": 4,
 "nbformat_minor": 2
}
