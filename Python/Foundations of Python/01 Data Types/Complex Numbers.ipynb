{
 "cells": [
  {
   "cell_type": "markdown",
   "id": "85faef7a",
   "metadata": {},
   "source": [
    "## Complex Numbers Data Types\n",
    "* Python provides basic support to complex numbers. \n",
    "* Recommend to use Numpy module for operations on complex numbers\n",
    "* Complex numbers represented using \"j\" or \"J\"\n",
    "* Use a numeric value before j, so that Python recognises it as a complex data type\n",
    "* In case using j or J is difficult to represent complex numbers, then use the function complex() to represent complex numbers \n",
    "* Use \"real\" to extract real numbers from complex numbers\n",
    "* Use \"imag\" to extract imaginary part from complex numbers"
   ]
  },
  {
   "cell_type": "code",
   "execution_count": 1,
   "id": "6de98f90",
   "metadata": {},
   "outputs": [
    {
     "ename": "NameError",
     "evalue": "name 'j' is not defined",
     "output_type": "error",
     "traceback": [
      "\u001b[1;31m---------------------------------------------------------------------------\u001b[0m",
      "\u001b[1;31mNameError\u001b[0m                                 Traceback (most recent call last)",
      "\u001b[1;32m<ipython-input-1-dad28ab41be9>\u001b[0m in \u001b[0;36m<module>\u001b[1;34m\u001b[0m\n\u001b[0;32m      1\u001b[0m \u001b[1;31m# The below line of code throws an error as 'j' is not defined\u001b[0m\u001b[1;33m\u001b[0m\u001b[1;33m\u001b[0m\u001b[1;33m\u001b[0m\u001b[0m\n\u001b[1;32m----> 2\u001b[1;33m \u001b[0mtype\u001b[0m\u001b[1;33m(\u001b[0m\u001b[0mj\u001b[0m\u001b[1;33m)\u001b[0m\u001b[1;33m\u001b[0m\u001b[1;33m\u001b[0m\u001b[0m\n\u001b[0m",
      "\u001b[1;31mNameError\u001b[0m: name 'j' is not defined"
     ]
    }
   ],
   "source": [
    "# The below line of code throws an error as 'j' is not defined\n",
    "type(j)\n"
   ]
  },
  {
   "cell_type": "code",
   "execution_count": 1,
   "metadata": {},
   "outputs": [
    {
     "name": "stdout",
     "output_type": "stream",
     "text": [
      "j:  2\n"
     ]
    }
   ],
   "source": [
    "j=2\n",
    "print(\"j: \", j)"
   ]
  },
  {
   "cell_type": "code",
   "execution_count": 2,
   "metadata": {
    "scrolled": true
   },
   "outputs": [
    {
     "data": {
      "text/plain": [
       "int"
      ]
     },
     "execution_count": 2,
     "metadata": {},
     "output_type": "execute_result"
    }
   ],
   "source": [
    "type(j)"
   ]
  },
  {
   "cell_type": "code",
   "execution_count": 3,
   "id": "64a18cdc",
   "metadata": {},
   "outputs": [
    {
     "name": "stdout",
     "output_type": "stream",
     "text": [
      "<class 'complex'>\n",
      "<class 'complex'>\n"
     ]
    }
   ],
   "source": [
    "# now try this with a number attached to complex form 'j'\n",
    "print(type(1j)) #or\n",
    "print(type (1-2j))"
   ]
  },
  {
   "cell_type": "code",
   "execution_count": 4,
   "metadata": {},
   "outputs": [
    {
     "name": "stdout",
     "output_type": "stream",
     "text": [
      "2\n",
      "-3\n"
     ]
    }
   ],
   "source": [
    "# now try this with a number attached to complex form 'j'\n",
    "print(1*j) #or\n",
    "print(1-2*j)"
   ]
  },
  {
   "cell_type": "code",
   "execution_count": 4,
   "id": "af1945bb",
   "metadata": {},
   "outputs": [
    {
     "data": {
      "text/plain": [
       "(1-2j)"
      ]
     },
     "execution_count": 4,
     "metadata": {},
     "output_type": "execute_result"
    }
   ],
   "source": [
    "1-2j # is same as\n",
    "complex(1,-2)"
   ]
  },
  {
   "cell_type": "code",
   "execution_count": 1,
   "id": "829fc5f3",
   "metadata": {},
   "outputs": [
    {
     "name": "stdout",
     "output_type": "stream",
     "text": [
      "1.0\n",
      "-2.0\n"
     ]
    }
   ],
   "source": [
    "cnum = 1-2j\n",
    "print(cnum.real)\n",
    "print(cnum.imag)\n",
    "cnum"
   ]
  },
  {
   "cell_type": "markdown",
   "id": "06740376",
   "metadata": {},
   "source": [
    "### Operations on complex numbers\n",
    "* Addition\n",
    "* Subtraction\n",
    "* Multiplication\n",
    "* Division"
   ]
  },
  {
   "cell_type": "code",
   "execution_count": 6,
   "id": "7bcbfa23",
   "metadata": {},
   "outputs": [
    {
     "data": {
      "text/plain": [
       "(3-1j)"
      ]
     },
     "execution_count": 6,
     "metadata": {},
     "output_type": "execute_result"
    }
   ],
   "source": [
    "# Addition\n",
    "1+2j+2-3j"
   ]
  },
  {
   "cell_type": "code",
   "execution_count": 7,
   "id": "cda1a078",
   "metadata": {},
   "outputs": [
    {
     "data": {
      "text/plain": [
       "(3-1j)"
      ]
     },
     "execution_count": 7,
     "metadata": {},
     "output_type": "execute_result"
    }
   ],
   "source": [
    "# Addition\n",
    "complex(1+2j) + complex(2-3j)"
   ]
  },
  {
   "cell_type": "code",
   "execution_count": 9,
   "id": "7b7ab56c",
   "metadata": {},
   "outputs": [
    {
     "data": {
      "text/plain": [
       "(-1+5j)"
      ]
     },
     "execution_count": 9,
     "metadata": {},
     "output_type": "execute_result"
    }
   ],
   "source": [
    "# Subtraction\n",
    "1+2j-(2-3j) "
   ]
  },
  {
   "cell_type": "code",
   "execution_count": null,
   "id": "6d7c4959",
   "metadata": {},
   "outputs": [],
   "source": [
    "# Subtraction\n",
    "complex(1+2j) - complex(2-3j)"
   ]
  },
  {
   "cell_type": "code",
   "execution_count": 10,
   "id": "3189c0bf",
   "metadata": {},
   "outputs": [
    {
     "data": {
      "text/plain": [
       "(8+1j)"
      ]
     },
     "execution_count": 10,
     "metadata": {},
     "output_type": "execute_result"
    }
   ],
   "source": [
    "# Multiplication\n",
    "(1+2j)*(2-3j) "
   ]
  },
  {
   "cell_type": "code",
   "execution_count": null,
   "id": "3e8f0bc9",
   "metadata": {},
   "outputs": [],
   "source": [
    "# Multiplication\n",
    "complex(1+2j) * complex(2-3j)"
   ]
  },
  {
   "cell_type": "code",
   "execution_count": null,
   "id": "954cb652",
   "metadata": {},
   "outputs": [],
   "source": [
    "# Division\n",
    "(1+1j)/(2+4j) "
   ]
  },
  {
   "cell_type": "code",
   "execution_count": null,
   "id": "be12f479",
   "metadata": {},
   "outputs": [],
   "source": [
    "# Division\n",
    "complex(1+1j) / complex(2+4j)"
   ]
  },
  {
   "cell_type": "code",
   "execution_count": null,
   "id": "cd596504",
   "metadata": {},
   "outputs": [],
   "source": [
    "# Absolute value of a complex number\n",
    "abs(3+4j) # is equivalent to (3+4j)*(3-4j)"
   ]
  },
  {
   "cell_type": "code",
   "execution_count": null,
   "id": "31fb2bf1",
   "metadata": {},
   "outputs": [],
   "source": [
    "(3+4j)*(3-4j)"
   ]
  }
 ],
 "metadata": {
  "interpreter": {
   "hash": "6d46af94c2bbce495f1e668725902fa517c90b1782bcfe2fce0dd9868df553d3"
  },
  "kernelspec": {
   "display_name": "Python 3 (ipykernel)",
   "language": "python",
   "name": "python3"
  },
  "language_info": {
   "codemirror_mode": {
    "name": "ipython",
    "version": 3
   },
   "file_extension": ".py",
   "mimetype": "text/x-python",
   "name": "python",
   "nbconvert_exporter": "python",
   "pygments_lexer": "ipython3",
   "version": "3.10.6"
  }
 },
 "nbformat": 4,
 "nbformat_minor": 2
}
