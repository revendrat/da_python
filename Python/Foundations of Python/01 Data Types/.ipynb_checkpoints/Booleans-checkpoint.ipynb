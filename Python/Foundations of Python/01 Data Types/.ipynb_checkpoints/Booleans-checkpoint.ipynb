{
 "cells": [
  {
   "cell_type": "markdown",
   "metadata": {},
   "source": [
    "* Logical or Boolean Types \n",
    "* Conditional statements and iteration functions heavily rely on logical or boolean types in Python  "
   ]
  },
  {
   "cell_type": "markdown",
   "metadata": {},
   "source": [
    "* Python is considered as a truthy language.\n",
    "* All things are true true except for the following:\n",
    "    * None\n",
    "    * False\n",
    "    * zero of any numeric type, for example, 0, 0L, 0.0, 0j.\n",
    "    * any empty sequence, for example, ”, (), [].\n",
    "    * any empty mapping, for example, {}.\n",
    "    * instances of user-defined classes, if the class defines a __nonzero__() or\n",
    "    * __len__() method, when that method returns the integer zero or bool value\n",
    "    * False.\n",
    "\n",
    "* Reference: Python Programming for Data Analysis by José Unpingco"
   ]
  },
  {
   "cell_type": "markdown",
   "metadata": {},
   "source": [
    "Illustrations on Booleans or Logical Types are done below:"
   ]
  },
  {
   "cell_type": "code",
   "execution_count": 3,
   "metadata": {},
   "outputs": [
    {
     "name": "stdout",
     "output_type": "stream",
     "text": [
      "bool(0) is recognised as FALSE : False\n",
      "bool(1) is recognised as TRUE : True\n",
      "bool([]) is recognised as empty list, FALSE : False\n",
      "bool({}) is recognised as empty data dictionary, FALSE : False\n",
      "bool(()) is recognised as empty tuple, FALSE : False\n"
     ]
    }
   ],
   "source": [
    "# bool is the keyword to recognize boolean or logical types\n",
    "print(\"bool(0) is recognised as FALSE :\", bool(0))\n",
    "print(\"bool(1) is recognised as TRUE :\", bool(1))\n",
    "print(\"bool([]) is recognised as empty list, FALSE :\", bool([]))\n",
    "print(\"bool({}) is recognised as empty data dictionary, FALSE :\", bool({}))\n",
    "print(\"bool(()) is recognised as empty tuple, FALSE :\", bool(()))"
   ]
  },
  {
   "cell_type": "code",
   "execution_count": 6,
   "metadata": {},
   "outputs": [
    {
     "name": "stdout",
     "output_type": "stream",
     "text": [
      "3 < 5 : True\n",
      "3 > 5 : False\n",
      "3 == 5 : False\n",
      "3 <= 5 :  True\n",
      "3 => 5 : False\n",
      "3 != 5 :  True\n"
     ]
    }
   ],
   "source": [
    "# Comparisons\n",
    "# Comparing two values\n",
    "# Less than\n",
    "print(\"3 < 5 :\",3 < 5)\n",
    "# Greater than\n",
    "print(\"3 > 5 :\",3 > 5)\n",
    "\n",
    "# equal to\n",
    "print(\"3 == 5 :\", 3 == 5)\n",
    "\n",
    "# less than equal to\n",
    "print(\"3 <= 5 : \", 3 <= 5)\n",
    "\n",
    "# greater than equal to\n",
    "print(\"3 => 5 :\", 3 >= 5)\n",
    "\n",
    "# Not equal to\n",
    "print(\"3 != 5 : \", 3 != 5)"
   ]
  },
  {
   "cell_type": "code",
   "execution_count": 7,
   "metadata": {},
   "outputs": [
    {
     "name": "stdout",
     "output_type": "stream",
     "text": [
      "3 < 5 < 7 : True\n",
      "3 > 5 > 7 : False\n",
      "3 == 5 == 7 : False\n",
      "3 <= 5 <= 7 :  True\n",
      "3 => 5 >= 7 : False\n",
      "3 != 5 != 7:  True\n"
     ]
    }
   ],
   "source": [
    "# Comparisons\n",
    "# Comparing three values\n",
    "# Less than\n",
    "print(\"3 < 5 < 7 :\",3 < 5 < 7)\n",
    "# Greater than\n",
    "print(\"3 > 5 > 7 :\", 3 > 5 >7)\n",
    "\n",
    "# equal to\n",
    "print(\"3 == 5 == 7 :\", 3 == 5 == 7)\n",
    "\n",
    "# less than equal to\n",
    "print(\"3 <= 5 <= 7 : \", 3 <= 5 <= 7)\n",
    "\n",
    "# greater than equal to\n",
    "print(\"3 => 5 >= 7 :\", 3 >= 5 >= 7)\n",
    "\n",
    "# Not equal to\n",
    "print(\"3 != 5 != 7: \", 3 != 5 != 7)"
   ]
  },
  {
   "cell_type": "markdown",
   "metadata": {},
   "source": [
    "## Comparisons using\n",
    "* disjunctions (or), \n",
    "* negations (not), and \n",
    "* conjunctions (and) also"
   ]
  },
  {
   "cell_type": "code",
   "execution_count": 9,
   "metadata": {},
   "outputs": [
    {
     "data": {
      "text/plain": [
       "True"
      ]
     },
     "execution_count": 9,
     "metadata": {},
     "output_type": "execute_result"
    }
   ],
   "source": [
    "3 < 5 and 5 < 7 or 5 != 4"
   ]
  },
  {
   "cell_type": "code",
   "execution_count": 3,
   "metadata": {},
   "outputs": [
    {
     "data": {
      "text/plain": [
       "False"
      ]
     },
     "execution_count": 3,
     "metadata": {},
     "output_type": "execute_result"
    }
   ],
   "source": [
    "# How does paranthesis change the interpretation?\n",
    "(3 > 5 and 5 < 7) or 5 == 4"
   ]
  },
  {
   "cell_type": "code",
   "execution_count": 2,
   "metadata": {},
   "outputs": [
    {
     "data": {
      "text/plain": [
       "True"
      ]
     },
     "execution_count": 2,
     "metadata": {},
     "output_type": "execute_result"
    }
   ],
   "source": [
    "# How does paranthesis change the interpretation?\n",
    "3 > 5 and (5 < 7 or 5 == 4)"
   ]
  },
  {
   "cell_type": "code",
   "execution_count": 12,
   "metadata": {},
   "outputs": [
    {
     "data": {
      "text/plain": [
       "True"
      ]
     },
     "execution_count": 12,
     "metadata": {},
     "output_type": "execute_result"
    }
   ],
   "source": [
    "# How does paranthesis change the interpretation?\n",
    "3 < 5 and 5 > 7 or 5 != 4"
   ]
  },
  {
   "cell_type": "code",
   "execution_count": 13,
   "metadata": {},
   "outputs": [
    {
     "data": {
      "text/plain": [
       "True"
      ]
     },
     "execution_count": 13,
     "metadata": {},
     "output_type": "execute_result"
    }
   ],
   "source": [
    "# How does paranthesis change the interpretation?\n",
    "(3 < 5 and 5 > 7) or 5 != 4"
   ]
  },
  {
   "cell_type": "code",
   "execution_count": 14,
   "metadata": {},
   "outputs": [
    {
     "data": {
      "text/plain": [
       "True"
      ]
     },
     "execution_count": 14,
     "metadata": {},
     "output_type": "execute_result"
    }
   ],
   "source": [
    "# How does paranthesis change the interpretation?\n",
    "3 < 5 and (5 > 7 or 5 != 4)"
   ]
  },
  {
   "cell_type": "code",
   "execution_count": 4,
   "metadata": {},
   "outputs": [
    {
     "data": {
      "text/plain": [
       "False"
      ]
     },
     "execution_count": 4,
     "metadata": {},
     "output_type": "execute_result"
    }
   ],
   "source": [
    "## Group parantheses for readability\n",
    "# Similar to conditions used in conditional statements & iterables\n",
    "\n",
    "#left user    from system\n",
    "[-1,-2,-3] == (1,2,3)\n"
   ]
  },
  {
   "cell_type": "code",
   "execution_count": 16,
   "metadata": {},
   "outputs": [
    {
     "data": {
      "text/plain": [
       "False"
      ]
     },
     "execution_count": 16,
     "metadata": {},
     "output_type": "execute_result"
    }
   ],
   "source": [
    "(-1,-2,-3) > (1,2,3)"
   ]
  },
  {
   "cell_type": "code",
   "execution_count": 5,
   "metadata": {},
   "outputs": [],
   "source": [
    "# Use sets to perform faster search \n",
    "gender = set({\"Male\", \"Female\", \"Other\"})"
   ]
  },
  {
   "cell_type": "code",
   "execution_count": 6,
   "metadata": {},
   "outputs": [
    {
     "data": {
      "text/plain": [
       "True"
      ]
     },
     "execution_count": 6,
     "metadata": {},
     "output_type": "execute_result"
    }
   ],
   "source": [
    "\"Female\" in gender"
   ]
  },
  {
   "cell_type": "code",
   "execution_count": 7,
   "metadata": {},
   "outputs": [
    {
     "name": "stdout",
     "output_type": "stream",
     "text": [
      "\\\\\n"
     ]
    }
   ],
   "source": [
    "print(\"\\\\\\\\\")"
   ]
  },
  {
   "cell_type": "code",
   "execution_count": null,
   "metadata": {},
   "outputs": [],
   "source": []
  }
 ],
 "metadata": {
  "interpreter": {
   "hash": "6d46af94c2bbce495f1e668725902fa517c90b1782bcfe2fce0dd9868df553d3"
  },
  "kernelspec": {
   "display_name": "Python 3 (ipykernel)",
   "language": "python",
   "name": "python3"
  },
  "language_info": {
   "codemirror_mode": {
    "name": "ipython",
    "version": 3
   },
   "file_extension": ".py",
   "mimetype": "text/x-python",
   "name": "python",
   "nbconvert_exporter": "python",
   "pygments_lexer": "ipython3",
   "version": "3.10.6"
  }
 },
 "nbformat": 4,
 "nbformat_minor": 2
}
