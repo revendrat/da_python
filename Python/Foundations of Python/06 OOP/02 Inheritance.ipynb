{
 "cells": [
  {
   "cell_type": "markdown",
   "metadata": {},
   "source": [
    "## Inheritance Illustration"
   ]
  },
  {
   "cell_type": "code",
   "execution_count": 12,
   "metadata": {},
   "outputs": [],
   "source": [
    "stocks_dict = {\"INFY\":\"IT\", \"TCS\": \"IT\", \"HDFC\": \"BANK\", \"TATA MOTORS\": \"AUTO\", \"RELIANCE\": \"EVERYTHING\" }"
   ]
  },
  {
   "cell_type": "code",
   "execution_count": 13,
   "metadata": {},
   "outputs": [],
   "source": [
    "# Create a class of Stock\n",
    "class Stock(): #note superclass is not used\n",
    "    def __init__(self, stock_name, ex_name):\n",
    "        self.stock_name = \"RELIANCE\"\n",
    "        self.ex_name    = ex_name\n",
    "    \n",
    "    def display_stock(self):\n",
    "        print(\"The selected stock is \" +self.stock_name )\n",
    "        print(\"The selected stock trades at exchange \" +self.ex_name )"
   ]
  },
  {
   "cell_type": "code",
   "execution_count": 17,
   "metadata": {},
   "outputs": [],
   "source": [
    "# Create a class of Stock\n",
    "class Stock(): #note superclass is not used\n",
    "    def __init__(self, ex_name):\n",
    "        self.stock_name = \"RELIANCE\"\n",
    "        self.ex_name    = ex_name\n",
    "    \n",
    "    def display_stock(self):\n",
    "        print(\"The selected stock is \" +self.stock_name )\n",
    "        print(\"The selected stock trades at exchange \" +self.ex_name )"
   ]
  },
  {
   "cell_type": "code",
   "execution_count": 19,
   "metadata": {},
   "outputs": [
    {
     "name": "stdout",
     "output_type": "stream",
     "text": [
      "The selected stock is RELIANCE\n",
      "The selected stock trades at exchange NSE\n"
     ]
    }
   ],
   "source": [
    "stock_object = Stock(ex_name=\"NSE\")\n",
    "stock_object.display_stock()"
   ]
  },
  {
   "cell_type": "code",
   "execution_count": 3,
   "metadata": {},
   "outputs": [
    {
     "name": "stdout",
     "output_type": "stream",
     "text": [
      "The selected stock is INFY\n",
      "The selected stock trades at exchange NSE\n"
     ]
    }
   ],
   "source": [
    "infy_object = Stock(\"INFY\", \"NSE\")\n",
    "infy_object.display_stock()"
   ]
  },
  {
   "cell_type": "code",
   "execution_count": 8,
   "metadata": {},
   "outputs": [],
   "source": [
    "# Create a Stocksector() class and inherit name and exchange from Stock() class\n",
    "class Stocksector(Stock):\n",
    "    def display_sector(self):\n",
    "        x = stocks_dict[self.stock_name]\n",
    "        print(\"The selected stock is \" +self.stock_name + \" and sector is : \" + x)\n"
   ]
  },
  {
   "cell_type": "code",
   "execution_count": 9,
   "metadata": {},
   "outputs": [
    {
     "name": "stdout",
     "output_type": "stream",
     "text": [
      "The selected stock is HDFC\n",
      "The selected stock trades at exchange NSE\n",
      "The selected stock is HDFC and sector is : BANK\n"
     ]
    }
   ],
   "source": [
    "hdfc_object = Stocksector(\"HDFC\", \"NSE\")\n",
    "hdfc_object.display_stock()\n",
    "hdfc_object.display_sector()"
   ]
  },
  {
   "cell_type": "markdown",
   "metadata": {},
   "source": [
    "### Inheriting and Method Overriding\n"
   ]
  },
  {
   "cell_type": "code",
   "execution_count": 7,
   "metadata": {},
   "outputs": [
    {
     "name": "stdout",
     "output_type": "stream",
     "text": [
      "The selected stock is INFY\n",
      "The selected stock trades at exchange NSE\n",
      "The selected stock sector is : IT\n"
     ]
    }
   ],
   "source": [
    "infy_object = Stocksector(\"INFY\", \"NSE\")\n",
    "infy_object.display_stock()\n",
    "infy_object.display_sector()"
   ]
  },
  {
   "cell_type": "code",
   "execution_count": 10,
   "metadata": {},
   "outputs": [],
   "source": [
    "# Create a Stocksector() class and inherit name and exchange from Stock() class\n",
    "class Stocksector(Stock):\n",
    "    def display_sector(self):\n",
    "        x = stocks_dict[self.stock_name]\n",
    "        print(\"The selected stock sector is : \" + x)\n",
    "    \n",
    "    def display_stock(self):\n",
    "        print(\"METHOD OVERRIDING: The selected stock is \" +self.stock_name )\n",
    "        print(\"METHOD OVERRIDING: The selected stock trades at exchange \" +self.ex_name )"
   ]
  },
  {
   "cell_type": "code",
   "execution_count": 11,
   "metadata": {},
   "outputs": [
    {
     "name": "stdout",
     "output_type": "stream",
     "text": [
      "METHOD OVERRIDING: The selected stock is INFY\n",
      "METHOD OVERRIDING: The selected stock trades at exchange NSE\n",
      "The selected stock sector is : IT\n"
     ]
    }
   ],
   "source": [
    "infy_object = Stocksector(\"INFY\", \"NSE\")\n",
    "infy_object.display_stock()\n",
    "infy_object.display_sector()"
   ]
  },
  {
   "cell_type": "markdown",
   "metadata": {},
   "source": [
    "## Inheriting and Updating Attributes with Super\n",
    "* Add an attribute \"stock_price\" through a class using \"super\" methor"
   ]
  },
  {
   "cell_type": "code",
   "execution_count": 21,
   "metadata": {},
   "outputs": [],
   "source": [
    "class Stockprice(Stocksector):\n",
    "    def __init__(self, stock_name, ex_name, stock_price):\n",
    "        super().__init__(stock_name, ex_name)\n",
    "        self.stock_price = stock_price\n",
    "\n",
    "    def display_stock_price(self):\n",
    "        print(\"The price of stock \"+ self.stock_name +\" is \" + str(self.stock_price))"
   ]
  },
  {
   "cell_type": "code",
   "execution_count": 22,
   "metadata": {},
   "outputs": [
    {
     "name": "stdout",
     "output_type": "stream",
     "text": [
      "METHOD OVERRIDING: The selected stock is TATA MOTORS\n",
      "METHOD OVERRIDING: The selected stock trades at exchange BSE\n",
      "The selected stock sector is : AUTO\n",
      "The price of stock TATA MOTORS is 506\n"
     ]
    }
   ],
   "source": [
    "tata_motors_object = Stockprice(\"TATA MOTORS\", \"BSE\", 506)\n",
    "tata_motors_object.display_stock()\n",
    "tata_motors_object.display_sector()\n",
    "tata_motors_object.display_stock_price()"
   ]
  },
  {
   "cell_type": "code",
   "execution_count": null,
   "metadata": {},
   "outputs": [],
   "source": []
  }
 ],
 "metadata": {
  "interpreter": {
   "hash": "6d46af94c2bbce495f1e668725902fa517c90b1782bcfe2fce0dd9868df553d3"
  },
  "kernelspec": {
   "display_name": "Python 3.8.12 64-bit ('base': conda)",
   "language": "python",
   "name": "python3"
  },
  "language_info": {
   "codemirror_mode": {
    "name": "ipython",
    "version": 3
   },
   "file_extension": ".py",
   "mimetype": "text/x-python",
   "name": "python",
   "nbconvert_exporter": "python",
   "pygments_lexer": "ipython3",
   "version": "3.8.12"
  },
  "orig_nbformat": 4
 },
 "nbformat": 4,
 "nbformat_minor": 2
}
