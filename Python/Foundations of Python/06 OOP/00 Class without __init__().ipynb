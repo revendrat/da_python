{
 "cells": [
  {
   "cell_type": "code",
   "execution_count": 5,
   "id": "da77b42a",
   "metadata": {},
   "outputs": [],
   "source": [
    "class Car:\n",
    "    def set_manufacturer(self, manufacturer):\n",
    "        self.manufacturer = manufacturer\n",
    "    \n",
    "    def set_model(self, model):\n",
    "        self.model = model\n",
    "        \n",
    "    def set_color(self, color):\n",
    "        self.color = color\n",
    "    \n",
    "    def get_manufacturer(self):\n",
    "        return self.manufacturer\n",
    "    \n",
    "    def get_model(self):\n",
    "        return self.model\n",
    "    \n",
    "    def get_color(self):\n",
    "        return self.color"
   ]
  },
  {
   "cell_type": "code",
   "execution_count": 6,
   "id": "3897d3e4",
   "metadata": {
    "scrolled": true
   },
   "outputs": [
    {
     "name": "stdout",
     "output_type": "stream",
     "text": [
      "Ford\n",
      "Mustang\n",
      "Red\n"
     ]
    }
   ],
   "source": [
    "# Create car objects\n",
    "car_mustang = Car()\n",
    "car_mustang.set_manufacturer(\"Ford\")\n",
    "car_mustang.set_model(\"Mustang\")\n",
    "car_mustang.set_color(\"Red\")\n",
    "\n",
    "print(car_mustang.get_manufacturer())    # Output: Ford\n",
    "print(car_mustang.get_model())   # Output: Mustang\n",
    "print(car_mustang.get_color())   # Output: Red"
   ]
  },
  {
   "cell_type": "markdown",
   "id": "62162ff3",
   "metadata": {},
   "source": [
    "* Without __init__(), you would need to manually set the attributes for each instance of the class as shown in the car class\n",
    "* Manually initializing the attributes of each instance of the class, which can be tedious and error-prone.\n",
    "* The __init__() method is required in Python classes because it allows you to set default values for attributes of an object, which ensures that the object is initialized properly."
   ]
  },
  {
   "cell_type": "code",
   "execution_count": 17,
   "id": "fe10a7d5",
   "metadata": {},
   "outputs": [],
   "source": [
    "class Car:\n",
    "    def car_characterisitcs(self, color, manufacturer, model):\n",
    "        self.color = color\n",
    "        self.manufacturer = manufacturer\n",
    "        self.model = model\n",
    "    \n",
    "    def greet(self):\n",
    "        if self:\n",
    "            print(\"You purchased model: \", self.model, \n",
    "                  \", color : \", self.color, \n",
    "                  \", manufacturer: \", self.manufacturer)\n",
    "        else:\n",
    "            print(\"Car has no attributes\")\n"
   ]
  },
  {
   "cell_type": "code",
   "execution_count": 18,
   "id": "8307df2f",
   "metadata": {},
   "outputs": [],
   "source": [
    "car_mustang = Car()"
   ]
  },
  {
   "cell_type": "code",
   "execution_count": 19,
   "id": "f02ff5cf",
   "metadata": {},
   "outputs": [],
   "source": [
    "car_mustang.car_characterisitcs(\"Red\", \"Ford\", \"Mustang\")"
   ]
  },
  {
   "cell_type": "code",
   "execution_count": 20,
   "id": "eb5e90f9",
   "metadata": {},
   "outputs": [
    {
     "name": "stdout",
     "output_type": "stream",
     "text": [
      "You purchased model:  Mustang , color :  Red , manufacturer:  Ford\n"
     ]
    }
   ],
   "source": [
    "car_mustang.greet()"
   ]
  },
  {
   "cell_type": "code",
   "execution_count": 21,
   "id": "4c173ea1",
   "metadata": {},
   "outputs": [],
   "source": [
    "car_without_attributes = Car()"
   ]
  },
  {
   "cell_type": "code",
   "execution_count": 25,
   "id": "35b31ea6",
   "metadata": {},
   "outputs": [],
   "source": [
    "car_without_attributes.car_characterisitcs(None, None, None)"
   ]
  },
  {
   "cell_type": "code",
   "execution_count": 26,
   "id": "30f5d6bb",
   "metadata": {},
   "outputs": [
    {
     "name": "stdout",
     "output_type": "stream",
     "text": [
      "You purchased model:  None , color :  None , manufacturer:  None\n"
     ]
    }
   ],
   "source": [
    "car_without_attributes.greet()"
   ]
  }
 ],
 "metadata": {
  "kernelspec": {
   "display_name": "Python 3 (ipykernel)",
   "language": "python",
   "name": "python3"
  },
  "language_info": {
   "codemirror_mode": {
    "name": "ipython",
    "version": 3
   },
   "file_extension": ".py",
   "mimetype": "text/x-python",
   "name": "python",
   "nbconvert_exporter": "python",
   "pygments_lexer": "ipython3",
   "version": "3.10.6"
  }
 },
 "nbformat": 4,
 "nbformat_minor": 5
}
