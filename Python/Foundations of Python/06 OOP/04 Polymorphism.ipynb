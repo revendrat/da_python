{
 "cells": [
  {
   "cell_type": "code",
   "execution_count": 1,
   "metadata": {},
   "outputs": [
    {
     "name": "stdout",
     "output_type": "stream",
     "text": [
      "12\n",
      "BITS Pilani\n"
     ]
    }
   ],
   "source": [
    "## Polymorphism\n",
    "a = 5\n",
    "b = 7\n",
    "print(a+b)\n",
    "\n",
    "a = \"BITS\"\n",
    "b = \" Pilani\"\n",
    "print(a+b)"
   ]
  },
  {
   "cell_type": "code",
   "execution_count": 3,
   "metadata": {},
   "outputs": [
    {
     "data": {
      "text/plain": [
       "'5BITS'"
      ]
     },
     "execution_count": 3,
     "metadata": {},
     "output_type": "execute_result"
    }
   ],
   "source": [
    "a = 5\n",
    "b = \"BITS\"\n",
    "str(a)+b"
   ]
  },
  {
   "cell_type": "code",
   "execution_count": 4,
   "metadata": {},
   "outputs": [],
   "source": [
    "# Polymorphism in user-defined methods\n",
    "# Reference\n",
    "from math import pi\n",
    "\n",
    "class Rectangle:\n",
    "   def __init__(self, length, breadth):\n",
    "      self.l = length\n",
    "      self.b = breadth\n",
    "   def perimeter(self):\n",
    "      return 2*(self.l + self.b)\n",
    "   def area(self):\n",
    "      return self.l * self.b\n",
    "\n",
    "class Circle:\n",
    "   def __init__(self, radius):\n",
    "      self.r = radius\n",
    "   def perimeter(self):\n",
    "      return 2 * pi * self.r\n",
    "   def area(self):\n",
    "      return pi * self.r ** 2\n",
    "\n",
    "class Square:\n",
    "   def __init__(self, side):\n",
    "      self.side = side\n",
    "   \n",
    "   def perimeter(self):\n",
    "      return self.side*4\n",
    "   \n",
    "   def area(self):\n",
    "      return self.side**2"
   ]
  },
  {
   "cell_type": "code",
   "execution_count": 5,
   "metadata": {},
   "outputs": [],
   "source": [
    "# Initialize the classes\n",
    "rec = Rectangle(5,3)\n",
    "\n",
    "\n",
    "\n"
   ]
  },
  {
   "cell_type": "code",
   "execution_count": 9,
   "metadata": {},
   "outputs": [
    {
     "data": {
      "text/plain": [
       "16"
      ]
     },
     "execution_count": 9,
     "metadata": {},
     "output_type": "execute_result"
    }
   ],
   "source": [
    "rec.b\n",
    "rec.l\n",
    "rec.area()\n",
    "rec.perimeter()"
   ]
  },
  {
   "cell_type": "code",
   "execution_count": 10,
   "metadata": {},
   "outputs": [
    {
     "name": "stdout",
     "output_type": "stream",
     "text": [
      "3\n",
      "5\n",
      "15\n",
      "16\n"
     ]
    }
   ],
   "source": [
    "print(rec.b)\n",
    "print(rec.l)\n",
    "print(rec.area())\n",
    "print(rec.perimeter())"
   ]
  },
  {
   "cell_type": "code",
   "execution_count": 8,
   "metadata": {},
   "outputs": [
    {
     "name": "stdout",
     "output_type": "stream",
     "text": [
      "Perimter of rectangle:  16\n",
      "Area of rectangle:  15\n"
     ]
    }
   ],
   "source": [
    "print(\"Perimter of rectangle: \",rec.perimeter())\n",
    "print(\"Area of rectangle: \",rec.area())"
   ]
  },
  {
   "cell_type": "code",
   "execution_count": 9,
   "metadata": {},
   "outputs": [
    {
     "name": "stdout",
     "output_type": "stream",
     "text": [
      "Perimter of Circle:  25.132741228718345\n",
      "Area of Circle:  50.26548245743669\n"
     ]
    }
   ],
   "source": [
    "cr = Circle(4)\n",
    "print(\"Perimter of Circle: \",cr.perimeter())\n",
    "print(\"Area of Circle: \",cr.area())"
   ]
  },
  {
   "cell_type": "code",
   "execution_count": 10,
   "metadata": {},
   "outputs": [
    {
     "data": {
      "text/plain": [
       "4"
      ]
     },
     "execution_count": 10,
     "metadata": {},
     "output_type": "execute_result"
    }
   ],
   "source": [
    "cr.r"
   ]
  },
  {
   "cell_type": "code",
   "execution_count": 11,
   "metadata": {},
   "outputs": [
    {
     "data": {
      "text/plain": [
       "50.26548245743669"
      ]
     },
     "execution_count": 11,
     "metadata": {},
     "output_type": "execute_result"
    }
   ],
   "source": [
    "cr.area()"
   ]
  },
  {
   "cell_type": "code",
   "execution_count": 12,
   "metadata": {},
   "outputs": [
    {
     "data": {
      "text/plain": [
       "50.26548245743669"
      ]
     },
     "execution_count": 12,
     "metadata": {},
     "output_type": "execute_result"
    }
   ],
   "source": [
    "pi*4**2"
   ]
  },
  {
   "cell_type": "code",
   "execution_count": 12,
   "metadata": {},
   "outputs": [
    {
     "name": "stdout",
     "output_type": "stream",
     "text": [
      "25\n",
      "25\n",
      "20\n",
      "20\n"
     ]
    }
   ],
   "source": [
    "rec_s = Rectangle(5,5)\n",
    "sq_s = Square(5)\n",
    "\n",
    "print(rec_s.area())\n",
    "print(sq_s.area())\n",
    "\n",
    "print(rec_s.perimeter())\n",
    "print(sq_s.perimeter())"
   ]
  },
  {
   "cell_type": "code",
   "execution_count": null,
   "metadata": {},
   "outputs": [],
   "source": []
  }
 ],
 "metadata": {
  "interpreter": {
   "hash": "6d46af94c2bbce495f1e668725902fa517c90b1782bcfe2fce0dd9868df553d3"
  },
  "kernelspec": {
   "display_name": "Python 3.8.12 64-bit ('base': conda)",
   "language": "python",
   "name": "python3"
  },
  "language_info": {
   "codemirror_mode": {
    "name": "ipython",
    "version": 3
   },
   "file_extension": ".py",
   "mimetype": "text/x-python",
   "name": "python",
   "nbconvert_exporter": "python",
   "pygments_lexer": "ipython3",
   "version": "3.8.12"
  },
  "orig_nbformat": 4
 },
 "nbformat": 4,
 "nbformat_minor": 2
}
