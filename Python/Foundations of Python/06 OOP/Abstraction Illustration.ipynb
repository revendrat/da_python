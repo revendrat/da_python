{
 "cells": [
  {
   "cell_type": "markdown",
   "id": "73a01255",
   "metadata": {},
   "source": [
    "### Abstraction \n",
    "* Allows to hide implementation details from users and expose only the relevant features of an object.\n",
    "\n",
    "* In Python, abstraction can be achieved through the use of abstract classes and methods. \n",
    "* An abstract class  contains at least one abstract method, which is a method that has a signature but no implementation.\n",
    "\n",
    "#### Illustration:\n",
    "* Shape is an abstract class that defines two abstract methods: area and perimeter. \n",
    "* The Rectangle and Circle classes inherit from Shape and provide their own implementations of the area and perimeter methods.\n",
    "* By using abstraction in this way, we can create a common interface for different shapes that allows us to work with them in a consistent way, without worrying about the specific implementation details of each shape.\n",
    "\n",
    "* Note: ABC is an Abstract Base Class package in Python, refer more about this package at: https://docs.python.org/3/library/abc.html"
   ]
  },
  {
   "cell_type": "code",
   "execution_count": 5,
   "id": "27918d1d",
   "metadata": {},
   "outputs": [],
   "source": [
    "from abc import ABC, abstractmethod\n",
    "\n",
    "class Shape(ABC):\n",
    "    @abstractmethod\n",
    "    def display(self):\n",
    "        pass\n",
    "\n",
    "    @abstractmethod\n",
    "    def area(self):\n",
    "        pass\n",
    "    \n",
    "    @abstractmethod\n",
    "    def perimeter(self):\n",
    "        pass\n",
    "\n",
    "class Rectangle(Shape):\n",
    "    def __init__(self, width, length):\n",
    "        self.width = width\n",
    "        self.length = length\n",
    "\n",
    "    def display(self):    \n",
    "        print(\"Dimensions of Rectangle are Length \", self.length, \" Width \", self.width)\n",
    "    \n",
    "    def area(self):\n",
    "        return self.width * self.length\n",
    "    \n",
    "    def perimeter(self):\n",
    "        return 2 * (self.width + self.height)\n",
    "\n",
    "class Circle(Shape):\n",
    "    def __init__(self, radius):\n",
    "        self.radius = radius\n",
    "    \n",
    "    def display(self):    \n",
    "        print(\"Dimension of Circle is Radius \", self.radius)\n",
    "        \n",
    "    def area(self):\n",
    "        return 3.14 * self.radius * self.radius\n",
    "    \n",
    "    def perimeter(self):\n",
    "        return 2 * 3.14 * self.radius\n",
    "\n",
    "class Square(Shape):\n",
    "    def __init__(self, side):\n",
    "        self.side = side\n",
    "    \n",
    "#    def display(self):    \n",
    " #       print(\"Dimension of Square is Side \", self.side)\n",
    "        \n",
    "    def area(self):\n",
    "        return self.side * self.side\n",
    "    \n",
    "    def perimeter(self):\n",
    "        return 4 * self.side"
   ]
  },
  {
   "cell_type": "code",
   "execution_count": 3,
   "id": "8dace298",
   "metadata": {},
   "outputs": [],
   "source": [
    "rec_obj = Rectangle(4,5)"
   ]
  },
  {
   "cell_type": "code",
   "execution_count": 4,
   "id": "8b3cce9e",
   "metadata": {},
   "outputs": [
    {
     "name": "stdout",
     "output_type": "stream",
     "text": [
      "Dimensions of Rectangle are Length  5  Width  4\n"
     ]
    }
   ],
   "source": [
    "rec_obj.display()"
   ]
  },
  {
   "cell_type": "code",
   "execution_count": 8,
   "id": "067d0f63",
   "metadata": {},
   "outputs": [
    {
     "data": {
      "text/plain": [
       "20"
      ]
     },
     "execution_count": 8,
     "metadata": {},
     "output_type": "execute_result"
    }
   ],
   "source": [
    "rec_obj.area()"
   ]
  },
  {
   "cell_type": "code",
   "execution_count": 9,
   "id": "8e4484d3",
   "metadata": {},
   "outputs": [
    {
     "data": {
      "text/plain": [
       "18"
      ]
     },
     "execution_count": 9,
     "metadata": {},
     "output_type": "execute_result"
    }
   ],
   "source": [
    "rec_obj.perimeter()"
   ]
  },
  {
   "cell_type": "code",
   "execution_count": 10,
   "id": "624baeb8",
   "metadata": {},
   "outputs": [],
   "source": [
    "circle_obj = Circle(10)"
   ]
  },
  {
   "cell_type": "code",
   "execution_count": 11,
   "id": "ca704465",
   "metadata": {},
   "outputs": [
    {
     "data": {
      "text/plain": [
       "314.0"
      ]
     },
     "execution_count": 11,
     "metadata": {},
     "output_type": "execute_result"
    }
   ],
   "source": [
    "circle_obj.area()"
   ]
  },
  {
   "cell_type": "code",
   "execution_count": 12,
   "id": "1941a06e",
   "metadata": {},
   "outputs": [
    {
     "data": {
      "text/plain": [
       "62.800000000000004"
      ]
     },
     "execution_count": 12,
     "metadata": {},
     "output_type": "execute_result"
    }
   ],
   "source": [
    "circle_obj.perimeter()"
   ]
  },
  {
   "cell_type": "code",
   "execution_count": 6,
   "id": "3446d67a",
   "metadata": {},
   "outputs": [
    {
     "ename": "TypeError",
     "evalue": "Can't instantiate abstract class Square with abstract method display",
     "output_type": "error",
     "traceback": [
      "\u001b[0;31m---------------------------------------------------------------------------\u001b[0m",
      "\u001b[0;31mTypeError\u001b[0m                                 Traceback (most recent call last)",
      "Cell \u001b[0;32mIn[6], line 1\u001b[0m\n\u001b[0;32m----> 1\u001b[0m square_obj \u001b[38;5;241m=\u001b[39m \u001b[43mSquare\u001b[49m\u001b[43m(\u001b[49m\u001b[38;5;241;43m5\u001b[39;49m\u001b[43m)\u001b[49m\n",
      "\u001b[0;31mTypeError\u001b[0m: Can't instantiate abstract class Square with abstract method display"
     ]
    }
   ],
   "source": [
    "square_obj = Square(5)"
   ]
  },
  {
   "cell_type": "code",
   "execution_count": null,
   "id": "a4037989",
   "metadata": {},
   "outputs": [],
   "source": []
  }
 ],
 "metadata": {
  "kernelspec": {
   "display_name": "Python 3 (ipykernel)",
   "language": "python",
   "name": "python3"
  },
  "language_info": {
   "codemirror_mode": {
    "name": "ipython",
    "version": 3
   },
   "file_extension": ".py",
   "mimetype": "text/x-python",
   "name": "python",
   "nbconvert_exporter": "python",
   "pygments_lexer": "ipython3",
   "version": "3.10.6"
  }
 },
 "nbformat": 4,
 "nbformat_minor": 5
}
