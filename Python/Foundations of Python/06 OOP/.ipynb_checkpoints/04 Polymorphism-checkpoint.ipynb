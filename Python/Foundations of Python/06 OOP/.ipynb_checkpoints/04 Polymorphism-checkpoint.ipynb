{
 "cells": [
  {
   "cell_type": "code",
   "execution_count": 1,
   "metadata": {},
   "outputs": [
    {
     "name": "stdout",
     "output_type": "stream",
     "text": [
      "12\n",
      "New York\n"
     ]
    }
   ],
   "source": [
    "## Polymorphism\n",
    "a = 5\n",
    "b = 7\n",
    "print(a+b)\n",
    "\n",
    "a = \"New\"\n",
    "b = \" York\"\n",
    "print(a+b)"
   ]
  },
  {
   "cell_type": "code",
   "execution_count": 3,
   "metadata": {},
   "outputs": [
    {
     "ename": "TypeError",
     "evalue": "unsupported operand type(s) for +: 'int' and 'str'",
     "output_type": "error",
     "traceback": [
      "\u001b[0;31m---------------------------------------------------------------------------\u001b[0m",
      "\u001b[0;31mTypeError\u001b[0m                                 Traceback (most recent call last)",
      "Cell \u001b[0;32mIn[3], line 1\u001b[0m\n\u001b[0;32m----> 1\u001b[0m \u001b[43ma\u001b[49m\u001b[38;5;241;43m+\u001b[39;49m\u001b[43mb\u001b[49m\n",
      "\u001b[0;31mTypeError\u001b[0m: unsupported operand type(s) for +: 'int' and 'str'"
     ]
    }
   ],
   "source": [
    "a+b"
   ]
  },
  {
   "cell_type": "code",
   "execution_count": 2,
   "metadata": {},
   "outputs": [
    {
     "data": {
      "text/plain": [
       "'5New'"
      ]
     },
     "execution_count": 2,
     "metadata": {},
     "output_type": "execute_result"
    }
   ],
   "source": [
    "a = 5\n",
    "b = \"New\"\n",
    "str(a)+b"
   ]
  },
  {
   "cell_type": "code",
   "execution_count": 4,
   "metadata": {},
   "outputs": [],
   "source": [
    "# Polymorphism in user-defined methods\n",
    "# Reference\n",
    "from math import pi\n",
    "\n",
    "class Rectangle:\n",
    "   def __init__(self, length, breadth):\n",
    "      self.l = length\n",
    "      self.b = breadth\n",
    "   def perimeter(self):\n",
    "      return 2*(self.l + self.b)\n",
    "   def area(self):\n",
    "      return self.l * self.b\n",
    "\n",
    "class Circle:\n",
    "   def __init__(self, radius):\n",
    "      self.r = radius\n",
    "   def perimeter(self):\n",
    "      return 2 * pi * self.r\n",
    "   def area(self):\n",
    "      return pi * pow(self.r,2)\n",
    "\n",
    "class Square:\n",
    "   def __init__(self, side):\n",
    "      self.side = side\n",
    "   \n",
    "   def perimeter(self):\n",
    "      return self.side*4\n",
    "   \n",
    "   def area(self):\n",
    "      return pow(self.side,2)"
   ]
  },
  {
   "cell_type": "code",
   "execution_count": 5,
   "metadata": {},
   "outputs": [],
   "source": [
    "# Initialize the classes\n",
    "rec = Rectangle(5,3)"
   ]
  },
  {
   "cell_type": "code",
   "execution_count": 6,
   "metadata": {},
   "outputs": [
    {
     "name": "stdout",
     "output_type": "stream",
     "text": [
      "Breadth of Rectanble:  3\n",
      "Length of Rectanble:  5\n",
      "Area of Rectanble:  15\n",
      "Perimeter of Rectanble:  16\n"
     ]
    }
   ],
   "source": [
    "print(\"Breadth of Rectanble: \",rec.b)\n",
    "print(\"Length of Rectanble: \",rec.l)\n",
    "print(\"Area of Rectanble: \",rec.area())\n",
    "print(\"Perimeter of Rectanble: \",rec.perimeter())"
   ]
  },
  {
   "cell_type": "code",
   "execution_count": 7,
   "metadata": {},
   "outputs": [
    {
     "name": "stdout",
     "output_type": "stream",
     "text": [
      "Radius of Circle:  4\n",
      "Perimter of Circle:  25.132741228718345\n",
      "Area of Circle:  50.26548245743669\n"
     ]
    }
   ],
   "source": [
    "cr = Circle(4)\n",
    "print(\"Radius of Circle: \", cr.r)\n",
    "print(\"Perimter of Circle: \",cr.perimeter())\n",
    "print(\"Area of Circle: \",cr.area())"
   ]
  },
  {
   "cell_type": "code",
   "execution_count": 8,
   "metadata": {},
   "outputs": [
    {
     "name": "stdout",
     "output_type": "stream",
     "text": [
      "Area of rectangle:  25\n",
      "Area of square:  25\n",
      "Preimeter of rectangle:  20\n",
      "Perimeter of square:  20\n"
     ]
    }
   ],
   "source": [
    "rec_s = Rectangle(5,5)\n",
    "sq_s = Square(5)\n",
    "\n",
    "print(\"Area of rectangle: \", rec_s.area()) \n",
    "print(\"Area of square: \", sq_s.area())\n",
    "\n",
    "print(\"Preimeter of rectangle: \", rec_s.perimeter())\n",
    "print(\"Perimeter of square: \", sq_s.perimeter())"
   ]
  },
  {
   "cell_type": "code",
   "execution_count": 35,
   "metadata": {},
   "outputs": [],
   "source": [
    "# Polymorphism in user-defined methods\n",
    "# Reference\n",
    "from math import pi\n",
    "\n",
    "class ShapeProperties:\n",
    "    def __init__(self, length = None, breadth= None, side= None, radius= None):\n",
    "        self.l = length\n",
    "        self.b = breadth\n",
    "        self.s = side\n",
    "        self.r = radius\n",
    "     \n",
    "    def perimeter(self):\n",
    "        if self.l and self.b:\n",
    "            print(\"Perimeter of rectangle with length \", self.l, \" and breadth \", self.b , \" is: \", 2*(self.l + self.b))\n",
    "        elif self.s:\n",
    "            print(\"Peremiter of square with side \", self.s, \" is: \", 4*self.s)\n",
    "        else:\n",
    "            print(\"Peremiter of Circle with radius \", self.r, \" is: \", 2*pi*self.r)\n",
    "\n",
    "    def area(self):\n",
    "        if self.l and self.b:\n",
    "            print(\"Area of rectangle with length \", self.l, \" and breadth \", self.b , \" is: \", self.l * self.b)\n",
    "        elif self.s:\n",
    "            print(\"Area of square with side \", self.s, \" is: \", self.s*self.s)\n",
    "        else:\n",
    "            print(\"Area of Circle with radius \", self.r, \" is: \", pow(self.r,2))\n"
   ]
  },
  {
   "cell_type": "code",
   "execution_count": 21,
   "metadata": {},
   "outputs": [],
   "source": [
    "rec = ShapeProperties(length = 5, breadth = 3)"
   ]
  },
  {
   "cell_type": "code",
   "execution_count": 22,
   "metadata": {},
   "outputs": [
    {
     "name": "stdout",
     "output_type": "stream",
     "text": [
      "Area of rectangle with length  5  and breadth  3  is:  15\n"
     ]
    }
   ],
   "source": [
    "rec.area()"
   ]
  },
  {
   "cell_type": "code",
   "execution_count": 23,
   "metadata": {},
   "outputs": [
    {
     "name": "stdout",
     "output_type": "stream",
     "text": [
      "Perimeter of rectangle with length  5  and breadth  3  is:  16\n"
     ]
    }
   ],
   "source": [
    "rec.perimeter()"
   ]
  },
  {
   "cell_type": "code",
   "execution_count": 25,
   "metadata": {},
   "outputs": [],
   "source": [
    "circle =  ShapeProperties(radius = 10)"
   ]
  },
  {
   "cell_type": "code",
   "execution_count": 26,
   "metadata": {},
   "outputs": [
    {
     "name": "stdout",
     "output_type": "stream",
     "text": [
      "Area of Circle with radius  10  is:  100\n"
     ]
    }
   ],
   "source": [
    "circle.area()"
   ]
  },
  {
   "cell_type": "code",
   "execution_count": 27,
   "metadata": {},
   "outputs": [
    {
     "name": "stdout",
     "output_type": "stream",
     "text": [
      "Peremiter of Circle with radius  10  is:  62.83185307179586\n"
     ]
    }
   ],
   "source": [
    "circle.perimeter()"
   ]
  },
  {
   "cell_type": "code",
   "execution_count": 36,
   "metadata": {},
   "outputs": [],
   "source": [
    "square = ShapeProperties(side = 5)"
   ]
  },
  {
   "cell_type": "code",
   "execution_count": 37,
   "metadata": {},
   "outputs": [
    {
     "name": "stdout",
     "output_type": "stream",
     "text": [
      "Area of square with side  5  is:  25\n"
     ]
    }
   ],
   "source": [
    "square.area()"
   ]
  },
  {
   "cell_type": "code",
   "execution_count": 38,
   "metadata": {
    "scrolled": true
   },
   "outputs": [
    {
     "name": "stdout",
     "output_type": "stream",
     "text": [
      "Peremiter of square with side  5  is:  20\n"
     ]
    }
   ],
   "source": [
    "square.perimeter()"
   ]
  },
  {
   "cell_type": "code",
   "execution_count": 43,
   "metadata": {},
   "outputs": [],
   "source": [
    "undefined_object = ShapeProperties(length = 10, breadth=5, radius = 100)"
   ]
  },
  {
   "cell_type": "code",
   "execution_count": 44,
   "metadata": {},
   "outputs": [
    {
     "name": "stdout",
     "output_type": "stream",
     "text": [
      "Area of rectangle with length  10  and breadth  5  is:  50\n"
     ]
    }
   ],
   "source": [
    "undefined_object.area()"
   ]
  },
  {
   "cell_type": "code",
   "execution_count": 45,
   "metadata": {},
   "outputs": [
    {
     "name": "stdout",
     "output_type": "stream",
     "text": [
      "Perimeter of rectangle with length  10  and breadth  5  is:  30\n"
     ]
    }
   ],
   "source": [
    "undefined_object.perimeter()"
   ]
  }
 ],
 "metadata": {
  "interpreter": {
   "hash": "6d46af94c2bbce495f1e668725902fa517c90b1782bcfe2fce0dd9868df553d3"
  },
  "kernelspec": {
   "display_name": "Python 3 (ipykernel)",
   "language": "python",
   "name": "python3"
  },
  "language_info": {
   "codemirror_mode": {
    "name": "ipython",
    "version": 3
   },
   "file_extension": ".py",
   "mimetype": "text/x-python",
   "name": "python",
   "nbconvert_exporter": "python",
   "pygments_lexer": "ipython3",
   "version": "3.10.6"
  }
 },
 "nbformat": 4,
 "nbformat_minor": 2
}
