{
 "cells": [
  {
   "cell_type": "code",
   "execution_count": 5,
   "id": "da77b42a",
   "metadata": {},
   "outputs": [],
   "source": [
    "class Car:\n",
    "    def set_manufacturer(self, manufacturer):\n",
    "        self.manufacturer = manufacturer\n",
    "    \n",
    "    def set_model(self, model):\n",
    "        self.model = model\n",
    "        \n",
    "    def set_color(self, color):\n",
    "        self.color = color\n",
    "    \n",
    "    def get_manufacturer(self):\n",
    "        return self.manufacturer\n",
    "    \n",
    "    def get_model(self):\n",
    "        return self.model\n",
    "    \n",
    "    def get_color(self):\n",
    "        return self.color"
   ]
  },
  {
   "cell_type": "code",
   "execution_count": 6,
   "id": "3897d3e4",
   "metadata": {
    "scrolled": true
   },
   "outputs": [
    {
     "name": "stdout",
     "output_type": "stream",
     "text": [
      "Ford\n",
      "Mustang\n",
      "Red\n"
     ]
    }
   ],
   "source": [
    "# Create car objects\n",
    "car = Car()\n",
    "car.set_manufacturer(\"Ford\")\n",
    "car.set_model(\"Mustang\")\n",
    "car.set_color(\"Red\")\n",
    "\n",
    "print(car.get_manufacturer())    # Output: Ford\n",
    "print(car.get_model())   # Output: Mustang\n",
    "print(car.get_color())   # Output: Red"
   ]
  },
  {
   "cell_type": "markdown",
   "id": "62162ff3",
   "metadata": {},
   "source": [
    "* Without __init__(), you would need to manually set the attributes for each instance of the class as shown in the car class\n",
    "* Manually initializing the attributes of each instance of the class, which can be tedious and error-prone.\n",
    "* The __init__() method is required in Python classes because it allows you to set default values for attributes of an object, which ensures that the object is initialized properly."
   ]
  }
 ],
 "metadata": {
  "kernelspec": {
   "display_name": "Python 3 (ipykernel)",
   "language": "python",
   "name": "python3"
  },
  "language_info": {
   "codemirror_mode": {
    "name": "ipython",
    "version": 3
   },
   "file_extension": ".py",
   "mimetype": "text/x-python",
   "name": "python",
   "nbconvert_exporter": "python",
   "pygments_lexer": "ipython3",
   "version": "3.10.6"
  }
 },
 "nbformat": 4,
 "nbformat_minor": 5
}
