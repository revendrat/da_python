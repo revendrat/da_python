{
 "cells": [
  {
   "cell_type": "code",
   "execution_count": 13,
   "metadata": {},
   "outputs": [],
   "source": [
    "# Illustration of Car Class Construction\n",
    "class Car():\n",
    "    def __init__(self, color, manufacturer, model):\n",
    "        self.color = color\n",
    "        self.manufacturer = manufacturer\n",
    "        self.model = model\n",
    "\n",
    "    def greet(self):\n",
    "        print(\"Congratulations you purchased, \" + self.model + \" \" + self.manufacturer + \"!\")\n",
    "    \n",
    "    def display_color(self):\n",
    "        print(\"Colour of your car is \" + self.color + \".\")"
   ]
  },
  {
   "cell_type": "code",
   "execution_count": 14,
   "metadata": {},
   "outputs": [],
   "source": [
    "# Instance of car\n",
    "# Instance is also called object\n",
    "car_mustang = Car(color= \"Red\", manufacturer=\"Ford\", model= \"Mustang\")"
   ]
  },
  {
   "cell_type": "code",
   "execution_count": 15,
   "metadata": {},
   "outputs": [
    {
     "name": "stdout",
     "output_type": "stream",
     "text": [
      "Congratulations you purchased, Mustang Ford!\n"
     ]
    }
   ],
   "source": [
    "# greet using greet() method\n",
    "car_mustang.greet()"
   ]
  },
  {
   "cell_type": "code",
   "execution_count": 16,
   "metadata": {},
   "outputs": [
    {
     "name": "stdout",
     "output_type": "stream",
     "text": [
      "Colour of your car is Red.\n"
     ]
    }
   ],
   "source": [
    "# display color of car using display_color() method\n",
    "car_mustang.display_color()"
   ]
  },
  {
   "cell_type": "code",
   "execution_count": 17,
   "metadata": {},
   "outputs": [
    {
     "name": "stdout",
     "output_type": "stream",
     "text": [
      "Red\n",
      "Ford\n",
      "Mustang\n"
     ]
    }
   ],
   "source": [
    "print(car_mustang.color)\n",
    "print(car_mustang.manufacturer)\n",
    "print(car_mustang.model)"
   ]
  },
  {
   "cell_type": "code",
   "execution_count": 12,
   "metadata": {},
   "outputs": [
    {
     "name": "stdout",
     "output_type": "stream",
     "text": [
      "Congratulations you purchased, Mustang Ford!\n"
     ]
    }
   ],
   "source": [
    "car_mustang.greet()"
   ]
  },
  {
   "cell_type": "code",
   "execution_count": 18,
   "metadata": {},
   "outputs": [],
   "source": [
    "# Illustration of Customer Class Construction\n",
    "\n",
    "class Customer():\n",
    "    def __init__(self, email, phone, place_order, cancel_order):\n",
    "        self.email = email\n",
    "        self.phone = phone\n",
    "        self.place_order = place_order\n",
    "        self.cancel_order = cancel_order\n",
    "\n",
    "    def greet(self):\n",
    "        print(\"Welcome!\")\n",
    "        \n",
    "        if self.place_order == \"Y\":\n",
    "            print(\"Your order is placed.\")\n",
    "        else:\n",
    "            print(\"Your order is not placed.\")\n",
    "        if self.cancel_order == \"Y\":\n",
    "            print(\"Your order is cancelled.\")\n",
    "        else:\n",
    "            print(\"Your order is not cancelled.\")"
   ]
  },
  {
   "cell_type": "code",
   "execution_count": 19,
   "metadata": {},
   "outputs": [],
   "source": [
    "# Illustration of Customer Class Construction\n",
    "\n",
    "class Customer():\n",
    "    def __init__(self, email, phone, place_order, cancel_order):\n",
    "        self.email = email\n",
    "        self.phone = phone\n",
    "        self.place_order = place_order\n",
    "        self.cancel_order = cancel_order\n",
    "\n",
    "    def greet(self):\n",
    "        print(\"Welcome!\")\n",
    "    \n",
    "    def display_place_order(self):\n",
    "        if self.place_order == \"Y\":\n",
    "            print(\"Your order is placed.\")\n",
    "        else:\n",
    "            print(\"Your order is not placed.\")\n",
    "    \n",
    "    def display_cancel_order(self):\n",
    "        if self.cancel_order == \"Y\":\n",
    "            print(\"Your order is cancelled.\")\n",
    "        else:\n",
    "            print(\"Your order is not cancelled.\")"
   ]
  },
  {
   "cell_type": "code",
   "execution_count": 20,
   "metadata": {},
   "outputs": [],
   "source": [
    "# Instance of customer\n",
    "# Instance is also called object\n",
    "customer_lara = Customer(email = \"lara@company.com\", \n",
    "                     phone = \"614-555-0177\", \n",
    "                     place_order=\"Y\", \n",
    "                     cancel_order = \"N\")"
   ]
  },
  {
   "cell_type": "code",
   "execution_count": 21,
   "metadata": {},
   "outputs": [
    {
     "name": "stdout",
     "output_type": "stream",
     "text": [
      "Welcome!\n",
      "Your order is placed.\n",
      "Your order is not cancelled.\n"
     ]
    }
   ],
   "source": [
    "customer_lara.greet()\n",
    "customer_lara.display_place_order()\n",
    "customer_lara.display_cancel_order()\n"
   ]
  },
  {
   "cell_type": "code",
   "execution_count": 23,
   "metadata": {},
   "outputs": [],
   "source": [
    "customer_dave = Customer(email = \"dave@company.com\", \n",
    "                phone = \"317-555-0188\", \n",
    "                place_order=\"Y\", \n",
    "                cancel_order = \"N\")"
   ]
  },
  {
   "cell_type": "code",
   "execution_count": 24,
   "metadata": {},
   "outputs": [
    {
     "name": "stdout",
     "output_type": "stream",
     "text": [
      "Welcome!\n",
      "Your order is placed.\n",
      "Your order is not cancelled.\n"
     ]
    }
   ],
   "source": [
    "customer_dave.greet()\n",
    "customer_dave.display_place_order()\n",
    "customer_dave.display_cancel_order()"
   ]
  },
  {
   "cell_type": "code",
   "execution_count": 25,
   "metadata": {},
   "outputs": [],
   "source": [
    "class Customer():\n",
    "    count_customers = 0\n",
    "    def __init__(self, email, phone, place_order, cancel_order):\n",
    "        self.email = email\n",
    "        self.phone = phone\n",
    "        self.place_order = place_order\n",
    "        self.cancel_order = cancel_order\n",
    "        Customer.count_customers += 1\n",
    "\n",
    "    def greet(self):\n",
    "        print(\"Welcome!\")\n",
    "    \n",
    "    def display_place_order(self):\n",
    "        if self.place_order == \"Y\":\n",
    "            print(\"Your order is placed.\")\n",
    "        else:\n",
    "            print(\"Your order is not placed.\")\n",
    "    \n",
    "    def display_cancel_order(self):\n",
    "        if self.cancel_order == \"Y\":\n",
    "            print(\"Your order is cancelled.\")\n",
    "        else:\n",
    "            print(\"Your order is not cancelled.\")\n",
    "    \n",
    "    def num_of_customers(self):\n",
    "        print(\"Current number of customers are :\" \n",
    "              +str(Customer.count_customers))"
   ]
  },
  {
   "cell_type": "code",
   "execution_count": 26,
   "metadata": {},
   "outputs": [
    {
     "name": "stdout",
     "output_type": "stream",
     "text": [
      "Current number of customers are :1\n"
     ]
    }
   ],
   "source": [
    "customer_lara = Customer(email = \"lara@company.com\", \n",
    "                         phone = \"614-555-0177\", \n",
    "                         place_order=\"Y\", \n",
    "                         cancel_order = \"N\")\n",
    "\n",
    "customer_lara.num_of_customers()"
   ]
  },
  {
   "cell_type": "code",
   "execution_count": 27,
   "metadata": {},
   "outputs": [
    {
     "name": "stdout",
     "output_type": "stream",
     "text": [
      "Current number of customers are :2\n"
     ]
    }
   ],
   "source": [
    "customer_dave = Customer(email = \"dave@company.com\", \n",
    "                         phone = \"317-555-0188\", \n",
    "                         place_order=\"N\", \n",
    "                         cancel_order = \"Y\")\n",
    "\n",
    "customer_dave.num_of_customers()"
   ]
  },
  {
   "cell_type": "code",
   "execution_count": 28,
   "metadata": {},
   "outputs": [
    {
     "name": "stdout",
     "output_type": "stream",
     "text": [
      "Current number of customers are :3\n"
     ]
    }
   ],
   "source": [
    "customer_kapoor = Customer(email = \"sagar@kapoor.com\", \n",
    "                           phone = \"317-555-0188\", \n",
    "                           place_order=\"N\", \n",
    "                           cancel_order = \"N\")\n",
    "\n",
    "customer_kapoor.num_of_customers()"
   ]
  },
  {
   "cell_type": "code",
   "execution_count": 29,
   "metadata": {},
   "outputs": [
    {
     "name": "stdout",
     "output_type": "stream",
     "text": [
      "Current number of customers are :4\n"
     ]
    }
   ],
   "source": [
    "customer_ken = Customer(email = \"ken@ken.com\", \n",
    "                        phone = \"317-555-0188\", \n",
    "                        place_order=\"Y\", \n",
    "                        cancel_order = \"Y\")\n",
    "\n",
    "customer_ken.num_of_customers()"
   ]
  }
 ],
 "metadata": {
  "interpreter": {
   "hash": "6d46af94c2bbce495f1e668725902fa517c90b1782bcfe2fce0dd9868df553d3"
  },
  "kernelspec": {
   "display_name": "Python 3 (ipykernel)",
   "language": "python",
   "name": "python3"
  },
  "language_info": {
   "codemirror_mode": {
    "name": "ipython",
    "version": 3
   },
   "file_extension": ".py",
   "mimetype": "text/x-python",
   "name": "python",
   "nbconvert_exporter": "python",
   "pygments_lexer": "ipython3",
   "version": "3.10.6"
  }
 },
 "nbformat": 4,
 "nbformat_minor": 2
}
