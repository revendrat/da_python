{
 "cells": [
  {
   "cell_type": "markdown",
   "metadata": {},
   "source": [
    "## Inheritance Illustration"
   ]
  },
  {
   "cell_type": "code",
   "execution_count": 5,
   "metadata": {},
   "outputs": [],
   "source": [
    "# declare a global data dictionary \n",
    "stocks_dict = {\"JC PENNY\":\"RETAIL\", \n",
    "               \"APPLE\": \"ELECTRONICS\", \n",
    "               \"CITI\": \"BANK\", \n",
    "               \"TESLA\": \"AUTO\", \n",
    "               \"AMAZON\": \"EVERYTHING\" }"
   ]
  },
  {
   "cell_type": "code",
   "execution_count": 11,
   "metadata": {},
   "outputs": [],
   "source": [
    "# Create a class of Stock\n",
    "class Stock(): #note superclass is not used\n",
    "    def __init__(self, stock_name = \"AMAZON\", ex_name = \"NYSE\"):\n",
    "        self.stock_name = stock_name\n",
    "        self.ex_name    = ex_name\n",
    "    \n",
    "    def display_stock(self):\n",
    "        print(\"The selected stock is \" +self.stock_name )\n",
    "        print(\"The selected stock trades at exchange \" +self.ex_name )"
   ]
  },
  {
   "cell_type": "code",
   "execution_count": 12,
   "metadata": {},
   "outputs": [],
   "source": [
    "stock = Stock()"
   ]
  },
  {
   "cell_type": "code",
   "execution_count": 13,
   "metadata": {},
   "outputs": [
    {
     "name": "stdout",
     "output_type": "stream",
     "text": [
      "The selected stock is AMAZON\n",
      "The selected stock trades at exchange NYSE\n"
     ]
    }
   ],
   "source": [
    "stock.display_stock()"
   ]
  },
  {
   "cell_type": "code",
   "execution_count": 14,
   "metadata": {},
   "outputs": [],
   "source": [
    "stock1 = Stock(\"COINBASE\", \"NASDAQ\")"
   ]
  },
  {
   "cell_type": "code",
   "execution_count": 15,
   "metadata": {},
   "outputs": [
    {
     "name": "stdout",
     "output_type": "stream",
     "text": [
      "The selected stock is COINBASE\n",
      "The selected stock trades at exchange NASDAQ\n"
     ]
    }
   ],
   "source": [
    "stock1.display_stock()"
   ]
  },
  {
   "cell_type": "code",
   "execution_count": 18,
   "metadata": {},
   "outputs": [],
   "source": [
    "# Create a class of StockExchange\n",
    "class StockExchange(): #note superclass is not used\n",
    "    def __init__(self, ex_name=\"NYSE\"):\n",
    "        self.stock_name = \"AMAZON\"\n",
    "        self.ex_name    = ex_name\n",
    "    \n",
    "    def display_stock(self):\n",
    "        print(\"The selected stock is \" +self.stock_name )\n",
    "        print(\"The selected stock trades at exchange \" +self.ex_name )"
   ]
  },
  {
   "cell_type": "code",
   "execution_count": 17,
   "metadata": {},
   "outputs": [
    {
     "name": "stdout",
     "output_type": "stream",
     "text": [
      "The selected stock is AMAZON\n",
      "The selected stock trades at exchange NYSE\n"
     ]
    }
   ],
   "source": [
    "stock_object = Stock(ex_name=\"NYSE\")\n",
    "stock_object.display_stock()"
   ]
  },
  {
   "cell_type": "code",
   "execution_count": 19,
   "metadata": {},
   "outputs": [
    {
     "name": "stdout",
     "output_type": "stream",
     "text": [
      "The selected stock is APPLE\n",
      "The selected stock trades at exchange NYSE\n"
     ]
    }
   ],
   "source": [
    "infy_object = Stock(\"APPLE\", \"NYSE\")\n",
    "infy_object.display_stock()"
   ]
  },
  {
   "cell_type": "code",
   "execution_count": 20,
   "metadata": {},
   "outputs": [],
   "source": [
    "# Create a Stocksector() class and inherit name and exchange from Stock() class\n",
    "class Stocksector(Stock):\n",
    "    def display_sector(self):\n",
    "        x = stocks_dict[self.stock_name]\n",
    "        print(\"The selected stock is \" +self.stock_name + \n",
    "              \" and sector is : \" + x)"
   ]
  },
  {
   "cell_type": "code",
   "execution_count": 22,
   "metadata": {},
   "outputs": [
    {
     "name": "stdout",
     "output_type": "stream",
     "text": [
      "The selected stock is AMAZON\n",
      "The selected stock trades at exchange NYSE\n",
      "The selected stock is AMAZON and sector is : EVERYTHING\n"
     ]
    }
   ],
   "source": [
    "amazon_object = Stocksector(\"AMAZON\", \"NYSE\")\n",
    "amazon_object.display_stock()\n",
    "amazon_object.display_sector()"
   ]
  },
  {
   "cell_type": "code",
   "execution_count": 23,
   "metadata": {},
   "outputs": [
    {
     "name": "stdout",
     "output_type": "stream",
     "text": [
      "The selected stock is TESLA and sector is : AUTO\n"
     ]
    }
   ],
   "source": [
    "tesla_obj = Stocksector(\"TESLA\", \"NASDAQ\")\n",
    "tesla_obj.display_sector()"
   ]
  },
  {
   "cell_type": "markdown",
   "metadata": {},
   "source": [
    "### Inheriting and Method Overriding\n"
   ]
  },
  {
   "cell_type": "code",
   "execution_count": 24,
   "metadata": {},
   "outputs": [
    {
     "name": "stdout",
     "output_type": "stream",
     "text": [
      "The selected stock is APPLE\n",
      "The selected stock trades at exchange NYSE\n",
      "The selected stock is APPLE and sector is : ELECTRONICS\n"
     ]
    }
   ],
   "source": [
    "appl_object = Stocksector(\"APPLE\", \"NYSE\")\n",
    "appl_object.display_stock()\n",
    "appl_object.display_sector()"
   ]
  },
  {
   "cell_type": "code",
   "execution_count": 26,
   "metadata": {},
   "outputs": [],
   "source": [
    "# Create a Stocksector() class and inherit name and exchange from Stock() class\n",
    "class StockSectorMethod(Stock):\n",
    "    def display_sector(self):\n",
    "        x = stocks_dict[self.stock_name]\n",
    "        print(\"The selected stock sector is : \" + x)\n",
    "    \n",
    "    def display_stock(self):\n",
    "        print(\"METHOD OVERRIDING: THIS IS DISPLAY_STOCK METHOD FROM CHILD\") \n",
    "        print(\"The selected stock is \" +self.stock_name )\n",
    "        print(\"The selected stock trades at exchange \" +self.ex_name )"
   ]
  },
  {
   "cell_type": "code",
   "execution_count": 27,
   "metadata": {},
   "outputs": [
    {
     "name": "stdout",
     "output_type": "stream",
     "text": [
      "METHOD OVERRIDING: THIS IS DISPLAY_STOCK METHOD FROM CHILD\n",
      "The selected stock is APPLE\n",
      "The selected stock trades at exchange NYSE\n",
      "The selected stock sector is : ELECTRONICS\n"
     ]
    }
   ],
   "source": [
    "appl_object = StockSectorMethod(\"APPLE\", \"NYSE\")\n",
    "appl_object.display_stock()\n",
    "appl_object.display_sector()"
   ]
  },
  {
   "cell_type": "markdown",
   "metadata": {},
   "source": [
    "## Inheriting and Updating Attributes with Super\n",
    "* Add an attribute \"stock_price\" through a class using \"super\" methor"
   ]
  },
  {
   "cell_type": "code",
   "execution_count": 35,
   "metadata": {},
   "outputs": [],
   "source": [
    "class Stockprice(Stocksector):\n",
    "    def __init__(self, stock_name, ex_name, stock_price):\n",
    "        super().__init__(stock_name, ex_name)\n",
    "        self.stock_price = stock_price\n",
    "\n",
    "    def display_stock_price(self):\n",
    "        print(\"The price of stock \"+ self.stock_name +\" is \" + str(self.stock_price))"
   ]
  },
  {
   "cell_type": "code",
   "execution_count": 36,
   "metadata": {},
   "outputs": [],
   "source": [
    "citi_object = Stockprice(stock_name = \"CITI\", \n",
    "                         ex_name = \"NYSE\", \n",
    "                         stock_price = 43.45)"
   ]
  },
  {
   "cell_type": "code",
   "execution_count": 37,
   "metadata": {},
   "outputs": [
    {
     "name": "stdout",
     "output_type": "stream",
     "text": [
      "METHOD OVERRIDING: THIS IS DISPLAY_STOCK METHOD FROM CHILD\n",
      "The selected stock is CITI\n",
      "The selected stock trades at exchange NYSE\n",
      "The selected stock sector is : BANK\n",
      "The price of stock CITI is 43.45\n"
     ]
    }
   ],
   "source": [
    "citi_object.display_stock()\n",
    "citi_object.display_sector()\n",
    "citi_object.display_stock_price()"
   ]
  }
 ],
 "metadata": {
  "interpreter": {
   "hash": "6d46af94c2bbce495f1e668725902fa517c90b1782bcfe2fce0dd9868df553d3"
  },
  "kernelspec": {
   "display_name": "Python 3 (ipykernel)",
   "language": "python",
   "name": "python3"
  },
  "language_info": {
   "codemirror_mode": {
    "name": "ipython",
    "version": 3
   },
   "file_extension": ".py",
   "mimetype": "text/x-python",
   "name": "python",
   "nbconvert_exporter": "python",
   "pygments_lexer": "ipython3",
   "version": "3.10.6"
  }
 },
 "nbformat": 4,
 "nbformat_minor": 2
}
