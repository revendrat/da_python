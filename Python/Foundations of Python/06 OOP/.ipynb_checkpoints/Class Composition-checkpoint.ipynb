{
 "cells": [
  {
   "cell_type": "markdown",
   "id": "4bfe3051",
   "metadata": {},
   "source": [
    "## Class Composition\n",
    "* A design pattern in object-oriented programming \n",
    "* A class contains an instance of another class as a member variable. \n",
    "* Enables creating complex objects by combining simpler objects"
   ]
  },
  {
   "cell_type": "code",
   "execution_count": 11,
   "id": "d4460938",
   "metadata": {},
   "outputs": [],
   "source": [
    "class Authentication:\n",
    "    def user_name(self):\n",
    "        # logic\n",
    "        #print(\"User Name Verified.\")\n",
    "        return True\n",
    "    \n",
    "    def password_verification(self):\n",
    "        #print(\"Password Verified.\")\n",
    "        return True"
   ]
  },
  {
   "cell_type": "code",
   "execution_count": 17,
   "id": "5a9f78e6",
   "metadata": {},
   "outputs": [],
   "source": [
    "class UserLogin:\n",
    "    def __init__(self):\n",
    "        self.login = Authentication() # calling class from another class\n",
    "    \n",
    "    def verify_user(self):\n",
    "        return self.login.user_name()\n",
    "    \n",
    "    def verify_password(self):\n",
    "        return self.login.password_verification()\n",
    "    \n",
    "    def greet(self):\n",
    "        print(\"Authentication Successful!\")\n",
    "        print(\"Welcome!\")"
   ]
  },
  {
   "cell_type": "code",
   "execution_count": 18,
   "id": "986d855c",
   "metadata": {},
   "outputs": [],
   "source": [
    "login_obj = UserLogin()"
   ]
  },
  {
   "cell_type": "code",
   "execution_count": 19,
   "id": "f7261050",
   "metadata": {},
   "outputs": [
    {
     "data": {
      "text/plain": [
       "True"
      ]
     },
     "execution_count": 19,
     "metadata": {},
     "output_type": "execute_result"
    }
   ],
   "source": [
    "login_obj.verify_user()"
   ]
  },
  {
   "cell_type": "code",
   "execution_count": 20,
   "id": "e796e72c",
   "metadata": {},
   "outputs": [
    {
     "data": {
      "text/plain": [
       "True"
      ]
     },
     "execution_count": 20,
     "metadata": {},
     "output_type": "execute_result"
    }
   ],
   "source": [
    "login_obj.verify_password()"
   ]
  },
  {
   "cell_type": "code",
   "execution_count": 21,
   "id": "dc1f6830",
   "metadata": {},
   "outputs": [
    {
     "name": "stdout",
     "output_type": "stream",
     "text": [
      "Authentication Successful!\n",
      "Welcome!\n"
     ]
    }
   ],
   "source": [
    "if login_obj.verify_user() and login_obj.verify_password():\n",
    "    login_obj.greet()\n",
    "elif not login_obj.verify_user():\n",
    "    print(\"User name is invalid\")\n",
    "else:\n",
    "    print(\"Password is invalid\")"
   ]
  },
  {
   "cell_type": "code",
   "execution_count": 23,
   "id": "570212a8",
   "metadata": {},
   "outputs": [],
   "source": [
    "class ProductName:\n",
    "    def __init__(self, text):\n",
    "        self.text = text\n",
    "\n",
    "class Manufacturer:\n",
    "    def __init__(self, name):\n",
    "        self.name = name\n",
    "\n",
    "class PublishProduct:\n",
    "    def __init__(self, product_name, manufacturer_name):\n",
    "        self.product_name = product_name\n",
    "        self.manufacturer_name = manufacturer_name"
   ]
  },
  {
   "cell_type": "code",
   "execution_count": 24,
   "id": "c84d3dfd",
   "metadata": {},
   "outputs": [],
   "source": [
    "product = ProductName(\"iPhone 14\")\n",
    "manufacturer = Manufacturer(\"Apple Inc.\")\n",
    "publish = PublishProduct(product, manufacturer)"
   ]
  },
  {
   "cell_type": "code",
   "execution_count": 26,
   "id": "ae898797",
   "metadata": {},
   "outputs": [
    {
     "data": {
      "text/plain": [
       "'iPhone 14'"
      ]
     },
     "execution_count": 26,
     "metadata": {},
     "output_type": "execute_result"
    }
   ],
   "source": [
    "publish.product_name.text  "
   ]
  },
  {
   "cell_type": "code",
   "execution_count": 27,
   "id": "74fac3a5",
   "metadata": {},
   "outputs": [
    {
     "data": {
      "text/plain": [
       "'Apple Inc.'"
      ]
     },
     "execution_count": 27,
     "metadata": {},
     "output_type": "execute_result"
    }
   ],
   "source": [
    "publish.manufacturer_name.name"
   ]
  }
 ],
 "metadata": {
  "kernelspec": {
   "display_name": "Python 3 (ipykernel)",
   "language": "python",
   "name": "python3"
  },
  "language_info": {
   "codemirror_mode": {
    "name": "ipython",
    "version": 3
   },
   "file_extension": ".py",
   "mimetype": "text/x-python",
   "name": "python",
   "nbconvert_exporter": "python",
   "pygments_lexer": "ipython3",
   "version": "3.10.6"
  }
 },
 "nbformat": 4,
 "nbformat_minor": 5
}
