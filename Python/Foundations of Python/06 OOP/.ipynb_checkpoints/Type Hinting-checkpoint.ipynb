{
 "cells": [
  {
   "cell_type": "markdown",
   "id": "b5daf64d",
   "metadata": {},
   "source": [
    "## Type Hinting in Python\n",
    "\n",
    "* An approach to indicate the expected types of function arguments and return values using annotations in the function signature. \n",
    "* Introduced in Python 3.5 as a way to help developers catch type-related bugs early, and to make code more readable and maintainable.\n",
    "* To implement type hinting in Python add annotations to the function signature, indicating the expected types of the arguments and the return value. \n",
    "* Type hinting is optional and not enforced by the Python interpreter\n",
    "* IDEs support type hinting, and can use it to provide better code completion, error checking, and documentation. "
   ]
  },
  {
   "cell_type": "code",
   "execution_count": 6,
   "id": "4f05d7b0",
   "metadata": {},
   "outputs": [],
   "source": [
    "# Example of a function without type hinting\n",
    "def add_numbers(x, y):\n",
    "    return x + y"
   ]
  },
  {
   "cell_type": "code",
   "execution_count": 7,
   "id": "be9807f8",
   "metadata": {},
   "outputs": [
    {
     "data": {
      "text/plain": [
       "9"
      ]
     },
     "execution_count": 7,
     "metadata": {},
     "output_type": "execute_result"
    }
   ],
   "source": [
    "add_numbers(5,4)"
   ]
  },
  {
   "cell_type": "code",
   "execution_count": 8,
   "id": "feab2eb9",
   "metadata": {},
   "outputs": [
    {
     "ename": "TypeError",
     "evalue": "unsupported operand type(s) for +: 'int' and 'str'",
     "output_type": "error",
     "traceback": [
      "\u001b[0;31m---------------------------------------------------------------------------\u001b[0m",
      "\u001b[0;31mTypeError\u001b[0m                                 Traceback (most recent call last)",
      "Cell \u001b[0;32mIn[8], line 1\u001b[0m\n\u001b[0;32m----> 1\u001b[0m \u001b[43madd_numbers\u001b[49m\u001b[43m(\u001b[49m\u001b[38;5;241;43m5\u001b[39;49m\u001b[43m,\u001b[49m\u001b[38;5;124;43m\"\u001b[39;49m\u001b[38;5;124;43ma\u001b[39;49m\u001b[38;5;124;43m\"\u001b[39;49m\u001b[43m)\u001b[49m\n",
      "Cell \u001b[0;32mIn[6], line 3\u001b[0m, in \u001b[0;36madd_numbers\u001b[0;34m(x, y)\u001b[0m\n\u001b[1;32m      2\u001b[0m \u001b[38;5;28;01mdef\u001b[39;00m \u001b[38;5;21madd_numbers\u001b[39m(x, y):\n\u001b[0;32m----> 3\u001b[0m     \u001b[38;5;28;01mreturn\u001b[39;00m \u001b[43mx\u001b[49m\u001b[43m \u001b[49m\u001b[38;5;241;43m+\u001b[39;49m\u001b[43m \u001b[49m\u001b[43my\u001b[49m\n",
      "\u001b[0;31mTypeError\u001b[0m: unsupported operand type(s) for +: 'int' and 'str'"
     ]
    }
   ],
   "source": [
    "add_numbers(5,\"a\")"
   ]
  },
  {
   "cell_type": "code",
   "execution_count": 9,
   "id": "66cd56fb",
   "metadata": {},
   "outputs": [],
   "source": [
    "# Example of type hinting\n",
    "def add_numbers_th(x: int, y: int) -> int:\n",
    "    return x + y"
   ]
  },
  {
   "cell_type": "code",
   "execution_count": 11,
   "id": "bed90257",
   "metadata": {},
   "outputs": [
    {
     "data": {
      "text/plain": [
       "9"
      ]
     },
     "execution_count": 11,
     "metadata": {},
     "output_type": "execute_result"
    }
   ],
   "source": [
    "add_numbers_th(5,4)"
   ]
  },
  {
   "cell_type": "code",
   "execution_count": 13,
   "id": "39e4672b",
   "metadata": {},
   "outputs": [
    {
     "ename": "TypeError",
     "evalue": "unsupported operand type(s) for +: 'int' and 'str'",
     "output_type": "error",
     "traceback": [
      "\u001b[0;31m---------------------------------------------------------------------------\u001b[0m",
      "\u001b[0;31mTypeError\u001b[0m                                 Traceback (most recent call last)",
      "Cell \u001b[0;32mIn[13], line 2\u001b[0m\n\u001b[1;32m      1\u001b[0m \u001b[38;5;66;03m# type hinting does not prevent an error, it is for developers to know the types of input arguments and return objects\u001b[39;00m\n\u001b[0;32m----> 2\u001b[0m \u001b[43madd_numbers_th\u001b[49m\u001b[43m(\u001b[49m\u001b[38;5;241;43m5\u001b[39;49m\u001b[43m,\u001b[49m\u001b[38;5;124;43m\"\u001b[39;49m\u001b[38;5;124;43ma\u001b[39;49m\u001b[38;5;124;43m\"\u001b[39;49m\u001b[43m)\u001b[49m\n",
      "Cell \u001b[0;32mIn[9], line 3\u001b[0m, in \u001b[0;36madd_numbers_th\u001b[0;34m(x, y)\u001b[0m\n\u001b[1;32m      2\u001b[0m \u001b[38;5;28;01mdef\u001b[39;00m \u001b[38;5;21madd_numbers_th\u001b[39m(x: \u001b[38;5;28mint\u001b[39m, y: \u001b[38;5;28mint\u001b[39m) \u001b[38;5;241m-\u001b[39m\u001b[38;5;241m>\u001b[39m \u001b[38;5;28mint\u001b[39m:\n\u001b[0;32m----> 3\u001b[0m     \u001b[38;5;28;01mreturn\u001b[39;00m \u001b[43mx\u001b[49m\u001b[43m \u001b[49m\u001b[38;5;241;43m+\u001b[39;49m\u001b[43m \u001b[49m\u001b[43my\u001b[49m\n",
      "\u001b[0;31mTypeError\u001b[0m: unsupported operand type(s) for +: 'int' and 'str'"
     ]
    }
   ],
   "source": [
    "# type hinting does not prevent an error, it is for developers to know the types of input arguments and return objects\n",
    "add_numbers_th(5,\"a\")"
   ]
  },
  {
   "cell_type": "code",
   "execution_count": 16,
   "id": "a2090322",
   "metadata": {},
   "outputs": [],
   "source": [
    "# type hinting returning string\n",
    "def greet(name: str) -> str:\n",
    "    return \"Hello, \" + name"
   ]
  },
  {
   "cell_type": "code",
   "execution_count": 19,
   "id": "75a947cf",
   "metadata": {},
   "outputs": [
    {
     "data": {
      "text/plain": [
       "'Hello, Carl Sagan'"
      ]
     },
     "execution_count": 19,
     "metadata": {},
     "output_type": "execute_result"
    }
   ],
   "source": [
    "greet(\"Carl Sagan\")"
   ]
  },
  {
   "cell_type": "code",
   "execution_count": 17,
   "id": "3a17258b",
   "metadata": {},
   "outputs": [],
   "source": [
    "# type hinting returning flot\n",
    "def calculate_total_price(price: float, quantity: int) -> float:\n",
    "    return price * quantity"
   ]
  },
  {
   "cell_type": "code",
   "execution_count": 20,
   "id": "83182185",
   "metadata": {},
   "outputs": [
    {
     "data": {
      "text/plain": [
       "250"
      ]
     },
     "execution_count": 20,
     "metadata": {},
     "output_type": "execute_result"
    }
   ],
   "source": [
    "calculate_total_price(25,10)"
   ]
  },
  {
   "cell_type": "code",
   "execution_count": 18,
   "id": "7c598f45",
   "metadata": {},
   "outputs": [],
   "source": [
    "# type hinting returning boolean\n",
    "def is_adult(age: int) -> bool:\n",
    "    return age >= 18"
   ]
  },
  {
   "cell_type": "code",
   "execution_count": 21,
   "id": "89a1e233",
   "metadata": {},
   "outputs": [
    {
     "data": {
      "text/plain": [
       "False"
      ]
     },
     "execution_count": 21,
     "metadata": {},
     "output_type": "execute_result"
    }
   ],
   "source": [
    "is_adult(16)"
   ]
  },
  {
   "cell_type": "markdown",
   "id": "c47452cb",
   "metadata": {},
   "source": [
    "### Type Hinting when input aruguments and return arguments are iterables or collections:\n",
    "* Lists\n",
    "* Tuples\n",
    "* Dictionaries"
   ]
  },
  {
   "cell_type": "code",
   "execution_count": 22,
   "id": "b6b9ca75",
   "metadata": {},
   "outputs": [],
   "source": [
    "from typing import List, Dict, Tuple\n",
    "\n",
    "# return sum and average\n",
    "def summary_list(nums: List[int]) -> List[float]:\n",
    "\n",
    "    sum_list = sum(nums)\n",
    "    average_list = sum(nums)/len(nums)\n",
    "\n",
    "    result = [sum_list, average_list]\n",
    "    \n",
    "    return result"
   ]
  },
  {
   "cell_type": "code",
   "execution_count": 25,
   "id": "0a0f8ae9",
   "metadata": {},
   "outputs": [
    {
     "data": {
      "text/plain": [
       "[45.1, 5.011111111111111]"
      ]
     },
     "execution_count": 25,
     "metadata": {},
     "output_type": "execute_result"
    }
   ],
   "source": [
    "summary_list([1,2,3,4,5,6,7,8,9.10])"
   ]
  },
  {
   "cell_type": "code",
   "execution_count": 26,
   "id": "433aa94f",
   "metadata": {},
   "outputs": [],
   "source": [
    "\n",
    "# fetch a value from a dictionary\n",
    "def lookup_stock(stock_prices: Dict[str, float], stock: str) -> float:\n",
    "    return stock_prices.get(stock, 0.0)"
   ]
  },
  {
   "cell_type": "code",
   "execution_count": 27,
   "id": "f3843731",
   "metadata": {},
   "outputs": [
    {
     "data": {
      "text/plain": [
       "305"
      ]
     },
     "execution_count": 27,
     "metadata": {},
     "output_type": "execute_result"
    }
   ],
   "source": [
    "stock_dict = {\"APPLE\": 170, \"TESLA\" : 180, \"MSFT\": 305}\n",
    "\n",
    "lookup_stock(stock_dict, \"MSFT\")"
   ]
  },
  {
   "cell_type": "code",
   "execution_count": 30,
   "id": "04451a75",
   "metadata": {},
   "outputs": [],
   "source": [
    "# send a tuple and return a string\n",
    "#def greet_ticket(greet):\n",
    " #   name, ticket = greet\n",
    "  #  return f\"Hello {name}! Your ticket number is {ticket}.\"\n",
    "\n",
    "\n",
    "def greet_ticket(greet: Tuple[str, int]) -> str:\n",
    "    name, ticket = greet\n",
    "    return f\"Hello {name}! Your ticket number is {ticket}.\""
   ]
  },
  {
   "cell_type": "code",
   "execution_count": 32,
   "id": "7af7567c",
   "metadata": {},
   "outputs": [
    {
     "data": {
      "text/plain": [
       "'Hello Rev! Your ticket number is 8.'"
      ]
     },
     "execution_count": 32,
     "metadata": {},
     "output_type": "execute_result"
    }
   ],
   "source": [
    "greet_ticket((\"Rev\", 8))"
   ]
  },
  {
   "cell_type": "markdown",
   "id": "fde8ea8e",
   "metadata": {},
   "source": [
    "### Type Hinting for Classes & Objects"
   ]
  },
  {
   "cell_type": "code",
   "execution_count": 42,
   "id": "7bed1239",
   "metadata": {},
   "outputs": [],
   "source": [
    "class Car:\n",
    "    def __init__(self, manufacturer: str, model: \n",
    "                 str, year: int, color: str):\n",
    "        self.manufacturer = manufacturer\n",
    "        self.model = model\n",
    "        self.year = year\n",
    "        self.color = color\n",
    "\n",
    "    @classmethod\n",
    "    def from_string(cls, car_string: str) -> 'Car':\n",
    "        \"\"\"\n",
    "        Creates a Car object from a string in the format 'manufacturer,model,year, color'.\n",
    "        Returns a Car object.\n",
    "        \"\"\"\n",
    "        manufacturer, model, year, color = car_string.split(\",\")\n",
    "        return cls(manufacturer, model, int(year), color)\n",
    "    \n",
    "    def greet(self):\n",
    "        print(\"Congratulations you purchased, \" + self.model + \" \" \n",
    "              + self.manufacturer + \"!\")\n",
    "    \n",
    "    def display_color(self):\n",
    "        print(\"Colour of your car is \" + self.color + \".\")"
   ]
  },
  {
   "cell_type": "code",
   "execution_count": 40,
   "id": "1820617c",
   "metadata": {},
   "outputs": [],
   "source": [
    "car_modelx = Car(\"Tesla\", \"Model X\", 2023, \"White\")"
   ]
  },
  {
   "cell_type": "code",
   "execution_count": 41,
   "id": "aa3de0da",
   "metadata": {},
   "outputs": [
    {
     "data": {
      "text/plain": [
       "['Tesla', ' Model X', ' 2023', ' White']"
      ]
     },
     "execution_count": 41,
     "metadata": {},
     "output_type": "execute_result"
    }
   ],
   "source": [
    "st = \"Tesla, Model X, 2023, White\"\n",
    "st.split(',')"
   ]
  },
  {
   "cell_type": "code",
   "execution_count": 43,
   "id": "8f0e83d4",
   "metadata": {},
   "outputs": [],
   "source": [
    "car_string = \"Ford, Mustang, 2022, Red\"\n",
    "car = Car.from_string(car_string)"
   ]
  },
  {
   "cell_type": "code",
   "execution_count": 44,
   "id": "673744c6",
   "metadata": {},
   "outputs": [
    {
     "name": "stdout",
     "output_type": "stream",
     "text": [
      "Ford\n",
      " Mustang\n",
      "2022\n",
      " Red\n"
     ]
    }
   ],
   "source": [
    "print(car.manufacturer)  # Ford\n",
    "print(car.model)  # Mustang\n",
    "print(car.year)  # 2022\n",
    "print(car.color) # red"
   ]
  },
  {
   "cell_type": "code",
   "execution_count": 45,
   "id": "c11feb6c",
   "metadata": {},
   "outputs": [
    {
     "name": "stdout",
     "output_type": "stream",
     "text": [
      "Congratulations you purchased,  Mustang Ford!\n"
     ]
    }
   ],
   "source": [
    "car.greet()"
   ]
  }
 ],
 "metadata": {
  "kernelspec": {
   "display_name": "Python 3 (ipykernel)",
   "language": "python",
   "name": "python3"
  },
  "language_info": {
   "codemirror_mode": {
    "name": "ipython",
    "version": 3
   },
   "file_extension": ".py",
   "mimetype": "text/x-python",
   "name": "python",
   "nbconvert_exporter": "python",
   "pygments_lexer": "ipython3",
   "version": "3.10.6"
  }
 },
 "nbformat": 4,
 "nbformat_minor": 5
}
