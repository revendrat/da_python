{
 "cells": [
  {
   "cell_type": "markdown",
   "id": "b5b1d7f6",
   "metadata": {},
   "source": [
    "## str Magic Function\n",
    "* __str__() is a magic method that is defined inside a class to provide a meaningful representation of an object  through strings. \n",
    "* Create a class defenition with a str magic function in it.\n",
    "* Whenever an objected is created from this class and then passed to the print() function or converted to a string using the str() or format() functions, Python automatically calls the __str__() method to obtain a string representation of the object.\n",
    "* Make sure that your __str__() returns string that can be printed using print function in Python"
   ]
  },
  {
   "cell_type": "code",
   "execution_count": 4,
   "id": "50e8e46a",
   "metadata": {},
   "outputs": [],
   "source": [
    "# CLass without __str__() magic function\n",
    "class Person:\n",
    "    def __init__(self, name, age):\n",
    "        self.name = name\n",
    "        self.age = age"
   ]
  },
  {
   "cell_type": "code",
   "execution_count": 5,
   "id": "0814ac17",
   "metadata": {},
   "outputs": [
    {
     "name": "stdout",
     "output_type": "stream",
     "text": [
      "<__main__.Person object at 0x10d9e39a0>\n"
     ]
    }
   ],
   "source": [
    "p = Person(\"Hope\", 25)\n",
    "print(p)"
   ]
  },
  {
   "cell_type": "code",
   "execution_count": 3,
   "id": "5d918a6b",
   "metadata": {},
   "outputs": [],
   "source": [
    "class Person:\n",
    "    def __init__(self, name, age):\n",
    "        self.name = name\n",
    "        self.age = age\n",
    "\n",
    "    def __str__(self):\n",
    "        #return f\"{self.name}\"\n",
    "        #return f\"{self.name} ({self.age})\"\n",
    "        return self.name + \" (\" + str(self.age) +\")\""
   ]
  },
  {
   "cell_type": "code",
   "execution_count": 4,
   "id": "fc80f27d",
   "metadata": {},
   "outputs": [
    {
     "name": "stdout",
     "output_type": "stream",
     "text": [
      "Hope (25)\n"
     ]
    }
   ],
   "source": [
    "p = Person(\"Hope\", 25)\n",
    "print(p)"
   ]
  },
  {
   "cell_type": "markdown",
   "id": "1cc1d5d4",
   "metadata": {},
   "source": [
    "## repr magic function\n",
    "\n",
    "* __repr__() is a magical method defined inside a Python class and used to provide a string representation of an object. \n",
    "* It is similar to str magic method\n",
    "\n"
   ]
  },
  {
   "cell_type": "code",
   "execution_count": 9,
   "id": "c9fd86e0",
   "metadata": {},
   "outputs": [],
   "source": [
    "# Class without rpr magic function\n",
    "class Point:\n",
    "    def __init__(self, x, y):\n",
    "        self.x = x\n",
    "        self.y = y"
   ]
  },
  {
   "cell_type": "code",
   "execution_count": 10,
   "id": "ab21536b",
   "metadata": {},
   "outputs": [
    {
     "name": "stdout",
     "output_type": "stream",
     "text": [
      "<__main__.Point object at 0x10da500d0>\n"
     ]
    }
   ],
   "source": [
    "p = Point(3, 4)\n",
    "print(p)"
   ]
  },
  {
   "cell_type": "code",
   "execution_count": 7,
   "id": "3e1b67a5",
   "metadata": {},
   "outputs": [],
   "source": [
    "class Point:\n",
    "    def __init__(self, x, y):\n",
    "        self.x = x\n",
    "        self.y = y\n",
    "\n",
    "    def __repr__(self):\n",
    "        #return f\"Point({self.x}, {self.y})\"\n",
    "        return \"Point(\"+str(self.x) +\",\"+str(self.y)+\")\"\n"
   ]
  },
  {
   "cell_type": "code",
   "execution_count": 8,
   "id": "97d7fdf9",
   "metadata": {},
   "outputs": [
    {
     "name": "stdout",
     "output_type": "stream",
     "text": [
      "Point(3,4)\n"
     ]
    }
   ],
   "source": [
    "p = Point(3, 4)\n",
    "print(repr(p)) # Output: Point(3, 4)"
   ]
  },
  {
   "cell_type": "markdown",
   "id": "30f931e1",
   "metadata": {},
   "source": [
    "In Python, __repr__() is another special method that can be defined inside a class to provide a string representation of an object. The main difference between __str__() and __repr__() is that __str__() is used to provide a human-readable string representation of an object, while __repr__() is used to provide a unambiguous string representation that can be used to recreate the object."
   ]
  }
 ],
 "metadata": {
  "kernelspec": {
   "display_name": "Python 3 (ipykernel)",
   "language": "python",
   "name": "python3"
  },
  "language_info": {
   "codemirror_mode": {
    "name": "ipython",
    "version": 3
   },
   "file_extension": ".py",
   "mimetype": "text/x-python",
   "name": "python",
   "nbconvert_exporter": "python",
   "pygments_lexer": "ipython3",
   "version": "3.10.6"
  }
 },
 "nbformat": 4,
 "nbformat_minor": 5
}
