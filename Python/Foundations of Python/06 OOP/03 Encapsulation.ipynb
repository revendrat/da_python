{
 "cells": [
  {
   "cell_type": "code",
   "execution_count": 2,
   "metadata": {},
   "outputs": [],
   "source": [
    "stocks_dict = {\"INFY\":\"IT\", \n",
    "               \"TCS\": \"IT\", \n",
    "               \"HDFC\": \"BANK\", \n",
    "               \"TATA MOTORS\": \"AUTO\" }\n",
    "\n",
    "# Create a class of Stock\n",
    "class Stock(): #note superclass is not used\n",
    "    def __init__(self, stock_name, ex_name):\n",
    "        self.stock_name = stock_name\n",
    "        self.ex_name    = ex_name\n",
    "    \n",
    "    def display_stock(self):\n",
    "        print(\"The selected stock is \" +self.stock_name )\n",
    "        print(\"The selected stock trades at exchange \" +self.ex_name )\n",
    "\n",
    "# Create a Stocksector() class and inherit name and exchange from Stock() class\n",
    "class Stocksector(Stock):\n",
    "    def display_sector(self):\n",
    "        x = stocks_dict[self.stock_name]\n",
    "        print(\"The selected stock sector is : \" + x)\n",
    "\n",
    "class Stockprice(Stocksector):\n",
    "    def __init__(self, stock_name, ex_name, stock_price):\n",
    "        super().__init__(stock_name, ex_name)\n",
    "        self.stock_price = stock_price\n",
    "\n",
    "    def display_stock_price(self):\n",
    "        print(\"The price of stock \"+ self.stock_name \n",
    "              +\" is \" + str(self.stock_price))"
   ]
  },
  {
   "cell_type": "code",
   "execution_count": 7,
   "metadata": {},
   "outputs": [],
   "source": [
    "## Encapsulation Illustration\n",
    "class StocksPurchased(Stockprice):\n",
    "    def __init__(self, stock_name, ex_name, stock_price, qty_purchased):\n",
    "        super().__init__(stock_name, ex_name, stock_price)\n",
    "        self.__qty_purchased = qty_purchased\n",
    "    \n",
    "    def display_qty_purchased(self):\n",
    "        print(\"The number of stocks purchased are (without __) : \" \n",
    "              +str(self.qty_purchased))"
   ]
  },
  {
   "cell_type": "code",
   "execution_count": 10,
   "metadata": {},
   "outputs": [
    {
     "name": "stdout",
     "output_type": "stream",
     "text": [
      "The selected stock is TATA MOTORS\n",
      "The selected stock trades at exchange BSE\n",
      "The selected stock sector is : AUTO\n",
      "The price of stock TATA MOTORS is 506\n"
     ]
    },
    {
     "ename": "AttributeError",
     "evalue": "'StocksPurchased' object has no attribute '__qty_purchased'",
     "output_type": "error",
     "traceback": [
      "\u001b[0;31m---------------------------------------------------------------------------\u001b[0m",
      "\u001b[0;31mAttributeError\u001b[0m                            Traceback (most recent call last)",
      "Cell \u001b[0;32mIn[10], line 10\u001b[0m\n\u001b[1;32m      8\u001b[0m tata_motors_object\u001b[38;5;241m.\u001b[39mdisplay_stock_price()\n\u001b[1;32m      9\u001b[0m \u001b[38;5;66;03m#tata_motors_object.display_qty_purchased()\u001b[39;00m\n\u001b[0;32m---> 10\u001b[0m \u001b[43mtata_motors_object\u001b[49m\u001b[38;5;241;43m.\u001b[39;49m\u001b[43m__qty_purchased\u001b[49m\n",
      "\u001b[0;31mAttributeError\u001b[0m: 'StocksPurchased' object has no attribute '__qty_purchased'"
     ]
    }
   ],
   "source": [
    "tata_motors_object = StocksPurchased(stock_name = \"TATA MOTORS\", \n",
    "                                     ex_name = \"BSE\", \n",
    "                                     stock_price = 506, \n",
    "                                     qty_purchased =20)\n",
    "\n",
    "tata_motors_object.display_stock()\n",
    "tata_motors_object.display_sector()\n",
    "tata_motors_object.display_stock_price()\n",
    "#tata_motors_object.display_qty_purchased()\n",
    "tata_motors_object.__qty_purchased"
   ]
  },
  {
   "cell_type": "code",
   "execution_count": 11,
   "metadata": {},
   "outputs": [],
   "source": [
    "## Encapsulation Illustration\n",
    "class StocksPurchased(Stockprice):\n",
    "    def __init__(self, stock_name, ex_name, stock_price, qty_purchased):\n",
    "        super().__init__(stock_name, ex_name, stock_price)\n",
    "        self.__qty_purchased = qty_purchased\n",
    "    \n",
    "    def display_qty_purchased(self):\n",
    "        print(\"The number of stocks purchased are : \" \n",
    "              +str(self.__qty_purchased))\n",
    "#        print(\"The number of stocks purchased are (without __) : \" \n",
    "#              +str(self.qty_purchased))"
   ]
  },
  {
   "cell_type": "code",
   "execution_count": 12,
   "metadata": {},
   "outputs": [
    {
     "name": "stdout",
     "output_type": "stream",
     "text": [
      "The selected stock is TATA MOTORS\n",
      "The selected stock trades at exchange BSE\n",
      "The selected stock sector is : AUTO\n",
      "The price of stock TATA MOTORS is 506\n",
      "The number of stocks purchased are : 20\n"
     ]
    }
   ],
   "source": [
    "tata_motors_object = StocksPurchased(\"TATA MOTORS\", \"BSE\", 506, 20)\n",
    "tata_motors_object.display_stock()\n",
    "tata_motors_object.display_sector()\n",
    "tata_motors_object.display_stock_price()\n",
    "tata_motors_object.display_qty_purchased()"
   ]
  },
  {
   "cell_type": "code",
   "execution_count": 13,
   "metadata": {},
   "outputs": [
    {
     "name": "stdout",
     "output_type": "stream",
     "text": [
      "The price of stock TATA MOTORS is 506\n",
      "The number of stocks purchased are : 20\n",
      "The price of stock TATA MOTORS is 508\n",
      "The number of stocks purchased are : 20\n"
     ]
    }
   ],
   "source": [
    "# One cannot change the protected attributes.\n",
    "# The following change in quantity will not change the value\n",
    "tata_motors_object.display_stock_price()\n",
    "tata_motors_object.display_qty_purchased()\n",
    "tata_motors_object.stock_price = 508\n",
    "tata_motors_object.__qty_purchased = 50\n",
    "tata_motors_object.display_stock_price()\n",
    "tata_motors_object.display_qty_purchased()\n",
    "## Write separate getter and setter methods to fetch and change the stocks purchased values"
   ]
  },
  {
   "cell_type": "code",
   "execution_count": 14,
   "metadata": {},
   "outputs": [],
   "source": [
    "class StocksPurchased(Stockprice):\n",
    "    def __init__(self, stock_name, ex_name, stock_price, qty_purchased):\n",
    "        super().__init__(stock_name, ex_name, stock_price)\n",
    "        self.__qty_purchased = qty_purchased\n",
    "    \n",
    "    def set_stock_qty(self, qty_purchased):\n",
    "        self.__qty_purchased = qty_purchased\n",
    "\n",
    "    def display_qty_purchased(self):\n",
    "        print(\"The number of stocks purchased are : \" \n",
    "              +str(self.__qty_purchased))"
   ]
  },
  {
   "cell_type": "code",
   "execution_count": 15,
   "metadata": {},
   "outputs": [
    {
     "name": "stdout",
     "output_type": "stream",
     "text": [
      "The number of stocks purchased are : 20\n"
     ]
    }
   ],
   "source": [
    "tata_motors_object = StocksPurchased(\"TATA MOTORS\", \"BSE\", 506, 20)\n",
    "#tata_motors_object.display_qty_purchased()\n",
    "#tata_motors_object.set_stock_qty(50)\n",
    "tata_motors_object.display_qty_purchased()"
   ]
  },
  {
   "cell_type": "code",
   "execution_count": 16,
   "metadata": {},
   "outputs": [
    {
     "name": "stdout",
     "output_type": "stream",
     "text": [
      "The number of stocks purchased are : 50\n"
     ]
    }
   ],
   "source": [
    "tata_motors_object.set_stock_qty(50)\n",
    "tata_motors_object.display_qty_purchased()"
   ]
  },
  {
   "cell_type": "code",
   "execution_count": 17,
   "metadata": {},
   "outputs": [
    {
     "data": {
      "text/plain": [
       "'TATA MOTORS'"
      ]
     },
     "execution_count": 17,
     "metadata": {},
     "output_type": "execute_result"
    }
   ],
   "source": [
    "tata_motors_object.stock_name"
   ]
  },
  {
   "cell_type": "code",
   "execution_count": 18,
   "metadata": {},
   "outputs": [
    {
     "data": {
      "text/plain": [
       "'Maruti'"
      ]
     },
     "execution_count": 18,
     "metadata": {},
     "output_type": "execute_result"
    }
   ],
   "source": [
    "# this business logic is flawed\n",
    "tata_motors_object.stock_name = \"Maruti\"\n",
    "tata_motors_object.stock_name"
   ]
  },
  {
   "cell_type": "code",
   "execution_count": 22,
   "metadata": {},
   "outputs": [],
   "source": [
    "## Write a separate method that can be protected with enapsulation\n",
    "## use _ClassName.__method to access the same\n",
    "class StocksPurchased(Stockprice):\n",
    "    def __init__(self, stock_name, ex_name, stock_price, qty_purchased):\n",
    "        super().__init__(stock_name, ex_name, stock_price)\n",
    "        self.__qty_purchased = 20\n",
    "    \n",
    "    def set_stock_qty(self, qty_purchased):\n",
    "        self.__qty_purchased = qty_purchased\n",
    "\n",
    "    def display_qty_purchased(self):\n",
    "        print(\"The number of stocks purchased are : \" \n",
    "              +str(self.__qty_purchased))\n",
    "   \n",
    "    def __amount_invested(self):\n",
    "        print(\"The amount invested : \" \n",
    "              +str(self.__qty_purchased * self.stock_price))\n",
    "        return self.__qty_purchased * self.stock_price\n",
    "    \n",
    "    def __print_stock_name(self):\n",
    "        print(\"Stock name is :\", self.stock_name)"
   ]
  },
  {
   "cell_type": "code",
   "execution_count": 23,
   "metadata": {},
   "outputs": [
    {
     "name": "stdout",
     "output_type": "stream",
     "text": [
      "The selected stock is TATA MOTORS\n",
      "The selected stock trades at exchange BSE\n",
      "The selected stock sector is : AUTO\n",
      "The price of stock TATA MOTORS is 506\n",
      "The number of stocks purchased are : 20\n",
      "The amount invested : 10120\n"
     ]
    },
    {
     "data": {
      "text/plain": [
       "10120"
      ]
     },
     "execution_count": 23,
     "metadata": {},
     "output_type": "execute_result"
    }
   ],
   "source": [
    "tata_motors_object = StocksPurchased(\"TATA MOTORS\", \"BSE\", 506, 20)\n",
    "tata_motors_object.display_stock()\n",
    "tata_motors_object.display_sector()\n",
    "tata_motors_object.display_stock_price()\n",
    "tata_motors_object.display_qty_purchased()\n",
    "tata_motors_object._StocksPurchased__amount_invested()"
   ]
  },
  {
   "cell_type": "code",
   "execution_count": 27,
   "metadata": {},
   "outputs": [
    {
     "name": "stdout",
     "output_type": "stream",
     "text": [
      "Stock name is : TATA MOTORS\n"
     ]
    }
   ],
   "source": [
    "tata_motors_object._StocksPurchased__print_stock_name()"
   ]
  },
  {
   "cell_type": "code",
   "execution_count": 21,
   "metadata": {},
   "outputs": [
    {
     "name": "stdout",
     "output_type": "stream",
     "text": [
      "The number of stocks purchased are : 50\n",
      "The amount invested : 25300\n"
     ]
    },
    {
     "data": {
      "text/plain": [
       "25300"
      ]
     },
     "execution_count": 21,
     "metadata": {},
     "output_type": "execute_result"
    }
   ],
   "source": [
    "tata_motors_object.set_stock_qty(50)\n",
    "tata_motors_object.display_qty_purchased()\n",
    "tata_motors_object._StocksPurchased__amount_invested()"
   ]
  }
 ],
 "metadata": {
  "interpreter": {
   "hash": "6d46af94c2bbce495f1e668725902fa517c90b1782bcfe2fce0dd9868df553d3"
  },
  "kernelspec": {
   "display_name": "Python 3 (ipykernel)",
   "language": "python",
   "name": "python3"
  },
  "language_info": {
   "codemirror_mode": {
    "name": "ipython",
    "version": 3
   },
   "file_extension": ".py",
   "mimetype": "text/x-python",
   "name": "python",
   "nbconvert_exporter": "python",
   "pygments_lexer": "ipython3",
   "version": "3.10.6"
  }
 },
 "nbformat": 4,
 "nbformat_minor": 2
}
