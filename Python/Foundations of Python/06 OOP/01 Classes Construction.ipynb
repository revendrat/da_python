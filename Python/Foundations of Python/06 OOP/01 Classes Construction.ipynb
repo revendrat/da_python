{
 "cells": [
  {
   "cell_type": "code",
   "execution_count": 2,
   "metadata": {},
   "outputs": [],
   "source": [
    "# Illustration of Car Class Construction\n",
    "class Car():\n",
    "    def __init__(self, colour, manufacturer, model):\n",
    "        self.colour = colour\n",
    "        self.manufacturer = manufacturer\n",
    "        self.model = model\n",
    "\n",
    "    def greet(self):\n",
    "        print(\"Congratulations you purchased, \" + self.model + \" \" + self.manufacturer)\n",
    "    \n",
    "    def display_colour(self):\n",
    "        print(\"Colour of your car is \" + self.colour)"
   ]
  },
  {
   "cell_type": "code",
   "execution_count": 3,
   "metadata": {},
   "outputs": [],
   "source": [
    "# Instance of car\n",
    "# Instance is also called object\n",
    "car_mustang = Car(colour= \"Red\", manufacturer=\"Ford\", model= \"Mustang\")"
   ]
  },
  {
   "cell_type": "code",
   "execution_count": 4,
   "metadata": {},
   "outputs": [
    {
     "name": "stdout",
     "output_type": "stream",
     "text": [
      "Congratulations you purchased, Mustang Ford\n",
      "Colour of your car is Red\n"
     ]
    }
   ],
   "source": [
    "car_mustang.greet()\n",
    "car_mustang.display_colour()"
   ]
  },
  {
   "cell_type": "code",
   "execution_count": 5,
   "metadata": {},
   "outputs": [
    {
     "name": "stdout",
     "output_type": "stream",
     "text": [
      "Red\n",
      "Ford\n",
      "Mustang\n"
     ]
    }
   ],
   "source": [
    "print(car_mustang.colour)\n",
    "print(car_mustang.manufacturer)\n",
    "print(car_mustang.model)"
   ]
  },
  {
   "cell_type": "code",
   "execution_count": 14,
   "metadata": {},
   "outputs": [],
   "source": [
    "# Illustration of Customer Class Construction\n",
    "\n",
    "class Customer():\n",
    "    def __init__(self, email, phone, place_order, cancel_order):\n",
    "        self.email = email\n",
    "        self.phone = phone\n",
    "        self.place_order = place_order\n",
    "        self.cancel_order = cancel_order\n",
    "\n",
    "    def greet(self):\n",
    "        print(\"Welcome!\")\n",
    "        \n",
    "        if self.place_order == \"Y\":\n",
    "            print(\"Your order is placed.\")\n",
    "        else:\n",
    "            print(\"Your order is not placed.\")\n",
    "        if self.cancel_order == \"Y\":\n",
    "            print(\"Your order is cancelled.\")\n",
    "        else:\n",
    "            print(\"Your order is not cancelled.\")"
   ]
  },
  {
   "cell_type": "code",
   "execution_count": 6,
   "metadata": {},
   "outputs": [],
   "source": [
    "# Illustration of Customer Class Construction\n",
    "\n",
    "class Customer():\n",
    "    def __init__(self, email, phone, place_order, cancel_order):\n",
    "        self.email = email\n",
    "        self.phone = phone\n",
    "        self.place_order = place_order\n",
    "        self.cancel_order = cancel_order\n",
    "\n",
    "    def greet(self):\n",
    "        print(\"Welcome!\")\n",
    "    \n",
    "    def display_place_order(self):\n",
    "        if self.place_order == \"Y\":\n",
    "            print(\"Your order is placed.\")\n",
    "        else:\n",
    "            print(\"Your order is not placed.\")\n",
    "    \n",
    "    def display_cancel_order(self):\n",
    "        if self.cancel_order == \"Y\":\n",
    "            print(\"Your order is cancelled.\")\n",
    "        else:\n",
    "            print(\"Your order is not cancelled.\")"
   ]
  },
  {
   "cell_type": "code",
   "execution_count": 7,
   "metadata": {},
   "outputs": [],
   "source": [
    "# Instance of customer\n",
    "# Instance is also called object\n",
    "customer1 = Customer(email = \"lara@company.com\", phone = \"614-555-0177\", place_order=\"Y\", cancel_order = \"N\")"
   ]
  },
  {
   "cell_type": "code",
   "execution_count": 8,
   "metadata": {},
   "outputs": [
    {
     "name": "stdout",
     "output_type": "stream",
     "text": [
      "Welcome!\n",
      "Your order is placed.\n",
      "Your order is not cancelled.\n"
     ]
    }
   ],
   "source": [
    "customer1.greet()\n",
    "customer1.display_place_order()\n",
    "customer1.display_cancel_order()\n"
   ]
  },
  {
   "cell_type": "code",
   "execution_count": 22,
   "metadata": {},
   "outputs": [],
   "source": [
    "customer2 = Customer(email = \"dave@company.com\", phone = \"317-555-0188\", place_order=\"N\", cancel_order = \"Y\")"
   ]
  },
  {
   "cell_type": "code",
   "execution_count": 23,
   "metadata": {},
   "outputs": [
    {
     "name": "stdout",
     "output_type": "stream",
     "text": [
      "Welcome!\n",
      "Your order is not placed.\n",
      "Your order is cancelled.\n"
     ]
    }
   ],
   "source": [
    "customer2.greet()\n",
    "customer2.display_place_order()\n",
    "customer2.display_cancel_order()"
   ]
  },
  {
   "cell_type": "code",
   "execution_count": 29,
   "metadata": {},
   "outputs": [],
   "source": [
    "class Customer():\n",
    "    count_customers = 0\n",
    "    def __init__(self, email, phone, place_order, cancel_order):\n",
    "        self.email = email\n",
    "        self.phone = phone\n",
    "        self.place_order = place_order\n",
    "        self.cancel_order = cancel_order\n",
    "        Customer.count_customers += 1\n",
    "\n",
    "    def greet(self):\n",
    "        print(\"Welcome!\")\n",
    "        if self.place_order == \"Y\":\n",
    "            print(\"Your order is placed.\")\n",
    "        else:\n",
    "            print(\"Your order is not placed.\")\n",
    "        if self.cancel_order == \"Y\":\n",
    "            print(\"Your order is cancelled.\")\n",
    "        else:\n",
    "            print(\"Your order is not cancelled.\")\n",
    "    \n",
    "    def num_of_customers(self):\n",
    "        print(\"Current number of customers are :\" +str(Customer.count_customers))"
   ]
  },
  {
   "cell_type": "code",
   "execution_count": 25,
   "metadata": {},
   "outputs": [
    {
     "name": "stdout",
     "output_type": "stream",
     "text": [
      "Current number of customers are :1\n",
      "Current number of customers are :2\n"
     ]
    }
   ],
   "source": [
    "customer1 = Customer(email = \"lara@company.com\", phone = \"614-555-0177\", place_order=\"Y\", cancel_order = \"N\")\n",
    "customer1.num_of_customers()\n",
    "\n",
    "customer2 = Customer(email = \"dave@company.com\", phone = \"317-555-0188\", place_order=\"N\", cancel_order = \"Y\")\n",
    "customer2.num_of_customers()"
   ]
  },
  {
   "cell_type": "code",
   "execution_count": 26,
   "metadata": {},
   "outputs": [
    {
     "name": "stdout",
     "output_type": "stream",
     "text": [
      "Current number of customers are :3\n"
     ]
    }
   ],
   "source": [
    "customer3 = Customer(email = \"sagar@kapoor.com\", phone = \"317-555-0188\", place_order=\"N\", cancel_order = \"N\")\n",
    "customer3.num_of_customers()"
   ]
  },
  {
   "cell_type": "code",
   "execution_count": 27,
   "metadata": {},
   "outputs": [
    {
     "name": "stdout",
     "output_type": "stream",
     "text": [
      "Current number of customers are :4\n"
     ]
    }
   ],
   "source": [
    "customer4 = Customer(email = \"vaibhav@vaibhav.com\", phone = \"317-555-0188\", place_order=\"Y\", cancel_order = \"Y\")\n",
    "customer4.num_of_customers()"
   ]
  },
  {
   "cell_type": "code",
   "execution_count": 30,
   "metadata": {},
   "outputs": [
    {
     "name": "stdout",
     "output_type": "stream",
     "text": [
      "Current number of customers are :1\n"
     ]
    }
   ],
   "source": [
    "customer5 = Customer(email = \"dhairya@bits.com\", phone = \"317-555-0188\", place_order=\"Y\", cancel_order = \"Y\")\n",
    "customer5.num_of_customers()"
   ]
  }
 ],
 "metadata": {
  "interpreter": {
   "hash": "6d46af94c2bbce495f1e668725902fa517c90b1782bcfe2fce0dd9868df553d3"
  },
  "kernelspec": {
   "display_name": "Python 3.8.12 64-bit ('base': conda)",
   "language": "python",
   "name": "python3"
  },
  "language_info": {
   "codemirror_mode": {
    "name": "ipython",
    "version": 3
   },
   "file_extension": ".py",
   "mimetype": "text/x-python",
   "name": "python",
   "nbconvert_exporter": "python",
   "pygments_lexer": "ipython3",
   "version": "3.8.12"
  },
  "orig_nbformat": 4
 },
 "nbformat": 4,
 "nbformat_minor": 2
}
