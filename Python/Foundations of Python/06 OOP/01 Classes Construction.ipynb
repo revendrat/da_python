{
 "cells": [
  {
   "cell_type": "code",
   "execution_count": 1,
   "metadata": {},
   "outputs": [
    {
     "ename": "NameError",
     "evalue": "name 'Car' is not defined",
     "output_type": "error",
     "traceback": [
      "\u001b[0;31m---------------------------------------------------------------------------\u001b[0m",
      "\u001b[0;31mNameError\u001b[0m                                 Traceback (most recent call last)",
      "Cell \u001b[0;32mIn[1], line 1\u001b[0m\n\u001b[0;32m----> 1\u001b[0m \u001b[38;5;28mtype\u001b[39m(\u001b[43mCar\u001b[49m)\n",
      "\u001b[0;31mNameError\u001b[0m: name 'Car' is not defined"
     ]
    }
   ],
   "source": [
    "type(Car)"
   ]
  },
  {
   "cell_type": "code",
   "execution_count": 2,
   "metadata": {},
   "outputs": [],
   "source": [
    "# Illustration of Car Class Construction\n",
    "class Car():\n",
    "    def __init__(self, color, manufacturer, model):\n",
    "        self.color = color\n",
    "        self.manufacturer = manufacturer\n",
    "        self.model = model\n",
    "\n",
    "    def greet(self):\n",
    "        print(\"Congratulations you purchased, \" + self.model + \" \" \n",
    "              + self.manufacturer + \"!\")\n",
    "    \n",
    "    def display_color(self):\n",
    "        print(\"Colour of your car is \" + self.color + \".\")"
   ]
  },
  {
   "cell_type": "code",
   "execution_count": 5,
   "metadata": {},
   "outputs": [
    {
     "data": {
      "text/plain": [
       "type"
      ]
     },
     "execution_count": 5,
     "metadata": {},
     "output_type": "execute_result"
    }
   ],
   "source": [
    "type(Car)"
   ]
  },
  {
   "cell_type": "code",
   "execution_count": 6,
   "metadata": {},
   "outputs": [],
   "source": [
    "# Instance of car\n",
    "# Instance is also called object\n",
    "car_mustang = Car(color= \"Red\", manufacturer=\"Ford\", model= \"Mustang\")"
   ]
  },
  {
   "cell_type": "code",
   "execution_count": 38,
   "metadata": {},
   "outputs": [],
   "source": [
    "car_model_x = Car(\"White\", \"Tesla\", \"X\")"
   ]
  },
  {
   "cell_type": "code",
   "execution_count": 39,
   "metadata": {},
   "outputs": [
    {
     "name": "stdout",
     "output_type": "stream",
     "text": [
      "Congratulations you purchased, X Tesla!\n"
     ]
    }
   ],
   "source": [
    "car_model_x.greet()"
   ]
  },
  {
   "cell_type": "code",
   "execution_count": 7,
   "metadata": {},
   "outputs": [
    {
     "data": {
      "text/plain": [
       "__main__.Car"
      ]
     },
     "execution_count": 7,
     "metadata": {},
     "output_type": "execute_result"
    }
   ],
   "source": [
    "type(car_mustang)"
   ]
  },
  {
   "cell_type": "code",
   "execution_count": 8,
   "metadata": {},
   "outputs": [
    {
     "name": "stdout",
     "output_type": "stream",
     "text": [
      "Congratulations you purchased, Mustang Ford!\n"
     ]
    }
   ],
   "source": [
    "# greet using greet() method\n",
    "car_mustang.greet()"
   ]
  },
  {
   "cell_type": "code",
   "execution_count": 9,
   "metadata": {},
   "outputs": [
    {
     "name": "stdout",
     "output_type": "stream",
     "text": [
      "Colour of your car is Red.\n"
     ]
    }
   ],
   "source": [
    "# display color of car using display_color() method\n",
    "car_mustang.display_color()"
   ]
  },
  {
   "cell_type": "code",
   "execution_count": 10,
   "metadata": {},
   "outputs": [
    {
     "name": "stdout",
     "output_type": "stream",
     "text": [
      "Red\n",
      "Ford\n",
      "Mustang\n"
     ]
    }
   ],
   "source": [
    "print(car_mustang.color)\n",
    "print(car_mustang.manufacturer)\n",
    "print(car_mustang.model)"
   ]
  },
  {
   "cell_type": "code",
   "execution_count": 12,
   "metadata": {},
   "outputs": [
    {
     "name": "stdout",
     "output_type": "stream",
     "text": [
      "Congratulations you purchased, Mustang Ford!\n"
     ]
    }
   ],
   "source": [
    "car_mustang.greet()"
   ]
  },
  {
   "cell_type": "code",
   "execution_count": 12,
   "metadata": {},
   "outputs": [
    {
     "name": "stdout",
     "output_type": "stream",
     "text": [
      "Congratulations you purchased, Mustang Ford!\n"
     ]
    }
   ],
   "source": [
    "car_mustang.greet()"
   ]
  },
  {
   "cell_type": "code",
   "execution_count": 18,
   "metadata": {},
   "outputs": [],
   "source": [
    "# Illustration of Customer Class Construction\n",
    "\n",
    "class Customer():\n",
    "    def __init__(self, email, phone, place_order, cancel_order):\n",
    "        self.email = email\n",
    "        self.phone = phone\n",
    "        self.place_order = place_order\n",
    "        self.cancel_order = cancel_order\n",
    "\n",
    "    def greet(self):\n",
    "        print(\"Welcome!\")\n",
    "        \n",
    "        if self.place_order == \"Y\":\n",
    "            print(\"Your order is placed.\")\n",
    "        else:\n",
    "            print(\"Your order is not placed.\")\n",
    "            \n",
    "        if self.cancel_order == \"Y\":\n",
    "            print(\"Your order is cancelled.\")\n",
    "        else:\n",
    "            print(\"Your order is not cancelled.\")"
   ]
  },
  {
   "cell_type": "code",
   "execution_count": 14,
   "metadata": {},
   "outputs": [],
   "source": [
    "# Illustration of Customer Class Construction\n",
    "\n",
    "class Customer():\n",
    "    def __init__(self, email, phone, place_order, cancel_order):\n",
    "        self.email = email\n",
    "        self.phone = phone\n",
    "        self.place_order = place_order\n",
    "        self.cancel_order = cancel_order\n",
    "\n",
    "    def greet(self):\n",
    "        print(\"Welcome to Amazon.com!\")\n",
    "    \n",
    "    def display_place_order(self):\n",
    "        if self.place_order == \"Y\":\n",
    "            print(\"Your order is placed. Your product is shipped\")\n",
    "        else:\n",
    "            print(\"Your order is not placed. Subscribe to Amazon Prime for quick delivery\")\n",
    "    \n",
    "    def display_cancel_order(self):\n",
    "        if self.cancel_order == \"Y\":\n",
    "            print(\"Your order is cancelled. Your refund will be processed in 3 working days\")\n",
    "        else:\n",
    "            print(\"Your order is not cancelled. The product is under shipping.\")"
   ]
  },
  {
   "cell_type": "code",
   "execution_count": 15,
   "metadata": {},
   "outputs": [],
   "source": [
    "# Instance of customer\n",
    "# Instance is also called object\n",
    "customer_lara = Customer(email = \"lara@company.com\", \n",
    "                     phone = \"614-555-0177\", \n",
    "                     place_order=\"Y\", \n",
    "                     cancel_order = \"N\")"
   ]
  },
  {
   "cell_type": "code",
   "execution_count": null,
   "metadata": {},
   "outputs": [],
   "source": [
    "customer_lara. #(press tab after dot)"
   ]
  },
  {
   "cell_type": "code",
   "execution_count": 16,
   "metadata": {},
   "outputs": [
    {
     "name": "stdout",
     "output_type": "stream",
     "text": [
      "Welcome to Amazon.com!\n",
      "Your order is placed. Your product is shipped\n",
      "Your order is not cancelled. The product is under shipping.\n"
     ]
    }
   ],
   "source": [
    "customer_lara.greet()\n",
    "customer_lara.display_place_order()\n",
    "customer_lara.display_cancel_order()\n"
   ]
  },
  {
   "cell_type": "code",
   "execution_count": 23,
   "metadata": {},
   "outputs": [],
   "source": [
    "customer_dave = Customer(email = \"dave@company.com\", \n",
    "                phone = \"317-555-0188\", \n",
    "                place_order=\"Y\", \n",
    "                cancel_order = \"N\")"
   ]
  },
  {
   "cell_type": "code",
   "execution_count": 24,
   "metadata": {},
   "outputs": [
    {
     "name": "stdout",
     "output_type": "stream",
     "text": [
      "Welcome!\n",
      "Your order is placed.\n",
      "Your order is not cancelled.\n"
     ]
    }
   ],
   "source": [
    "customer_dave.greet()\n",
    "customer_dave.display_place_order()\n",
    "customer_dave.display_cancel_order()"
   ]
  },
  {
   "cell_type": "code",
   "execution_count": 35,
   "metadata": {},
   "outputs": [],
   "source": [
    "class Customer():\n",
    "    count_customers = 0\n",
    "    company_name = \"\"\n",
    "    def __init__(self, email, phone, place_order, cancel_order):\n",
    "        self.email = email\n",
    "        self.phone = phone\n",
    "        self.place_order = place_order\n",
    "        self.cancel_order = cancel_order\n",
    "        Customer.count_customers += 1\n",
    "        Customer.company_name = \"Amazon\"\n",
    "\n",
    "    def greet(self):\n",
    "        print(\"Welcome to \", Customer.company_name, \"!\")\n",
    "    \n",
    "    def display_place_order(self):\n",
    "        if self.place_order == \"Y\":\n",
    "            print(\"Your order is placed.\")\n",
    "        else:\n",
    "            print(\"Your order is not placed.\")\n",
    "    \n",
    "    def display_cancel_order(self):\n",
    "        if self.cancel_order == \"Y\":\n",
    "            print(\"Your order is cancelled.\")\n",
    "        else:\n",
    "            print(\"Your order is not cancelled.\")\n",
    " \n",
    "# try to avoid passinig attribute names\n",
    "    def num_of_customers_ws(count_customers):\n",
    "        print(\"Current number of customers are (without self):\" \n",
    "              +str(Customer.count_customers))\n",
    "\n",
    "        # Follow this practice using self\n",
    "    def num_of_customers_self(self):\n",
    "        print(\"Current number of customers are (with self):\" \n",
    "              +str(Customer.count_customers))"
   ]
  },
  {
   "cell_type": "code",
   "execution_count": 37,
   "metadata": {},
   "outputs": [
    {
     "name": "stdout",
     "output_type": "stream",
     "text": [
      "Welcome to  Amazon !\n",
      "Current number of customers are (without self):2\n",
      "Current number of customers are (with self):2\n"
     ]
    }
   ],
   "source": [
    "customer_lara = Customer(email = \"lara@company.com\", \n",
    "                         phone = \"614-555-0177\", \n",
    "                         place_order=\"Y\", \n",
    "                         cancel_order = \"N\")\n",
    "\n",
    "customer_lara.greet()\n",
    "customer_lara.num_of_customers_ws()\n",
    "customer_lara.num_of_customers_self()"
   ]
  },
  {
   "cell_type": "code",
   "execution_count": 27,
   "metadata": {},
   "outputs": [
    {
     "name": "stdout",
     "output_type": "stream",
     "text": [
      "Current number of customers are :2\n"
     ]
    }
   ],
   "source": [
    "customer_dave = Customer(email = \"dave@company.com\", \n",
    "                         phone = \"317-555-0188\", \n",
    "                         place_order=\"N\", \n",
    "                         cancel_order = \"Y\")\n",
    "\n",
    "customer_dave.num_of_customers()"
   ]
  },
  {
   "cell_type": "code",
   "execution_count": 28,
   "metadata": {},
   "outputs": [
    {
     "name": "stdout",
     "output_type": "stream",
     "text": [
      "Current number of customers are :3\n"
     ]
    }
   ],
   "source": [
    "customer_kapoor = Customer(email = \"sagar@kapoor.com\", \n",
    "                           phone = \"317-555-0188\", \n",
    "                           place_order=\"N\", \n",
    "                           cancel_order = \"N\")\n",
    "\n",
    "customer_kapoor.num_of_customers()"
   ]
  },
  {
   "cell_type": "code",
   "execution_count": 29,
   "metadata": {},
   "outputs": [
    {
     "name": "stdout",
     "output_type": "stream",
     "text": [
      "Current number of customers are :4\n"
     ]
    }
   ],
   "source": [
    "customer_ken = Customer(email = \"ken@ken.com\", \n",
    "                        phone = \"317-555-0188\", \n",
    "                        place_order=\"Y\", \n",
    "                        cancel_order = \"Y\")\n",
    "\n",
    "customer_ken.num_of_customers()"
   ]
  }
 ],
 "metadata": {
  "interpreter": {
   "hash": "6d46af94c2bbce495f1e668725902fa517c90b1782bcfe2fce0dd9868df553d3"
  },
  "kernelspec": {
   "display_name": "Python 3 (ipykernel)",
   "language": "python",
   "name": "python3"
  },
  "language_info": {
   "codemirror_mode": {
    "name": "ipython",
    "version": 3
   },
   "file_extension": ".py",
   "mimetype": "text/x-python",
   "name": "python",
   "nbconvert_exporter": "python",
   "pygments_lexer": "ipython3",
   "version": "3.10.6"
  }
 },
 "nbformat": 4,
 "nbformat_minor": 2
}
