{
 "cells": [
  {
   "cell_type": "markdown",
   "id": "cf35ddd0",
   "metadata": {},
   "source": [
    "## Static Method\n",
    "* staticmethod() is an in-built Python function \n",
    "* used to define a static method inside a class. \n",
    "* A static method is part of a class rather and not an instance of the class. \n",
    "* Call a static method on the class itself, not on an instance of the class\n",
    "* Does not have access to the instance or class variables.\n",
    "* Does not receive *self* and *cls* parameters within a class\n",
    "* defined inside a class for organisation purposes\n",
    "\n",
    "### Application of Static Method\n",
    "* Useful to define a method that is logically related to a class, but does not depend on any instance variables or methods. \n",
    "* Used to provide a utility function that is related to a class, but not a part of the class itself."
   ]
  },
  {
   "cell_type": "code",
   "execution_count": 7,
   "id": "0efa4661",
   "metadata": {},
   "outputs": [],
   "source": [
    "## perform multiplication without staticmethod\n",
    "class MulTwo():\n",
    "    def __init__(self,x,y):\n",
    "        self.x = x\n",
    "        self.y = y\n",
    "    \n",
    "    def mul_two(self):\n",
    "        return self.x*self.y"
   ]
  },
  {
   "cell_type": "code",
   "execution_count": 8,
   "id": "a8638ad2",
   "metadata": {},
   "outputs": [
    {
     "data": {
      "text/plain": [
       "20"
      ]
     },
     "execution_count": 8,
     "metadata": {},
     "output_type": "execute_result"
    }
   ],
   "source": [
    "# create an object instantiate MulTwo class\n",
    "p = MulTwo(4,5)\n",
    "p.mul_two()"
   ]
  },
  {
   "cell_type": "code",
   "execution_count": 14,
   "id": "21a1bcb5",
   "metadata": {},
   "outputs": [],
   "source": [
    "## perform arithmetic operations with staticmethod\n",
    "class Arithmetic:\n",
    "    def __init__(self, value):\n",
    "        self.value = value\n",
    "    \n",
    "    @staticmethod\n",
    "    def add_two(x,y):\n",
    "        return x+y\n",
    "    \n",
    "    @staticmethod\n",
    "    def sub_two(x,y):\n",
    "        return x-y\n",
    "    \n",
    "    @staticmethod\n",
    "    def mul_two(x,y):\n",
    "        return x*y\n",
    "    \n",
    "    @staticmethod\n",
    "    def div_two(x,y):\n",
    "        return x/y"
   ]
  },
  {
   "cell_type": "code",
   "execution_count": 15,
   "id": "3757972f",
   "metadata": {},
   "outputs": [
    {
     "data": {
      "text/plain": [
       "20"
      ]
     },
     "execution_count": 15,
     "metadata": {},
     "output_type": "execute_result"
    }
   ],
   "source": [
    "Arithmetic.mul_two(5, 4)"
   ]
  },
  {
   "cell_type": "code",
   "execution_count": 16,
   "id": "3d010c4d",
   "metadata": {
    "scrolled": true
   },
   "outputs": [
    {
     "data": {
      "text/plain": [
       "1"
      ]
     },
     "execution_count": 16,
     "metadata": {},
     "output_type": "execute_result"
    }
   ],
   "source": [
    "Arithmetic.sub_two(5,4)"
   ]
  },
  {
   "cell_type": "markdown",
   "id": "25be2b1d",
   "metadata": {},
   "source": [
    "## Classmethod\n",
    "* classmethod() is a built-in function \n",
    "* Used to define a class method inside a class. \n",
    "* Belongs to a class rather than an instance of the class. \n",
    "* Called on the class itself, rather than on an instance of the class, and \n",
    "* Has access to the class variables."
   ]
  },
  {
   "cell_type": "code",
   "execution_count": 22,
   "id": "5f4fd997",
   "metadata": {},
   "outputs": [],
   "source": [
    "class UnaryOps:\n",
    "    num_var = 0\n",
    "    \n",
    "    def __init__(self, value):\n",
    "        self.value = value\n",
    "\n",
    "    @classmethod #decorator\n",
    "    def increment(cls):\n",
    "        print(\"cls.num_var before increment: \", cls.num_var)\n",
    "        cls.num_var += 1\n",
    "        print(\"cls.num_var before increment: \")\n",
    "        return cls.num_var\n",
    "    \n",
    "    @classmethod #decorator\n",
    "    def decrement(cls):\n",
    "        print(\"cls.num_var before decrement: \", cls.num_var)\n",
    "        cls.num_var -= 1\n",
    "        print(\"cls.num_var after decrement: \")\n",
    "        return cls.num_var"
   ]
  },
  {
   "cell_type": "code",
   "execution_count": 23,
   "id": "35d1acc7",
   "metadata": {},
   "outputs": [
    {
     "name": "stdout",
     "output_type": "stream",
     "text": [
      "cls.num_var before increment:  0\n",
      "cls.num_var before increment: \n"
     ]
    },
    {
     "data": {
      "text/plain": [
       "1"
      ]
     },
     "execution_count": 23,
     "metadata": {},
     "output_type": "execute_result"
    }
   ],
   "source": [
    "# first time\n",
    "UnaryOps.increment()"
   ]
  },
  {
   "cell_type": "code",
   "execution_count": 24,
   "id": "7e83dac7",
   "metadata": {},
   "outputs": [
    {
     "name": "stdout",
     "output_type": "stream",
     "text": [
      "cls.num_var before increment:  1\n",
      "cls.num_var before increment: \n"
     ]
    },
    {
     "data": {
      "text/plain": [
       "2"
      ]
     },
     "execution_count": 24,
     "metadata": {},
     "output_type": "execute_result"
    }
   ],
   "source": [
    "# second time\n",
    "UnaryOps.increment()"
   ]
  },
  {
   "cell_type": "code",
   "execution_count": 25,
   "id": "27465ddb",
   "metadata": {},
   "outputs": [
    {
     "name": "stdout",
     "output_type": "stream",
     "text": [
      "cls.num_var before decrement:  2\n",
      "cls.num_var after decrement: \n"
     ]
    },
    {
     "data": {
      "text/plain": [
       "1"
      ]
     },
     "execution_count": 25,
     "metadata": {},
     "output_type": "execute_result"
    }
   ],
   "source": [
    "# decrement first time\n",
    "UnaryOps.decrement()"
   ]
  }
 ],
 "metadata": {
  "kernelspec": {
   "display_name": "Python 3 (ipykernel)",
   "language": "python",
   "name": "python3"
  },
  "language_info": {
   "codemirror_mode": {
    "name": "ipython",
    "version": 3
   },
   "file_extension": ".py",
   "mimetype": "text/x-python",
   "name": "python",
   "nbconvert_exporter": "python",
   "pygments_lexer": "ipython3",
   "version": "3.10.6"
  }
 },
 "nbformat": 4,
 "nbformat_minor": 5
}
