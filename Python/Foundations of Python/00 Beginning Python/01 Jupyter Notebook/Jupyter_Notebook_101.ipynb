{
 "cells": [
  {
   "cell_type": "code",
   "execution_count": 7,
   "id": "8284426b",
   "metadata": {},
   "outputs": [
    {
     "name": "stdout",
     "output_type": "stream",
     "text": [
      "Average of numbers 0,0,3,1,4,1,5,9,0,0:  2.3\n"
     ]
    },
    {
     "data": {
      "text/plain": [
       "3.0"
      ]
     },
     "execution_count": 7,
     "metadata": {},
     "output_type": "execute_result"
    }
   ],
   "source": [
    "from math import fsum\n",
    "def average(x):\n",
    "    return fsum(x)/float(len(x)) if x else 0\n",
    "\n",
    "print (\"Average of numbers 0,0,3,1,4,1,5,9,0,0: \", \n",
    "       average([0,0,3,1,4,1,5,9,0,0]))\n",
    "\n",
    "average([1,2,3,4,5])"
   ]
  },
  {
   "cell_type": "markdown",
   "id": "347397c3",
   "metadata": {},
   "source": [
    "## Switch between text markdown to pytho code cells\n",
    "* Markdown cell to code cell: `y`\n",
    "* Code cell to markdown cell: `m`"
   ]
  },
  {
   "cell_type": "code",
   "execution_count": 1,
   "id": "3f8610ea-d1f0-49ab-a95e-9cfa205d6b06",
   "metadata": {},
   "outputs": [
    {
     "name": "stdout",
     "output_type": "stream",
     "text": [
      "This is the way!\n"
     ]
    },
    {
     "data": {
      "text/plain": [
       "4"
      ]
     },
     "execution_count": 1,
     "metadata": {},
     "output_type": "execute_result"
    }
   ],
   "source": [
    "print(\"This is the way!\")\n",
    "1+3"
   ]
  },
  {
   "cell_type": "markdown",
   "id": "90c3a84a",
   "metadata": {},
   "source": [
    "# Markdown basics\n",
    "## Contents\n",
    "1. Italic text\n",
    "2. Bold text\n",
    "3. Itemized or enumerated lists\n",
    "4. Block quotes\n",
    "5. Headings\n",
    "6. Code blocks (non-executable) for text\n",
    "7. Latex equations\n",
    "8. Tables\n",
    "9. Local files"
   ]
  },
  {
   "cell_type": "markdown",
   "id": "729577c7",
   "metadata": {},
   "source": [
    "## 1. Italic Text"
   ]
  },
  {
   "cell_type": "markdown",
   "id": "a17d2388",
   "metadata": {},
   "source": [
    "Make a block of text \n",
    "* italic use asteric between the block of text. \n",
    "    * Example: *italic*"
   ]
  },
  {
   "cell_type": "markdown",
   "id": "c76d83c3",
   "metadata": {},
   "source": [
    "* *This is text in italic*"
   ]
  },
  {
   "cell_type": "markdown",
   "id": "0b4c7019",
   "metadata": {},
   "source": [
    "## 2. Bold Text"
   ]
  },
  {
   "cell_type": "markdown",
   "id": "39d25108",
   "metadata": {},
   "source": [
    "Make a block of text \n",
    "* bold use double asterics between the block of text \n",
    "    * Example: **bold**"
   ]
  },
  {
   "cell_type": "markdown",
   "id": "a2b6704e",
   "metadata": {},
   "source": [
    "* **This is text in bold**"
   ]
  },
  {
   "cell_type": "markdown",
   "id": "d17b84a9",
   "metadata": {},
   "source": [
    "## 3. Itemized or Enumerated Lists\n",
    "### Unordered list"
   ]
  },
  {
   "cell_type": "markdown",
   "id": "cbddaf3d",
   "metadata": {},
   "source": [
    "* One\n",
    "    * Sublist\n",
    "        * This\n",
    "    * Sublist - That - The other thing\n",
    "    * Two\n",
    "        * Sublist\n",
    "    * Three\n",
    "        * Sublist"
   ]
  },
  {
   "cell_type": "markdown",
   "id": "4882ece9",
   "metadata": {},
   "source": [
    "### Ordered list"
   ]
  },
  {
   "cell_type": "markdown",
   "id": "da423f01",
   "metadata": {},
   "source": [
    "1. Here we go\n",
    "    1. Sublist\n",
    "    2. Sublist\n",
    "2. There we go\n",
    "3. Now this"
   ]
  },
  {
   "cell_type": "markdown",
   "id": "e5822e62",
   "metadata": {},
   "source": [
    "## 4. Blockquotes\n",
    "* use this symbol `>` and write the qute for blockquote"
   ]
  },
  {
   "cell_type": "markdown",
   "id": "9f47af9e",
   "metadata": {},
   "source": [
    "> Beautiful is better than ugly. Explicit is better than implicit. Simple is better than complex. Complex is better than complicated. Flat is better than nested. Sparse is better than dense. Readability counts. Special cases aren’t special enough to break the rules. Although practicality beats purity. Errors should never pass silently. Unless explicitly silenced. In the face of ambiguity, refuse the temptation to guess. There should be one– and preferably only one –obvious way to do it. Although that way may not be obvious at first unless you’re Dutch. Now is better than never. Although never is often better than right now. If the implementation is hard to explain, it’s a bad idea. If the implementation is easy to explain, it may be a good idea. Namespaces are one honking great idea – let’s do more of those!"
   ]
  },
  {
   "cell_type": "markdown",
   "id": "b5ced9da",
   "metadata": {},
   "source": [
    "## 5. Headings\n",
    "You can add headings by starting a line with one (or multiple) # followed by a space, as in the following example:\n",
    "\n",
    "`# Heading 1` <br>\n",
    "`# Heading 2` <br>\n",
    "`## Heading 2.1` <br>\n",
    "`## Heading 2.2` <br>\n"
   ]
  },
  {
   "cell_type": "markdown",
   "id": "3ec12ff6",
   "metadata": {},
   "source": [
    "# Heading 1\n",
    "# Heading 2\n",
    "## Heading 2.1\n",
    "## Heading 2.2"
   ]
  },
  {
   "cell_type": "markdown",
   "id": "9d02f573",
   "metadata": {},
   "source": [
    "## 6. Code blocks (non-executable) for text\n",
    "* Use triple back-quotes to embedd code in markdown\n",
    "\n",
    "* Example 1:\n",
    "```\n",
    "def f(x):\n",
    "    \"\"\"a docstring\"\"\"\n",
    "    return x**2\n",
    "```"
   ]
  },
  {
   "cell_type": "markdown",
   "id": "af824740",
   "metadata": {},
   "source": [
    "* Example 2:\n",
    "``` \n",
    "from math import fsum\n",
    "def average(x):\n",
    "    return fsum(x)/float(len(x)) if x else 0\n",
    "print (average([0,0,3,1,4,1,5,9,0,0]))\n",
    "print (average([1e20,-1e-20,3,1,4,1,5,9,-1e20,1e-20])) \n",
    "```"
   ]
  },
  {
   "cell_type": "markdown",
   "id": "db78ecbc",
   "metadata": {},
   "source": [
    "## 7. Latex Equations\n",
    "* Markdown enables inline mathematical expressions\n",
    "* Surround the latex code with $ or\n",
    "* surround the latex code with \\ begin{equation} and \\ end{equation}"
   ]
  },
  {
   "cell_type": "markdown",
   "id": "47f88a22",
   "metadata": {},
   "source": [
    "* Example 1: \n",
    "\n",
    "$e^{i\\pi} + 1 = 0$"
   ]
  },
  {
   "cell_type": "markdown",
   "id": "c4b715f2",
   "metadata": {},
   "source": [
    "* Example 2:\n",
    "    \n",
    "\\begin{equation}\n",
    "e^x=\\sum_{i=0}^\\infty \\frac{1}{i!}x^i\n",
    "\\end{equation}"
   ]
  },
  {
   "cell_type": "markdown",
   "id": "dcedb72b",
   "metadata": {},
   "source": [
    "## 8. Tables\n",
    "* To add a table, \n",
    "    * use three or more hyphens (---) to create each column’s header, \n",
    "    * use pipes (|) to separate each column. \n",
    "    * Add a pipe on either end of the row."
   ]
  },
  {
   "cell_type": "markdown",
   "id": "237d0232",
   "metadata": {},
   "source": [
    "Example 1:\n",
    "| This | is   |\n",
    "|------|------|\n",
    "|   a  | table|"
   ]
  },
  {
   "cell_type": "markdown",
   "id": "7c130f9d",
   "metadata": {},
   "source": [
    "Example 2:\n",
    "| Syntax | Description |\n",
    "| --- | ----------- |\n",
    "| Header | Title |\n",
    "| Paragraph | Text |"
   ]
  },
  {
   "cell_type": "markdown",
   "id": "a713c861",
   "metadata": {},
   "source": [
    "Example 3: (Alignment)\n",
    "\n",
    "| Syntax      | Description | Test Text     |\n",
    "| :---        |    :----:   |          ---: |\n",
    "| Header      | Title       | Here's this   |\n",
    "| Paragraph   | Text        | And more      |"
   ]
  },
  {
   "cell_type": "markdown",
   "id": "59e93d7a",
   "metadata": {},
   "source": [
    "## 9. Local files\n",
    "\n",
    "![Python Logo](python-logo.png)"
   ]
  },
  {
   "cell_type": "markdown",
   "id": "fbda9681",
   "metadata": {},
   "source": [
    "![New York City](NYC.jpeg)"
   ]
  },
  {
   "cell_type": "markdown",
   "id": "c4af438b",
   "metadata": {},
   "source": [
    "## References\n",
    "* https://www.markdownguide.org/\n"
   ]
  }
 ],
 "metadata": {
  "kernelspec": {
   "display_name": "Python 3 (ipykernel)",
   "language": "python",
   "name": "python3"
  },
  "language_info": {
   "codemirror_mode": {
    "name": "ipython",
    "version": 3
   },
   "file_extension": ".py",
   "mimetype": "text/x-python",
   "name": "python",
   "nbconvert_exporter": "python",
   "pygments_lexer": "ipython3",
   "version": "3.11.3"
  }
 },
 "nbformat": 4,
 "nbformat_minor": 5
}
