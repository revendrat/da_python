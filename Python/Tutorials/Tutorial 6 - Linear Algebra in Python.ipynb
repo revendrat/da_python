{
  "cells": [
    {
      "cell_type": "markdown",
      "metadata": {
        "id": "No8mCLdt5NZS"
      },
      "source": []
    },
    {
      "cell_type": "markdown",
      "metadata": {
        "id": "X-wjd6AX5Ppq"
      },
      "source": [
        "# Linear Algebra\n",
        "Linear algebra is the branch of mathematics that deals with matrices, vectors and vector spaces, and systems of linear equations.\n",
        "\n",
        "### Vectors\n",
        "Vectors are defined as an ordered collection of numbers. \n",
        "\n",
        "#### Creating a vector\n",
        "\n"
      ]
    },
    {
      "cell_type": "code",
      "execution_count": null,
      "metadata": {
        "id": "jIfqHjzN6I7N"
      },
      "outputs": [],
      "source": [
        "# importing numpy\n",
        "import numpy as np\n",
        "\n",
        "# creating a 1-D list (Horizontal)\n",
        "list1 = [1, 2, 3]\n",
        "\n",
        "# creating a 1-D list (Vertical)\n",
        "list2 = [[10],\n",
        "\t\t[20],\n",
        "\t\t[30]]\n",
        "\n",
        "# creating a vector1\n",
        "# vector as row\n",
        "vector1 = np.array(list1)\n",
        "\n",
        "# creating a vector 2\n",
        "# vector as column\n",
        "vector2 = np.array(list2)\n",
        "\n",
        "\n",
        "# showing horizontal vector\n",
        "print(\"Horizontal Vector\")\n",
        "print(vector1)\n",
        "\n",
        "print(\"----------------\")\n",
        "\n",
        "# showing vertical vector\n",
        "print(\"Vertical Vector\")\n",
        "print(vector2)\n"
      ]
    },
    {
      "cell_type": "markdown",
      "metadata": {
        "id": "tzyJX0AB6PAF"
      },
      "source": [
        "#### Basic Arithmetic Operations \n",
        "In this example we will see do arithmetic operations which are element-wise between two vectors of equal length to result in a new vector with the same length "
      ]
    },
    {
      "cell_type": "code",
      "execution_count": null,
      "metadata": {
        "id": "vLBL6I1c6cGa"
      },
      "outputs": [],
      "source": [
        "# importing numpy\n",
        "import numpy as np\n",
        "\n",
        "# creating a 1-D list (Horizontal)\n",
        "list1 = [5, 6, 9]\n",
        "\n",
        "# creating a 1-D list (Horizontal)\n",
        "list2 = [1, 2, 3]\n",
        "\n",
        "# creating first vector\n",
        "vector1 = np.array(list1)\n",
        "\n",
        "# printing vector1\n",
        "print(\"First Vector\t\t : \" + str(vector1))\n",
        "\n",
        "# creating second vector\n",
        "vector2 = np.array(list2)\n",
        "\n",
        "# printing vector2\n",
        "print(\"Second Vector\t\t : \" + str(vector2))\n",
        "\n",
        "# adding both the vector\n",
        "# a + b = (a1 + b1, a2 + b2, a3 + b3)\n",
        "addition = vector1 + vector2\n",
        "\n",
        "# printing addition vector\n",
        "print(\"Vector Addition\t : \" + str(addition))\n",
        "\n",
        "# subtracting both the vector\n",
        "# a - b = (a1 - b1, a2 - b2, a3 - b3)\n",
        "subtraction = vector1 - vector2\n",
        "\n",
        "# printing addition vector\n",
        "print(\"Vector Subtraction : \" + str(subtraction))\n",
        "\n",
        "# multiplying both the vector\n",
        "# a * b = (a1 * b1, a2 * b2, a3 * b3)\n",
        "multiplication = vector1 * vector2\n",
        "\n",
        "# printing multiplication vector\n",
        "print(\"Vector Multiplication : \" + str(multiplication))\n",
        "\n",
        "# dividing both the vector\n",
        "# a / b = (a1 / b1, a2 / b2, a3 / b3)\n",
        "division = vector1 / vector2\n",
        "\n",
        "# printing division vector\n",
        "print(\"Vector Division\t : \" + str(division))\n"
      ]
    },
    {
      "cell_type": "markdown",
      "metadata": {
        "id": "enXghT8h6iXz"
      },
      "source": [
        "### Vector Dot Product\n",
        "In mathematics, the dot product or scalar product is an algebraic operation that takes two equal-length sequences of numbers and returns a single number. "
      ]
    },
    {
      "cell_type": "code",
      "execution_count": null,
      "metadata": {
        "id": "0RKQWs1B6vIW"
      },
      "outputs": [],
      "source": [
        "# importing numpy\n",
        "import numpy as np\n",
        "\n",
        "# creating a 1-D list (Horizontal)\n",
        "list1 = [5, 6, 9]\n",
        "\n",
        "# creating a 1-D list (Horizontal)\n",
        "list2 = [1, 2, 3]\n",
        "\n",
        "# creating first vector\n",
        "vector1 = np.array(list1)\n",
        "\n",
        "# printing vector1\n",
        "print(\"First Vector : \" + str(vector1))\n",
        "\n",
        "# creating second vector\n",
        "vector2 = np.array(list2)\n",
        "\n",
        "# printing vector2\n",
        "print(\"Second Vector : \" + str(vector2))\n",
        "\n",
        "# getting dot product of both the vectors\n",
        "# a . b = (a1 * b1 + a2 * b2 + a3 * b3)\n",
        "# a . b = (a1b1 + a2b2 + a3b3)\n",
        "dot_product = vector1.dot(vector2)\n",
        "\n",
        "# printing dot product\n",
        "print(\"Dot Product : \" + str(dot_product))\n"
      ]
    },
    {
      "cell_type": "markdown",
      "metadata": {
        "id": "qdVA89Yg7HH1"
      },
      "source": [
        "#### Vector Cross Product\n",
        "For finding the cross product of two given vectors we are using numpy.cross() function of NumPy library."
      ]
    },
    {
      "cell_type": "code",
      "execution_count": null,
      "metadata": {
        "id": "ORGUDOMA7QSr"
      },
      "outputs": [],
      "source": [
        "# import library\n",
        "import numpy as np\n",
        "\n",
        "# declare vectors\n",
        "x = [1, 2]\n",
        "y = [3, 4]\n",
        "\n",
        "# find cross product of\n",
        "# two given vectors\n",
        "result = np.cross(x, y)\n",
        "\n",
        "# show the result\n",
        "print(result)\n"
      ]
    },
    {
      "cell_type": "code",
      "execution_count": null,
      "metadata": {
        "id": "Upncx1xd7Trh"
      },
      "outputs": [],
      "source": [
        "# import library\n",
        "import numpy as np\n",
        "\n",
        "# declare vectors\n",
        "x = [[1, 2], [3, 4]]\n",
        "y = [[5, 6], [7, 8]]\n",
        "\n",
        "# find cross product of\n",
        "# two given vectors\n",
        "result = np.cross(x, y)\n",
        "\n",
        "# show the result\n",
        "print(result)\n"
      ]
    },
    {
      "cell_type": "markdown",
      "metadata": {
        "id": "1drZZR5F7jQ_"
      },
      "source": [
        "#### Matrices and Arrays\n",
        "Matrices are a very natural approach of organizing the data.(**2-dimensional array**) Usually matrices are used to store and represent the data on machines.\n",
        "\n",
        "In general, data is organized in the following fashion:\n",
        "        \n",
        "        1) Rows represent the samples.\n",
        "        2) Columns represent the values of the variables(attributes)."
      ]
    },
    {
      "cell_type": "code",
      "execution_count": null,
      "metadata": {
        "id": "1JrbzbLZ8oRW"
      },
      "outputs": [],
      "source": [
        "from numpy import * \n",
        "a = array([['Mon',18,20,22,17],['Tue',11,18,21,18],\n",
        "   ['Wed',15,21,20,19],['Thu',11,20,22,21],\n",
        "   ['Fri',18,17,23,22],['Sat',12,22,20,18],\n",
        "   ['Sun',13,15,19,16]])\n",
        "m = reshape(a,(7,5))\n",
        "print(m)"
      ]
    },
    {
      "cell_type": "code",
      "execution_count": null,
      "metadata": {
        "id": "y0SHa2Py9Dd-"
      },
      "outputs": [],
      "source": [
        "# A basic code for matrix input from user\n",
        "\n",
        "R = int(input(\"Enter the number of rows:\"))\n",
        "C = int(input(\"Enter the number of columns:\"))\n",
        "\n",
        "# Initialize matrix\n",
        "matrix = []\n",
        "print(\"Enter the entries rowwise:\")\n",
        "\n",
        "# For user input\n",
        "for i in range(R):\t\t # A for loop for row entries\n",
        "\ta =[]\n",
        "\tfor j in range(C):\t # A for loop for column entries\n",
        "\t\ta.append(int(input()))\n",
        "\tmatrix.append(a)\n",
        "\n",
        "# For printing the matrix\n",
        "for i in range(R):\n",
        "\tfor j in range(C):\n",
        "\t\tprint(matrix[i][j], end = \" \")\n",
        "\tprint()\n"
      ]
    },
    {
      "cell_type": "markdown",
      "metadata": {
        "id": "pq35evbx9UYd"
      },
      "source": [
        "#### Adding Matrices"
      ]
    },
    {
      "cell_type": "code",
      "execution_count": null,
      "metadata": {
        "id": "xU_mGtW49X2b"
      },
      "outputs": [],
      "source": [
        "M1 = [[8, 14, -6], \n",
        "      [12,7,4], \n",
        "      [-11,3,21]]\n",
        "\n",
        "M2 = [[3, 16, -6],\n",
        "           [9,7,-4], \n",
        "           [-1,3,13]]\n",
        "\n",
        "M3  = [[0,0,0],\n",
        "       [0,0,0],\n",
        "       [0,0,0]]\n",
        "matrix_length = len(M1)\n",
        "\n",
        "#To Add M1 and M2 matrices\n",
        "for i in range(len(M1)):\n",
        "for k in range(len(M2)):\n",
        "        M3[i][k] = M1[i][k] + M2[i][k]\n",
        "\n",
        "#To Print the matrix\n",
        "print(\"The sum of Matrix M1 and M2 = \", M3)"
      ]
    },
    {
      "cell_type": "markdown",
      "metadata": {
        "id": "iSUIv-GS9brt"
      },
      "source": [
        "#### Multiplication of Matrices \n",
        "To multiply the matrices, we can use the for-loop on both the matrices as shown in the code below:"
      ]
    },
    {
      "cell_type": "code",
      "execution_count": null,
      "metadata": {
        "id": "KyptHzBa9phH"
      },
      "outputs": [],
      "source": [
        "M1 = [[8, 14, -6], \n",
        "      [12,7,4], \n",
        "      [-11,3,21]]\n",
        "\n",
        "M2 = [[3, 16, -6],\n",
        "           [9,7,-4], \n",
        "           [-1,3,13]]\n",
        "\n",
        "M3  = [[0,0,0],\n",
        "       [0,0,0],\n",
        "       [0,0,0]]\n",
        "\n",
        "matrix_length = len(M1)\n",
        "\n",
        "#To Multiply M1 and M2 matrices\n",
        "for i in range(len(M1)):\n",
        "for k in range(len(M2)):\n",
        "        M3[i][k] = M1[i][k] * M2[i][k]\n",
        "\n",
        "#To Print the matrix\n",
        "print(\"The multiplication of Matrix M1 and M2 = \", M3)"
      ]
    },
    {
      "cell_type": "markdown",
      "metadata": {
        "id": "Owzu30kC90ku"
      },
      "source": [
        "### Operations on Matrices using numpy"
      ]
    },
    {
      "cell_type": "markdown",
      "metadata": {
        "id": "v9_FNYam-ADX"
      },
      "source": [
        "##### Matrix Addition"
      ]
    },
    {
      "cell_type": "code",
      "execution_count": null,
      "metadata": {
        "id": "CG3Llxot-B5W"
      },
      "outputs": [],
      "source": [
        "import numpy as np\n",
        "\n",
        "M1 = np.array([[3, 6, 9], [5, -10, 15], [-7, 14, 21]])\n",
        "M2 = np.array([[9, -18, 27], [11, 22, 33], [13, -26, 39]])\n",
        "M3 = M1 + M2  \n",
        "print(M3)"
      ]
    },
    {
      "cell_type": "markdown",
      "metadata": {
        "id": "5RNAw8ll-EB2"
      },
      "source": [
        "Matrix Multiplication"
      ]
    },
    {
      "cell_type": "code",
      "execution_count": null,
      "metadata": {
        "id": "FlwR3zTg-GAf"
      },
      "outputs": [],
      "source": [
        "import numpy as np\n",
        "\n",
        "M1 = np.array([[3, 6], [5, -10]])\n",
        "M2 = np.array([[9, -18], [11, 22]])\n",
        "M3 = M1.dot(M2)  \n",
        "print(M3)"
      ]
    },
    {
      "cell_type": "markdown",
      "metadata": {
        "id": "EzmIBk7G-Jqt"
      },
      "source": [
        "#### Transpose of a Matrix\n",
        "The transpose of a matrix is obtained by changing its rows into columns and its columns into rows. "
      ]
    },
    {
      "cell_type": "code",
      "execution_count": null,
      "metadata": {
        "id": "AdDhLtzY-NhP"
      },
      "outputs": [],
      "source": [
        "import numpy as np\n",
        "\n",
        "M1 = np.array([[3, 6, 9], [5, -10, 15], [4,8,12]])\n",
        "M2 = M1.transpose()\n",
        "\n",
        "print(M2)"
      ]
    },
    {
      "cell_type": "markdown",
      "metadata": {
        "id": "LJ2epm8b-kP2"
      },
      "source": [
        "#### Inverse of a Matrix \n",
        "The purpose of the inverse of the matrix is to help aid simultaneous solving of multiple algebraic linear equations. \n"
      ]
    },
    {
      "cell_type": "code",
      "execution_count": null,
      "metadata": {
        "id": "_ZUxcdCE-mim"
      },
      "outputs": [],
      "source": [
        "# Python program to inverse\n",
        "# a matrix using numpy\n",
        "\n",
        "# Import required package\n",
        "import numpy as np\n",
        "\n",
        "# Taking a 4 * 4 matrix\n",
        "A = np.array([[6, 1, 1, 3],\n",
        "\t\t\t[4, -2, 5, 1],\n",
        "\t\t\t[2, 8, 7, 6],\n",
        "\t\t\t[3, 1, 9, 7]])\n",
        "\n",
        "# Calculating the inverse of the matrix\n",
        "print(np.linalg.inv(A))\n"
      ]
    },
    {
      "cell_type": "markdown",
      "metadata": {
        "id": "elri_nrO_Bk6"
      },
      "source": [
        "#### Determinant of a Square Matrix"
      ]
    },
    {
      "cell_type": "code",
      "execution_count": null,
      "metadata": {
        "id": "eH-gewE__Nx_"
      },
      "outputs": [],
      "source": [
        "# Importing libraries\n",
        "import numpy as np\n",
        "from numpy import linalg\n",
        "\n",
        "# Creating a 3X3 matrix\n",
        "matrix = np.array([[1, 0, 1], [1, 2, 0], [4, 6, 2]])\n",
        "print(\"Original 3-D matrix\")\n",
        "print(matrix)\n",
        "\n",
        "# Output\n",
        "print(\"Determinant of the 3-D matrix:\")\n",
        "print(np.linalg.det(matrix))\n"
      ]
    },
    {
      "cell_type": "markdown",
      "metadata": {
        "id": "iIrXcqi2_RDX"
      },
      "source": [
        "#### Rank of a Matrix \n",
        "Rank of a matrix refers to the number of linearly independent rows or columns of the matrix."
      ]
    },
    {
      "cell_type": "code",
      "execution_count": null,
      "metadata": {
        "id": "9bpQ7eh3_uqF"
      },
      "outputs": [],
      "source": [
        "import numpy as np\n",
        "\n",
        "a = np.array([[4,5,8], [7,1,4], [5,5,5], [2,3,6]])\n",
        "\n",
        "rank = np.linalg.matrix_rank(a)\n",
        "\n",
        "print('Matrix : ', a)\n",
        "print('Rank of the given Matrix : ',rank)\n"
      ]
    },
    {
      "cell_type": "markdown",
      "metadata": {
        "id": "Y7Z3ly8U_1Mz"
      },
      "source": [
        "#### Eigenvalues and Eigenvectors \n",
        "Eigenvalues of a matrix can be identified using the equation |A - λI| = 0 where I refers to the identity matrix of the same order as that of A."
      ]
    },
    {
      "cell_type": "code",
      "execution_count": null,
      "metadata": {
        "id": "0k_mlGv1__qP"
      },
      "outputs": [],
      "source": [
        "# importing numpy library\n",
        "import numpy as np\n",
        "\n",
        "# create numpy 2d-array\n",
        "m = np.array([[1, 2],\n",
        "\t\t\t[2, 3]])\n",
        "\n",
        "print(\"Printing the Original square array:\\n\",\n",
        "\tm)\n",
        "\n",
        "# finding eigenvalues and eigenvectors\n",
        "w, v = np.linalg.eig(m)\n",
        "\n",
        "# printing eigen values\n",
        "print(\"Printing the Eigen values of the given square array:\\n\",\n",
        "\tw)\n",
        "\n",
        "# printing eigen vectors\n",
        "print(\"Printing Right eigenvectors of the given square array:\\n\"\n",
        "\tv)\n"
      ]
    },
    {
      "cell_type": "markdown",
      "metadata": {
        "id": "G_JM9Npaeler"
      },
      "source": [
        "### References:\n",
        "* https://www.geeksforgeeks.org/ \n",
        "* https://www.tutorialspoint.com/index.htm \n",
        "* https://www.guru99.com/python-matrix.html"
      ]
    }
  ],
  "metadata": {
    "colab": {
      "name": "Tutorial 6 - Linear Algebra in Python.ipynb",
      "provenance": []
    },
    "kernelspec": {
      "display_name": "Python 3",
      "name": "python3"
    },
    "language_info": {
      "name": "python"
    }
  },
  "nbformat": 4,
  "nbformat_minor": 0
}
