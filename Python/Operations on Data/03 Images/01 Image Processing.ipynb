{
 "cells": [
  {
   "cell_type": "markdown",
   "metadata": {},
   "source": [
    "# Images processing using imageio & pillow\n",
    "* imageio \n",
    "    * written in pure Python.\n",
    "    * works on Python 3.5+ & Pypy. \n",
    "    * used heavily to read/write images\n",
    "    * depends on Numpy and Pillow. \n",
    "    * Additional libraries/executables can be downloaded/installed by imageio.\n",
    "* pillow (PIL\" Python Image Library)\n",
    "    * used for reading/writing images, but prefer imageio for these operations\n",
    "    * use for image archival, image display & image processing"
   ]
  },
  {
   "cell_type": "code",
   "execution_count": 3,
   "metadata": {},
   "outputs": [
    {
     "name": "stdout",
     "output_type": "stream",
     "text": [
      "Requirement already satisfied: imageio in c:\\users\\user\\anaconda3\\lib\\site-packages (2.9.0)\n",
      "Requirement already satisfied: numpy in c:\\users\\user\\anaconda3\\lib\\site-packages (from imageio) (1.21.2)\n",
      "Requirement already satisfied: pillow in c:\\users\\user\\anaconda3\\lib\\site-packages (from imageio) (8.4.0)\n"
     ]
    }
   ],
   "source": [
    "# install the imageio library\n",
    "!pip install imageio"
   ]
  },
  {
   "cell_type": "code",
   "execution_count": 1,
   "metadata": {},
   "outputs": [
    {
     "name": "stdout",
     "output_type": "stream",
     "text": [
      "Requirement already satisfied: Pillow in c:\\users\\user\\anaconda3\\lib\\site-packages (8.4.0)\n"
     ]
    }
   ],
   "source": [
    "# install pillow\n",
    "!pip install Pillow"
   ]
  },
  {
   "cell_type": "code",
   "execution_count": 2,
   "metadata": {},
   "outputs": [
    {
     "name": "stderr",
     "output_type": "stream",
     "text": [
      "'pwd' is not recognized as an internal or external command,\n",
      "operable program or batch file.\n"
     ]
    }
   ],
   "source": [
    "!pwd"
   ]
  },
  {
   "cell_type": "code",
   "execution_count": 5,
   "metadata": {},
   "outputs": [],
   "source": [
    "import imageio as iio\n",
    "bits = iio.imread(\"C:/Users/user/Documents/GitHub/AI-ML-Algorithms-for-Business-Applications/Operations on Data/03 Images/bits_av.png\")"
   ]
  },
  {
   "cell_type": "code",
   "execution_count": 6,
   "metadata": {},
   "outputs": [
    {
     "name": "stdout",
     "output_type": "stream",
     "text": [
      "Dimensions of BITS image :  3\n",
      "Shape of BITS image :  (538, 1200, 3)\n",
      "Size of BITS image :  1936800\n"
     ]
    }
   ],
   "source": [
    "# Get number of dimensions of bits\n",
    "print(\"Dimensions of BITS image : \", bits.ndim)\n",
    "# get the shape of bits\n",
    "print(\"Shape of BITS image : \", bits.shape)\n",
    "# get image size\n",
    "print(\"Size of BITS image : \", bits.size)\n"
   ]
  },
  {
   "cell_type": "code",
   "execution_count": 8,
   "metadata": {},
   "outputs": [],
   "source": [
    "# Read a gif\n",
    "tennis = iio.get_reader(\"C:/Users/user/Documents/GitHub/AI-ML-Algorithms-for-Business-Applications/Operations on Data/03 Images/tennis.gif\")"
   ]
  },
  {
   "cell_type": "code",
   "execution_count": 9,
   "metadata": {},
   "outputs": [
    {
     "name": "stdout",
     "output_type": "stream",
     "text": [
      "(281, 375, 4)\n",
      "(281, 375, 4)\n",
      "(281, 375, 4)\n",
      "(281, 375, 4)\n",
      "(281, 375, 4)\n",
      "(281, 375, 4)\n",
      "(281, 375, 4)\n",
      "(281, 375, 4)\n",
      "(281, 375, 4)\n",
      "(281, 375, 4)\n",
      "(281, 375, 4)\n",
      "(281, 375, 4)\n",
      "(281, 375, 4)\n",
      "(281, 375, 4)\n",
      "(281, 375, 4)\n",
      "(281, 375, 4)\n",
      "(281, 375, 4)\n",
      "(281, 375, 4)\n",
      "(281, 375, 4)\n",
      "(281, 375, 4)\n",
      "(281, 375, 4)\n",
      "(281, 375, 4)\n",
      "(281, 375, 4)\n",
      "(281, 375, 4)\n",
      "(281, 375, 4)\n",
      "(281, 375, 4)\n",
      "(281, 375, 4)\n",
      "(281, 375, 4)\n",
      "(281, 375, 4)\n",
      "(281, 375, 4)\n",
      "(281, 375, 4)\n",
      "(281, 375, 4)\n",
      "(281, 375, 4)\n",
      "(281, 375, 4)\n",
      "(281, 375, 4)\n",
      "(281, 375, 4)\n",
      "(281, 375, 4)\n",
      "(281, 375, 4)\n",
      "(281, 375, 4)\n",
      "(281, 375, 4)\n",
      "(281, 375, 4)\n",
      "(281, 375, 4)\n",
      "(281, 375, 4)\n",
      "(281, 375, 4)\n",
      "(281, 375, 4)\n",
      "(281, 375, 4)\n",
      "(281, 375, 4)\n",
      "(281, 375, 4)\n",
      "(281, 375, 4)\n",
      "(281, 375, 4)\n",
      "(281, 375, 4)\n",
      "(281, 375, 4)\n",
      "(281, 375, 4)\n",
      "(281, 375, 4)\n",
      "(281, 375, 4)\n",
      "(281, 375, 4)\n",
      "(281, 375, 4)\n",
      "(281, 375, 4)\n",
      "(281, 375, 4)\n",
      "(281, 375, 4)\n",
      "(281, 375, 4)\n",
      "(281, 375, 4)\n",
      "(281, 375, 4)\n",
      "(281, 375, 4)\n",
      "(281, 375, 4)\n",
      "(281, 375, 4)\n",
      "(281, 375, 4)\n",
      "(281, 375, 4)\n",
      "(281, 375, 4)\n",
      "(281, 375, 4)\n",
      "(281, 375, 4)\n",
      "(281, 375, 4)\n",
      "(281, 375, 4)\n",
      "(281, 375, 4)\n",
      "(281, 375, 4)\n",
      "(281, 375, 4)\n",
      "(281, 375, 4)\n",
      "(281, 375, 4)\n",
      "(281, 375, 4)\n",
      "(281, 375, 4)\n",
      "(281, 375, 4)\n",
      "(281, 375, 4)\n",
      "(281, 375, 4)\n",
      "(281, 375, 4)\n",
      "(281, 375, 4)\n",
      "(281, 375, 4)\n",
      "(281, 375, 4)\n",
      "(281, 375, 4)\n",
      "(281, 375, 4)\n",
      "(281, 375, 4)\n",
      "(281, 375, 4)\n",
      "(281, 375, 4)\n",
      "(281, 375, 4)\n",
      "(281, 375, 4)\n",
      "(281, 375, 4)\n",
      "(281, 375, 4)\n",
      "(281, 375, 4)\n",
      "(281, 375, 4)\n",
      "(281, 375, 4)\n",
      "(281, 375, 4)\n",
      "(281, 375, 4)\n",
      "(281, 375, 4)\n",
      "(281, 375, 4)\n",
      "(281, 375, 4)\n",
      "(281, 375, 4)\n",
      "(281, 375, 4)\n",
      "(281, 375, 4)\n",
      "(281, 375, 4)\n",
      "(281, 375, 4)\n",
      "(281, 375, 4)\n",
      "(281, 375, 4)\n",
      "(281, 375, 4)\n",
      "(281, 375, 4)\n",
      "(281, 375, 4)\n",
      "(281, 375, 4)\n",
      "(281, 375, 4)\n",
      "(281, 375, 4)\n",
      "(281, 375, 4)\n",
      "(281, 375, 4)\n",
      "(281, 375, 4)\n",
      "(281, 375, 4)\n",
      "(281, 375, 4)\n",
      "(281, 375, 4)\n",
      "(281, 375, 4)\n",
      "(281, 375, 4)\n",
      "(281, 375, 4)\n",
      "(281, 375, 4)\n",
      "(281, 375, 4)\n",
      "(281, 375, 4)\n",
      "(281, 375, 4)\n",
      "(281, 375, 4)\n",
      "(281, 375, 4)\n",
      "(281, 375, 4)\n",
      "(281, 375, 4)\n",
      "(281, 375, 4)\n",
      "(281, 375, 4)\n",
      "(281, 375, 4)\n",
      "(281, 375, 4)\n"
     ]
    }
   ],
   "source": [
    "#Fetch the shape of each image in gif\n",
    "for frame in tennis:\n",
    "    print(frame.shape) "
   ]
  },
  {
   "cell_type": "code",
   "execution_count": 10,
   "metadata": {},
   "outputs": [],
   "source": [
    "# to download images from URL\n",
    "biryani = iio.imread('https://external-content.duckduckgo.com/iu/?u=https%3A%2F%2Fblog.naturesbasket.co.in%2Fwp-content%2Fuploads%2F2019%2F04%2FBest-Biryani-Recipes-From-All-Over-India.jpg')"
   ]
  },
  {
   "cell_type": "markdown",
   "metadata": {},
   "source": [
    "## Perform same operations using Pillow library"
   ]
  },
  {
   "cell_type": "code",
   "execution_count": 11,
   "metadata": {},
   "outputs": [],
   "source": [
    "# load pillow library\n",
    "from PIL import Image\n"
   ]
  },
  {
   "cell_type": "code",
   "execution_count": 12,
   "metadata": {},
   "outputs": [],
   "source": [
    "bits_pillow = Image.open(\"C:/Users/user/Documents/GitHub/AI-ML-Algorithms-for-Business-Applications/Operations on Data/03 Images/bits_av.png\")"
   ]
  },
  {
   "cell_type": "code",
   "execution_count": 13,
   "metadata": {},
   "outputs": [
    {
     "name": "stdout",
     "output_type": "stream",
     "text": [
      "Size of BITS image :  (1200, 538)\n",
      "Format of BITS image :  PNG\n",
      "Mode of BITS image :  RGB\n"
     ]
    }
   ],
   "source": [
    "# get image size\n",
    "print(\"Size of BITS image : \", bits_pillow.size)\n",
    "#get image format\n",
    "print(\"Format of BITS image : \", bits_pillow.format)\n",
    "\n",
    "# get image mode\n",
    "print(\"Mode of BITS image : \", bits_pillow.mode)\n"
   ]
  },
  {
   "cell_type": "code",
   "execution_count": 14,
   "metadata": {},
   "outputs": [],
   "source": [
    "# To view the loaded image class, use show()\n",
    "bits_pillow.show()"
   ]
  },
  {
   "cell_type": "code",
   "execution_count": 15,
   "metadata": {},
   "outputs": [],
   "source": [
    "# Crop image\n",
    "# the (0,0) position starts at upper left\n",
    "# you need four points on a 2-D plane to crop an image\n",
    "# to crop an image starting at starting at 100 width, 100 length & ending at 400 width & 400 length positions\n",
    "box = (100, 100, 400, 400)\n",
    "# use crop() in pillow library\n",
    "bits_region = bits_pillow.crop(box)\n",
    "# display the cropped image\n",
    "bits_region.show()"
   ]
  },
  {
   "cell_type": "code",
   "execution_count": 16,
   "metadata": {},
   "outputs": [],
   "source": [
    "# rotate the image by 90 degrees\n",
    "bits_transpose = bits_pillow.transpose(Image.ROTATE_90)\n",
    "bits_transpose.show()\n",
    "\n"
   ]
  },
  {
   "cell_type": "code",
   "execution_count": 17,
   "metadata": {},
   "outputs": [],
   "source": [
    "# rotate the image by 180 degrees\n",
    "bits_transpose = bits_pillow.transpose(Image.ROTATE_180)\n",
    "bits_transpose.show()"
   ]
  },
  {
   "cell_type": "markdown",
   "metadata": {},
   "source": [
    "# Geometrical Transformation of images\n",
    "* In PIL Image.Image class has two  methods to resize & rotate an image. \n",
    "* resize() method  takes input image in a tuple format & results in the new size\n",
    "* rotate() transforms the image througn the angle in degrees counter-clockwise direction"
   ]
  },
  {
   "cell_type": "code",
   "execution_count": 18,
   "metadata": {},
   "outputs": [],
   "source": [
    "# Resize illustration\n",
    "bits_pillow.resize((128, 128)).show()\n",
    "\n"
   ]
  },
  {
   "cell_type": "code",
   "execution_count": 19,
   "metadata": {},
   "outputs": [],
   "source": [
    "# rotate illustration\n",
    "bits_pillow.rotate(45).show()"
   ]
  },
  {
   "cell_type": "markdown",
   "metadata": {},
   "source": [
    "## Color transformation\n",
    "* The Python Imaging Library enables conversion of images between different pixel representations.\n",
    "* convert() method is used to achieve color transformation.\n",
    "* L,R,G & B transformations are possible\n",
    "* L for luminence (usually grey scale), P for palettised"
   ]
  },
  {
   "cell_type": "code",
   "execution_count": 20,
   "metadata": {},
   "outputs": [],
   "source": [
    "bits_pillow.convert('L').show()"
   ]
  },
  {
   "cell_type": "code",
   "execution_count": 21,
   "metadata": {},
   "outputs": [],
   "source": [
    "bits_pillow.convert('RGB').show()"
   ]
  },
  {
   "cell_type": "code",
   "execution_count": 22,
   "metadata": {},
   "outputs": [],
   "source": [
    "bits_pillow.convert('P').show()"
   ]
  },
  {
   "cell_type": "markdown",
   "metadata": {},
   "source": [
    "## Image Enhancement\n",
    "* filters: \n",
    "    * uses filter() that internally uses ImageFilter module \n",
    "    * ImageFilter module has a number of pre-defined enhancement filters \n",
    "    * other filters: BLUR, CONTOUR, DETAIL, EDGE_ENHANCE, EDGE_ENHANCE_MORE\n",
    "       EMBOSS, FIND_EDGES, SHARPEN, SMOOTH, SMOOTH_MORE\n",
    "\n",
    "* point operations\n",
    "    * The point() method transforms each pixel based on input arguments passed to a function"
   ]
  },
  {
   "cell_type": "code",
   "execution_count": 23,
   "metadata": {},
   "outputs": [],
   "source": [
    "# filters\n",
    "from PIL import ImageFilter\n",
    "bits_pillow.filter(ImageFilter.DETAIL).show()"
   ]
  },
  {
   "cell_type": "code",
   "execution_count": 24,
   "metadata": {},
   "outputs": [],
   "source": [
    "# filter blur\n",
    "bits_pillow.filter(ImageFilter.BLUR).show()"
   ]
  },
  {
   "cell_type": "code",
   "execution_count": 25,
   "metadata": {},
   "outputs": [],
   "source": [
    "# filter emboss\n",
    "bits_pillow.filter(ImageFilter.EMBOSS).show()"
   ]
  },
  {
   "cell_type": "code",
   "execution_count": 27,
   "metadata": {},
   "outputs": [],
   "source": [
    "# point operators\n",
    "bits_pillow.point(lambda i: i * 0.5).show()"
   ]
  },
  {
   "cell_type": "markdown",
   "metadata": {},
   "source": [
    "## Reference:\n",
    "* Pillow illustrations reference: https://pillow.readthedocs.io/en/stable/handbook/index.html\n",
    "* Pillow Reference: https://pillow.readthedocs.io/en/stable/reference/index.html\n",
    "\n"
   ]
  }
 ],
 "metadata": {
  "interpreter": {
   "hash": "6d46af94c2bbce495f1e668725902fa517c90b1782bcfe2fce0dd9868df553d3"
  },
  "kernelspec": {
   "display_name": "Python 3.8.12 64-bit ('base': conda)",
   "language": "python",
   "name": "python3"
  },
  "language_info": {
   "codemirror_mode": {
    "name": "ipython",
    "version": 3
   },
   "file_extension": ".py",
   "mimetype": "text/x-python",
   "name": "python",
   "nbconvert_exporter": "python",
   "pygments_lexer": "ipython3",
   "version": "3.8.12"
  },
  "orig_nbformat": 4
 },
 "nbformat": 4,
 "nbformat_minor": 2
}
