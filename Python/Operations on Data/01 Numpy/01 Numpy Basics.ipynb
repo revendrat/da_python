{
 "cells": [
  {
   "cell_type": "markdown",
   "metadata": {},
   "source": [
    "## Numpy Array Creation & Attributes Illustration\n",
    "* Create numpy arrays \n",
    "* Review the attributes of created numpy array\n",
    "* Reference: https://numpy.org/doc/stable/user/quickstart.html"
   ]
  },
  {
   "cell_type": "code",
   "execution_count": 1,
   "metadata": {},
   "outputs": [
    {
     "name": "stdout",
     "output_type": "stream",
     "text": [
      "Name: numpy\n",
      "Version: 1.21.2\n",
      "Summary: NumPy is the fundamental package for array computing with Python.\n",
      "Home-page: https://www.numpy.org\n",
      "Author: Travis E. Oliphant et al.\n",
      "Author-email: \n",
      "License: BSD\n",
      "Location: c:\\users\\user\\anaconda3\\lib\\site-packages\n",
      "Requires: \n",
      "Required-by: astropy, bkcharts, bokeh, Bottleneck, h5py, imagecodecs, imageio, matplotlib, mkl-fft, mkl-random, numba, numexpr, pandas, patsy, pyerfa, PyWavelets, scikit-image, scikit-learn, scipy, seaborn, statsmodels, tables, tifffile\n"
     ]
    }
   ],
   "source": [
    "# Check the latest package version of numpy\n",
    "!pip show numpy"
   ]
  },
  {
   "cell_type": "code",
   "execution_count": 2,
   "metadata": {},
   "outputs": [],
   "source": [
    "# import numpy library\n",
    "import numpy as np"
   ]
  },
  {
   "cell_type": "code",
   "execution_count": 7,
   "metadata": {},
   "outputs": [
    {
     "name": "stdout",
     "output_type": "stream",
     "text": [
      "[ 0  1  2  3  4  5  6  7  8  9 10 11 12 13 14]\n",
      "[[ 0  1  2  3  4]\n",
      " [ 5  6  7  8  9]\n",
      " [10 11 12 13 14]]\n"
     ]
    }
   ],
   "source": [
    "# Use arange() to create random 15 value array (1-d).\n",
    "print(np.arange(15))\n",
    "\n",
    "# use reshape(m,n) to create mxn matrix\n",
    "print(np.arange(15).reshape(3,5))"
   ]
  },
  {
   "cell_type": "code",
   "execution_count": 8,
   "metadata": {},
   "outputs": [],
   "source": [
    "# Create a numpy array\n",
    "a = np.arange(15).reshape(3, 5)"
   ]
  },
  {
   "cell_type": "code",
   "execution_count": 10,
   "metadata": {},
   "outputs": [
    {
     "name": "stdout",
     "output_type": "stream",
     "text": [
      "a.ndim:  2\n",
      "a.shape:  (3, 5)\n",
      "a.size:  15\n",
      "a.dtype:  int32\n",
      "a.itemsize:  4\n",
      "a.data:  <memory at 0x000001D1D279FBA0>\n"
     ]
    }
   ],
   "source": [
    "# Check attributes\n",
    "# a.ndim \n",
    "# a.shape\n",
    "# a.size\n",
    "# a.dtype\n",
    "# a.itemsize\n",
    "# a.data\n",
    "\n",
    "print(\"a.ndim: \", a.ndim)\n",
    "print(\"a.shape: \", a.shape)\n",
    "print(\"a.size: \", a.size)\n",
    "print(\"a.dtype: \", a.dtype)\n",
    "print(\"a.itemsize: \", a.itemsize)\n",
    "print(\"a.data: \", a.data)"
   ]
  },
  {
   "cell_type": "code",
   "execution_count": 15,
   "metadata": {},
   "outputs": [
    {
     "data": {
      "text/plain": [
       "array([[ 0,  1,  2,  3,  4],\n",
       "       [ 5,  6,  7,  8,  9],\n",
       "       [10, 11, 12, 13, 14]])"
      ]
     },
     "execution_count": 15,
     "metadata": {},
     "output_type": "execute_result"
    }
   ],
   "source": [
    "# Create a ndarray similar to \"a\" using array() function\n",
    "b = np.array([np.arange(0,5), 5+ np.arange(0,5), 10+ np.arange(0,5) ])\n",
    "b"
   ]
  },
  {
   "cell_type": "code",
   "execution_count": 14,
   "metadata": {},
   "outputs": [
    {
     "name": "stdout",
     "output_type": "stream",
     "text": [
      "b.ndim:  2\n",
      "b.shape:  (3, 5)\n",
      "b.size:  15\n",
      "b.dtype:  int32\n",
      "b.itemsize:  4\n",
      "b.data:  <memory at 0x000001D1D279FBA0>\n"
     ]
    }
   ],
   "source": [
    "print(\"b.ndim: \", b.ndim)\n",
    "print(\"b.shape: \", b.shape)\n",
    "print(\"b.size: \", b.size)\n",
    "print(\"b.dtype: \", b.dtype)\n",
    "print(\"b.itemsize: \", b.itemsize)\n",
    "print(\"b.data: \", b.data)"
   ]
  },
  {
   "cell_type": "code",
   "execution_count": 16,
   "metadata": {},
   "outputs": [
    {
     "data": {
      "text/plain": [
       "array([[1.+0.j, 2.+0.j],\n",
       "       [3.+0.j, 4.+0.j]])"
      ]
     },
     "execution_count": 16,
     "metadata": {},
     "output_type": "execute_result"
    }
   ],
   "source": [
    "# Create a complex numbers ndarray\n",
    "c = np.array([[1, 2], [3, 4]], dtype=complex)\n",
    "c"
   ]
  },
  {
   "cell_type": "code",
   "execution_count": 17,
   "metadata": {},
   "outputs": [
    {
     "name": "stdout",
     "output_type": "stream",
     "text": [
      "c.ndim:  2\n",
      "c.shape:  (2, 2)\n",
      "c.size:  4\n",
      "c.dtype:  complex128\n",
      "c.itemsize:  16\n",
      "c.data:  <memory at 0x000001D1D27D2380>\n"
     ]
    }
   ],
   "source": [
    "print(\"c.ndim: \", c.ndim)\n",
    "print(\"c.shape: \", c.shape)\n",
    "print(\"c.size: \", c.size)\n",
    "print(\"c.dtype: \", c.dtype)\n",
    "print(\"c.itemsize: \", c.itemsize)\n",
    "print(\"c.data: \", c.data)"
   ]
  },
  {
   "cell_type": "code",
   "execution_count": 4,
   "metadata": {},
   "outputs": [
    {
     "data": {
      "text/plain": [
       "array([[0., 0., 0., 0.],\n",
       "       [0., 0., 0., 0.],\n",
       "       [0., 0., 0., 0.],\n",
       "       [0., 0., 0., 0.]])"
      ]
     },
     "execution_count": 4,
     "metadata": {},
     "output_type": "execute_result"
    }
   ],
   "source": [
    "# Create a matrix of zeros using zeros()\n",
    "np.zeros((4,4))"
   ]
  },
  {
   "cell_type": "code",
   "execution_count": 8,
   "metadata": {},
   "outputs": [
    {
     "data": {
      "text/plain": [
       "array([[1, 1, 1, 1],\n",
       "       [1, 1, 1, 1],\n",
       "       [1, 1, 1, 1],\n",
       "       [1, 1, 1, 1]], dtype=int16)"
      ]
     },
     "execution_count": 8,
     "metadata": {},
     "output_type": "execute_result"
    }
   ],
   "source": [
    "# Create an identity matrix using ones()\n",
    "# make sure to use data type (dtype = int16)\n",
    "np.ones((4,4), dtype = np.int16)"
   ]
  },
  {
   "cell_type": "code",
   "execution_count": 10,
   "metadata": {},
   "outputs": [
    {
     "data": {
      "text/plain": [
       "array([[7.73730967e-312, 4.29837112e-322, 0.00000000e+000,\n",
       "        0.00000000e+000],\n",
       "       [1.11256817e-306, 1.16095484e-028, 1.50758157e+161,\n",
       "        9.32219551e+218],\n",
       "       [2.17436711e+243, 1.69375696e+190, 2.03537408e-110,\n",
       "        3.65093134e+233],\n",
       "       [4.03680807e-144, 2.91237123e+257, 4.71294503e+257,\n",
       "        2.60094651e-306]])"
      ]
     },
     "execution_count": 10,
     "metadata": {},
     "output_type": "execute_result"
    }
   ],
   "source": [
    "# Create an empty matrix using empty()\n",
    "# creates a matrix of infinitesimal small values\n",
    "np.empty((4,4))"
   ]
  },
  {
   "cell_type": "code",
   "execution_count": 16,
   "metadata": {},
   "outputs": [
    {
     "name": "stdout",
     "output_type": "stream",
     "text": [
      "[0.         0.11111111 0.22222222 0.33333333 0.44444444 0.55555556\n",
      " 0.66666667 0.77777778 0.88888889 1.        ]\n",
      "[ 0.    1.25  2.5   3.75  5.    6.25  7.5   8.75 10.  ]\n"
     ]
    }
   ],
   "source": [
    "# Use linspace() to create values between two numbers\n",
    "# create 10 values between 0 and 1\n",
    "print(np.linspace(0,1,10))\n",
    "\n",
    "# create 9 values between 0 and 10\n",
    "print(np.linspace(0,10,9))"
   ]
  },
  {
   "cell_type": "code",
   "execution_count": 18,
   "metadata": {},
   "outputs": [
    {
     "name": "stdout",
     "output_type": "stream",
     "text": [
      "1-d array\n",
      "[0 1 2 3 4 5]\n",
      "2-d array\n",
      "[[ 0  1  2]\n",
      " [ 3  4  5]\n",
      " [ 6  7  8]\n",
      " [ 9 10 11]]\n",
      "3-d array\n",
      "[[[ 0  1  2  3]\n",
      "  [ 4  5  6  7]\n",
      "  [ 8  9 10 11]]\n",
      "\n",
      " [[12 13 14 15]\n",
      "  [16 17 18 19]\n",
      "  [20 21 22 23]]]\n",
      "4-d array\n",
      "[[[[ 0  1]\n",
      "   [ 2  3]]\n",
      "\n",
      "  [[ 4  5]\n",
      "   [ 6  7]]\n",
      "\n",
      "  [[ 8  9]\n",
      "   [10 11]]]\n",
      "\n",
      "\n",
      " [[[12 13]\n",
      "   [14 15]]\n",
      "\n",
      "  [[16 17]\n",
      "   [18 19]]\n",
      "\n",
      "  [[20 21]\n",
      "   [22 23]]]]\n"
     ]
    }
   ],
   "source": [
    "# Create multi-dimensional arrays\n",
    "print(\"1-d array\")\n",
    "print(np.arange(6)) # 1-d array\n",
    "print(\"2-d array\")\n",
    "print(np.arange(12).reshape(4, 3) ) #2-d array\n",
    "print(\"3-d array\")\n",
    "print(np.arange(24).reshape(2, 3, 4)) #3-d array\n",
    "print(\"4-d array\")\n",
    "print(np.arange(24).reshape(2, 3, 2, 2)) #4-d array"
   ]
  }
 ],
 "metadata": {
  "interpreter": {
   "hash": "6d46af94c2bbce495f1e668725902fa517c90b1782bcfe2fce0dd9868df553d3"
  },
  "kernelspec": {
   "display_name": "Python 3.8.12 64-bit ('base': conda)",
   "language": "python",
   "name": "python3"
  },
  "language_info": {
   "codemirror_mode": {
    "name": "ipython",
    "version": 3
   },
   "file_extension": ".py",
   "mimetype": "text/x-python",
   "name": "python",
   "nbconvert_exporter": "python",
   "pygments_lexer": "ipython3",
   "version": "3.8.12"
  },
  "orig_nbformat": 4
 },
 "nbformat": 4,
 "nbformat_minor": 2
}
