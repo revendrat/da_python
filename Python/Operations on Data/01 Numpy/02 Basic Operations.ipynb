{
 "cells": [
  {
   "cell_type": "markdown",
   "metadata": {},
   "source": [
    "# Basic Operations\n",
    "* Arithmetic operators on arrays apply elementwise. \n",
    "* A new array is created and filled with the result."
   ]
  },
  {
   "cell_type": "code",
   "execution_count": 1,
   "metadata": {},
   "outputs": [],
   "source": [
    "import numpy as np"
   ]
  },
  {
   "cell_type": "code",
   "execution_count": 3,
   "metadata": {},
   "outputs": [
    {
     "name": "stdout",
     "output_type": "stream",
     "text": [
      "a : [20 30 40 50]\n",
      "b : [0 1 2 3]\n"
     ]
    }
   ],
   "source": [
    "# create a 1-d ndarray named \"a\"\n",
    "a = np.array([20, 30, 40, 50])\n",
    "\n",
    "# create a 1-d ndarray named \"b\"\n",
    "b = np.arange(4)\n",
    "\n",
    "print(\"a :\", a)\n",
    "print(\"b :\", b)"
   ]
  },
  {
   "cell_type": "code",
   "execution_count": 5,
   "metadata": {},
   "outputs": [
    {
     "name": "stdout",
     "output_type": "stream",
     "text": [
      "a+b :  [20 31 42 53]\n",
      "a+b+b :  [20 32 44 56]\n"
     ]
    }
   ],
   "source": [
    "# addition operations\n",
    "print(\"a+b : \", a+b)\n",
    "print(\"a+b+b : \", a+b+b)"
   ]
  },
  {
   "cell_type": "code",
   "execution_count": 6,
   "metadata": {},
   "outputs": [
    {
     "name": "stdout",
     "output_type": "stream",
     "text": [
      "c:  [20 29 38 47]\n",
      "b-a:  [-20 -29 -38 -47]\n"
     ]
    }
   ],
   "source": [
    "# subtraction operations\n",
    "c = a - b\n",
    "print(\"c: \", c)\n",
    "\n",
    "print(\"b-a: \", b-a)"
   ]
  },
  {
   "cell_type": "code",
   "execution_count": 7,
   "metadata": {},
   "outputs": [
    {
     "data": {
      "text/plain": [
       "array([0, 1, 4, 9], dtype=int32)"
      ]
     },
     "execution_count": 7,
     "metadata": {},
     "output_type": "execute_result"
    }
   ],
   "source": [
    "# power operations\n",
    "b**2"
   ]
  },
  {
   "cell_type": "code",
   "execution_count": 8,
   "metadata": {},
   "outputs": [
    {
     "data": {
      "text/plain": [
       "array([ 9.12945251, -9.88031624,  7.4511316 , -2.62374854])"
      ]
     },
     "execution_count": 8,
     "metadata": {},
     "output_type": "execute_result"
    }
   ],
   "source": [
    "# multiplication operations\n",
    "10 * np.sin(a)"
   ]
  },
  {
   "cell_type": "code",
   "execution_count": 9,
   "metadata": {},
   "outputs": [
    {
     "data": {
      "text/plain": [
       "array([ True,  True, False, False])"
      ]
     },
     "execution_count": 9,
     "metadata": {},
     "output_type": "execute_result"
    }
   ],
   "source": [
    "# boolean operations\n",
    "a < 35"
   ]
  },
  {
   "cell_type": "markdown",
   "metadata": {},
   "source": [
    "## Unary operations\n",
    "* Numpy unary operations are performed as methods of Numpy Objects"
   ]
  },
  {
   "cell_type": "code",
   "execution_count": 21,
   "metadata": {},
   "outputs": [
    {
     "name": "stdout",
     "output_type": "stream",
     "text": [
      "x :  [1 2 3 4 5]\n",
      "sum of x :  15\n",
      "min of x :  1\n",
      "max of x :  5\n",
      "mean of x :  3.0\n"
     ]
    }
   ],
   "source": [
    "x = np.array((1,2,3,4,5), dtype = int)\n",
    "print(\"x : \", x)\n",
    "print(\"sum of x : \", x.sum())\n",
    "print(\"min of x : \", x.min() )\n",
    "print(\"max of x : \", x.max() )\n",
    "print(\"mean of x : \", x.mean() )\n",
    "#print(\"median of x : \", x.median() )\n",
    "#print(\"sd of x : \", x.sd() )"
   ]
  },
  {
   "cell_type": "markdown",
   "metadata": {},
   "source": [
    "## Matrix Operations\n",
    "* The product operator `*` operates elementwise in NumPy arrays. \n",
    "* The matrix product performed using the @ operator (in python >=3.5) or the *`dot`* function or method"
   ]
  },
  {
   "cell_type": "code",
   "execution_count": 18,
   "metadata": {},
   "outputs": [
    {
     "name": "stdout",
     "output_type": "stream",
     "text": [
      "Matrix A: \n",
      " [[1 1]\n",
      " [0 1]]\n",
      "Matrix B: \n",
      " [[2 0]\n",
      " [3 4]]\n"
     ]
    }
   ],
   "source": [
    "# Create two matrices A and B using Numpy array() function\n",
    "A = np.array([[1, 1],\n",
    "             [0, 1]])\n",
    "B = np.array([[2, 0],\n",
    "             [3, 4]])\n",
    "\n",
    "print(\"Matrix A: \\n\", A)\n",
    "print(\"Matrix B: \\n\", B)"
   ]
  },
  {
   "cell_type": "code",
   "execution_count": 13,
   "metadata": {},
   "outputs": [
    {
     "data": {
      "text/plain": [
       "array([[2, 0],\n",
       "       [0, 4]])"
      ]
     },
     "execution_count": 13,
     "metadata": {},
     "output_type": "execute_result"
    }
   ],
   "source": [
    "# Element-wise product\n",
    "A * B     "
   ]
  },
  {
   "cell_type": "code",
   "execution_count": 14,
   "metadata": {},
   "outputs": [
    {
     "data": {
      "text/plain": [
       "array([[5, 4],\n",
       "       [3, 4]])"
      ]
     },
     "execution_count": 14,
     "metadata": {},
     "output_type": "execute_result"
    }
   ],
   "source": [
    "# matrix product\n",
    "A @ B     "
   ]
  },
  {
   "cell_type": "code",
   "execution_count": 15,
   "metadata": {},
   "outputs": [
    {
     "data": {
      "text/plain": [
       "array([[5, 4],\n",
       "       [3, 4]])"
      ]
     },
     "execution_count": 15,
     "metadata": {},
     "output_type": "execute_result"
    }
   ],
   "source": [
    "# another way of achieveing matrix product\n",
    "A.dot(B)  "
   ]
  },
  {
   "cell_type": "code",
   "execution_count": 19,
   "metadata": {},
   "outputs": [
    {
     "name": "stdout",
     "output_type": "stream",
     "text": [
      "A : \n",
      " [[1 1]\n",
      " [0 1]]\n",
      "A *= 3 : \n",
      "  [[3 3]\n",
      " [0 3]]\n"
     ]
    }
   ],
   "source": [
    "# operators such as *= and += act as modifying existing arrays instead of creating new arrays\n",
    "\n",
    "print( \"A : \\n\", A)\n",
    "\n",
    "A *= 3\n",
    "\n",
    "print( \"A *= 3 : \\n \", A)"
   ]
  },
  {
   "cell_type": "code",
   "execution_count": 20,
   "metadata": {},
   "outputs": [
    {
     "name": "stdout",
     "output_type": "stream",
     "text": [
      "C : \n",
      " [[1 1]\n",
      " [1 1]]\n",
      "A : \n",
      " [[4 4]\n",
      " [1 4]]\n"
     ]
    }
   ],
   "source": [
    "C = np.ones((2,2), dtype=int)\n",
    "print(\"C : \\n\", C)\n",
    "A += C\n",
    "print(\"A : \\n\", A)"
   ]
  },
  {
   "cell_type": "markdown",
   "metadata": {},
   "source": [
    "## Universal functions\n",
    "* np.add\n",
    "* np.exp\n",
    "* np.log\n",
    "* np.sqrt\n",
    "* np.square\n",
    "* and many more"
   ]
  },
  {
   "cell_type": "code",
   "execution_count": 25,
   "metadata": {},
   "outputs": [
    {
     "name": "stdout",
     "output_type": "stream",
     "text": [
      "A : \n",
      " [[4 4]\n",
      " [1 4]]\n",
      "B : \n",
      " [[2 0]\n",
      " [3 4]]\n",
      "A+B : \n",
      " [[6 4]\n",
      " [4 8]]\n"
     ]
    }
   ],
   "source": [
    "print(\"A : \\n\", A)\n",
    "print(\"B : \\n\", B)\n",
    "\n",
    "print(\"A+B : \\n\", np.add(A,B))\n"
   ]
  },
  {
   "cell_type": "code",
   "execution_count": 26,
   "metadata": {},
   "outputs": [
    {
     "name": "stdout",
     "output_type": "stream",
     "text": [
      "A : \n",
      " [[4 4]\n",
      " [1 4]]\n",
      "exponential of A : \n",
      " [[54.59815003 54.59815003]\n",
      " [ 2.71828183 54.59815003]]\n",
      "Log of A : \n",
      " [[1.38629436 1.38629436]\n",
      " [0.         1.38629436]]\n"
     ]
    }
   ],
   "source": [
    "print(\"A : \\n\", A)\n",
    "print(\"exponential of A : \\n\", np.exp(A))\n",
    "\n",
    "print(\"Log of A : \\n\", np.log(A))"
   ]
  },
  {
   "cell_type": "code",
   "execution_count": 27,
   "metadata": {},
   "outputs": [
    {
     "name": "stdout",
     "output_type": "stream",
     "text": [
      "A : \n",
      " [[4 4]\n",
      " [1 4]]\n",
      "Square of A : \n",
      " [[16 16]\n",
      " [ 1 16]]\n",
      "Square root of A : \n",
      " [[2. 2.]\n",
      " [1. 2.]]\n"
     ]
    }
   ],
   "source": [
    "print(\"A : \\n\", A)\n",
    "print(\"Square of A : \\n\", np.square(A))\n",
    "\n",
    "print(\"Square root of A : \\n\", np.sqrt(A))"
   ]
  },
  {
   "cell_type": "markdown",
   "metadata": {},
   "source": [
    "## Indexing, Slicing and Iterating\n",
    "* One-dimensional arrays can be indexed, sliced and iterated over, much like lists and other Python sequences.\n",
    "* Multi-dimensional arrays"
   ]
  },
  {
   "cell_type": "code",
   "execution_count": 2,
   "metadata": {},
   "outputs": [
    {
     "data": {
      "text/plain": [
       "array([  0,   1,   8,  27,  64, 125, 216, 343, 512, 729], dtype=int32)"
      ]
     },
     "execution_count": 2,
     "metadata": {},
     "output_type": "execute_result"
    }
   ],
   "source": [
    "a = np.arange(10)**3\n",
    "a"
   ]
  },
  {
   "cell_type": "code",
   "execution_count": 4,
   "metadata": {},
   "outputs": [
    {
     "data": {
      "text/plain": [
       "27"
      ]
     },
     "execution_count": 4,
     "metadata": {},
     "output_type": "execute_result"
    }
   ],
   "source": [
    "# extract the fourth element\n",
    "a[3]"
   ]
  },
  {
   "cell_type": "code",
   "execution_count": 7,
   "metadata": {},
   "outputs": [
    {
     "data": {
      "text/plain": [
       "array([  0,   1,   8,  27,  64, 125, 216, 343, 512, 729], dtype=int32)"
      ]
     },
     "execution_count": 7,
     "metadata": {},
     "output_type": "execute_result"
    }
   ],
   "source": [
    "# extract all elements\n",
    "a[:]"
   ]
  },
  {
   "cell_type": "code",
   "execution_count": 6,
   "metadata": {},
   "outputs": [
    {
     "data": {
      "text/plain": [
       "array([ 64, 125, 216, 343], dtype=int32)"
      ]
     },
     "execution_count": 6,
     "metadata": {},
     "output_type": "execute_result"
    }
   ],
   "source": [
    "# extract all elements from 5th to 8th positions\n",
    "a[4:8]"
   ]
  },
  {
   "cell_type": "code",
   "execution_count": 8,
   "metadata": {},
   "outputs": [
    {
     "data": {
      "text/plain": [
       "array([ 64, 125, 216, 343, 512, 729], dtype=int32)"
      ]
     },
     "execution_count": 8,
     "metadata": {},
     "output_type": "execute_result"
    }
   ],
   "source": [
    "# from 5th element to last element in array\n",
    "a[4:]"
   ]
  },
  {
   "cell_type": "code",
   "execution_count": 9,
   "metadata": {},
   "outputs": [
    {
     "data": {
      "text/plain": [
       "array([  0,   1,   8,  27,  64, 125, 216, 343], dtype=int32)"
      ]
     },
     "execution_count": 9,
     "metadata": {},
     "output_type": "execute_result"
    }
   ],
   "source": [
    "# from the first element in an array upto 8th element (including 8th element)\n",
    "a[:8]"
   ]
  },
  {
   "cell_type": "markdown",
   "metadata": {},
   "source": [
    "## Multidimensional array\n",
    "* Indexing, Slicing and Iterating"
   ]
  },
  {
   "cell_type": "code",
   "execution_count": 3,
   "metadata": {},
   "outputs": [
    {
     "data": {
      "text/plain": [
       "array([[[  0,   1,   2],\n",
       "        [ 10,  12,  13]],\n",
       "\n",
       "       [[100, 101, 102],\n",
       "        [110, 112, 113]]])"
      ]
     },
     "execution_count": 3,
     "metadata": {},
     "output_type": "execute_result"
    }
   ],
   "source": [
    "# a 3D array (two stacked 2D arrays)\n",
    "c = np.array([[[  0,  1,  2],  \n",
    "               [ 10, 12, 13]],\n",
    "              [[100, 101, 102],\n",
    "               [110, 112, 113]]])\n",
    "c"
   ]
  },
  {
   "cell_type": "code",
   "execution_count": 13,
   "metadata": {},
   "outputs": [
    {
     "data": {
      "text/plain": [
       "(2, 2, 3)"
      ]
     },
     "execution_count": 13,
     "metadata": {},
     "output_type": "execute_result"
    }
   ],
   "source": [
    "# Check the dimenstions of c ndarray\n",
    "c.shape"
   ]
  },
  {
   "cell_type": "code",
   "execution_count": 14,
   "metadata": {},
   "outputs": [
    {
     "data": {
      "text/plain": [
       "array([[[  0,   1,   2],\n",
       "        [ 10,  12,  13]],\n",
       "\n",
       "       [[100, 101, 102],\n",
       "        [110, 112, 113]]])"
      ]
     },
     "execution_count": 14,
     "metadata": {},
     "output_type": "execute_result"
    }
   ],
   "source": [
    "# extract all elements\n",
    "c[::]"
   ]
  },
  {
   "cell_type": "code",
   "execution_count": 5,
   "metadata": {},
   "outputs": [
    {
     "data": {
      "text/plain": [
       "array([[[  0,   1,   2],\n",
       "        [ 10,  12,  13]],\n",
       "\n",
       "       [[100, 101, 102],\n",
       "        [110, 112, 113]]])"
      ]
     },
     "execution_count": 5,
     "metadata": {},
     "output_type": "execute_result"
    }
   ],
   "source": [
    "# extract all elements\n",
    "c[0:,:]"
   ]
  },
  {
   "cell_type": "code",
   "execution_count": 30,
   "metadata": {},
   "outputs": [
    {
     "data": {
      "text/plain": [
       "array([[[ 0,  1,  2],\n",
       "        [10, 12, 13]]])"
      ]
     },
     "execution_count": 30,
     "metadata": {},
     "output_type": "execute_result"
    }
   ],
   "source": [
    "# extract first elements (2x3 matrix) on first axis\n",
    "c[0:1,:]"
   ]
  },
  {
   "cell_type": "code",
   "execution_count": 4,
   "metadata": {},
   "outputs": [
    {
     "data": {
      "text/plain": [
       "array([[[100, 101, 102],\n",
       "        [110, 112, 113]]])"
      ]
     },
     "execution_count": 4,
     "metadata": {},
     "output_type": "execute_result"
    }
   ],
   "source": [
    "# extract second elements (2x3 matrix) on first axis\n",
    "c[1:,:]"
   ]
  },
  {
   "cell_type": "code",
   "execution_count": 6,
   "metadata": {},
   "outputs": [
    {
     "data": {
      "text/plain": [
       "array([[ 13,  12],\n",
       "       [113, 112]])"
      ]
     },
     "execution_count": 6,
     "metadata": {},
     "output_type": "execute_result"
    }
   ],
   "source": [
    "# In both the matrices, fetch 2nd row 3rd & 2nd elements\n",
    "c[:,1,[2,1]]\n"
   ]
  },
  {
   "cell_type": "code",
   "execution_count": 7,
   "metadata": {},
   "outputs": [
    {
     "data": {
      "text/plain": [
       "array([[113, 112]])"
      ]
     },
     "execution_count": 7,
     "metadata": {},
     "output_type": "execute_result"
    }
   ],
   "source": [
    "# In the 2nd matrix, fetch 2nd row 3rd & 2nd elements\n",
    "c[1:,1,[2,1]]"
   ]
  },
  {
   "cell_type": "markdown",
   "metadata": {},
   "source": [
    "## Create field names for numpy array, and index by field names"
   ]
  },
  {
   "cell_type": "code",
   "execution_count": 8,
   "metadata": {},
   "outputs": [],
   "source": [
    "# Create field names n numpy array \n",
    "x = np.array([(1,2)], dtype=[('value','f4'), ('amount','c8')])"
   ]
  },
  {
   "cell_type": "code",
   "execution_count": 10,
   "metadata": {},
   "outputs": [
    {
     "name": "stdout",
     "output_type": "stream",
     "text": [
      "[2.+0.j]\n",
      "[1.]\n"
     ]
    }
   ],
   "source": [
    "# Access the elements by field names in numpy array\n",
    "print(x['amount'])\n",
    "print(x['value'])"
   ]
  },
  {
   "cell_type": "markdown",
   "metadata": {},
   "source": [
    "## Stacking numpy arrays\n",
    "* *hstack* for horizontal stacking\n",
    "* *vstack* for vertical stacking\n",
    "* *c_* for column-wise stacking\n",
    "* *r_* for row-wise stacking"
   ]
  },
  {
   "cell_type": "code",
   "execution_count": 12,
   "metadata": {},
   "outputs": [
    {
     "name": "stdout",
     "output_type": "stream",
     "text": [
      "x :  [0 1 2 3 4 5 6]\n",
      "y :  [ 0  1  4  9 16 25 36]\n"
     ]
    }
   ],
   "source": [
    "# Create numpy arrays\n",
    "x = np.arange(7)\n",
    "y = np.square(x)\n",
    "print(\"x : \", x)\n",
    "print(\"y : \", y)"
   ]
  },
  {
   "cell_type": "code",
   "execution_count": 15,
   "metadata": {},
   "outputs": [
    {
     "data": {
      "text/plain": [
       "array([ 0,  1,  2,  3,  4,  5,  6,  0,  1,  4,  9, 16, 25, 36])"
      ]
     },
     "execution_count": 15,
     "metadata": {},
     "output_type": "execute_result"
    }
   ],
   "source": [
    "# hstack Horizontal stacking\n",
    "np.hstack([x,y])"
   ]
  },
  {
   "cell_type": "code",
   "execution_count": 16,
   "metadata": {},
   "outputs": [
    {
     "data": {
      "text/plain": [
       "array([[ 0,  1,  2,  3,  4,  5,  6],\n",
       "       [ 0,  1,  4,  9, 16, 25, 36]])"
      ]
     },
     "execution_count": 16,
     "metadata": {},
     "output_type": "execute_result"
    }
   ],
   "source": [
    "# vstack Vertical stacking\n",
    "np.vstack([x,y])"
   ]
  },
  {
   "cell_type": "code",
   "execution_count": 19,
   "metadata": {},
   "outputs": [
    {
     "data": {
      "text/plain": [
       "array([[ 0,  0],\n",
       "       [ 1,  1],\n",
       "       [ 2,  4],\n",
       "       [ 3,  9],\n",
       "       [ 4, 16],\n",
       "       [ 5, 25],\n",
       "       [ 6, 36]])"
      ]
     },
     "execution_count": 19,
     "metadata": {},
     "output_type": "execute_result"
    }
   ],
   "source": [
    "# c_ Column-wise stacking\n",
    "np.c_[x,y]"
   ]
  },
  {
   "cell_type": "code",
   "execution_count": 20,
   "metadata": {},
   "outputs": [
    {
     "data": {
      "text/plain": [
       "array([ 0,  1,  2,  3,  4,  5,  6,  0,  1,  4,  9, 16, 25, 36])"
      ]
     },
     "execution_count": 20,
     "metadata": {},
     "output_type": "execute_result"
    }
   ],
   "source": [
    "# r_ Row-wise stacking\n",
    "np.r_[x,y]"
   ]
  },
  {
   "cell_type": "markdown",
   "metadata": {},
   "source": [
    "## Duplicate numpy arrays\n",
    "* Use repeat and tile methods\n",
    "* repeat for duplicating elements in numpy array\n",
    "* tile for a layout that creates a matrix of required shape"
   ]
  },
  {
   "cell_type": "code",
   "execution_count": 22,
   "metadata": {},
   "outputs": [
    {
     "name": "stdout",
     "output_type": "stream",
     "text": [
      "x :  [0 1 2 3 4 5 6]\n",
      "duplicate x values two times :  [0 0 1 1 2 2 3 3 4 4 5 5 6 6]\n"
     ]
    }
   ],
   "source": [
    "# use repeat to duplicate numpy array values\n",
    "print(\"x : \", x)\n",
    "print(\"duplicate x values two times : \", np.repeat(x,2))"
   ]
  },
  {
   "cell_type": "code",
   "execution_count": 25,
   "metadata": {},
   "outputs": [
    {
     "name": "stdout",
     "output_type": "stream",
     "text": [
      "x :  [0 1 2 3 4 5 6]\n",
      "create a duplication of x two times in two rows of matrix : \n",
      " [[0 1 2 3 4 5 6]\n",
      " [0 1 2 3 4 5 6]]\n"
     ]
    }
   ],
   "source": [
    "# use tile to duplicate numpy array in a matrix format\n",
    "print(\"x : \", x)\n",
    "print(\"create a duplication of x two times in two rows of matrix : \\n\", np.tile(x,(2,1)))"
   ]
  },
  {
   "cell_type": "markdown",
   "metadata": {},
   "source": [
    "## Reshape numpy arrays using reshape method"
   ]
  },
  {
   "cell_type": "code",
   "execution_count": 41,
   "metadata": {},
   "outputs": [
    {
     "name": "stdout",
     "output_type": "stream",
     "text": [
      "x :  [0 1 2 3 4 5 6 7]\n",
      "Reshape x array into 2x4 matrix  : \n",
      " [[0 1 2 3]\n",
      " [4 5 6 7]]\n",
      "Reshape x array into 4x2 matrix : \n",
      " [[0 1]\n",
      " [2 3]\n",
      " [4 5]\n",
      " [6 7]]\n"
     ]
    }
   ],
   "source": [
    "x = np.arange(8)\n",
    "print(\"x : \", x)\n",
    "print(\"Reshape x array into 2x4 matrix  : \\n\", np.reshape(x,(2,4)))\n",
    "print(\"Reshape x array into 4x2 matrix : \\n\", x.reshape(4,2))"
   ]
  },
  {
   "cell_type": "code",
   "execution_count": 37,
   "metadata": {},
   "outputs": [
    {
     "name": "stdout",
     "output_type": "stream",
     "text": [
      "x :  [[0 1 2 3]\n",
      " [4 5 6 7]]\n",
      "x shape :  (2, 4)\n",
      "x transpose using .T :  [[0 4]\n",
      " [1 5]\n",
      " [2 6]\n",
      " [3 7]]\n",
      "x.T shape :  (4, 2)\n",
      "x transpose using transpose() method :  [[0 4]\n",
      " [1 5]\n",
      " [2 6]\n",
      " [3 7]]\n",
      "x.transpose(). shape :  (4, 2)\n"
     ]
    }
   ],
   "source": [
    "# reshape numpy arrays using Transpose using .T or .transpose()\n",
    "print(\"x : \", x.reshape(2,4))\n",
    "print(\"x.reshape(2,4) shape : \", x.reshape(2,4).shape)\n",
    "print(\"x.reshape(2,4) transpose using .T : \", x.reshape(2,4).T)\n",
    "print(\"x.reshape(2,4).T shape : \", x.reshape(2,4).T.shape)\n",
    "print(\"x.reshape(2,4) transpose using transpose() method : \", x.reshape(2,4).transpose())\n",
    "print(\"x.reshape(2,4).transpose(). shape : \", x.reshape(2,4).transpose().shape)\n"
   ]
  },
  {
   "cell_type": "markdown",
   "metadata": {},
   "source": [
    "## Logical operations"
   ]
  },
  {
   "cell_type": "code",
   "execution_count": 40,
   "metadata": {},
   "outputs": [
    {
     "name": "stdout",
     "output_type": "stream",
     "text": [
      "x :  [0 1 2 3 4 5 6 7]\n",
      "values in x greater than 3 :  [False False False False  True  True  True  True]\n",
      "values in x greater than 3 :  (array([4, 5, 6, 7], dtype=int64),)\n"
     ]
    }
   ],
   "source": [
    "print(\"x : \", x)\n",
    "print(\"values in x greater than 3 : \", x>3)\n",
    "print(\"values in x greater than 3 : \",np.where(x>3))"
   ]
  }
 ],
 "metadata": {
  "interpreter": {
   "hash": "6d46af94c2bbce495f1e668725902fa517c90b1782bcfe2fce0dd9868df553d3"
  },
  "kernelspec": {
   "display_name": "Python 3.8.12 64-bit ('base': conda)",
   "language": "python",
   "name": "python3"
  },
  "language_info": {
   "codemirror_mode": {
    "name": "ipython",
    "version": 3
   },
   "file_extension": ".py",
   "mimetype": "text/x-python",
   "name": "python",
   "nbconvert_exporter": "python",
   "pygments_lexer": "ipython3",
   "version": "3.8.12"
  },
  "orig_nbformat": 4
 },
 "nbformat": 4,
 "nbformat_minor": 2
}
