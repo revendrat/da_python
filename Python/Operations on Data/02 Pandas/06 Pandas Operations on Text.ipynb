{
 "cells": [
  {
   "cell_type": "markdown",
   "metadata": {},
   "source": [
    "# Operations on Text Data\n",
    "* pandas has powerful inbuilt methods to perform operations on text data"
   ]
  },
  {
   "cell_type": "code",
   "execution_count": 1,
   "metadata": {},
   "outputs": [],
   "source": [
    "# import numpy & pandas libraries\n",
    "import numpy as np\n",
    "import pandas as pd"
   ]
  },
  {
   "cell_type": "code",
   "execution_count": 3,
   "metadata": {},
   "outputs": [],
   "source": [
    "companies = pd.read_excel(\"C:/Users/user/Documents/GitHub/AI-ML-Algorithms-for-Business-Applications/Operations on Data/02 Pandas/text_data_file.xlsx\")"
   ]
  },
  {
   "cell_type": "code",
   "execution_count": 5,
   "metadata": {},
   "outputs": [
    {
     "data": {
      "text/html": [
       "<div>\n",
       "<style scoped>\n",
       "    .dataframe tbody tr th:only-of-type {\n",
       "        vertical-align: middle;\n",
       "    }\n",
       "\n",
       "    .dataframe tbody tr th {\n",
       "        vertical-align: top;\n",
       "    }\n",
       "\n",
       "    .dataframe thead th {\n",
       "        text-align: right;\n",
       "    }\n",
       "</style>\n",
       "<table border=\"1\" class=\"dataframe\">\n",
       "  <thead>\n",
       "    <tr style=\"text-align: right;\">\n",
       "      <th></th>\n",
       "      <th>Company Name</th>\n",
       "      <th>Beta</th>\n",
       "      <th>Alpha</th>\n",
       "      <th>NIFTY closing</th>\n",
       "      <th>Date</th>\n",
       "      <th>sak</th>\n",
       "    </tr>\n",
       "  </thead>\n",
       "  <tbody>\n",
       "    <tr>\n",
       "      <th>0</th>\n",
       "      <td>20 Microns Ltd.</td>\n",
       "      <td>1.23</td>\n",
       "      <td>-0.08</td>\n",
       "      <td>17416.55</td>\n",
       "      <td>2021-11-22</td>\n",
       "      <td>q</td>\n",
       "    </tr>\n",
       "    <tr>\n",
       "      <th>1</th>\n",
       "      <td>20Th Century Finance Corpn. Ltd. [Merged]</td>\n",
       "      <td>0.61</td>\n",
       "      <td>-0.61</td>\n",
       "      <td>1160.15</td>\n",
       "      <td>1999-05-18</td>\n",
       "      <td>qeur</td>\n",
       "    </tr>\n",
       "    <tr>\n",
       "      <th>2</th>\n",
       "      <td>3I Infotech Ltd.</td>\n",
       "      <td>1.49</td>\n",
       "      <td>0.18</td>\n",
       "      <td>17416.55</td>\n",
       "      <td>2021-11-22</td>\n",
       "      <td>kas</td>\n",
       "    </tr>\n",
       "    <tr>\n",
       "      <th>3</th>\n",
       "      <td>3M India Ltd.</td>\n",
       "      <td>0.90</td>\n",
       "      <td>0.21</td>\n",
       "      <td>17416.55</td>\n",
       "      <td>2021-11-22</td>\n",
       "      <td>NaN</td>\n",
       "    </tr>\n",
       "    <tr>\n",
       "      <th>4</th>\n",
       "      <td>3P Land Holdings Ltd.</td>\n",
       "      <td>0.92</td>\n",
       "      <td>0.09</td>\n",
       "      <td>17416.55</td>\n",
       "      <td>2021-11-22</td>\n",
       "      <td>jhs</td>\n",
       "    </tr>\n",
       "  </tbody>\n",
       "</table>\n",
       "</div>"
      ],
      "text/plain": [
       "                                Company Name  Beta  Alpha  NIFTY closing   \\\n",
       "0                            20 Microns Ltd.  1.23  -0.08        17416.55   \n",
       "1  20Th Century Finance Corpn. Ltd. [Merged]  0.61  -0.61         1160.15   \n",
       "2                           3I Infotech Ltd.  1.49   0.18        17416.55   \n",
       "3                              3M India Ltd.  0.90   0.21        17416.55   \n",
       "4                      3P Land Holdings Ltd.  0.92   0.09        17416.55   \n",
       "\n",
       "       Date    sak  \n",
       "0 2021-11-22     q  \n",
       "1 1999-05-18  qeur  \n",
       "2 2021-11-22   kas  \n",
       "3 2021-11-22   NaN  \n",
       "4 2021-11-22   jhs  "
      ]
     },
     "execution_count": 5,
     "metadata": {},
     "output_type": "execute_result"
    }
   ],
   "source": [
    "# check the companies\n",
    "companies.head()"
   ]
  },
  {
   "cell_type": "code",
   "execution_count": 6,
   "metadata": {},
   "outputs": [
    {
     "data": {
      "text/plain": [
       "array(['20 Microns Ltd.', '20Th Century Finance Corpn. Ltd. [Merged]',\n",
       "       '3I Infotech Ltd.', '3M India Ltd.', '3P Land Holdings Ltd.'],\n",
       "      dtype=object)"
      ]
     },
     "execution_count": 6,
     "metadata": {},
     "output_type": "execute_result"
    }
   ],
   "source": [
    "# other way to inspect the columns, or particular column is given below:\n",
    "# .values converts the pandas column into an array\n",
    "companies['Company Name'].head().values"
   ]
  },
  {
   "cell_type": "markdown",
   "metadata": {},
   "source": [
    "# Challenges:\n",
    "* Clean the values in columns for consistency for further analysis\n",
    "* use suite of Pthyon and Pandas methods to achieve the same"
   ]
  },
  {
   "cell_type": "code",
   "execution_count": 8,
   "metadata": {},
   "outputs": [
    {
     "data": {
      "text/plain": [
       "<pandas.core.strings.accessor.StringMethods at 0x1b263ce8c70>"
      ]
     },
     "execution_count": 8,
     "metadata": {},
     "output_type": "execute_result"
    }
   ],
   "source": [
    "# str has suite of attribute & methods to work on strings\n",
    "# companies['Company Name'] is a pandas string column and accessed using StringMethods\n",
    "companies['Company Name'].str"
   ]
  },
  {
   "cell_type": "code",
   "execution_count": 9,
   "metadata": {},
   "outputs": [
    {
     "data": {
      "text/plain": [
       "'Hello, Welcome!'"
      ]
     },
     "execution_count": 9,
     "metadata": {},
     "output_type": "execute_result"
    }
   ],
   "source": [
    "# Strip \n",
    "# * strip is in-built Python function\n",
    "# * strip removes leading as well as trailing characters in a string\n",
    "\n",
    "# Illustration of strip\n",
    "\n",
    "str1 = \"   Hello, Welcome!     \"\n",
    "str1.strip()"
   ]
  },
  {
   "cell_type": "code",
   "execution_count": 13,
   "metadata": {},
   "outputs": [
    {
     "data": {
      "text/plain": [
       "'w   Hello, Welcome!     w'"
      ]
     },
     "execution_count": 13,
     "metadata": {},
     "output_type": "execute_result"
    }
   ],
   "source": [
    "str1 = \"ew   Hello, Welcome!     we\"\n",
    "str2 = \"e\"\n",
    "str1.strip(str2)"
   ]
  },
  {
   "cell_type": "code",
   "execution_count": 15,
   "metadata": {},
   "outputs": [
    {
     "data": {
      "text/plain": [
       "'   Hello, Welcome!     '"
      ]
     },
     "execution_count": 15,
     "metadata": {},
     "output_type": "execute_result"
    }
   ],
   "source": [
    "str1 = \"dew   Hello, Welcome!     wed\"\n",
    "str2 = \"edw\"\n",
    "str1.strip(str2)"
   ]
  },
  {
   "cell_type": "code",
   "execution_count": 18,
   "metadata": {},
   "outputs": [
    {
     "data": {
      "text/plain": [
       "'Hello, Welcome!     '"
      ]
     },
     "execution_count": 18,
     "metadata": {},
     "output_type": "execute_result"
    }
   ],
   "source": [
    "# Left strip: strips the spaces or strings at left side\n",
    "str1 = \"   Hello, Welcome!     \"\n",
    "str1.lstrip()"
   ]
  },
  {
   "cell_type": "code",
   "execution_count": 20,
   "metadata": {},
   "outputs": [
    {
     "data": {
      "text/plain": [
       "'   Hello, Welcome!     wed'"
      ]
     },
     "execution_count": 20,
     "metadata": {},
     "output_type": "execute_result"
    }
   ],
   "source": [
    "# Left strip: strips the strings at left side\n",
    "str1 = \"dew   Hello, Welcome!     wed\"\n",
    "str2 = \"edw\"\n",
    "str1.lstrip(str2)"
   ]
  },
  {
   "cell_type": "code",
   "execution_count": 19,
   "metadata": {},
   "outputs": [
    {
     "data": {
      "text/plain": [
       "'   Hello, Welcome!'"
      ]
     },
     "execution_count": 19,
     "metadata": {},
     "output_type": "execute_result"
    }
   ],
   "source": [
    "#Right strip the spaces or strings at right side\n",
    "str1 = \"   Hello, Welcome!     \"\n",
    "str1.rstrip()"
   ]
  },
  {
   "cell_type": "code",
   "execution_count": 21,
   "metadata": {},
   "outputs": [
    {
     "data": {
      "text/plain": [
       "'dew   Hello, Welcome!     '"
      ]
     },
     "execution_count": 21,
     "metadata": {},
     "output_type": "execute_result"
    }
   ],
   "source": [
    "# Left strip: strips the strings at right side\n",
    "str1 = \"dew   Hello, Welcome!     wed\"\n",
    "str2 = \"edw\"\n",
    "str1.rstrip(str2)"
   ]
  },
  {
   "cell_type": "code",
   "execution_count": 22,
   "metadata": {},
   "outputs": [
    {
     "name": "stdout",
     "output_type": "stream",
     "text": [
      "str1 :    Hello, Welcome!     \n",
      "str1 lower :    hello, welcome!     \n",
      "str1 UPPER :    HELLO, WELCOME!     \n"
     ]
    }
   ],
   "source": [
    "# lower() or upper() cases for the strings\n",
    "str1 = \"   Hello, Welcome!     \"\n",
    "print(\"str1 :\", str1)\n",
    "print(\"str1 lower :\", str1.lower())\n",
    "print(\"str1 UPPER :\", str1.upper())"
   ]
  },
  {
   "cell_type": "code",
   "execution_count": 64,
   "metadata": {},
   "outputs": [
    {
     "data": {
      "text/html": [
       "<div>\n",
       "<style scoped>\n",
       "    .dataframe tbody tr th:only-of-type {\n",
       "        vertical-align: middle;\n",
       "    }\n",
       "\n",
       "    .dataframe tbody tr th {\n",
       "        vertical-align: top;\n",
       "    }\n",
       "\n",
       "    .dataframe thead th {\n",
       "        text-align: right;\n",
       "    }\n",
       "</style>\n",
       "<table border=\"1\" class=\"dataframe\">\n",
       "  <thead>\n",
       "    <tr style=\"text-align: right;\">\n",
       "      <th></th>\n",
       "      <th>greeting</th>\n",
       "      <th>place</th>\n",
       "      <th>campus</th>\n",
       "      <th>state</th>\n",
       "    </tr>\n",
       "  </thead>\n",
       "  <tbody>\n",
       "    <tr>\n",
       "      <th>0</th>\n",
       "      <td>hello</td>\n",
       "      <td>pilani</td>\n",
       "      <td>bits Pilani</td>\n",
       "      <td>rajasthan</td>\n",
       "    </tr>\n",
       "    <tr>\n",
       "      <th>1</th>\n",
       "      <td>welcome!</td>\n",
       "      <td>hyderabad</td>\n",
       "      <td>BIts hYderabad</td>\n",
       "      <td>telangana</td>\n",
       "    </tr>\n",
       "  </tbody>\n",
       "</table>\n",
       "</div>"
      ],
      "text/plain": [
       "     greeting          place               campus        state  \n",
       "0     hello           pilani       bits Pilani      rajasthan   \n",
       "1    welcome!  hyderabad      BIts hYderabad           telangana"
      ]
     },
     "execution_count": 64,
     "metadata": {},
     "output_type": "execute_result"
    }
   ],
   "source": [
    "# Perform upper, lower & stripping in a data frame\n",
    "str_df = pd.DataFrame({\"greeting\": [\"  hello  \", \"  welcome!\"], \"place\" : [\"  pilani\", \"hyderabad    \"], \n",
    "\"campus\" : [\"   bits Pilani   \", \"BIts hYderabad     \"] , \"state  \" : [\"rajasthan   \", \"    telangana\"] }\n",
    ")\n",
    "str_df"
   ]
  },
  {
   "cell_type": "code",
   "execution_count": 65,
   "metadata": {},
   "outputs": [
    {
     "name": "stdout",
     "output_type": "stream",
     "text": [
      "<class 'pandas.core.frame.DataFrame'>\n",
      "RangeIndex: 2 entries, 0 to 1\n",
      "Data columns (total 4 columns):\n",
      " #   Column    Non-Null Count  Dtype \n",
      "---  ------    --------------  ----- \n",
      " 0   greeting  2 non-null      object\n",
      " 1   place     2 non-null      object\n",
      " 2   campus    2 non-null      object\n",
      " 3   state     2 non-null      object\n",
      "dtypes: object(4)\n",
      "memory usage: 192.0+ bytes\n"
     ]
    }
   ],
   "source": [
    "str_df.info()"
   ]
  },
  {
   "cell_type": "code",
   "execution_count": 54,
   "metadata": {},
   "outputs": [
    {
     "data": {
      "text/plain": [
       "0       hello\n",
       "1    welcome!\n",
       "Name: greeting, dtype: object"
      ]
     },
     "execution_count": 54,
     "metadata": {},
     "output_type": "execute_result"
    }
   ],
   "source": [
    "str_df['greeting'].str.strip()"
   ]
  },
  {
   "cell_type": "code",
   "execution_count": 61,
   "metadata": {},
   "outputs": [
    {
     "data": {
      "text/plain": [
       "0           PILANI\n",
       "1    HYDERABAD    \n",
       "Name: place, dtype: object"
      ]
     },
     "execution_count": 61,
     "metadata": {},
     "output_type": "execute_result"
    }
   ],
   "source": [
    "str_df['place'].str.upper()"
   ]
  },
  {
   "cell_type": "code",
   "execution_count": 60,
   "metadata": {},
   "outputs": [
    {
     "data": {
      "text/plain": [
       "0     8\n",
       "1    13\n",
       "Name: place, dtype: int64"
      ]
     },
     "execution_count": 60,
     "metadata": {},
     "output_type": "execute_result"
    }
   ],
   "source": [
    "str_df['place'].str.len()"
   ]
  },
  {
   "cell_type": "code",
   "execution_count": 62,
   "metadata": {},
   "outputs": [
    {
     "data": {
      "text/plain": [
       "0    5\n",
       "1    8\n",
       "Name: greeting, dtype: int64"
      ]
     },
     "execution_count": 62,
     "metadata": {},
     "output_type": "execute_result"
    }
   ],
   "source": [
    "# Verify the stripping\n",
    "str_df['greeting'] = str_df['greeting'].str.strip()\n",
    "str_df['greeting'].str.len()"
   ]
  },
  {
   "cell_type": "code",
   "execution_count": 63,
   "metadata": {},
   "outputs": [
    {
     "data": {
      "text/plain": [
       "0       Hello\n",
       "1    Welcome!\n",
       "Name: greeting, dtype: object"
      ]
     },
     "execution_count": 63,
     "metadata": {},
     "output_type": "execute_result"
    }
   ],
   "source": [
    "# Capitalise greetings\n",
    "str_df['greeting'] = str_df['greeting'].str.capitalize()\n",
    "str_df['greeting']"
   ]
  },
  {
   "cell_type": "code",
   "execution_count": 66,
   "metadata": {},
   "outputs": [
    {
     "data": {
      "text/plain": [
       "0         Bits Pilani   \n",
       "1    Bits Hyderabad     \n",
       "Name: campus, dtype: object"
      ]
     },
     "execution_count": 66,
     "metadata": {},
     "output_type": "execute_result"
    }
   ],
   "source": [
    "# capitalise first letter of each word\n",
    "str_df['campus'].str.title()"
   ]
  },
  {
   "cell_type": "markdown",
   "metadata": {},
   "source": [
    "# Slicing the strings\n",
    "* Slicing is powerful technique to extract certain components in a string from the position of string"
   ]
  },
  {
   "cell_type": "code",
   "execution_count": 68,
   "metadata": {},
   "outputs": [
    {
     "data": {
      "text/html": [
       "<div>\n",
       "<style scoped>\n",
       "    .dataframe tbody tr th:only-of-type {\n",
       "        vertical-align: middle;\n",
       "    }\n",
       "\n",
       "    .dataframe tbody tr th {\n",
       "        vertical-align: top;\n",
       "    }\n",
       "\n",
       "    .dataframe thead th {\n",
       "        text-align: right;\n",
       "    }\n",
       "</style>\n",
       "<table border=\"1\" class=\"dataframe\">\n",
       "  <thead>\n",
       "    <tr style=\"text-align: right;\">\n",
       "      <th></th>\n",
       "      <th>Students</th>\n",
       "      <th>Group</th>\n",
       "      <th>Gender</th>\n",
       "      <th>Scores</th>\n",
       "      <th>Rank</th>\n",
       "    </tr>\n",
       "  </thead>\n",
       "  <tbody>\n",
       "    <tr>\n",
       "      <th>0</th>\n",
       "      <td>Rohit, Mr. Rohit</td>\n",
       "      <td>p2</td>\n",
       "      <td>M</td>\n",
       "      <td>8</td>\n",
       "      <td>Rank 2</td>\n",
       "    </tr>\n",
       "    <tr>\n",
       "      <th>1</th>\n",
       "      <td>Jyothula, Mr. Sougandh</td>\n",
       "      <td>P2</td>\n",
       "      <td>male</td>\n",
       "      <td>9</td>\n",
       "      <td>rank 1</td>\n",
       "    </tr>\n",
       "    <tr>\n",
       "      <th>2</th>\n",
       "      <td>Mary, Miss. Sajitha</td>\n",
       "      <td>P2</td>\n",
       "      <td>female</td>\n",
       "      <td>7</td>\n",
       "      <td>rank 5</td>\n",
       "    </tr>\n",
       "    <tr>\n",
       "      <th>3</th>\n",
       "      <td>J, Miss. Nehal</td>\n",
       "      <td>P1</td>\n",
       "      <td>F</td>\n",
       "      <td>7</td>\n",
       "      <td>Rank 5</td>\n",
       "    </tr>\n",
       "    <tr>\n",
       "      <th>4</th>\n",
       "      <td>Vaibhav, Mr. Vaibhav</td>\n",
       "      <td>p2</td>\n",
       "      <td>Male</td>\n",
       "      <td>8</td>\n",
       "      <td>rank 2</td>\n",
       "    </tr>\n",
       "    <tr>\n",
       "      <th>5</th>\n",
       "      <td>Priyanka, Miss. Mira</td>\n",
       "      <td>p1</td>\n",
       "      <td>Female</td>\n",
       "      <td>8</td>\n",
       "      <td>Rank 2</td>\n",
       "    </tr>\n",
       "  </tbody>\n",
       "</table>\n",
       "</div>"
      ],
      "text/plain": [
       "                 Students Group  Gender  Scores    Rank\n",
       "0        Rohit, Mr. Rohit    p2       M       8  Rank 2\n",
       "1  Jyothula, Mr. Sougandh    P2    male       9  rank 1\n",
       "2     Mary, Miss. Sajitha    P2  female       7  rank 5\n",
       "3          J, Miss. Nehal    P1       F       7  Rank 5\n",
       "4    Vaibhav, Mr. Vaibhav    p2    Male       8  rank 2\n",
       "5    Priyanka, Miss. Mira    p1  Female       8  Rank 2"
      ]
     },
     "execution_count": 68,
     "metadata": {},
     "output_type": "execute_result"
    }
   ],
   "source": [
    "# Create students_df dataframe that constitutes column names:\n",
    "# Students, Group, Gender, Scores\n",
    "students_df = pd.DataFrame(\n",
    " {\n",
    " \"Students\": [\n",
    " \"Rohit, Mr. Rohit\",\n",
    " \"Jyothula, Mr. Sougandh\",\n",
    " \"Mary, Miss. Sajitha\",\n",
    " \"J, Miss. Nehal\",\n",
    " \"Vaibhav, Mr. Vaibhav\",\n",
    " \"Priyanka, Miss. Mira\",\n",
    " ],\n",
    "\"Group\": [ \"p2\", \"P2\", \"P2\", \"P1\", \"p2\", \"p1\"],\n",
    "\"Gender\" : [\"M\", \"male\", \"female\", \"F\", \"Male\", \"Female\"],\n",
    "\"Scores\" : [8, 9, 7, 7, 8, 8],\n",
    "\"Rank\"   : [\"Rank 2\", \"rank 1\", \"rank 5\", \"Rank 5\", \"rank 2\", \"Rank 2\" ]\n",
    " }\n",
    ")\n",
    "\n",
    "students_df"
   ]
  },
  {
   "cell_type": "code",
   "execution_count": 73,
   "metadata": {},
   "outputs": [
    {
     "name": "stdout",
     "output_type": "stream",
     "text": [
      "0    Rank 2\n",
      "1    rank 1\n",
      "2    rank 5\n",
      "3    Rank 5\n",
      "4    rank 2\n",
      "5    Rank 2\n",
      "Name: Rank, dtype: object\n"
     ]
    },
    {
     "data": {
      "text/plain": [
       "array(['Rank 2', 'rank 1', 'rank 5', 'Rank 5', 'rank 2'], dtype=object)"
      ]
     },
     "execution_count": 73,
     "metadata": {},
     "output_type": "execute_result"
    }
   ],
   "source": [
    "# Fetch the unique ranks\n",
    "#review student rank column\n",
    "print(students_df['Rank'])\n",
    "\n",
    "# fetch unique values of ranks using unique()\n",
    "students_df['Rank'].unique()"
   ]
  },
  {
   "cell_type": "markdown",
   "metadata": {},
   "source": [
    "## Lab exercise\n",
    "* convert all values in Rank column to consistent format\n",
    "* hint: without using slicing"
   ]
  },
  {
   "cell_type": "markdown",
   "metadata": {},
   "source": [
    "## using slicing convert all values in Rank column to consistent format\n",
    "* use Python’s list-slicing syntax\n",
    "* use .str.slice(postion_from, position_to)\n",
    "* use replace()\n",
    "* illustration given below\n"
   ]
  },
  {
   "cell_type": "code",
   "execution_count": 74,
   "metadata": {},
   "outputs": [
    {
     "data": {
      "text/plain": [
       "0    Rank 2\n",
       "1    rank 1\n",
       "2    rank 5\n",
       "3    Rank 5\n",
       "4    rank 2\n",
       "5    Rank 2\n",
       "Name: Rank, dtype: object"
      ]
     },
     "execution_count": 74,
     "metadata": {},
     "output_type": "execute_result"
    }
   ],
   "source": [
    "students_df['Rank']"
   ]
  },
  {
   "cell_type": "code",
   "execution_count": 76,
   "metadata": {},
   "outputs": [
    {
     "data": {
      "text/plain": [
       "0    2\n",
       "1    1\n",
       "2    5\n",
       "3    5\n",
       "4    2\n",
       "5    2\n",
       "Name: Rank, dtype: object"
      ]
     },
     "execution_count": 76,
     "metadata": {},
     "output_type": "execute_result"
    }
   ],
   "source": [
    "# use str.slice(position_from, position_to) on the data frame column\n",
    "students_df['Rank'].str.slice(5,6)"
   ]
  },
  {
   "cell_type": "code",
   "execution_count": 77,
   "metadata": {},
   "outputs": [
    {
     "data": {
      "text/plain": [
       "0     2\n",
       "1     1\n",
       "2     5\n",
       "3     5\n",
       "4     2\n",
       "5     2\n",
       "Name: Rank, dtype: object"
      ]
     },
     "execution_count": 77,
     "metadata": {},
     "output_type": "execute_result"
    }
   ],
   "source": [
    "#  Slicing using Python's list slicing syntax\n",
    "students_df['Rank'].str[4:]"
   ]
  },
  {
   "cell_type": "code",
   "execution_count": 82,
   "metadata": {},
   "outputs": [
    {
     "data": {
      "text/plain": [
       "0    Rank 2\n",
       "1    Rank 1\n",
       "2    Rank 5\n",
       "3    Rank 5\n",
       "4    Rank 2\n",
       "5    Rank 2\n",
       "Name: Rank, dtype: object"
      ]
     },
     "execution_count": 82,
     "metadata": {},
     "output_type": "execute_result"
    }
   ],
   "source": [
    "#  Slicing using Python's list slicing syntax\n",
    "# fora Rank1\n",
    "students_df['Rank'].replace(to_replace = [\"rank 1\", \"rank 5\", \"rank 2\"], value = [\"Rank 1\", \"Rank 5\", \"Rank 2\"] )"
   ]
  },
  {
   "cell_type": "code",
   "execution_count": 83,
   "metadata": {},
   "outputs": [
    {
     "data": {
      "text/plain": [
       "True"
      ]
     },
     "execution_count": 83,
     "metadata": {},
     "output_type": "execute_result"
    }
   ],
   "source": [
    "## Boolean Methods in Strings\n",
    "\n",
    "\"BITS\" in \"Welcome to BITS Pilani\""
   ]
  },
  {
   "cell_type": "code",
   "execution_count": 84,
   "metadata": {},
   "outputs": [
    {
     "data": {
      "text/plain": [
       "False"
      ]
     },
     "execution_count": 84,
     "metadata": {},
     "output_type": "execute_result"
    }
   ],
   "source": [
    "\"Bits\" in \"Welcome to BITS Pilani\""
   ]
  },
  {
   "cell_type": "code",
   "execution_count": 86,
   "metadata": {},
   "outputs": [
    {
     "data": {
      "text/plain": [
       "True"
      ]
     },
     "execution_count": 86,
     "metadata": {},
     "output_type": "execute_result"
    }
   ],
   "source": [
    "\"Bits\".upper() in \"Welcome to BITS Pilani\""
   ]
  },
  {
   "cell_type": "markdown",
   "metadata": {},
   "source": [
    "### Lab Exercise\n",
    "* Search for company starting with \"A B C\" in companies data frame\n",
    "* hints: use lower() or upper()\n",
    "* hints: use str.contains(\"string_name) or str.startswith(\"string_name) or str.endswith(\"string_name)"
   ]
  },
  {
   "cell_type": "markdown",
   "metadata": {},
   "source": [
    "## Splitting Strings\n",
    "* use str.split()\n",
    "* creates array of split values"
   ]
  },
  {
   "cell_type": "code",
   "execution_count": 91,
   "metadata": {},
   "outputs": [
    {
     "data": {
      "text/plain": [
       "['Welcome', 'to', 'BITS', 'Pilani!']"
      ]
     },
     "execution_count": 91,
     "metadata": {},
     "output_type": "execute_result"
    }
   ],
   "source": [
    "# split by space\n",
    "\"Welcome to BITS Pilani!\".split(\" \")"
   ]
  },
  {
   "cell_type": "code",
   "execution_count": 92,
   "metadata": {},
   "outputs": [
    {
     "data": {
      "text/plain": [
       "['11', '22', '33', '44', '555', '6666', '88']"
      ]
     },
     "execution_count": 92,
     "metadata": {},
     "output_type": "execute_result"
    }
   ],
   "source": [
    "# split by a special character\n",
    "\"11-22-33-44-555-6666-88\".split(\"-\")"
   ]
  },
  {
   "cell_type": "code",
   "execution_count": 98,
   "metadata": {},
   "outputs": [
    {
     "data": {
      "text/plain": [
       "0    [Rank, 2]\n",
       "1    [rank, 1]\n",
       "2    [rank, 5]\n",
       "3    [Rank, 5]\n",
       "4    [rank, 2]\n",
       "5    [Rank, 2]\n",
       "Name: Rank, dtype: object"
      ]
     },
     "execution_count": 98,
     "metadata": {},
     "output_type": "execute_result"
    }
   ],
   "source": [
    "# split by patternw when you identify pattern such as a special character (space)\n",
    "students_df['Rank'].str.split(pat = \" \")"
   ]
  },
  {
   "cell_type": "code",
   "execution_count": 90,
   "metadata": {},
   "outputs": [
    {
     "data": {
      "text/plain": [
       "0    [Rank, 2]\n",
       "1    [rank, 1]\n",
       "2    [rank, 5]\n",
       "3    [Rank, 5]\n",
       "4    [rank, 2]\n",
       "5    [Rank, 2]\n",
       "Name: Rank, dtype: object"
      ]
     },
     "execution_count": 90,
     "metadata": {},
     "output_type": "execute_result"
    }
   ],
   "source": [
    "# the above cell is equivalent to the below line of code\n",
    "students_df['Rank'].str.split(\" \")"
   ]
  },
  {
   "cell_type": "code",
   "execution_count": 102,
   "metadata": {},
   "outputs": [
    {
     "data": {
      "text/html": [
       "<div>\n",
       "<style scoped>\n",
       "    .dataframe tbody tr th:only-of-type {\n",
       "        vertical-align: middle;\n",
       "    }\n",
       "\n",
       "    .dataframe tbody tr th {\n",
       "        vertical-align: top;\n",
       "    }\n",
       "\n",
       "    .dataframe thead th {\n",
       "        text-align: right;\n",
       "    }\n",
       "</style>\n",
       "<table border=\"1\" class=\"dataframe\">\n",
       "  <thead>\n",
       "    <tr style=\"text-align: right;\">\n",
       "      <th></th>\n",
       "      <th>0</th>\n",
       "      <th>1</th>\n",
       "    </tr>\n",
       "  </thead>\n",
       "  <tbody>\n",
       "    <tr>\n",
       "      <th>0</th>\n",
       "      <td>Rohit,</td>\n",
       "      <td>Mr. Rohit</td>\n",
       "    </tr>\n",
       "    <tr>\n",
       "      <th>1</th>\n",
       "      <td>Jyothula,</td>\n",
       "      <td>Mr. Sougandh</td>\n",
       "    </tr>\n",
       "    <tr>\n",
       "      <th>2</th>\n",
       "      <td>Mary,</td>\n",
       "      <td>Miss. Sajitha</td>\n",
       "    </tr>\n",
       "    <tr>\n",
       "      <th>3</th>\n",
       "      <td>J,</td>\n",
       "      <td>Miss. Nehal</td>\n",
       "    </tr>\n",
       "    <tr>\n",
       "      <th>4</th>\n",
       "      <td>Vaibhav,</td>\n",
       "      <td>Mr. Vaibhav</td>\n",
       "    </tr>\n",
       "    <tr>\n",
       "      <th>5</th>\n",
       "      <td>Priyanka,</td>\n",
       "      <td>Miss. Mira</td>\n",
       "    </tr>\n",
       "  </tbody>\n",
       "</table>\n",
       "</div>"
      ],
      "text/plain": [
       "           0              1\n",
       "0     Rohit,      Mr. Rohit\n",
       "1  Jyothula,   Mr. Sougandh\n",
       "2      Mary,  Miss. Sajitha\n",
       "3         J,    Miss. Nehal\n",
       "4   Vaibhav,    Mr. Vaibhav\n",
       "5  Priyanka,     Miss. Mira"
      ]
     },
     "execution_count": 102,
     "metadata": {},
     "output_type": "execute_result"
    }
   ],
   "source": [
    "# limiting maximum number of splits with n argument\n",
    "# convert to data frame using expand = True\n",
    "students_df['Students'].str.split(\" \", n=1, expand = True)"
   ]
  }
 ],
 "metadata": {
  "interpreter": {
   "hash": "6d46af94c2bbce495f1e668725902fa517c90b1782bcfe2fce0dd9868df553d3"
  },
  "kernelspec": {
   "display_name": "Python 3.8.12 64-bit ('base': conda)",
   "language": "python",
   "name": "python3"
  },
  "language_info": {
   "codemirror_mode": {
    "name": "ipython",
    "version": 3
   },
   "file_extension": ".py",
   "mimetype": "text/x-python",
   "name": "python",
   "nbconvert_exporter": "python",
   "pygments_lexer": "ipython3",
   "version": "3.8.12"
  },
  "orig_nbformat": 4
 },
 "nbformat": 4,
 "nbformat_minor": 2
}
