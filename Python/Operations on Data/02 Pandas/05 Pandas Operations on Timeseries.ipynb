{
 "cells": [
  {
   "cell_type": "markdown",
   "metadata": {},
   "source": [
    "# Operations on Time series \n",
    "* For felxible operations on dates, use Timestamp constructor in pandas library\n",
    "* Using Timestamp, the dates operations performed on: MM-DD-YYYY, MM/DD/YYYY, MMDDYY etc.\n",
    "* Import time series data\n",
    "* Rolling operations\n",
    "* Filling operations\n",
    "\n",
    "Require two important packages:\n",
    "* pandas_datareader for reading data from web\n",
    "* datetime package to manipulate on date column"
   ]
  },
  {
   "cell_type": "code",
   "execution_count": 3,
   "metadata": {},
   "outputs": [
    {
     "name": "stdout",
     "output_type": "stream",
     "text": [
      "Requirement already satisfied: pandas_datareader in c:\\users\\user\\anaconda3\\lib\\site-packages (0.10.0)\n",
      "Requirement already satisfied: lxml in c:\\users\\user\\anaconda3\\lib\\site-packages (from pandas_datareader) (4.6.3)\n",
      "Requirement already satisfied: requests>=2.19.0 in c:\\users\\user\\anaconda3\\lib\\site-packages (from pandas_datareader) (2.26.0)\n",
      "Requirement already satisfied: pandas>=0.23 in c:\\users\\user\\anaconda3\\lib\\site-packages (from pandas_datareader) (1.3.4)\n",
      "Requirement already satisfied: python-dateutil>=2.7.3 in c:\\users\\user\\anaconda3\\lib\\site-packages (from pandas>=0.23->pandas_datareader) (2.8.2)\n",
      "Requirement already satisfied: numpy>=1.17.3 in c:\\users\\user\\anaconda3\\lib\\site-packages (from pandas>=0.23->pandas_datareader) (1.21.2)\n",
      "Requirement already satisfied: pytz>=2017.3 in c:\\users\\user\\anaconda3\\lib\\site-packages (from pandas>=0.23->pandas_datareader) (2021.3)\n",
      "Requirement already satisfied: charset-normalizer~=2.0.0 in c:\\users\\user\\anaconda3\\lib\\site-packages (from requests>=2.19.0->pandas_datareader) (2.0.4)\n",
      "Requirement already satisfied: idna<4,>=2.5 in c:\\users\\user\\anaconda3\\lib\\site-packages (from requests>=2.19.0->pandas_datareader) (3.2)\n",
      "Requirement already satisfied: urllib3<1.27,>=1.21.1 in c:\\users\\user\\anaconda3\\lib\\site-packages (from requests>=2.19.0->pandas_datareader) (1.26.7)\n",
      "Requirement already satisfied: certifi>=2017.4.17 in c:\\users\\user\\anaconda3\\lib\\site-packages (from requests>=2.19.0->pandas_datareader) (2021.10.8)\n",
      "Requirement already satisfied: six>=1.5 in c:\\users\\user\\anaconda3\\lib\\site-packages (from python-dateutil>=2.7.3->pandas>=0.23->pandas_datareader) (1.16.0)\n"
     ]
    }
   ],
   "source": [
    "# install library pandas_datareader\n",
    "!pip install pandas_datareader"
   ]
  },
  {
   "cell_type": "code",
   "execution_count": 13,
   "metadata": {},
   "outputs": [
    {
     "name": "stdout",
     "output_type": "stream",
     "text": [
      "Collecting datetime\n",
      "  Downloading DateTime-4.3-py2.py3-none-any.whl (60 kB)\n",
      "Requirement already satisfied: pytz in c:\\users\\user\\anaconda3\\lib\\site-packages (from datetime) (2021.3)\n",
      "Requirement already satisfied: zope.interface in c:\\users\\user\\anaconda3\\lib\\site-packages (from datetime) (5.4.0)\n",
      "Requirement already satisfied: setuptools in c:\\users\\user\\anaconda3\\lib\\site-packages (from zope.interface->datetime) (58.0.4)\n",
      "Installing collected packages: datetime\n",
      "Successfully installed datetime-4.3\n"
     ]
    }
   ],
   "source": [
    "!pip install datetime"
   ]
  },
  {
   "cell_type": "code",
   "execution_count": 14,
   "metadata": {},
   "outputs": [],
   "source": [
    "# Let's understand dates\n",
    "\n",
    "# import datetime library\n",
    "\n",
    "import datetime as dt"
   ]
  },
  {
   "cell_type": "code",
   "execution_count": 17,
   "metadata": {},
   "outputs": [
    {
     "name": "stdout",
     "output_type": "stream",
     "text": [
      "last_day_1  2021-11-30\n",
      "last_day_1 type  <class 'datetime.date'>\n",
      "last_day_2  2021-11-30\n",
      "last_day_2 type  <class 'datetime.date'>\n"
     ]
    }
   ],
   "source": [
    "last_day_1 = dt.date(2021, 11, 30)\n",
    "# above line is same as:\n",
    "last_day_2 = dt.date(year = 2021, month= 11, day = 30)\n",
    "print(\"last_day_1 \", last_day_1)\n",
    "print(\"last_day_1 type \", type(last_day_1))\n",
    "print(\"last_day_2 \", last_day_2)\n",
    "print(\"last_day_2 type \", type(last_day_2))"
   ]
  },
  {
   "cell_type": "code",
   "execution_count": 18,
   "metadata": {},
   "outputs": [
    {
     "name": "stdout",
     "output_type": "stream",
     "text": [
      "year  2021\n",
      "month  11\n",
      "day  30\n"
     ]
    }
   ],
   "source": [
    "# Fetch year, month & day of last_day_1\n",
    "print(\"year \", last_day_1.year)\n",
    "print(\"month \", last_day_1.month)\n",
    "print(\"day \", last_day_1.day)"
   ]
  },
  {
   "cell_type": "code",
   "execution_count": 19,
   "metadata": {},
   "outputs": [],
   "source": [
    "# create a datetime variable with the following\n",
    "# last_dt with 2021 30 November 16:54:20 (4:54pm 20 seconds)\n",
    "last_dt = dt.datetime(year = 2021, month= 11, day = 30, hour=16, minute = 54, second=20)"
   ]
  },
  {
   "cell_type": "code",
   "execution_count": 20,
   "metadata": {},
   "outputs": [
    {
     "data": {
      "text/plain": [
       "datetime.datetime(2021, 11, 30, 16, 54, 20)"
      ]
     },
     "execution_count": 20,
     "metadata": {},
     "output_type": "execute_result"
    }
   ],
   "source": [
    "# check the values of last_dt\n",
    "last_dt"
   ]
  },
  {
   "cell_type": "code",
   "execution_count": 21,
   "metadata": {},
   "outputs": [
    {
     "name": "stdout",
     "output_type": "stream",
     "text": [
      "last_dt hour :  16\n",
      "last_dt minute :  54\n",
      "last_dt second :  20\n"
     ]
    }
   ],
   "source": [
    "# fetch hour, minute and seconds from last_dt\n",
    "print(\"last_dt hour : \", last_dt.hour)\n",
    "print(\"last_dt minute : \", last_dt.minute)\n",
    "print(\"last_dt second : \", last_dt.second)"
   ]
  },
  {
   "cell_type": "code",
   "execution_count": 103,
   "metadata": {},
   "outputs": [],
   "source": [
    "# import numpy & pandas libraries\n",
    "import numpy as np\n",
    "import pandas as pd"
   ]
  },
  {
   "cell_type": "code",
   "execution_count": 23,
   "metadata": {},
   "outputs": [],
   "source": [
    "# create a last_dt variable with the following as Timestamp object\n",
    "# last_ts with 2021 30 November 16:54:20 (4:54pm 20 seconds)\n",
    "last_ts = pd.Timestamp(year = 2021, month= 11, day = 30, hour=16, minute = 54, second=20)"
   ]
  },
  {
   "cell_type": "code",
   "execution_count": 24,
   "metadata": {},
   "outputs": [
    {
     "data": {
      "text/plain": [
       "Timestamp('2021-11-30 16:54:20')"
      ]
     },
     "execution_count": 24,
     "metadata": {},
     "output_type": "execute_result"
    }
   ],
   "source": [
    "# check values of last_ts\n",
    "last_ts"
   ]
  },
  {
   "cell_type": "code",
   "execution_count": 26,
   "metadata": {},
   "outputs": [
    {
     "name": "stdout",
     "output_type": "stream",
     "text": [
      "year  2021\n",
      "month :  11\n",
      "day :  30\n",
      "hour :  16\n",
      "minute :  54\n",
      "second :  20\n"
     ]
    }
   ],
   "source": [
    "# verify the attributes of last_ts object\n",
    "print(\"year \", last_ts.year)\n",
    "print(\"month : \", last_ts.month)\n",
    "print(\"day : \", last_ts.day)\n",
    "print(\"hour : \", last_ts.hour)\n",
    "print(\"minute : \", last_ts.minute)\n",
    "print(\"second : \", last_ts.second)"
   ]
  },
  {
   "cell_type": "code",
   "execution_count": 27,
   "metadata": {},
   "outputs": [
    {
     "data": {
      "text/plain": [
       "Timestamp('2021-11-30 00:00:00')"
      ]
     },
     "execution_count": 27,
     "metadata": {},
     "output_type": "execute_result"
    }
   ],
   "source": [
    "# convert date strings into Timestamp objects\n",
    "x = 'Nov-30-2021'\n",
    "\n",
    "# convert x to Timestamp object using to_datetime() in Pandas\n",
    "# same applicable to columns in pandas dataframe when you need to convert strings to Timestamp\n",
    "x_dt = pd.to_datetime(x)\n",
    "\n",
    "# check the type of x_dt object\n",
    "x_dt"
   ]
  },
  {
   "cell_type": "code",
   "execution_count": 29,
   "metadata": {},
   "outputs": [
    {
     "data": {
      "text/plain": [
       "'Tuesday'"
      ]
     },
     "execution_count": 29,
     "metadata": {},
     "output_type": "execute_result"
    }
   ],
   "source": [
    "# get the day name of x_dt\n",
    "x_dt.day_name()"
   ]
  },
  {
   "cell_type": "code",
   "execution_count": 32,
   "metadata": {},
   "outputs": [
    {
     "data": {
      "text/plain": [
       "Timestamp('2021-12-05 00:00:00')"
      ]
     },
     "execution_count": 32,
     "metadata": {},
     "output_type": "execute_result"
    }
   ],
   "source": [
    "# Add 5 days to x_dt using DateOffset() in Pandas\n",
    "x_dt + pd.DateOffset(days=5)"
   ]
  },
  {
   "cell_type": "code",
   "execution_count": 34,
   "metadata": {},
   "outputs": [
    {
     "data": {
      "text/plain": [
       "Timestamp('2021-11-25 00:00:00')"
      ]
     },
     "execution_count": 34,
     "metadata": {},
     "output_type": "execute_result"
    }
   ],
   "source": [
    "# Subtract 5 days to x_dt using DateOffset() in Pandas\n",
    "x_dt - pd.DateOffset(days=5)"
   ]
  },
  {
   "cell_type": "code",
   "execution_count": 4,
   "metadata": {},
   "outputs": [
    {
     "data": {
      "text/html": [
       "<div>\n",
       "<style scoped>\n",
       "    .dataframe tbody tr th:only-of-type {\n",
       "        vertical-align: middle;\n",
       "    }\n",
       "\n",
       "    .dataframe tbody tr th {\n",
       "        vertical-align: top;\n",
       "    }\n",
       "\n",
       "    .dataframe thead th {\n",
       "        text-align: right;\n",
       "    }\n",
       "</style>\n",
       "<table border=\"1\" class=\"dataframe\">\n",
       "  <thead>\n",
       "    <tr style=\"text-align: right;\">\n",
       "      <th></th>\n",
       "      <th>Date</th>\n",
       "      <th>High</th>\n",
       "      <th>Low</th>\n",
       "      <th>Open</th>\n",
       "      <th>Close</th>\n",
       "      <th>Volume</th>\n",
       "      <th>Adj Close</th>\n",
       "    </tr>\n",
       "  </thead>\n",
       "  <tbody>\n",
       "    <tr>\n",
       "      <th>0</th>\n",
       "      <td>2021-01-01</td>\n",
       "      <td>1265.500000</td>\n",
       "      <td>1255.800049</td>\n",
       "      <td>1257.900024</td>\n",
       "      <td>1260.449951</td>\n",
       "      <td>4253550.0</td>\n",
       "      <td>1236.039307</td>\n",
       "    </tr>\n",
       "    <tr>\n",
       "      <th>1</th>\n",
       "      <td>2021-01-04</td>\n",
       "      <td>1290.000000</td>\n",
       "      <td>1261.150024</td>\n",
       "      <td>1269.000000</td>\n",
       "      <td>1288.250000</td>\n",
       "      <td>7208454.0</td>\n",
       "      <td>1263.301025</td>\n",
       "    </tr>\n",
       "    <tr>\n",
       "      <th>2</th>\n",
       "      <td>2021-01-05</td>\n",
       "      <td>1299.000000</td>\n",
       "      <td>1275.050049</td>\n",
       "      <td>1282.000000</td>\n",
       "      <td>1293.800049</td>\n",
       "      <td>8145280.0</td>\n",
       "      <td>1268.743530</td>\n",
       "    </tr>\n",
       "    <tr>\n",
       "      <th>3</th>\n",
       "      <td>2021-01-06</td>\n",
       "      <td>1302.000000</td>\n",
       "      <td>1268.050049</td>\n",
       "      <td>1300.000000</td>\n",
       "      <td>1282.099976</td>\n",
       "      <td>7161715.0</td>\n",
       "      <td>1257.270142</td>\n",
       "    </tr>\n",
       "    <tr>\n",
       "      <th>4</th>\n",
       "      <td>2021-01-07</td>\n",
       "      <td>1297.650024</td>\n",
       "      <td>1255.500000</td>\n",
       "      <td>1296.000000</td>\n",
       "      <td>1262.150024</td>\n",
       "      <td>10954918.0</td>\n",
       "      <td>1237.706543</td>\n",
       "    </tr>\n",
       "  </tbody>\n",
       "</table>\n",
       "</div>"
      ],
      "text/plain": [
       "        Date         High          Low         Open        Close      Volume  \\\n",
       "0 2021-01-01  1265.500000  1255.800049  1257.900024  1260.449951   4253550.0   \n",
       "1 2021-01-04  1290.000000  1261.150024  1269.000000  1288.250000   7208454.0   \n",
       "2 2021-01-05  1299.000000  1275.050049  1282.000000  1293.800049   8145280.0   \n",
       "3 2021-01-06  1302.000000  1268.050049  1300.000000  1282.099976   7161715.0   \n",
       "4 2021-01-07  1297.650024  1255.500000  1296.000000  1262.150024  10954918.0   \n",
       "\n",
       "     Adj Close  \n",
       "0  1236.039307  \n",
       "1  1263.301025  \n",
       "2  1268.743530  \n",
       "3  1257.270142  \n",
       "4  1237.706543  "
      ]
     },
     "execution_count": 4,
     "metadata": {},
     "output_type": "execute_result"
    }
   ],
   "source": [
    "# import data  from pandas_datareader\n",
    "from pandas_datareader import data\n",
    "# read INFOSYS stock from 01-Jan-2021 to 30-Nov-2021 from Yahoo, and reset the index\n",
    "ts_df=data.DataReader(\"INFY.NS\", 'yahoo', '20210101', '20211130').reset_index()\n",
    "\n",
    "# Check the head values of Infy dataframe\n",
    "ts_df.head()"
   ]
  },
  {
   "cell_type": "code",
   "execution_count": 5,
   "metadata": {},
   "outputs": [
    {
     "data": {
      "text/html": [
       "<div>\n",
       "<style scoped>\n",
       "    .dataframe tbody tr th:only-of-type {\n",
       "        vertical-align: middle;\n",
       "    }\n",
       "\n",
       "    .dataframe tbody tr th {\n",
       "        vertical-align: top;\n",
       "    }\n",
       "\n",
       "    .dataframe thead th {\n",
       "        text-align: right;\n",
       "    }\n",
       "</style>\n",
       "<table border=\"1\" class=\"dataframe\">\n",
       "  <thead>\n",
       "    <tr style=\"text-align: right;\">\n",
       "      <th></th>\n",
       "      <th>Date</th>\n",
       "      <th>High</th>\n",
       "      <th>Low</th>\n",
       "      <th>Open</th>\n",
       "      <th>Close</th>\n",
       "      <th>Volume</th>\n",
       "      <th>Adj Close</th>\n",
       "    </tr>\n",
       "  </thead>\n",
       "  <tbody>\n",
       "    <tr>\n",
       "      <th>218</th>\n",
       "      <td>2021-11-23</td>\n",
       "      <td>1747.250000</td>\n",
       "      <td>1710.000000</td>\n",
       "      <td>1735.099976</td>\n",
       "      <td>1736.900024</td>\n",
       "      <td>8436160.0</td>\n",
       "      <td>1736.900024</td>\n",
       "    </tr>\n",
       "    <tr>\n",
       "      <th>219</th>\n",
       "      <td>2021-11-24</td>\n",
       "      <td>1740.500000</td>\n",
       "      <td>1688.000000</td>\n",
       "      <td>1740.000000</td>\n",
       "      <td>1696.000000</td>\n",
       "      <td>7333061.0</td>\n",
       "      <td>1696.000000</td>\n",
       "    </tr>\n",
       "    <tr>\n",
       "      <th>220</th>\n",
       "      <td>2021-11-25</td>\n",
       "      <td>1726.199951</td>\n",
       "      <td>1696.949951</td>\n",
       "      <td>1700.000000</td>\n",
       "      <td>1722.400024</td>\n",
       "      <td>4476260.0</td>\n",
       "      <td>1722.400024</td>\n",
       "    </tr>\n",
       "    <tr>\n",
       "      <th>221</th>\n",
       "      <td>2021-11-26</td>\n",
       "      <td>1718.349976</td>\n",
       "      <td>1684.000000</td>\n",
       "      <td>1702.550049</td>\n",
       "      <td>1691.650024</td>\n",
       "      <td>4494181.0</td>\n",
       "      <td>1691.650024</td>\n",
       "    </tr>\n",
       "    <tr>\n",
       "      <th>222</th>\n",
       "      <td>2021-11-29</td>\n",
       "      <td>1712.000000</td>\n",
       "      <td>1669.150024</td>\n",
       "      <td>1691.000000</td>\n",
       "      <td>1696.349976</td>\n",
       "      <td>3940946.0</td>\n",
       "      <td>1696.349976</td>\n",
       "    </tr>\n",
       "  </tbody>\n",
       "</table>\n",
       "</div>"
      ],
      "text/plain": [
       "          Date         High          Low         Open        Close     Volume  \\\n",
       "218 2021-11-23  1747.250000  1710.000000  1735.099976  1736.900024  8436160.0   \n",
       "219 2021-11-24  1740.500000  1688.000000  1740.000000  1696.000000  7333061.0   \n",
       "220 2021-11-25  1726.199951  1696.949951  1700.000000  1722.400024  4476260.0   \n",
       "221 2021-11-26  1718.349976  1684.000000  1702.550049  1691.650024  4494181.0   \n",
       "222 2021-11-29  1712.000000  1669.150024  1691.000000  1696.349976  3940946.0   \n",
       "\n",
       "       Adj Close  \n",
       "218  1736.900024  \n",
       "219  1696.000000  \n",
       "220  1722.400024  \n",
       "221  1691.650024  \n",
       "222  1696.349976  "
      ]
     },
     "execution_count": 5,
     "metadata": {},
     "output_type": "execute_result"
    }
   ],
   "source": [
    "# Check the tail values of Infy dataframe\n",
    "ts_df.tail()"
   ]
  },
  {
   "cell_type": "code",
   "execution_count": 6,
   "metadata": {},
   "outputs": [
    {
     "name": "stdout",
     "output_type": "stream",
     "text": [
      "<class 'pandas.core.frame.DataFrame'>\n",
      "RangeIndex: 223 entries, 0 to 222\n",
      "Data columns (total 7 columns):\n",
      " #   Column     Non-Null Count  Dtype         \n",
      "---  ------     --------------  -----         \n",
      " 0   Date       223 non-null    datetime64[ns]\n",
      " 1   High       223 non-null    float64       \n",
      " 2   Low        223 non-null    float64       \n",
      " 3   Open       223 non-null    float64       \n",
      " 4   Close      223 non-null    float64       \n",
      " 5   Volume     223 non-null    float64       \n",
      " 6   Adj Close  223 non-null    float64       \n",
      "dtypes: datetime64[ns](1), float64(6)\n",
      "memory usage: 12.3 KB\n"
     ]
    }
   ],
   "source": [
    "# Check the columns data types\n",
    "ts_df.info()"
   ]
  },
  {
   "cell_type": "code",
   "execution_count": 37,
   "metadata": {},
   "outputs": [],
   "source": [
    "# Create returns column using shift() method\n",
    "ts_df['returns'] = (ts_df['Adj Close'] - ts_df['Adj Close'].shift(1))/ts_df['Adj Close'].shift(1)"
   ]
  },
  {
   "cell_type": "code",
   "execution_count": 38,
   "metadata": {},
   "outputs": [
    {
     "data": {
      "text/html": [
       "<div>\n",
       "<style scoped>\n",
       "    .dataframe tbody tr th:only-of-type {\n",
       "        vertical-align: middle;\n",
       "    }\n",
       "\n",
       "    .dataframe tbody tr th {\n",
       "        vertical-align: top;\n",
       "    }\n",
       "\n",
       "    .dataframe thead th {\n",
       "        text-align: right;\n",
       "    }\n",
       "</style>\n",
       "<table border=\"1\" class=\"dataframe\">\n",
       "  <thead>\n",
       "    <tr style=\"text-align: right;\">\n",
       "      <th></th>\n",
       "      <th>Date</th>\n",
       "      <th>High</th>\n",
       "      <th>Low</th>\n",
       "      <th>Open</th>\n",
       "      <th>Close</th>\n",
       "      <th>Volume</th>\n",
       "      <th>Adj Close</th>\n",
       "      <th>returns</th>\n",
       "    </tr>\n",
       "  </thead>\n",
       "  <tbody>\n",
       "    <tr>\n",
       "      <th>0</th>\n",
       "      <td>2021-01-01</td>\n",
       "      <td>1265.500000</td>\n",
       "      <td>1255.800049</td>\n",
       "      <td>1257.900024</td>\n",
       "      <td>1260.449951</td>\n",
       "      <td>4253550.0</td>\n",
       "      <td>1236.039307</td>\n",
       "      <td>NaN</td>\n",
       "    </tr>\n",
       "    <tr>\n",
       "      <th>1</th>\n",
       "      <td>2021-01-04</td>\n",
       "      <td>1290.000000</td>\n",
       "      <td>1261.150024</td>\n",
       "      <td>1269.000000</td>\n",
       "      <td>1288.250000</td>\n",
       "      <td>7208454.0</td>\n",
       "      <td>1263.301025</td>\n",
       "      <td>0.022056</td>\n",
       "    </tr>\n",
       "    <tr>\n",
       "      <th>2</th>\n",
       "      <td>2021-01-05</td>\n",
       "      <td>1299.000000</td>\n",
       "      <td>1275.050049</td>\n",
       "      <td>1282.000000</td>\n",
       "      <td>1293.800049</td>\n",
       "      <td>8145280.0</td>\n",
       "      <td>1268.743530</td>\n",
       "      <td>0.004308</td>\n",
       "    </tr>\n",
       "    <tr>\n",
       "      <th>3</th>\n",
       "      <td>2021-01-06</td>\n",
       "      <td>1302.000000</td>\n",
       "      <td>1268.050049</td>\n",
       "      <td>1300.000000</td>\n",
       "      <td>1282.099976</td>\n",
       "      <td>7161715.0</td>\n",
       "      <td>1257.270142</td>\n",
       "      <td>-0.009043</td>\n",
       "    </tr>\n",
       "    <tr>\n",
       "      <th>4</th>\n",
       "      <td>2021-01-07</td>\n",
       "      <td>1297.650024</td>\n",
       "      <td>1255.500000</td>\n",
       "      <td>1296.000000</td>\n",
       "      <td>1262.150024</td>\n",
       "      <td>10954918.0</td>\n",
       "      <td>1237.706543</td>\n",
       "      <td>-0.015560</td>\n",
       "    </tr>\n",
       "  </tbody>\n",
       "</table>\n",
       "</div>"
      ],
      "text/plain": [
       "        Date         High          Low         Open        Close      Volume  \\\n",
       "0 2021-01-01  1265.500000  1255.800049  1257.900024  1260.449951   4253550.0   \n",
       "1 2021-01-04  1290.000000  1261.150024  1269.000000  1288.250000   7208454.0   \n",
       "2 2021-01-05  1299.000000  1275.050049  1282.000000  1293.800049   8145280.0   \n",
       "3 2021-01-06  1302.000000  1268.050049  1300.000000  1282.099976   7161715.0   \n",
       "4 2021-01-07  1297.650024  1255.500000  1296.000000  1262.150024  10954918.0   \n",
       "\n",
       "     Adj Close   returns  \n",
       "0  1236.039307       NaN  \n",
       "1  1263.301025  0.022056  \n",
       "2  1268.743530  0.004308  \n",
       "3  1257.270142 -0.009043  \n",
       "4  1237.706543 -0.015560  "
      ]
     },
     "execution_count": 38,
     "metadata": {},
     "output_type": "execute_result"
    }
   ],
   "source": [
    "ts_df.head()"
   ]
  },
  {
   "cell_type": "markdown",
   "metadata": {},
   "source": [
    "# Rolling operations on time series data\n",
    "* use rolling() method followed by summary of interest"
   ]
  },
  {
   "cell_type": "code",
   "execution_count": 39,
   "metadata": {},
   "outputs": [
    {
     "data": {
      "text/html": [
       "<div>\n",
       "<style scoped>\n",
       "    .dataframe tbody tr th:only-of-type {\n",
       "        vertical-align: middle;\n",
       "    }\n",
       "\n",
       "    .dataframe tbody tr th {\n",
       "        vertical-align: top;\n",
       "    }\n",
       "\n",
       "    .dataframe thead th {\n",
       "        text-align: right;\n",
       "    }\n",
       "</style>\n",
       "<table border=\"1\" class=\"dataframe\">\n",
       "  <thead>\n",
       "    <tr style=\"text-align: right;\">\n",
       "      <th></th>\n",
       "      <th>High</th>\n",
       "      <th>Low</th>\n",
       "      <th>Open</th>\n",
       "      <th>Close</th>\n",
       "      <th>Volume</th>\n",
       "      <th>Adj Close</th>\n",
       "      <th>returns</th>\n",
       "    </tr>\n",
       "  </thead>\n",
       "  <tbody>\n",
       "    <tr>\n",
       "      <th>0</th>\n",
       "      <td>NaN</td>\n",
       "      <td>NaN</td>\n",
       "      <td>NaN</td>\n",
       "      <td>NaN</td>\n",
       "      <td>NaN</td>\n",
       "      <td>NaN</td>\n",
       "      <td>NaN</td>\n",
       "    </tr>\n",
       "    <tr>\n",
       "      <th>1</th>\n",
       "      <td>NaN</td>\n",
       "      <td>NaN</td>\n",
       "      <td>NaN</td>\n",
       "      <td>NaN</td>\n",
       "      <td>NaN</td>\n",
       "      <td>NaN</td>\n",
       "      <td>NaN</td>\n",
       "    </tr>\n",
       "    <tr>\n",
       "      <th>2</th>\n",
       "      <td>1284.833333</td>\n",
       "      <td>1264.000041</td>\n",
       "      <td>1269.633341</td>\n",
       "      <td>1280.833333</td>\n",
       "      <td>6.535761e+06</td>\n",
       "      <td>1256.027954</td>\n",
       "      <td>NaN</td>\n",
       "    </tr>\n",
       "    <tr>\n",
       "      <th>3</th>\n",
       "      <td>1297.000000</td>\n",
       "      <td>1268.083374</td>\n",
       "      <td>1283.666667</td>\n",
       "      <td>1288.050008</td>\n",
       "      <td>7.505150e+06</td>\n",
       "      <td>1263.104899</td>\n",
       "      <td>0.005774</td>\n",
       "    </tr>\n",
       "    <tr>\n",
       "      <th>4</th>\n",
       "      <td>1299.550008</td>\n",
       "      <td>1266.200033</td>\n",
       "      <td>1292.666667</td>\n",
       "      <td>1279.350016</td>\n",
       "      <td>8.753971e+06</td>\n",
       "      <td>1254.573405</td>\n",
       "      <td>-0.006765</td>\n",
       "    </tr>\n",
       "  </tbody>\n",
       "</table>\n",
       "</div>"
      ],
      "text/plain": [
       "          High          Low         Open        Close        Volume  \\\n",
       "0          NaN          NaN          NaN          NaN           NaN   \n",
       "1          NaN          NaN          NaN          NaN           NaN   \n",
       "2  1284.833333  1264.000041  1269.633341  1280.833333  6.535761e+06   \n",
       "3  1297.000000  1268.083374  1283.666667  1288.050008  7.505150e+06   \n",
       "4  1299.550008  1266.200033  1292.666667  1279.350016  8.753971e+06   \n",
       "\n",
       "     Adj Close   returns  \n",
       "0          NaN       NaN  \n",
       "1          NaN       NaN  \n",
       "2  1256.027954       NaN  \n",
       "3  1263.104899  0.005774  \n",
       "4  1254.573405 -0.006765  "
      ]
     },
     "execution_count": 39,
     "metadata": {},
     "output_type": "execute_result"
    }
   ],
   "source": [
    "# calculate the mean over the trailing three elements\n",
    "ts_df.rolling(3).mean().head()"
   ]
  },
  {
   "cell_type": "code",
   "execution_count": 40,
   "metadata": {},
   "outputs": [
    {
     "data": {
      "text/html": [
       "<div>\n",
       "<style scoped>\n",
       "    .dataframe tbody tr th:only-of-type {\n",
       "        vertical-align: middle;\n",
       "    }\n",
       "\n",
       "    .dataframe tbody tr th {\n",
       "        vertical-align: top;\n",
       "    }\n",
       "\n",
       "    .dataframe thead th {\n",
       "        text-align: right;\n",
       "    }\n",
       "</style>\n",
       "<table border=\"1\" class=\"dataframe\">\n",
       "  <thead>\n",
       "    <tr style=\"text-align: right;\">\n",
       "      <th></th>\n",
       "      <th>High</th>\n",
       "      <th>Low</th>\n",
       "      <th>Open</th>\n",
       "      <th>Close</th>\n",
       "      <th>Volume</th>\n",
       "      <th>Adj Close</th>\n",
       "      <th>returns</th>\n",
       "    </tr>\n",
       "  </thead>\n",
       "  <tbody>\n",
       "    <tr>\n",
       "      <th>0</th>\n",
       "      <td>1265.500000</td>\n",
       "      <td>1255.800049</td>\n",
       "      <td>1257.900024</td>\n",
       "      <td>1260.449951</td>\n",
       "      <td>4.253550e+06</td>\n",
       "      <td>1236.039307</td>\n",
       "      <td>NaN</td>\n",
       "    </tr>\n",
       "    <tr>\n",
       "      <th>1</th>\n",
       "      <td>1279.500000</td>\n",
       "      <td>1258.857178</td>\n",
       "      <td>1264.242868</td>\n",
       "      <td>1276.335693</td>\n",
       "      <td>5.942067e+06</td>\n",
       "      <td>1251.617432</td>\n",
       "      <td>0.022056</td>\n",
       "    </tr>\n",
       "    <tr>\n",
       "      <th>2</th>\n",
       "      <td>1287.932432</td>\n",
       "      <td>1265.859500</td>\n",
       "      <td>1271.921628</td>\n",
       "      <td>1283.887847</td>\n",
       "      <td>6.894808e+06</td>\n",
       "      <td>1259.023312</td>\n",
       "      <td>0.011914</td>\n",
       "    </tr>\n",
       "    <tr>\n",
       "      <th>3</th>\n",
       "      <td>1293.077143</td>\n",
       "      <td>1266.660615</td>\n",
       "      <td>1282.190289</td>\n",
       "      <td>1283.233997</td>\n",
       "      <td>6.992419e+06</td>\n",
       "      <td>1258.382153</td>\n",
       "      <td>0.002852</td>\n",
       "    </tr>\n",
       "    <tr>\n",
       "      <th>4</th>\n",
       "      <td>1294.576064</td>\n",
       "      <td>1263.002334</td>\n",
       "      <td>1286.716904</td>\n",
       "      <td>1276.322989</td>\n",
       "      <td>8.291267e+06</td>\n",
       "      <td>1251.605000</td>\n",
       "      <td>-0.003882</td>\n",
       "    </tr>\n",
       "  </tbody>\n",
       "</table>\n",
       "</div>"
      ],
      "text/plain": [
       "          High          Low         Open        Close        Volume  \\\n",
       "0  1265.500000  1255.800049  1257.900024  1260.449951  4.253550e+06   \n",
       "1  1279.500000  1258.857178  1264.242868  1276.335693  5.942067e+06   \n",
       "2  1287.932432  1265.859500  1271.921628  1283.887847  6.894808e+06   \n",
       "3  1293.077143  1266.660615  1282.190289  1283.233997  6.992419e+06   \n",
       "4  1294.576064  1263.002334  1286.716904  1276.322989  8.291267e+06   \n",
       "\n",
       "     Adj Close   returns  \n",
       "0  1236.039307       NaN  \n",
       "1  1251.617432  0.022056  \n",
       "2  1259.023312  0.011914  \n",
       "3  1258.382153  0.002852  \n",
       "4  1251.605000 -0.003882  "
      ]
     },
     "execution_count": 40,
     "metadata": {},
     "output_type": "execute_result"
    }
   ],
   "source": [
    "# exponential weighted the mean over the trailing three elements\n",
    "ts_df.ewm(3).mean().head()"
   ]
  },
  {
   "cell_type": "markdown",
   "metadata": {},
   "source": [
    "# Filling operations on time series data"
   ]
  },
  {
   "cell_type": "code",
   "execution_count": 65,
   "metadata": {},
   "outputs": [],
   "source": [
    "# create a series type dataset with time features\n",
    "\n",
    "test_ts = pd.Series({\"date\" : ['20211130', '20211129', '20211128', '20211126', '20211125', '20211124'], \n",
    "\"temp\": [7, 6, 6.5, '', 8, 7.5], \"humidity\": [42, 80, '', 54, '', 74]} )"
   ]
  },
  {
   "cell_type": "code",
   "execution_count": 104,
   "metadata": {},
   "outputs": [],
   "source": [
    "# create a series type dataset with time features\n",
    "date = pd.date_range(start = '25/11/2021', end = '30/11/2021', freq = 'D')\n",
    "# use np.NaN to create NaN values\n",
    "night_temp = [7, 6, 6.5, np.NaN, 8, 7.5]\n",
    "humidity = [42, 80, '', 54, np.NaN, 74]\n",
    "temp_df = pd.Series(night_temp, index= date )"
   ]
  },
  {
   "cell_type": "code",
   "execution_count": 105,
   "metadata": {},
   "outputs": [
    {
     "data": {
      "text/plain": [
       "2021-11-25    7.0\n",
       "2021-11-26    6.0\n",
       "2021-11-27    6.5\n",
       "2021-11-28    NaN\n",
       "2021-11-29    8.0\n",
       "2021-11-30    7.5\n",
       "Freq: D, dtype: float64"
      ]
     },
     "execution_count": 105,
     "metadata": {},
     "output_type": "execute_result"
    }
   ],
   "source": [
    "# verify type of test_ts\n",
    "temp_df"
   ]
  },
  {
   "cell_type": "code",
   "execution_count": 111,
   "metadata": {},
   "outputs": [
    {
     "data": {
      "text/plain": [
       "2021-11-25    7.0\n",
       "2021-11-26    6.0\n",
       "2021-11-27    6.5\n",
       "2021-11-28    6.5\n",
       "2021-11-29    8.0\n",
       "2021-11-30    7.5\n",
       "Freq: D, dtype: float64"
      ]
     },
     "execution_count": 111,
     "metadata": {},
     "output_type": "execute_result"
    }
   ],
   "source": [
    "# perform forward fill\n",
    "# forward fill uses the prior value\n",
    "temp_df.resample('1D').mean().ffill()"
   ]
  },
  {
   "cell_type": "code",
   "execution_count": 112,
   "metadata": {},
   "outputs": [
    {
     "data": {
      "text/plain": [
       "2021-11-25    7.0\n",
       "2021-11-26    6.0\n",
       "2021-11-27    6.5\n",
       "2021-11-28    8.0\n",
       "2021-11-29    8.0\n",
       "2021-11-30    7.5\n",
       "Freq: D, dtype: float64"
      ]
     },
     "execution_count": 112,
     "metadata": {},
     "output_type": "execute_result"
    }
   ],
   "source": [
    "# perform backward fill\n",
    "# backward fill uses the next value\n",
    "temp_df.resample('1D').mean().bfill()"
   ]
  },
  {
   "cell_type": "code",
   "execution_count": 113,
   "metadata": {},
   "outputs": [
    {
     "data": {
      "text/plain": [
       "2021-11-25    7.00\n",
       "2021-11-26    6.00\n",
       "2021-11-27    6.50\n",
       "2021-11-28    7.25\n",
       "2021-11-29    8.00\n",
       "2021-11-30    7.50\n",
       "Freq: D, dtype: float64"
      ]
     },
     "execution_count": 113,
     "metadata": {},
     "output_type": "execute_result"
    }
   ],
   "source": [
    "# perform interpolate fill\n",
    "# interpolate fill replaces NaN based on interpolation of non-NaN values\n",
    "temp_df.resample('1D').mean().interpolate()"
   ]
  }
 ],
 "metadata": {
  "interpreter": {
   "hash": "6d46af94c2bbce495f1e668725902fa517c90b1782bcfe2fce0dd9868df553d3"
  },
  "kernelspec": {
   "display_name": "Python 3.8.12 64-bit ('base': conda)",
   "language": "python",
   "name": "python3"
  },
  "language_info": {
   "codemirror_mode": {
    "name": "ipython",
    "version": 3
   },
   "file_extension": ".py",
   "mimetype": "text/x-python",
   "name": "python",
   "nbconvert_exporter": "python",
   "pygments_lexer": "ipython3",
   "version": "3.8.12"
  },
  "orig_nbformat": 4
 },
 "nbformat": 4,
 "nbformat_minor": 2
}
