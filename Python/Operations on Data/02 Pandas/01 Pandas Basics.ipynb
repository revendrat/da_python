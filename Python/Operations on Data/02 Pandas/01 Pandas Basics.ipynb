{
 "cells": [
  {
   "cell_type": "markdown",
   "metadata": {},
   "source": [
    "## Basics of Pandas\n",
    "* Agenda\n",
    "    * Create pandas data frame\n",
    "    * Create pandas Series\n",
    "* Reference Document: https://pandas.pydata.org/docs/reference/index.html"
   ]
  },
  {
   "cell_type": "code",
   "execution_count": 13,
   "metadata": {},
   "outputs": [
    {
     "name": "stdout",
     "output_type": "stream",
     "text": [
      "Name: pandas\n",
      "Version: 1.3.4\n",
      "Summary: Powerful data structures for data analysis, time series, and statistics\n",
      "Home-page: https://pandas.pydata.org\n",
      "Author: The Pandas Development Team\n",
      "Author-email: pandas-dev@python.org\n",
      "License: BSD-3-Clause\n",
      "Location: c:\\users\\user\\anaconda3\\lib\\site-packages\n",
      "Requires: numpy, python-dateutil, pytz\n",
      "Required-by: seaborn, statsmodels\n"
     ]
    }
   ],
   "source": [
    "# Check the latest package version of\n",
    "!pip show pandas"
   ]
  },
  {
   "cell_type": "code",
   "execution_count": 44,
   "metadata": {},
   "outputs": [],
   "source": [
    "# load the numpy library with alias name \"np\"\n",
    "import numpy as np\n",
    "# load the pandas library with alias name \"pd\"\n",
    "import pandas as pd"
   ]
  },
  {
   "cell_type": "code",
   "execution_count": 82,
   "metadata": {},
   "outputs": [],
   "source": [
    "# Create students_df dataframe that constitutes column names:\n",
    "# Students, Group, Gender, Scores\n",
    "students_df = pd.DataFrame(\n",
    " {\n",
    " \"Students\": [\n",
    " \"Rohit, Mr. Rohit\",\n",
    " \"Jyothula, Mr. Sougandh\",\n",
    " \"Mary, Miss. Sajitha\",\n",
    " \"J, Miss. Nehal\",\n",
    " \"Vaibhav, Mr. Vaibhav\",\n",
    " \"Priyanka, Miss. Mira\",\n",
    " ],\n",
    "\"Group\": [ \"P2\", \"P2\", \"P2\", \"P1\", \"P2\", \"p1\"],\n",
    "\"Gender\" : [\"Male\", \"Male\", \"Female\", \"Female\", \"Male\", \"Female\"],\n",
    "\"Scores\" : [8, 9, 7, 7, 8, 8]\n",
    " }\n",
    ")"
   ]
  },
  {
   "cell_type": "code",
   "execution_count": 83,
   "metadata": {},
   "outputs": [
    {
     "data": {
      "text/html": [
       "<div>\n",
       "<style scoped>\n",
       "    .dataframe tbody tr th:only-of-type {\n",
       "        vertical-align: middle;\n",
       "    }\n",
       "\n",
       "    .dataframe tbody tr th {\n",
       "        vertical-align: top;\n",
       "    }\n",
       "\n",
       "    .dataframe thead th {\n",
       "        text-align: right;\n",
       "    }\n",
       "</style>\n",
       "<table border=\"1\" class=\"dataframe\">\n",
       "  <thead>\n",
       "    <tr style=\"text-align: right;\">\n",
       "      <th></th>\n",
       "      <th>Students</th>\n",
       "      <th>Group</th>\n",
       "      <th>Gender</th>\n",
       "      <th>Scores</th>\n",
       "    </tr>\n",
       "  </thead>\n",
       "  <tbody>\n",
       "    <tr>\n",
       "      <th>0</th>\n",
       "      <td>Rohit, Mr. Rohit</td>\n",
       "      <td>P2</td>\n",
       "      <td>Male</td>\n",
       "      <td>8</td>\n",
       "    </tr>\n",
       "    <tr>\n",
       "      <th>1</th>\n",
       "      <td>Jyothula, Mr. Sougandh</td>\n",
       "      <td>P2</td>\n",
       "      <td>Male</td>\n",
       "      <td>9</td>\n",
       "    </tr>\n",
       "    <tr>\n",
       "      <th>2</th>\n",
       "      <td>Mary, Miss. Sajitha</td>\n",
       "      <td>P2</td>\n",
       "      <td>Female</td>\n",
       "      <td>7</td>\n",
       "    </tr>\n",
       "    <tr>\n",
       "      <th>3</th>\n",
       "      <td>J, Miss. Nehal</td>\n",
       "      <td>P1</td>\n",
       "      <td>Female</td>\n",
       "      <td>7</td>\n",
       "    </tr>\n",
       "    <tr>\n",
       "      <th>4</th>\n",
       "      <td>Vaibhav, Mr. Vaibhav</td>\n",
       "      <td>P2</td>\n",
       "      <td>Male</td>\n",
       "      <td>8</td>\n",
       "    </tr>\n",
       "    <tr>\n",
       "      <th>5</th>\n",
       "      <td>Priyanka, Miss. Mira</td>\n",
       "      <td>p1</td>\n",
       "      <td>Female</td>\n",
       "      <td>8</td>\n",
       "    </tr>\n",
       "  </tbody>\n",
       "</table>\n",
       "</div>"
      ],
      "text/plain": [
       "                 Students Group  Gender  Scores\n",
       "0        Rohit, Mr. Rohit    P2    Male       8\n",
       "1  Jyothula, Mr. Sougandh    P2    Male       9\n",
       "2     Mary, Miss. Sajitha    P2  Female       7\n",
       "3          J, Miss. Nehal    P1  Female       7\n",
       "4    Vaibhav, Mr. Vaibhav    P2    Male       8\n",
       "5    Priyanka, Miss. Mira    p1  Female       8"
      ]
     },
     "execution_count": 83,
     "metadata": {},
     "output_type": "execute_result"
    }
   ],
   "source": [
    "# Display the students_df and make your observations\n",
    "students_df"
   ]
  },
  {
   "cell_type": "code",
   "execution_count": 84,
   "metadata": {},
   "outputs": [
    {
     "data": {
      "text/html": [
       "<div>\n",
       "<style scoped>\n",
       "    .dataframe tbody tr th:only-of-type {\n",
       "        vertical-align: middle;\n",
       "    }\n",
       "\n",
       "    .dataframe tbody tr th {\n",
       "        vertical-align: top;\n",
       "    }\n",
       "\n",
       "    .dataframe thead th {\n",
       "        text-align: right;\n",
       "    }\n",
       "</style>\n",
       "<table border=\"1\" class=\"dataframe\">\n",
       "  <thead>\n",
       "    <tr style=\"text-align: right;\">\n",
       "      <th></th>\n",
       "      <th>Scores</th>\n",
       "      <th>Students</th>\n",
       "    </tr>\n",
       "  </thead>\n",
       "  <tbody>\n",
       "    <tr>\n",
       "      <th>0</th>\n",
       "      <td>8</td>\n",
       "      <td>Rohit, Mr. Rohit</td>\n",
       "    </tr>\n",
       "    <tr>\n",
       "      <th>1</th>\n",
       "      <td>9</td>\n",
       "      <td>Jyothula, Mr. Sougandh</td>\n",
       "    </tr>\n",
       "    <tr>\n",
       "      <th>2</th>\n",
       "      <td>7</td>\n",
       "      <td>Mary, Miss. Sajitha</td>\n",
       "    </tr>\n",
       "    <tr>\n",
       "      <th>3</th>\n",
       "      <td>7</td>\n",
       "      <td>J, Miss. Nehal</td>\n",
       "    </tr>\n",
       "    <tr>\n",
       "      <th>4</th>\n",
       "      <td>8</td>\n",
       "      <td>Vaibhav, Mr. Vaibhav</td>\n",
       "    </tr>\n",
       "    <tr>\n",
       "      <th>5</th>\n",
       "      <td>8</td>\n",
       "      <td>Priyanka, Miss. Mira</td>\n",
       "    </tr>\n",
       "  </tbody>\n",
       "</table>\n",
       "</div>"
      ],
      "text/plain": [
       "   Scores                Students\n",
       "0       8        Rohit, Mr. Rohit\n",
       "1       9  Jyothula, Mr. Sougandh\n",
       "2       7     Mary, Miss. Sajitha\n",
       "3       7          J, Miss. Nehal\n",
       "4       8    Vaibhav, Mr. Vaibhav\n",
       "5       8    Priyanka, Miss. Mira"
      ]
     },
     "execution_count": 84,
     "metadata": {},
     "output_type": "execute_result"
    }
   ],
   "source": [
    "# Display the columns: Studets & Scores in students_df\n",
    "students_df[{\"Students\", \"Scores\"}]"
   ]
  },
  {
   "cell_type": "code",
   "execution_count": 73,
   "metadata": {},
   "outputs": [
    {
     "data": {
      "text/plain": [
       "0          Rohit, Mr. Rohit\n",
       "1    Jyothula, Mr. Sougandh\n",
       "2       Mary, Miss. Sajitha\n",
       "3            J, Miss. Nehal\n",
       "4      Vaibhav, Mr. Vaibhav\n",
       "5      Priyanka, Miss. Mira\n",
       "Name: Students, dtype: object"
      ]
     },
     "execution_count": 73,
     "metadata": {},
     "output_type": "execute_result"
    }
   ],
   "source": [
    "# Fetch column values by dot\n",
    "students_df.Students"
   ]
  },
  {
   "cell_type": "code",
   "execution_count": 87,
   "metadata": {},
   "outputs": [
    {
     "data": {
      "text/plain": [
       "'J, Miss. Nehal'"
      ]
     },
     "execution_count": 87,
     "metadata": {},
     "output_type": "execute_result"
    }
   ],
   "source": [
    "students_df.Students.min()"
   ]
  },
  {
   "cell_type": "code",
   "execution_count": 78,
   "metadata": {},
   "outputs": [
    {
     "data": {
      "text/plain": [
       "47"
      ]
     },
     "execution_count": 78,
     "metadata": {},
     "output_type": "execute_result"
    }
   ],
   "source": [
    "# fetch the sum of scores\n",
    "students_df.Scores.sum()"
   ]
  },
  {
   "cell_type": "code",
   "execution_count": 18,
   "metadata": {},
   "outputs": [
    {
     "name": "stdout",
     "output_type": "stream",
     "text": [
      "Max score : 9\n",
      "Min score : 7\n"
     ]
    }
   ],
   "source": [
    "# get max and min Scores in students_df\n",
    "# use max() & min() methods after pandas objects\n",
    "print(\"Max score :\", students_df[\"Scores\"].max())\n",
    "print(\"Min score :\", students_df[\"Scores\"].min())"
   ]
  },
  {
   "cell_type": "code",
   "execution_count": 19,
   "metadata": {},
   "outputs": [
    {
     "data": {
      "text/html": [
       "<div>\n",
       "<style scoped>\n",
       "    .dataframe tbody tr th:only-of-type {\n",
       "        vertical-align: middle;\n",
       "    }\n",
       "\n",
       "    .dataframe tbody tr th {\n",
       "        vertical-align: top;\n",
       "    }\n",
       "\n",
       "    .dataframe thead th {\n",
       "        text-align: right;\n",
       "    }\n",
       "</style>\n",
       "<table border=\"1\" class=\"dataframe\">\n",
       "  <thead>\n",
       "    <tr style=\"text-align: right;\">\n",
       "      <th></th>\n",
       "      <th>Scores</th>\n",
       "    </tr>\n",
       "  </thead>\n",
       "  <tbody>\n",
       "    <tr>\n",
       "      <th>count</th>\n",
       "      <td>6.000000</td>\n",
       "    </tr>\n",
       "    <tr>\n",
       "      <th>mean</th>\n",
       "      <td>7.833333</td>\n",
       "    </tr>\n",
       "    <tr>\n",
       "      <th>std</th>\n",
       "      <td>0.752773</td>\n",
       "    </tr>\n",
       "    <tr>\n",
       "      <th>min</th>\n",
       "      <td>7.000000</td>\n",
       "    </tr>\n",
       "    <tr>\n",
       "      <th>25%</th>\n",
       "      <td>7.250000</td>\n",
       "    </tr>\n",
       "    <tr>\n",
       "      <th>50%</th>\n",
       "      <td>8.000000</td>\n",
       "    </tr>\n",
       "    <tr>\n",
       "      <th>75%</th>\n",
       "      <td>8.000000</td>\n",
       "    </tr>\n",
       "    <tr>\n",
       "      <th>max</th>\n",
       "      <td>9.000000</td>\n",
       "    </tr>\n",
       "  </tbody>\n",
       "</table>\n",
       "</div>"
      ],
      "text/plain": [
       "         Scores\n",
       "count  6.000000\n",
       "mean   7.833333\n",
       "std    0.752773\n",
       "min    7.000000\n",
       "25%    7.250000\n",
       "50%    8.000000\n",
       "75%    8.000000\n",
       "max    9.000000"
      ]
     },
     "execution_count": 19,
     "metadata": {},
     "output_type": "execute_result"
    }
   ],
   "source": [
    "# Use describe() method to get quick overview of the numerical data in a DataFrame\n",
    "students_df[\"Scores\"].describe()\n",
    "# or\n",
    "students_df.describe() # displays numeric summary of all numeric columns\n"
   ]
  },
  {
   "cell_type": "code",
   "execution_count": 81,
   "metadata": {},
   "outputs": [
    {
     "data": {
      "text/html": [
       "<div>\n",
       "<style scoped>\n",
       "    .dataframe tbody tr th:only-of-type {\n",
       "        vertical-align: middle;\n",
       "    }\n",
       "\n",
       "    .dataframe tbody tr th {\n",
       "        vertical-align: top;\n",
       "    }\n",
       "\n",
       "    .dataframe thead th {\n",
       "        text-align: right;\n",
       "    }\n",
       "</style>\n",
       "<table border=\"1\" class=\"dataframe\">\n",
       "  <thead>\n",
       "    <tr style=\"text-align: right;\">\n",
       "      <th></th>\n",
       "      <th>Students</th>\n",
       "      <th>Group</th>\n",
       "      <th>Gender</th>\n",
       "      <th>Scores</th>\n",
       "    </tr>\n",
       "  </thead>\n",
       "  <tbody>\n",
       "    <tr>\n",
       "      <th>0</th>\n",
       "      <td>Rohit, Mr. Rohit</td>\n",
       "      <td>P2</td>\n",
       "      <td>Male</td>\n",
       "      <td>8</td>\n",
       "    </tr>\n",
       "    <tr>\n",
       "      <th>1</th>\n",
       "      <td>Jyothula, Mr. Sougandh</td>\n",
       "      <td>P2</td>\n",
       "      <td>Male</td>\n",
       "      <td>9</td>\n",
       "    </tr>\n",
       "    <tr>\n",
       "      <th>2</th>\n",
       "      <td>Mary, Miss. Sajitha</td>\n",
       "      <td>P2</td>\n",
       "      <td>Female</td>\n",
       "      <td>7</td>\n",
       "    </tr>\n",
       "    <tr>\n",
       "      <th>4</th>\n",
       "      <td>Vaibhav, Mr. Vaibhav</td>\n",
       "      <td>P2</td>\n",
       "      <td>Male</td>\n",
       "      <td>8</td>\n",
       "    </tr>\n",
       "    <tr>\n",
       "      <th>5</th>\n",
       "      <td>Priyanka, Miss. Mira</td>\n",
       "      <td>p1</td>\n",
       "      <td>Female</td>\n",
       "      <td>8</td>\n",
       "    </tr>\n",
       "  </tbody>\n",
       "</table>\n",
       "</div>"
      ],
      "text/plain": [
       "                 Students Group  Gender  Scores\n",
       "0        Rohit, Mr. Rohit    P2    Male       8\n",
       "1  Jyothula, Mr. Sougandh    P2    Male       9\n",
       "2     Mary, Miss. Sajitha    P2  Female       7\n",
       "4    Vaibhav, Mr. Vaibhav    P2    Male       8\n",
       "5    Priyanka, Miss. Mira    p1  Female       8"
      ]
     },
     "execution_count": 81,
     "metadata": {},
     "output_type": "execute_result"
    }
   ],
   "source": [
    "# delete values\n",
    "# fetch index and say drop index 3 (row 4)\n",
    "students_df.index\n",
    "\n",
    "students_df.drop(3)"
   ]
  },
  {
   "cell_type": "code",
   "execution_count": 20,
   "metadata": {},
   "outputs": [],
   "source": [
    "# Create Pandas Series\n",
    "x = pd.Series([1,2,3, 4, 5, 6, 7])"
   ]
  },
  {
   "cell_type": "code",
   "execution_count": 21,
   "metadata": {},
   "outputs": [
    {
     "data": {
      "text/plain": [
       "0    1\n",
       "1    2\n",
       "2    3\n",
       "3    4\n",
       "4    5\n",
       "5    6\n",
       "6    7\n",
       "dtype: int64"
      ]
     },
     "execution_count": 21,
     "metadata": {},
     "output_type": "execute_result"
    }
   ],
   "source": [
    "x"
   ]
  },
  {
   "cell_type": "code",
   "execution_count": 22,
   "metadata": {},
   "outputs": [
    {
     "data": {
      "text/plain": [
       "array([1, 2, 3, 4, 5, 6, 7], dtype=int64)"
      ]
     },
     "execution_count": 22,
     "metadata": {},
     "output_type": "execute_result"
    }
   ],
   "source": [
    "# fetch only values using values attribute\n",
    "x.values"
   ]
  },
  {
   "cell_type": "code",
   "execution_count": 23,
   "metadata": {},
   "outputs": [
    {
     "data": {
      "text/plain": [
       "1    2\n",
       "2    3\n",
       "dtype: int64"
      ]
     },
     "execution_count": 23,
     "metadata": {},
     "output_type": "execute_result"
    }
   ],
   "source": [
    "# slicing x\n",
    "# fetch values from 1 to 3\n",
    "x[1:3]"
   ]
  },
  {
   "cell_type": "code",
   "execution_count": 24,
   "metadata": {},
   "outputs": [
    {
     "data": {
      "text/plain": [
       "RangeIndex(start=0, stop=7, step=1)"
      ]
     },
     "execution_count": 24,
     "metadata": {},
     "output_type": "execute_result"
    }
   ],
   "source": [
    "#Fetch index values\n",
    "x.index"
   ]
  },
  {
   "cell_type": "code",
   "execution_count": 26,
   "metadata": {},
   "outputs": [],
   "source": [
    "# Creating a series with multiple data types\n",
    "course_df = pd.Series(['Programming for Analytics', 'MPBA', 507, 61])"
   ]
  },
  {
   "cell_type": "code",
   "execution_count": 29,
   "metadata": {},
   "outputs": [
    {
     "data": {
      "text/plain": [
       "0    Programming for Analytics\n",
       "1                         MPBA\n",
       "2                          507\n",
       "3                           61\n",
       "dtype: object"
      ]
     },
     "execution_count": 29,
     "metadata": {},
     "output_type": "execute_result"
    }
   ],
   "source": [
    "# view the df\n",
    "course_df"
   ]
  },
  {
   "cell_type": "code",
   "execution_count": 30,
   "metadata": {},
   "outputs": [
    {
     "data": {
      "text/plain": [
       "RangeIndex(start=0, stop=4, step=1)"
      ]
     },
     "execution_count": 30,
     "metadata": {},
     "output_type": "execute_result"
    }
   ],
   "source": [
    "# Review the index\n",
    "course_df.index"
   ]
  },
  {
   "cell_type": "code",
   "execution_count": 33,
   "metadata": {},
   "outputs": [
    {
     "name": "stdout",
     "output_type": "stream",
     "text": [
      "Programming for Analytics\n",
      "MPBA\n",
      "0    Programming for Analytics\n",
      "1                         MPBA\n",
      "2                          507\n",
      "dtype: object\n",
      "0    Programming for Analytics\n",
      "1                         MPBA\n",
      "dtype: object\n"
     ]
    }
   ],
   "source": [
    "# Run the following and make your observations on indexing\n",
    "print(course_df[0])\n",
    "print(course_df[1])\n",
    "#course_df[-1])\n",
    "print(course_df[:-1])\n",
    "print(course_df[:-2])"
   ]
  },
  {
   "cell_type": "code",
   "execution_count": 35,
   "metadata": {},
   "outputs": [
    {
     "data": {
      "text/plain": [
       "dtype('O')"
      ]
     },
     "execution_count": 35,
     "metadata": {},
     "output_type": "execute_result"
    }
   ],
   "source": [
    "# Check the data types\n",
    "course_df.dtype\n",
    "# It's an object data type"
   ]
  },
  {
   "cell_type": "code",
   "execution_count": 36,
   "metadata": {},
   "outputs": [],
   "source": [
    "# Provide names to indexes\n",
    "course_df = pd.Series(['Programming for Analytics', 'MPBA', 507, 61],\n",
    "                        index=['Course','TCode','NCode', 'ClassSize']\n",
    ")"
   ]
  },
  {
   "cell_type": "code",
   "execution_count": 37,
   "metadata": {},
   "outputs": [
    {
     "data": {
      "text/plain": [
       "61"
      ]
     },
     "execution_count": 37,
     "metadata": {},
     "output_type": "execute_result"
    }
   ],
   "source": [
    "# Fetch the number of students in class\n",
    "course_df['ClassSize']"
   ]
  },
  {
   "cell_type": "code",
   "execution_count": 46,
   "metadata": {},
   "outputs": [
    {
     "data": {
      "text/plain": [
       "2021-01-01    235\n",
       "2021-01-02    190\n",
       "2021-01-03    182\n",
       "2021-01-04    236\n",
       "2021-01-05    202\n",
       "             ... \n",
       "2021-12-27    206\n",
       "2021-12-28    165\n",
       "2021-12-29    231\n",
       "2021-12-30    249\n",
       "2021-12-31    205\n",
       "Freq: D, Length: 365, dtype: int32"
      ]
     },
     "execution_count": 46,
     "metadata": {},
     "output_type": "execute_result"
    }
   ],
   "source": [
    "# Pandas are exteremely powerful to handle time series data\n",
    "# Create a series of dates from 1 Jan 2021 to 31 Dec 2021\n",
    "\n",
    "# generate a series of date for 365 days beginning from 1 Jan 2021\n",
    "dates_days = pd.date_range('20210101',periods=365)\n",
    "\n",
    "# generate a series of 365 random values between 160 and 260\n",
    "stock_price =  np.random.randint(160,260,size=365)\n",
    "\n",
    "# create a pandas series using date_days as index for stock_price\n",
    "itc_stock_daily = pd.Series(stock_price,index=dates_days)\n",
    "itc_stock_daily"
   ]
  },
  {
   "cell_type": "code",
   "execution_count": 88,
   "metadata": {},
   "outputs": [
    {
     "data": {
      "text/plain": [
       "2021-01-31    233\n",
       "2021-02-28    221\n",
       "2021-03-31    162\n",
       "2021-04-30    181\n",
       "2021-05-31    252\n",
       "2021-06-30    225\n",
       "2021-07-31    230\n",
       "2021-08-31    183\n",
       "2021-09-30    164\n",
       "2021-10-31    215\n",
       "2021-11-30    172\n",
       "2021-12-31    222\n",
       "Freq: M, dtype: int32"
      ]
     },
     "execution_count": 88,
     "metadata": {},
     "output_type": "execute_result"
    }
   ],
   "source": [
    "# Create a series of dates of 12 months from Jan 2021 to Dec 2021\n",
    "\n",
    "# generate a series of date for 12 months beginning from 1 Jan 2021\n",
    "dates_months = pd.date_range('20210101',periods=12, freq='M')\n",
    "\n",
    "# generate a series of 12 random values between 160 and 260\n",
    "stock_price =  np.random.randint(160,260,size=12)\n",
    "\n",
    "# create a pandas series using date_mohths as index for stock_price\n",
    "itc_stock_monthly = pd.Series(stock_price,index=dates_months)\n",
    "itc_stock_monthly"
   ]
  },
  {
   "cell_type": "code",
   "execution_count": 49,
   "metadata": {},
   "outputs": [
    {
     "data": {
      "text/plain": [
       "count    12.000000\n",
       "mean      5.500000\n",
       "std       3.605551\n",
       "min       0.000000\n",
       "25%       2.750000\n",
       "50%       5.500000\n",
       "75%       8.250000\n",
       "max      11.000000\n",
       "dtype: float64"
      ]
     },
     "execution_count": 49,
     "metadata": {},
     "output_type": "execute_result"
    }
   ],
   "source": [
    "# Calculate mean, standard deviation, median, min and max for itc_stock_daily & itc_stock_monthly\n",
    "\n",
    "itc_stock_daily.describe()\n",
    "\n",
    "itc_stock_monthly.describe()"
   ]
  },
  {
   "cell_type": "code",
   "execution_count": 50,
   "metadata": {},
   "outputs": [
    {
     "data": {
      "text/plain": [
       "<AxesSubplot:>"
      ]
     },
     "execution_count": 50,
     "metadata": {},
     "output_type": "execute_result"
    },
    {
     "data": {
      "image/png": "[encoded data removed]",
      "text/plain": [
       "<Figure size 432x288 with 1 Axes>"
      ]
     },
     "metadata": {
      "needs_background": "light"
     },
     "output_type": "display_data"
    }
   ],
   "source": [
    "# Pandas provides in-built plot to visualise the values\n",
    "itc_stock_daily.plot(kind='line', alpha = 0.4)"
   ]
  },
  {
   "cell_type": "code",
   "execution_count": 61,
   "metadata": {},
   "outputs": [
    {
     "data": {
      "text/plain": [
       "Int64Index([31, 31, 31, 31, 31, 31, 31, 31, 31, 31, 31, 31], dtype='int64')"
      ]
     },
     "execution_count": 61,
     "metadata": {},
     "output_type": "execute_result"
    }
   ],
   "source": [
    "# fetch days details \n",
    "itc_stock_monthly.index.day\n",
    "itc_stock_monthly.index.day_name\n",
    "itc_stock_monthly.index.day_of_week\n",
    "itc_stock_monthly.index.day_of_year"
   ]
  },
  {
   "cell_type": "code",
   "execution_count": 64,
   "metadata": {},
   "outputs": [
    {
     "data": {
      "text/plain": [
       "Int64Index([4, 5, 6, 0, 1, 2, 3, 4, 5, 6, 0, 1], dtype='int64')"
      ]
     },
     "execution_count": 64,
     "metadata": {},
     "output_type": "execute_result"
    }
   ],
   "source": [
    "# Fetch week details\n",
    "#itc_stock_monthly.index.week # depricated\n",
    "itc_stock_monthly.index.weekday\n",
    "#itc_stock_monthly.index.weekofyear # depricated\n",
    "itc_stock_monthly.index.day_of_week\n",
    "itc_stock_monthly.index.dayofweek"
   ]
  },
  {
   "cell_type": "code",
   "execution_count": 67,
   "metadata": {},
   "outputs": [
    {
     "data": {
      "text/plain": [
       "Int64Index([31, 31, 31, 31, 31, 31, 31, 31, 31, 31, 31, 31], dtype='int64')"
      ]
     },
     "execution_count": 67,
     "metadata": {},
     "output_type": "execute_result"
    }
   ],
   "source": [
    "# Fetch month \n",
    "#month details\n",
    "itc_stock_monthly.index.month\n",
    "itc_stock_monthly.index.month_name\n",
    "itc_stock_monthly.index.days_in_month\n",
    "itc_stock_monthly.index.daysinmonth"
   ]
  },
  {
   "cell_type": "code",
   "execution_count": 66,
   "metadata": {},
   "outputs": [
    {
     "data": {
      "text/plain": [
       "Int64Index([1, 2, 3, 4, 5, 6, 7, 8, 9, 10, 11, 12], dtype='int64')"
      ]
     },
     "execution_count": 66,
     "metadata": {},
     "output_type": "execute_result"
    }
   ],
   "source": [
    "# fetch year details\n",
    "itc_stock_monthly.index.year\n",
    "itc_stock_monthly.index.is_year_end\n",
    "itc_stock_monthly.index.is_year_start\n",
    "itc_stock_monthly.index.day_of_year\n",
    "itc_stock_monthly.index.dayofyear"
   ]
  },
  {
   "cell_type": "code",
   "execution_count": 68,
   "metadata": {},
   "outputs": [
    {
     "data": {
      "text/plain": [
       "0    2\n",
       "1    2\n",
       "2    1\n",
       "3    1\n",
       "4    2\n",
       "5    2\n",
       "6    2\n",
       "dtype: int64"
      ]
     },
     "execution_count": 68,
     "metadata": {},
     "output_type": "execute_result"
    }
   ],
   "source": [
    "# group by day of week\n",
    "itc_stock_monthly.groupby(by=lambda temp_var: temp_var.dayofweek).count()"
   ]
  },
  {
   "cell_type": "code",
   "execution_count": 69,
   "metadata": {},
   "outputs": [
    {
     "data": {
      "text/plain": [
       "0    52\n",
       "1    52\n",
       "2    52\n",
       "3    52\n",
       "4    53\n",
       "5    52\n",
       "6    52\n",
       "dtype: int64"
      ]
     },
     "execution_count": 69,
     "metadata": {},
     "output_type": "execute_result"
    }
   ],
   "source": [
    "# group by day of week\n",
    "itc_stock_daily.groupby(by=lambda temp_var: temp_var.dayofweek).count()"
   ]
  },
  {
   "cell_type": "code",
   "execution_count": 71,
   "metadata": {},
   "outputs": [
    {
     "data": {
      "text/plain": [
       "1     31\n",
       "2     28\n",
       "3     31\n",
       "4     30\n",
       "5     31\n",
       "6     30\n",
       "7     31\n",
       "8     31\n",
       "9     30\n",
       "10    31\n",
       "11    30\n",
       "12    31\n",
       "dtype: int64"
      ]
     },
     "execution_count": 71,
     "metadata": {},
     "output_type": "execute_result"
    }
   ],
   "source": [
    "# group by month of year\n",
    "itc_stock_daily.groupby(by=lambda temp_var: temp_var.month).count()"
   ]
  },
  {
   "cell_type": "code",
   "execution_count": null,
   "metadata": {},
   "outputs": [],
   "source": []
  }
 ],
 "metadata": {
  "interpreter": {
   "hash": "6d46af94c2bbce495f1e668725902fa517c90b1782bcfe2fce0dd9868df553d3"
  },
  "kernelspec": {
   "display_name": "Python 3.8.12 64-bit ('base': conda)",
   "language": "python",
   "name": "python3"
  },
  "language_info": {
   "codemirror_mode": {
    "name": "ipython",
    "version": 3
   },
   "file_extension": ".py",
   "mimetype": "text/x-python",
   "name": "python",
   "nbconvert_exporter": "python",
   "pygments_lexer": "ipython3",
   "version": "3.8.12"
  },
  "orig_nbformat": 4
 },
 "nbformat": 4,
 "nbformat_minor": 2
}
